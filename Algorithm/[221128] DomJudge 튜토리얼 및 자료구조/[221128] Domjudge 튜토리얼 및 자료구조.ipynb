{
 "cells": [
  {
   "cell_type": "code",
   "execution_count": 1,
   "id": "d372092b",
   "metadata": {
    "ExecuteTime": {
     "end_time": "2022-11-28T00:29:55.798751Z",
     "start_time": "2022-11-28T00:29:54.200795Z"
    }
   },
   "outputs": [
    {
     "name": "stdout",
     "output_type": "stream",
     "text": [
      "1 2 \n",
      "3\n"
     ]
    }
   ],
   "source": [
    "a, b=input().split()\n",
    "print(int(a)+int(b))"
   ]
  },
  {
   "cell_type": "code",
   "execution_count": 4,
   "id": "b3cab7e1",
   "metadata": {
    "ExecuteTime": {
     "end_time": "2022-11-28T00:39:30.830810Z",
     "start_time": "2022-11-28T00:39:22.072970Z"
    }
   },
   "outputs": [
    {
     "name": "stdout",
     "output_type": "stream",
     "text": [
      "4\n",
      "1 1\n",
      "2\n",
      "100 100\n",
      "200\n",
      "20 30 \n",
      "50\n",
      "40 50 \n",
      "90\n"
     ]
    }
   ],
   "source": [
    "t=int(input())\n",
    "for i in range(0,t) :\n",
    "    a,b=input().split()\n",
    "    print(int(a)+int(b))"
   ]
  },
  {
   "cell_type": "code",
   "execution_count": 14,
   "id": "11ba6f5f",
   "metadata": {
    "ExecuteTime": {
     "end_time": "2022-11-28T00:45:32.309791Z",
     "start_time": "2022-11-28T00:45:17.699105Z"
    },
    "scrolled": true
   },
   "outputs": [
    {
     "name": "stdout",
     "output_type": "stream",
     "text": [
      "3\n",
      "1 5 9 11 12\n",
      "38\n",
      "0 1 0 2 0 3 0 4 0 5\n",
      "15\n",
      "100 120 -20 -30\n",
      "170\n"
     ]
    }
   ],
   "source": [
    "t=int(input())\n",
    "for i in range(t) :\n",
    "    result=0\n",
    "    lst=list(input().split())\n",
    "    for i in lst :\n",
    "        result+=int(i)\n",
    "    print(result)"
   ]
  },
  {
   "cell_type": "code",
   "execution_count": 46,
   "id": "a84a318b",
   "metadata": {
    "ExecuteTime": {
     "end_time": "2022-11-28T01:10:58.168351Z",
     "start_time": "2022-11-28T01:10:35.836744Z"
    }
   },
   "outputs": [
    {
     "name": "stdout",
     "output_type": "stream",
     "text": [
      "2\n",
      "\n",
      "1 -1 2 7 3 -1 4 -1 5 -1\n",
      "1 3 4 5 \n",
      "3 4 2 1 5 -1\n",
      "5 "
     ]
    }
   ],
   "source": [
    "t=int(input())\n",
    "lst=[]\n",
    "for i in range(t) :\n",
    "    print()\n",
    "    lst_in=list(input().split())\n",
    "    for i in lst_in : \n",
    "        if int(i)>0 :\n",
    "            lst.append(int(i))\n",
    "        elif int(i)==-1 :\n",
    "            print(lst.pop(), end=' ')"
   ]
  },
  {
   "cell_type": "code",
   "execution_count": 78,
   "id": "f2b0ddbf",
   "metadata": {
    "ExecuteTime": {
     "end_time": "2022-11-28T01:37:29.135781Z",
     "start_time": "2022-11-28T01:37:19.291975Z"
    }
   },
   "outputs": [
    {
     "name": "stdout",
     "output_type": "stream",
     "text": [
      "2\n",
      "1 -1 2 7 3 -1 4 -1 5 -1\n",
      "1 2 7 3 3 4 2 1 5 -1\n",
      "3 "
     ]
    }
   ],
   "source": [
    "import collections\n",
    "t=int(input())\n",
    "for i in range(t) :\n",
    "    queue=collections.deque([])\n",
    "    lst_in = list(map(int,input().split()))\n",
    "    for i in lst_in :\n",
    "        if i > 0 :\n",
    "            queue.append(i)\n",
    "        elif i == -1 :\n",
    "            print(queue.popleft(), end=' ')"
   ]
  },
  {
   "cell_type": "code",
   "execution_count": null,
   "id": "44f582d0",
   "metadata": {
    "ExecuteTime": {
     "end_time": "2022-11-28T01:37:17.814870Z",
     "start_time": "2022-11-28T01:37:17.814870Z"
    }
   },
   "outputs": [],
   "source": [
    "queue=collections.deque([])\n",
    "queue.append(1)\n",
    "queue.append(3)"
   ]
  },
  {
   "cell_type": "code",
   "execution_count": 74,
   "id": "1c9b5fd8",
   "metadata": {
    "ExecuteTime": {
     "end_time": "2022-11-28T01:35:52.085235Z",
     "start_time": "2022-11-28T01:35:52.071179Z"
    }
   },
   "outputs": [
    {
     "name": "stdout",
     "output_type": "stream",
     "text": [
      "deque([1, 3])\n"
     ]
    }
   ],
   "source": [
    "print(queue)"
   ]
  },
  {
   "cell_type": "code",
   "execution_count": 76,
   "id": "99f7d3c3",
   "metadata": {
    "ExecuteTime": {
     "end_time": "2022-11-28T01:36:06.222851Z",
     "start_time": "2022-11-28T01:36:06.212607Z"
    }
   },
   "outputs": [
    {
     "name": "stdout",
     "output_type": "stream",
     "text": [
      "3\n"
     ]
    }
   ],
   "source": [
    "print(queue.popleft())"
   ]
  },
  {
   "cell_type": "code",
   "execution_count": null,
   "id": "c839ad96",
   "metadata": {},
   "outputs": [],
   "source": []
  },
  {
   "cell_type": "code",
   "execution_count": 44,
   "id": "77918902",
   "metadata": {
    "ExecuteTime": {
     "end_time": "2022-11-28T01:07:36.855306Z",
     "start_time": "2022-11-28T01:07:25.624657Z"
    }
   },
   "outputs": [
    {
     "name": "stdout",
     "output_type": "stream",
     "text": [
      "2\n",
      "1 -1 2 7 3 -1 4 -1 5 -1\n",
      "1 2 7 3 3 4 2 1 5 -1\n",
      "3 "
     ]
    }
   ],
   "source": [
    "t=int(input())\n",
    "for i in range(t) :\n",
    "    lst_in=list(input().split())\n",
    "    lst=[]\n",
    "    for i in lst_in : \n",
    "        if int(i)>0 :\n",
    "            lst.append(int(i))\n",
    "        elif int(i)==-1 :\n",
    "            print(lst[0], end=' ' )\n",
    "            lst.remove(lst[0])"
   ]
  },
  {
   "cell_type": "code",
   "execution_count": 50,
   "id": "9ebf2e87",
   "metadata": {
    "ExecuteTime": {
     "end_time": "2022-11-28T01:15:56.401699Z",
     "start_time": "2022-11-28T01:15:45.143947Z"
    }
   },
   "outputs": [
    {
     "name": "stdout",
     "output_type": "stream",
     "text": [
      "2\n",
      "1 -1 2 7 3 -1 4 -1 5 -1\n",
      "1 2 3 4 \n",
      "3 4 2 1 5 -1\n",
      "1 \n"
     ]
    }
   ],
   "source": [
    "import heapq\n",
    "t=int(input())\n",
    "for i in range(t) :\n",
    "    lst_in = list(input().split())\n",
    "    hq=[]\n",
    "    for i in lst_in :\n",
    "        if int(i)>0 :\n",
    "            heapq.heappush(hq,int(i))\n",
    "        elif int(i)==-1 :\n",
    "            print(heapq.heappop(hq), end=' ')\n",
    "    print()"
   ]
  },
  {
   "cell_type": "code",
   "execution_count": 62,
   "id": "27e84a85",
   "metadata": {
    "ExecuteTime": {
     "end_time": "2022-11-28T01:24:04.531534Z",
     "start_time": "2022-11-28T01:24:01.981211Z"
    },
    "scrolled": true
   },
   "outputs": [
    {
     "name": "stdout",
     "output_type": "stream",
     "text": [
      "1\n",
      "()()\n",
      "[40, 41, 40, 41]\n"
     ]
    }
   ],
   "source": [
    "t=int(input())\n",
    "lst=[]\n",
    "for i in range(t):\n",
    "    lst_in = input()\n",
    "    for i in range(len(lst_in)) : \n",
    "        if lst_in[i] d\n",
    "        lst.append(ord(lst_in[i]))\n",
    "    print(lst)\n",
    "    \n",
    "    "
   ]
  },
  {
   "cell_type": "code",
   "execution_count": 93,
   "id": "2fdb88d7",
   "metadata": {
    "ExecuteTime": {
     "end_time": "2022-11-28T07:07:26.220069Z",
     "start_time": "2022-11-28T07:06:32.768798Z"
    }
   },
   "outputs": [
    {
     "name": "stdout",
     "output_type": "stream",
     "text": [
      "5\n",
      "()()\n",
      "YES\n",
      "({[}])\n",
      "NO\n",
      "({}[(){}])\n",
      "YES\n",
      "(({})\n",
      "NO\n",
      "())))))))(\n",
      "NO\n"
     ]
    }
   ],
   "source": [
    "t= int(input())\n",
    "for _ in range(t) :\n",
    "    bracket=input()\n",
    "    stk=[]\n",
    "    correct=True\n",
    "    for b in bracket :\n",
    "        if b in ['(', '{', '['] :\n",
    "            stk.append(b)\n",
    "        elif b in [')', '}', ']']: #스택이 비어있거나, pop된 괄호와 매칭 X인 경우\n",
    "            if stk == [] :\n",
    "                correct = False\n",
    "            elif ord(b)//10 != ord(stk.pop())//10 :\n",
    "                    correct = False\n",
    "              \n",
    "    \n",
    "    if stk!=[] : #괄호열이 끝났는데, 닫혀지지 않은 괄호가 남은 경우 \n",
    "        correct= False\n",
    "    \n",
    "    if correct == True:\n",
    "        print('YES')\n",
    "    else : \n",
    "        print('NO')"
   ]
  },
  {
   "cell_type": "code",
   "execution_count": 107,
   "id": "860d8fe4",
   "metadata": {
    "ExecuteTime": {
     "end_time": "2022-11-28T07:25:21.190179Z",
     "start_time": "2022-11-28T07:25:14.125765Z"
    }
   },
   "outputs": [
    {
     "name": "stdout",
     "output_type": "stream",
     "text": [
      "1\n",
      "1 2 5 1 2 3 5 4 3 4\n",
      "YES\n"
     ]
    }
   ],
   "source": [
    "import collections \n",
    "\n",
    "t= int(input())\n",
    "correct = True\n",
    "for _ in range(t) :\n",
    "    q = collections.deque([])\n",
    "    qry = list(input().split())\n",
    "    for i in qry : \n",
    "        if i not in q :\n",
    "            q.append(i)\n",
    "        elif i in q :\n",
    "            if i != q.popleft() :\n",
    "                correct = False\n",
    "            else :\n",
    "                q.popleft()\n",
    "    \n",
    "    if q != collections.deque([]) :\n",
    "        correct = False\n",
    "    \n",
    "    if correct == True :\n",
    "        print('NO')\n",
    "    else :\n",
    "        print('YES')\n",
    "    \n",
    "    "
   ]
  },
  {
   "cell_type": "code",
   "execution_count": 109,
   "id": "c3f08487",
   "metadata": {
    "ExecuteTime": {
     "end_time": "2022-11-28T07:35:13.827197Z",
     "start_time": "2022-11-28T07:33:43.202551Z"
    }
   },
   "outputs": [
    {
     "ename": "KeyboardInterrupt",
     "evalue": "Interrupted by user",
     "output_type": "error",
     "traceback": [
      "\u001b[1;31m---------------------------------------------------------------------------\u001b[0m",
      "\u001b[1;31mKeyboardInterrupt\u001b[0m                         Traceback (most recent call last)",
      "Cell \u001b[1;32mIn [109], line 3\u001b[0m\n\u001b[0;32m      1\u001b[0m \u001b[38;5;28;01mfrom\u001b[39;00m \u001b[38;5;21;01mcollections\u001b[39;00m \u001b[38;5;28;01mimport\u001b[39;00m deque\n\u001b[1;32m----> 3\u001b[0m t\u001b[38;5;241m=\u001b[39m\u001b[38;5;28mint\u001b[39m(\u001b[38;5;28;43minput\u001b[39;49m\u001b[43m(\u001b[49m\u001b[43m)\u001b[49m)\n\u001b[0;32m      4\u001b[0m \u001b[38;5;28;01mfor\u001b[39;00m _ \u001b[38;5;129;01min\u001b[39;00m \u001b[38;5;28mrange\u001b[39m(t) :\n\u001b[0;32m      5\u001b[0m     car\u001b[38;5;241m=\u001b[39m\u001b[38;5;28mlist\u001b[39m(\u001b[38;5;28minput\u001b[39m()\u001b[38;5;241m.\u001b[39msplit())\n",
      "File \u001b[1;32m~\\AppData\\Roaming\\Python\\Python39\\site-packages\\ipykernel\\kernelbase.py:1177\u001b[0m, in \u001b[0;36mKernel.raw_input\u001b[1;34m(self, prompt)\u001b[0m\n\u001b[0;32m   1173\u001b[0m \u001b[38;5;28;01mif\u001b[39;00m \u001b[38;5;129;01mnot\u001b[39;00m \u001b[38;5;28mself\u001b[39m\u001b[38;5;241m.\u001b[39m_allow_stdin:\n\u001b[0;32m   1174\u001b[0m     \u001b[38;5;28;01mraise\u001b[39;00m StdinNotImplementedError(\n\u001b[0;32m   1175\u001b[0m         \u001b[38;5;124m\"\u001b[39m\u001b[38;5;124mraw_input was called, but this frontend does not support input requests.\u001b[39m\u001b[38;5;124m\"\u001b[39m\n\u001b[0;32m   1176\u001b[0m     )\n\u001b[1;32m-> 1177\u001b[0m \u001b[38;5;28;01mreturn\u001b[39;00m \u001b[38;5;28;43mself\u001b[39;49m\u001b[38;5;241;43m.\u001b[39;49m\u001b[43m_input_request\u001b[49m\u001b[43m(\u001b[49m\n\u001b[0;32m   1178\u001b[0m \u001b[43m    \u001b[49m\u001b[38;5;28;43mstr\u001b[39;49m\u001b[43m(\u001b[49m\u001b[43mprompt\u001b[49m\u001b[43m)\u001b[49m\u001b[43m,\u001b[49m\n\u001b[0;32m   1179\u001b[0m \u001b[43m    \u001b[49m\u001b[38;5;28;43mself\u001b[39;49m\u001b[38;5;241;43m.\u001b[39;49m\u001b[43m_parent_ident\u001b[49m\u001b[43m[\u001b[49m\u001b[38;5;124;43m\"\u001b[39;49m\u001b[38;5;124;43mshell\u001b[39;49m\u001b[38;5;124;43m\"\u001b[39;49m\u001b[43m]\u001b[49m\u001b[43m,\u001b[49m\n\u001b[0;32m   1180\u001b[0m \u001b[43m    \u001b[49m\u001b[38;5;28;43mself\u001b[39;49m\u001b[38;5;241;43m.\u001b[39;49m\u001b[43mget_parent\u001b[49m\u001b[43m(\u001b[49m\u001b[38;5;124;43m\"\u001b[39;49m\u001b[38;5;124;43mshell\u001b[39;49m\u001b[38;5;124;43m\"\u001b[39;49m\u001b[43m)\u001b[49m\u001b[43m,\u001b[49m\n\u001b[0;32m   1181\u001b[0m \u001b[43m    \u001b[49m\u001b[43mpassword\u001b[49m\u001b[38;5;241;43m=\u001b[39;49m\u001b[38;5;28;43;01mFalse\u001b[39;49;00m\u001b[43m,\u001b[49m\n\u001b[0;32m   1182\u001b[0m \u001b[43m\u001b[49m\u001b[43m)\u001b[49m\n",
      "File \u001b[1;32m~\\AppData\\Roaming\\Python\\Python39\\site-packages\\ipykernel\\kernelbase.py:1219\u001b[0m, in \u001b[0;36mKernel._input_request\u001b[1;34m(self, prompt, ident, parent, password)\u001b[0m\n\u001b[0;32m   1216\u001b[0m             \u001b[38;5;28;01mbreak\u001b[39;00m\n\u001b[0;32m   1217\u001b[0m \u001b[38;5;28;01mexcept\u001b[39;00m \u001b[38;5;167;01mKeyboardInterrupt\u001b[39;00m:\n\u001b[0;32m   1218\u001b[0m     \u001b[38;5;66;03m# re-raise KeyboardInterrupt, to truncate traceback\u001b[39;00m\n\u001b[1;32m-> 1219\u001b[0m     \u001b[38;5;28;01mraise\u001b[39;00m \u001b[38;5;167;01mKeyboardInterrupt\u001b[39;00m(\u001b[38;5;124m\"\u001b[39m\u001b[38;5;124mInterrupted by user\u001b[39m\u001b[38;5;124m\"\u001b[39m) \u001b[38;5;28;01mfrom\u001b[39;00m \u001b[38;5;28mNone\u001b[39m\n\u001b[0;32m   1220\u001b[0m \u001b[38;5;28;01mexcept\u001b[39;00m \u001b[38;5;167;01mException\u001b[39;00m:\n\u001b[0;32m   1221\u001b[0m     \u001b[38;5;28mself\u001b[39m\u001b[38;5;241m.\u001b[39mlog\u001b[38;5;241m.\u001b[39mwarning(\u001b[38;5;124m\"\u001b[39m\u001b[38;5;124mInvalid Message:\u001b[39m\u001b[38;5;124m\"\u001b[39m, exc_info\u001b[38;5;241m=\u001b[39m\u001b[38;5;28;01mTrue\u001b[39;00m)\n",
      "\u001b[1;31mKeyboardInterrupt\u001b[0m: Interrupted by user"
     ]
    }
   ],
   "source": [
    "from collections import deque\n",
    "\n",
    "t=int(input())\n",
    "for _ in range(t) :\n",
    "    car=list(input().split())\n",
    "    queue = deque([])\n",
    "    for c in car :\n",
    "        if c not in queue : #큐가 비어있거나, 첫 원소가 c가 아닌 경우\n",
    "            queue.append(c)\n",
    "        else :\n",
    "            queue.popleft()\n",
    "    if queue!=deque([]) : #순서가 바뀐 경우, 큐가 비어있지 않음\n",
    "        print('YES')\n",
    "    else :\n",
    "        print('NO')"
   ]
  },
  {
   "cell_type": "code",
   "execution_count": 102,
   "id": "2cbca0a4",
   "metadata": {
    "ExecuteTime": {
     "end_time": "2022-11-28T07:23:39.162252Z",
     "start_time": "2022-11-28T07:23:39.142421Z"
    }
   },
   "outputs": [
    {
     "name": "stdout",
     "output_type": "stream",
     "text": [
      "deque([])\n"
     ]
    }
   ],
   "source": [
    "q=collections.deque([])\n",
    "print(q)"
   ]
  },
  {
   "cell_type": "code",
   "execution_count": 103,
   "id": "8483a122",
   "metadata": {
    "ExecuteTime": {
     "end_time": "2022-11-28T07:23:48.605490Z",
     "start_time": "2022-11-28T07:23:48.598411Z"
    }
   },
   "outputs": [],
   "source": [
    "q.append(1)\n",
    "q.append(2)\n",
    "q.append(3)"
   ]
  },
  {
   "cell_type": "code",
   "execution_count": 104,
   "id": "fc0720e1",
   "metadata": {
    "ExecuteTime": {
     "end_time": "2022-11-28T07:23:50.152981Z",
     "start_time": "2022-11-28T07:23:50.131951Z"
    }
   },
   "outputs": [
    {
     "data": {
      "text/plain": [
       "deque([1, 2, 3])"
      ]
     },
     "execution_count": 104,
     "metadata": {},
     "output_type": "execute_result"
    }
   ],
   "source": [
    "q"
   ]
  },
  {
   "cell_type": "code",
   "execution_count": 105,
   "id": "a6ef00fb",
   "metadata": {
    "ExecuteTime": {
     "end_time": "2022-11-28T07:24:20.017133Z",
     "start_time": "2022-11-28T07:24:20.008116Z"
    }
   },
   "outputs": [
    {
     "name": "stdout",
     "output_type": "stream",
     "text": [
      "hello\n",
      "deque([2, 3])\n"
     ]
    }
   ],
   "source": [
    "if  q.popleft()==1 :\n",
    "    print('hello')\n",
    "    print(q)"
   ]
  },
  {
   "cell_type": "code",
   "execution_count": null,
   "id": "2b9aded9",
   "metadata": {},
   "outputs": [],
   "source": []
  }
 ],
 "metadata": {
  "kernelspec": {
   "display_name": "Python 3 (ipykernel)",
   "language": "python",
   "name": "python3"
  },
  "language_info": {
   "codemirror_mode": {
    "name": "ipython",
    "version": 3
   },
   "file_extension": ".py",
   "mimetype": "text/x-python",
   "name": "python",
   "nbconvert_exporter": "python",
   "pygments_lexer": "ipython3",
   "version": "3.9.12"
  },
  "toc": {
   "base_numbering": 1,
   "nav_menu": {},
   "number_sections": true,
   "sideBar": true,
   "skip_h1_title": false,
   "title_cell": "Table of Contents",
   "title_sidebar": "Contents",
   "toc_cell": false,
   "toc_position": {},
   "toc_section_display": true,
   "toc_window_display": false
  }
 },
 "nbformat": 4,
 "nbformat_minor": 5
}
