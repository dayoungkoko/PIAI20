{
 "cells": [
  {
   "cell_type": "markdown",
   "id": "c548b989",
   "metadata": {},
   "source": [
    "# SVM (서포트 벡터 머신)"
   ]
  },
  {
   "cell_type": "code",
   "execution_count": 1,
   "id": "c1b38739",
   "metadata": {},
   "outputs": [],
   "source": [
    "import pandas as pd\n",
    "import matplotlib.pyplot as plt\n",
    "import matplotlib\n",
    "from sklearn.preprocessing import StandardScaler\n",
    "from sklearn.model_selection import train_test_split\n",
    "from sklearn.svm import SVC\n",
    "from sklearn.model_selection import GridSearchCV\n",
    "from sklearn.metrics import accuracy_score, f1_score\n",
    "from sklearn.metrics import confusion_matrix, classification_report"
   ]
  },
  {
   "cell_type": "code",
   "execution_count": 2,
   "id": "06c1f4df",
   "metadata": {},
   "outputs": [],
   "source": [
    "import matplotlib as mpl\n",
    "\n",
    "# 유니코드 깨짐현상 해결\n",
    "mpl.rcParams['axes.unicode_minus'] = False\n",
    "\n",
    "# 나눔고딕 폰트 적용\n",
    "plt.rcParams['font.family']='NanumGothic'"
   ]
  },
  {
   "cell_type": "markdown",
   "id": "5a2366f0",
   "metadata": {},
   "source": [
    "## 데이터 구성하기"
   ]
  },
  {
   "cell_type": "code",
   "execution_count": 3,
   "id": "957c2b67",
   "metadata": {
    "scrolled": true
   },
   "outputs": [
    {
     "data": {
      "text/html": [
       "<div>\n",
       "<style scoped>\n",
       "    .dataframe tbody tr th:only-of-type {\n",
       "        vertical-align: middle;\n",
       "    }\n",
       "\n",
       "    .dataframe tbody tr th {\n",
       "        vertical-align: top;\n",
       "    }\n",
       "\n",
       "    .dataframe thead th {\n",
       "        text-align: right;\n",
       "    }\n",
       "</style>\n",
       "<table border=\"1\" class=\"dataframe\">\n",
       "  <thead>\n",
       "    <tr style=\"text-align: right;\">\n",
       "      <th></th>\n",
       "      <th>diagnosis</th>\n",
       "      <th>mean_radius</th>\n",
       "      <th>mean_texture</th>\n",
       "      <th>mean_perimeter</th>\n",
       "      <th>mean_area</th>\n",
       "      <th>mean_smoothness</th>\n",
       "      <th>mean_compactness</th>\n",
       "      <th>mean_concavity</th>\n",
       "      <th>mean_concave_points</th>\n",
       "      <th>mean_symmetry</th>\n",
       "      <th>...</th>\n",
       "      <th>worst_radius</th>\n",
       "      <th>worst_texture</th>\n",
       "      <th>worst_perimeter</th>\n",
       "      <th>worst_area</th>\n",
       "      <th>worst_smoothness</th>\n",
       "      <th>worst_compactness</th>\n",
       "      <th>worst_concavity</th>\n",
       "      <th>worst_concave_points</th>\n",
       "      <th>worst_symmetry</th>\n",
       "      <th>worst_fractal_dimension</th>\n",
       "    </tr>\n",
       "  </thead>\n",
       "  <tbody>\n",
       "    <tr>\n",
       "      <th>0</th>\n",
       "      <td>음성</td>\n",
       "      <td>15.12</td>\n",
       "      <td>16.68</td>\n",
       "      <td>98.78</td>\n",
       "      <td>716.6</td>\n",
       "      <td>0.08876</td>\n",
       "      <td>0.09588</td>\n",
       "      <td>0.07550</td>\n",
       "      <td>0.04079</td>\n",
       "      <td>0.1594</td>\n",
       "      <td>...</td>\n",
       "      <td>17.77</td>\n",
       "      <td>20.24</td>\n",
       "      <td>117.70</td>\n",
       "      <td>989.5</td>\n",
       "      <td>0.14910</td>\n",
       "      <td>0.3331</td>\n",
       "      <td>0.3327</td>\n",
       "      <td>0.12520</td>\n",
       "      <td>0.3415</td>\n",
       "      <td>0.09740</td>\n",
       "    </tr>\n",
       "    <tr>\n",
       "      <th>1</th>\n",
       "      <td>양성</td>\n",
       "      <td>10.80</td>\n",
       "      <td>9.71</td>\n",
       "      <td>68.77</td>\n",
       "      <td>357.6</td>\n",
       "      <td>0.09594</td>\n",
       "      <td>0.05736</td>\n",
       "      <td>0.02531</td>\n",
       "      <td>0.01698</td>\n",
       "      <td>0.1381</td>\n",
       "      <td>...</td>\n",
       "      <td>11.60</td>\n",
       "      <td>12.02</td>\n",
       "      <td>73.66</td>\n",
       "      <td>414.0</td>\n",
       "      <td>0.14360</td>\n",
       "      <td>0.1257</td>\n",
       "      <td>0.1047</td>\n",
       "      <td>0.04603</td>\n",
       "      <td>0.2090</td>\n",
       "      <td>0.07699</td>\n",
       "    </tr>\n",
       "    <tr>\n",
       "      <th>2</th>\n",
       "      <td>음성</td>\n",
       "      <td>18.31</td>\n",
       "      <td>18.58</td>\n",
       "      <td>118.60</td>\n",
       "      <td>1041.0</td>\n",
       "      <td>0.08588</td>\n",
       "      <td>0.08468</td>\n",
       "      <td>0.08169</td>\n",
       "      <td>0.05814</td>\n",
       "      <td>0.1621</td>\n",
       "      <td>...</td>\n",
       "      <td>21.31</td>\n",
       "      <td>26.36</td>\n",
       "      <td>139.20</td>\n",
       "      <td>1410.0</td>\n",
       "      <td>0.12340</td>\n",
       "      <td>0.2445</td>\n",
       "      <td>0.3538</td>\n",
       "      <td>0.15710</td>\n",
       "      <td>0.3206</td>\n",
       "      <td>0.06938</td>\n",
       "    </tr>\n",
       "    <tr>\n",
       "      <th>3</th>\n",
       "      <td>양성</td>\n",
       "      <td>14.92</td>\n",
       "      <td>14.93</td>\n",
       "      <td>96.45</td>\n",
       "      <td>686.9</td>\n",
       "      <td>0.08098</td>\n",
       "      <td>0.08549</td>\n",
       "      <td>0.05539</td>\n",
       "      <td>0.03221</td>\n",
       "      <td>0.1687</td>\n",
       "      <td>...</td>\n",
       "      <td>17.18</td>\n",
       "      <td>18.22</td>\n",
       "      <td>112.00</td>\n",
       "      <td>906.6</td>\n",
       "      <td>0.10650</td>\n",
       "      <td>0.2791</td>\n",
       "      <td>0.3151</td>\n",
       "      <td>0.11470</td>\n",
       "      <td>0.2688</td>\n",
       "      <td>0.08273</td>\n",
       "    </tr>\n",
       "    <tr>\n",
       "      <th>4</th>\n",
       "      <td>양성</td>\n",
       "      <td>12.89</td>\n",
       "      <td>13.12</td>\n",
       "      <td>81.89</td>\n",
       "      <td>515.9</td>\n",
       "      <td>0.06955</td>\n",
       "      <td>0.03729</td>\n",
       "      <td>0.02260</td>\n",
       "      <td>0.01171</td>\n",
       "      <td>0.1337</td>\n",
       "      <td>...</td>\n",
       "      <td>13.62</td>\n",
       "      <td>15.54</td>\n",
       "      <td>87.40</td>\n",
       "      <td>577.0</td>\n",
       "      <td>0.09616</td>\n",
       "      <td>0.1147</td>\n",
       "      <td>0.1186</td>\n",
       "      <td>0.05366</td>\n",
       "      <td>0.2309</td>\n",
       "      <td>0.06915</td>\n",
       "    </tr>\n",
       "  </tbody>\n",
       "</table>\n",
       "<p>5 rows × 31 columns</p>\n",
       "</div>"
      ],
      "text/plain": [
       "  diagnosis  mean_radius  mean_texture  mean_perimeter  mean_area  \\\n",
       "0        음성        15.12         16.68           98.78      716.6   \n",
       "1        양성        10.80          9.71           68.77      357.6   \n",
       "2        음성        18.31         18.58          118.60     1041.0   \n",
       "3        양성        14.92         14.93           96.45      686.9   \n",
       "4        양성        12.89         13.12           81.89      515.9   \n",
       "\n",
       "   mean_smoothness  mean_compactness  mean_concavity  mean_concave_points  \\\n",
       "0          0.08876           0.09588         0.07550              0.04079   \n",
       "1          0.09594           0.05736         0.02531              0.01698   \n",
       "2          0.08588           0.08468         0.08169              0.05814   \n",
       "3          0.08098           0.08549         0.05539              0.03221   \n",
       "4          0.06955           0.03729         0.02260              0.01171   \n",
       "\n",
       "   mean_symmetry  ...  worst_radius  worst_texture  worst_perimeter  \\\n",
       "0         0.1594  ...         17.77          20.24           117.70   \n",
       "1         0.1381  ...         11.60          12.02            73.66   \n",
       "2         0.1621  ...         21.31          26.36           139.20   \n",
       "3         0.1687  ...         17.18          18.22           112.00   \n",
       "4         0.1337  ...         13.62          15.54            87.40   \n",
       "\n",
       "   worst_area  worst_smoothness  worst_compactness  worst_concavity  \\\n",
       "0       989.5           0.14910             0.3331           0.3327   \n",
       "1       414.0           0.14360             0.1257           0.1047   \n",
       "2      1410.0           0.12340             0.2445           0.3538   \n",
       "3       906.6           0.10650             0.2791           0.3151   \n",
       "4       577.0           0.09616             0.1147           0.1186   \n",
       "\n",
       "   worst_concave_points  worst_symmetry  worst_fractal_dimension  \n",
       "0               0.12520          0.3415                  0.09740  \n",
       "1               0.04603          0.2090                  0.07699  \n",
       "2               0.15710          0.3206                  0.06938  \n",
       "3               0.11470          0.2688                  0.08273  \n",
       "4               0.05366          0.2309                  0.06915  \n",
       "\n",
       "[5 rows x 31 columns]"
      ]
     },
     "execution_count": 3,
     "metadata": {},
     "output_type": "execute_result"
    }
   ],
   "source": [
    "df_raw=pd.read_csv(\"C:/python/2. Big Data 분석/유방암.csv\", encoding='euc-kr')\n",
    "df_raw.head()"
   ]
  },
  {
   "cell_type": "markdown",
   "id": "0f8da9f5",
   "metadata": {},
   "source": [
    "### 데이터 개수 확인"
   ]
  },
  {
   "cell_type": "code",
   "execution_count": 4,
   "id": "0891898e",
   "metadata": {
    "scrolled": true
   },
   "outputs": [
    {
     "data": {
      "text/plain": [
       "(320, 31)"
      ]
     },
     "execution_count": 4,
     "metadata": {},
     "output_type": "execute_result"
    }
   ],
   "source": [
    "df_raw.shape"
   ]
  },
  {
   "cell_type": "markdown",
   "id": "2961965c",
   "metadata": {},
   "source": [
    "변수 : 31개, 자료수 320개 "
   ]
  },
  {
   "cell_type": "markdown",
   "id": "cce8354c",
   "metadata": {},
   "source": [
    "### 데이터 타입 확인"
   ]
  },
  {
   "cell_type": "code",
   "execution_count": 5,
   "id": "b320a8d3",
   "metadata": {},
   "outputs": [
    {
     "name": "stdout",
     "output_type": "stream",
     "text": [
      "<class 'pandas.core.frame.DataFrame'>\n",
      "RangeIndex: 320 entries, 0 to 319\n",
      "Data columns (total 31 columns):\n",
      " #   Column                   Non-Null Count  Dtype  \n",
      "---  ------                   --------------  -----  \n",
      " 0   diagnosis                320 non-null    object \n",
      " 1   mean_radius              320 non-null    float64\n",
      " 2   mean_texture             320 non-null    float64\n",
      " 3   mean_perimeter           320 non-null    float64\n",
      " 4   mean_area                320 non-null    float64\n",
      " 5   mean_smoothness          320 non-null    float64\n",
      " 6   mean_compactness         320 non-null    float64\n",
      " 7   mean_concavity           320 non-null    float64\n",
      " 8   mean_concave_points      320 non-null    float64\n",
      " 9   mean_symmetry            320 non-null    float64\n",
      " 10  mean_fractal_dimension   320 non-null    float64\n",
      " 11  radius_error             320 non-null    float64\n",
      " 12  texture_error            320 non-null    float64\n",
      " 13  perimeter_error          320 non-null    float64\n",
      " 14  area_error               320 non-null    float64\n",
      " 15  smoothness_error         320 non-null    float64\n",
      " 16  compactness_error        320 non-null    float64\n",
      " 17  concavity_error          320 non-null    float64\n",
      " 18  concave_points_error     320 non-null    float64\n",
      " 19  symmetry_error           320 non-null    float64\n",
      " 20  fractal_dimension_error  320 non-null    float64\n",
      " 21  worst_radius             320 non-null    float64\n",
      " 22  worst_texture            320 non-null    float64\n",
      " 23  worst_perimeter          320 non-null    float64\n",
      " 24  worst_area               320 non-null    float64\n",
      " 25  worst_smoothness         320 non-null    float64\n",
      " 26  worst_compactness        320 non-null    float64\n",
      " 27  worst_concavity          320 non-null    float64\n",
      " 28  worst_concave_points     320 non-null    float64\n",
      " 29  worst_symmetry           320 non-null    float64\n",
      " 30  worst_fractal_dimension  320 non-null    float64\n",
      "dtypes: float64(30), object(1)\n",
      "memory usage: 77.6+ KB\n"
     ]
    }
   ],
   "source": [
    "df_raw.info()"
   ]
  },
  {
   "cell_type": "markdown",
   "id": "ea8b2c97",
   "metadata": {},
   "source": [
    "목표변수 diagnosis는 범주형 변수이므로 object type\n",
    "그 외로는 모두 연속형 변수이므로 float64 type 확인"
   ]
  },
  {
   "cell_type": "markdown",
   "id": "3f81a91e",
   "metadata": {},
   "source": [
    "### 결측치 처리"
   ]
  },
  {
   "cell_type": "code",
   "execution_count": 6,
   "id": "cf258ce3",
   "metadata": {},
   "outputs": [
    {
     "data": {
      "text/plain": [
       "diagnosis                  0\n",
       "mean_radius                0\n",
       "mean_texture               0\n",
       "mean_perimeter             0\n",
       "mean_area                  0\n",
       "mean_smoothness            0\n",
       "mean_compactness           0\n",
       "mean_concavity             0\n",
       "mean_concave_points        0\n",
       "mean_symmetry              0\n",
       "mean_fractal_dimension     0\n",
       "radius_error               0\n",
       "texture_error              0\n",
       "perimeter_error            0\n",
       "area_error                 0\n",
       "smoothness_error           0\n",
       "compactness_error          0\n",
       "concavity_error            0\n",
       "concave_points_error       0\n",
       "symmetry_error             0\n",
       "fractal_dimension_error    0\n",
       "worst_radius               0\n",
       "worst_texture              0\n",
       "worst_perimeter            0\n",
       "worst_area                 0\n",
       "worst_smoothness           0\n",
       "worst_compactness          0\n",
       "worst_concavity            0\n",
       "worst_concave_points       0\n",
       "worst_symmetry             0\n",
       "worst_fractal_dimension    0\n",
       "dtype: int64"
      ]
     },
     "execution_count": 6,
     "metadata": {},
     "output_type": "execute_result"
    }
   ],
   "source": [
    "df_raw.isnull().sum()"
   ]
  },
  {
   "cell_type": "markdown",
   "id": "89328a58",
   "metadata": {},
   "source": [
    "결측치 없음. 그대로 진행"
   ]
  },
  {
   "cell_type": "markdown",
   "id": "9d0caf50",
   "metadata": {},
   "source": [
    "### 기술 통계량 확인"
   ]
  },
  {
   "cell_type": "code",
   "execution_count": 7,
   "id": "24caeeb5",
   "metadata": {},
   "outputs": [
    {
     "data": {
      "text/html": [
       "<div>\n",
       "<style scoped>\n",
       "    .dataframe tbody tr th:only-of-type {\n",
       "        vertical-align: middle;\n",
       "    }\n",
       "\n",
       "    .dataframe tbody tr th {\n",
       "        vertical-align: top;\n",
       "    }\n",
       "\n",
       "    .dataframe thead th {\n",
       "        text-align: right;\n",
       "    }\n",
       "</style>\n",
       "<table border=\"1\" class=\"dataframe\">\n",
       "  <thead>\n",
       "    <tr style=\"text-align: right;\">\n",
       "      <th></th>\n",
       "      <th>mean_radius</th>\n",
       "      <th>mean_texture</th>\n",
       "      <th>mean_perimeter</th>\n",
       "      <th>mean_area</th>\n",
       "      <th>mean_smoothness</th>\n",
       "      <th>mean_compactness</th>\n",
       "      <th>mean_concavity</th>\n",
       "      <th>mean_concave_points</th>\n",
       "      <th>mean_symmetry</th>\n",
       "      <th>mean_fractal_dimension</th>\n",
       "      <th>...</th>\n",
       "      <th>worst_radius</th>\n",
       "      <th>worst_texture</th>\n",
       "      <th>worst_perimeter</th>\n",
       "      <th>worst_area</th>\n",
       "      <th>worst_smoothness</th>\n",
       "      <th>worst_compactness</th>\n",
       "      <th>worst_concavity</th>\n",
       "      <th>worst_concave_points</th>\n",
       "      <th>worst_symmetry</th>\n",
       "      <th>worst_fractal_dimension</th>\n",
       "    </tr>\n",
       "  </thead>\n",
       "  <tbody>\n",
       "    <tr>\n",
       "      <th>count</th>\n",
       "      <td>320.000</td>\n",
       "      <td>320.000</td>\n",
       "      <td>320.000</td>\n",
       "      <td>320.000</td>\n",
       "      <td>320.000</td>\n",
       "      <td>320.000</td>\n",
       "      <td>320.000</td>\n",
       "      <td>320.000</td>\n",
       "      <td>320.000</td>\n",
       "      <td>320.000</td>\n",
       "      <td>...</td>\n",
       "      <td>320.000</td>\n",
       "      <td>320.000</td>\n",
       "      <td>320.000</td>\n",
       "      <td>320.000</td>\n",
       "      <td>320.000</td>\n",
       "      <td>320.000</td>\n",
       "      <td>320.000</td>\n",
       "      <td>320.000</td>\n",
       "      <td>320.000</td>\n",
       "      <td>320.000</td>\n",
       "    </tr>\n",
       "    <tr>\n",
       "      <th>mean</th>\n",
       "      <td>15.710</td>\n",
       "      <td>20.323</td>\n",
       "      <td>103.050</td>\n",
       "      <td>807.736</td>\n",
       "      <td>0.099</td>\n",
       "      <td>0.123</td>\n",
       "      <td>0.122</td>\n",
       "      <td>0.067</td>\n",
       "      <td>0.187</td>\n",
       "      <td>0.063</td>\n",
       "      <td>...</td>\n",
       "      <td>18.542</td>\n",
       "      <td>27.226</td>\n",
       "      <td>123.222</td>\n",
       "      <td>1133.463</td>\n",
       "      <td>0.138</td>\n",
       "      <td>0.309</td>\n",
       "      <td>0.353</td>\n",
       "      <td>0.145</td>\n",
       "      <td>0.305</td>\n",
       "      <td>0.087</td>\n",
       "    </tr>\n",
       "    <tr>\n",
       "      <th>std</th>\n",
       "      <td>3.746</td>\n",
       "      <td>4.151</td>\n",
       "      <td>25.836</td>\n",
       "      <td>391.969</td>\n",
       "      <td>0.014</td>\n",
       "      <td>0.057</td>\n",
       "      <td>0.085</td>\n",
       "      <td>0.042</td>\n",
       "      <td>0.027</td>\n",
       "      <td>0.007</td>\n",
       "      <td>...</td>\n",
       "      <td>5.182</td>\n",
       "      <td>6.050</td>\n",
       "      <td>35.960</td>\n",
       "      <td>640.980</td>\n",
       "      <td>0.023</td>\n",
       "      <td>0.175</td>\n",
       "      <td>0.214</td>\n",
       "      <td>0.067</td>\n",
       "      <td>0.069</td>\n",
       "      <td>0.020</td>\n",
       "    </tr>\n",
       "    <tr>\n",
       "      <th>min</th>\n",
       "      <td>7.691</td>\n",
       "      <td>9.710</td>\n",
       "      <td>47.920</td>\n",
       "      <td>170.400</td>\n",
       "      <td>0.053</td>\n",
       "      <td>0.027</td>\n",
       "      <td>0.000</td>\n",
       "      <td>0.000</td>\n",
       "      <td>0.127</td>\n",
       "      <td>0.050</td>\n",
       "      <td>...</td>\n",
       "      <td>8.678</td>\n",
       "      <td>12.020</td>\n",
       "      <td>54.490</td>\n",
       "      <td>223.600</td>\n",
       "      <td>0.086</td>\n",
       "      <td>0.050</td>\n",
       "      <td>0.000</td>\n",
       "      <td>0.000</td>\n",
       "      <td>0.156</td>\n",
       "      <td>0.055</td>\n",
       "    </tr>\n",
       "    <tr>\n",
       "      <th>25%</th>\n",
       "      <td>13.050</td>\n",
       "      <td>17.460</td>\n",
       "      <td>84.845</td>\n",
       "      <td>523.900</td>\n",
       "      <td>0.090</td>\n",
       "      <td>0.081</td>\n",
       "      <td>0.053</td>\n",
       "      <td>0.030</td>\n",
       "      <td>0.167</td>\n",
       "      <td>0.057</td>\n",
       "      <td>...</td>\n",
       "      <td>14.657</td>\n",
       "      <td>23.275</td>\n",
       "      <td>95.525</td>\n",
       "      <td>653.525</td>\n",
       "      <td>0.123</td>\n",
       "      <td>0.180</td>\n",
       "      <td>0.183</td>\n",
       "      <td>0.091</td>\n",
       "      <td>0.259</td>\n",
       "      <td>0.073</td>\n",
       "    </tr>\n",
       "    <tr>\n",
       "      <th>50%</th>\n",
       "      <td>15.125</td>\n",
       "      <td>20.215</td>\n",
       "      <td>100.100</td>\n",
       "      <td>713.050</td>\n",
       "      <td>0.099</td>\n",
       "      <td>0.115</td>\n",
       "      <td>0.111</td>\n",
       "      <td>0.065</td>\n",
       "      <td>0.185</td>\n",
       "      <td>0.061</td>\n",
       "      <td>...</td>\n",
       "      <td>17.730</td>\n",
       "      <td>26.880</td>\n",
       "      <td>118.850</td>\n",
       "      <td>969.200</td>\n",
       "      <td>0.138</td>\n",
       "      <td>0.277</td>\n",
       "      <td>0.340</td>\n",
       "      <td>0.153</td>\n",
       "      <td>0.296</td>\n",
       "      <td>0.083</td>\n",
       "    </tr>\n",
       "    <tr>\n",
       "      <th>75%</th>\n",
       "      <td>18.520</td>\n",
       "      <td>22.500</td>\n",
       "      <td>121.550</td>\n",
       "      <td>1075.250</td>\n",
       "      <td>0.108</td>\n",
       "      <td>0.156</td>\n",
       "      <td>0.170</td>\n",
       "      <td>0.092</td>\n",
       "      <td>0.203</td>\n",
       "      <td>0.067</td>\n",
       "      <td>...</td>\n",
       "      <td>22.420</td>\n",
       "      <td>30.938</td>\n",
       "      <td>148.850</td>\n",
       "      <td>1538.500</td>\n",
       "      <td>0.151</td>\n",
       "      <td>0.406</td>\n",
       "      <td>0.484</td>\n",
       "      <td>0.197</td>\n",
       "      <td>0.328</td>\n",
       "      <td>0.098</td>\n",
       "    </tr>\n",
       "    <tr>\n",
       "      <th>max</th>\n",
       "      <td>28.110</td>\n",
       "      <td>39.280</td>\n",
       "      <td>188.500</td>\n",
       "      <td>2501.000</td>\n",
       "      <td>0.163</td>\n",
       "      <td>0.345</td>\n",
       "      <td>0.427</td>\n",
       "      <td>0.201</td>\n",
       "      <td>0.304</td>\n",
       "      <td>0.097</td>\n",
       "      <td>...</td>\n",
       "      <td>36.040</td>\n",
       "      <td>49.540</td>\n",
       "      <td>251.200</td>\n",
       "      <td>4254.000</td>\n",
       "      <td>0.223</td>\n",
       "      <td>1.058</td>\n",
       "      <td>1.170</td>\n",
       "      <td>0.291</td>\n",
       "      <td>0.664</td>\n",
       "      <td>0.208</td>\n",
       "    </tr>\n",
       "  </tbody>\n",
       "</table>\n",
       "<p>8 rows × 30 columns</p>\n",
       "</div>"
      ],
      "text/plain": [
       "       mean_radius  mean_texture  mean_perimeter  mean_area  mean_smoothness  \\\n",
       "count      320.000       320.000         320.000    320.000          320.000   \n",
       "mean        15.710        20.323         103.050    807.736            0.099   \n",
       "std          3.746         4.151          25.836    391.969            0.014   \n",
       "min          7.691         9.710          47.920    170.400            0.053   \n",
       "25%         13.050        17.460          84.845    523.900            0.090   \n",
       "50%         15.125        20.215         100.100    713.050            0.099   \n",
       "75%         18.520        22.500         121.550   1075.250            0.108   \n",
       "max         28.110        39.280         188.500   2501.000            0.163   \n",
       "\n",
       "       mean_compactness  mean_concavity  mean_concave_points  mean_symmetry  \\\n",
       "count           320.000         320.000              320.000        320.000   \n",
       "mean              0.123           0.122                0.067          0.187   \n",
       "std               0.057           0.085                0.042          0.027   \n",
       "min               0.027           0.000                0.000          0.127   \n",
       "25%               0.081           0.053                0.030          0.167   \n",
       "50%               0.115           0.111                0.065          0.185   \n",
       "75%               0.156           0.170                0.092          0.203   \n",
       "max               0.345           0.427                0.201          0.304   \n",
       "\n",
       "       mean_fractal_dimension  ...  worst_radius  worst_texture  \\\n",
       "count                 320.000  ...       320.000        320.000   \n",
       "mean                    0.063  ...        18.542         27.226   \n",
       "std                     0.007  ...         5.182          6.050   \n",
       "min                     0.050  ...         8.678         12.020   \n",
       "25%                     0.057  ...        14.657         23.275   \n",
       "50%                     0.061  ...        17.730         26.880   \n",
       "75%                     0.067  ...        22.420         30.938   \n",
       "max                     0.097  ...        36.040         49.540   \n",
       "\n",
       "       worst_perimeter  worst_area  worst_smoothness  worst_compactness  \\\n",
       "count          320.000     320.000           320.000            320.000   \n",
       "mean           123.222    1133.463             0.138              0.309   \n",
       "std             35.960     640.980             0.023              0.175   \n",
       "min             54.490     223.600             0.086              0.050   \n",
       "25%             95.525     653.525             0.123              0.180   \n",
       "50%            118.850     969.200             0.138              0.277   \n",
       "75%            148.850    1538.500             0.151              0.406   \n",
       "max            251.200    4254.000             0.223              1.058   \n",
       "\n",
       "       worst_concavity  worst_concave_points  worst_symmetry  \\\n",
       "count          320.000               320.000         320.000   \n",
       "mean             0.353                 0.145           0.305   \n",
       "std              0.214                 0.067           0.069   \n",
       "min              0.000                 0.000           0.156   \n",
       "25%              0.183                 0.091           0.259   \n",
       "50%              0.340                 0.153           0.296   \n",
       "75%              0.484                 0.197           0.328   \n",
       "max              1.170                 0.291           0.664   \n",
       "\n",
       "       worst_fractal_dimension  \n",
       "count                  320.000  \n",
       "mean                     0.087  \n",
       "std                      0.020  \n",
       "min                      0.055  \n",
       "25%                      0.073  \n",
       "50%                      0.083  \n",
       "75%                      0.098  \n",
       "max                      0.208  \n",
       "\n",
       "[8 rows x 30 columns]"
      ]
     },
     "execution_count": 7,
     "metadata": {},
     "output_type": "execute_result"
    }
   ],
   "source": [
    "df_raw.describe().round(3)"
   ]
  },
  {
   "cell_type": "markdown",
   "id": "4a4d95b7",
   "metadata": {},
   "source": [
    "### 목표변수(diagnosis), 설명변수 데이터 구성"
   ]
  },
  {
   "cell_type": "code",
   "execution_count": 8,
   "id": "1ef59582",
   "metadata": {},
   "outputs": [],
   "source": [
    "# 설명변수\n",
    "df_raw_x=df_raw.drop('diagnosis', axis=1) \n",
    "# 목표변수 (diagnosis)\n",
    "df_raw_y=df_raw['diagnosis']"
   ]
  },
  {
   "cell_type": "code",
   "execution_count": 9,
   "id": "7fac25b9",
   "metadata": {},
   "outputs": [
    {
     "data": {
      "text/plain": [
       "0    음성\n",
       "1    양성\n",
       "2    음성\n",
       "3    양성\n",
       "4    양성\n",
       "Name: diagnosis, dtype: object"
      ]
     },
     "execution_count": 9,
     "metadata": {},
     "output_type": "execute_result"
    }
   ],
   "source": [
    "df_raw_y.head()"
   ]
  },
  {
   "cell_type": "code",
   "execution_count": 10,
   "id": "dbb9e831",
   "metadata": {},
   "outputs": [
    {
     "data": {
      "text/html": [
       "<div>\n",
       "<style scoped>\n",
       "    .dataframe tbody tr th:only-of-type {\n",
       "        vertical-align: middle;\n",
       "    }\n",
       "\n",
       "    .dataframe tbody tr th {\n",
       "        vertical-align: top;\n",
       "    }\n",
       "\n",
       "    .dataframe thead th {\n",
       "        text-align: right;\n",
       "    }\n",
       "</style>\n",
       "<table border=\"1\" class=\"dataframe\">\n",
       "  <thead>\n",
       "    <tr style=\"text-align: right;\">\n",
       "      <th></th>\n",
       "      <th>mean_radius</th>\n",
       "      <th>mean_texture</th>\n",
       "      <th>mean_perimeter</th>\n",
       "      <th>mean_area</th>\n",
       "      <th>mean_smoothness</th>\n",
       "      <th>mean_compactness</th>\n",
       "      <th>mean_concavity</th>\n",
       "      <th>mean_concave_points</th>\n",
       "      <th>mean_symmetry</th>\n",
       "      <th>mean_fractal_dimension</th>\n",
       "      <th>...</th>\n",
       "      <th>worst_radius</th>\n",
       "      <th>worst_texture</th>\n",
       "      <th>worst_perimeter</th>\n",
       "      <th>worst_area</th>\n",
       "      <th>worst_smoothness</th>\n",
       "      <th>worst_compactness</th>\n",
       "      <th>worst_concavity</th>\n",
       "      <th>worst_concave_points</th>\n",
       "      <th>worst_symmetry</th>\n",
       "      <th>worst_fractal_dimension</th>\n",
       "    </tr>\n",
       "  </thead>\n",
       "  <tbody>\n",
       "    <tr>\n",
       "      <th>0</th>\n",
       "      <td>15.12</td>\n",
       "      <td>16.68</td>\n",
       "      <td>98.78</td>\n",
       "      <td>716.6</td>\n",
       "      <td>0.08876</td>\n",
       "      <td>0.09588</td>\n",
       "      <td>0.07550</td>\n",
       "      <td>0.04079</td>\n",
       "      <td>0.1594</td>\n",
       "      <td>0.05986</td>\n",
       "      <td>...</td>\n",
       "      <td>17.77</td>\n",
       "      <td>20.24</td>\n",
       "      <td>117.70</td>\n",
       "      <td>989.5</td>\n",
       "      <td>0.14910</td>\n",
       "      <td>0.3331</td>\n",
       "      <td>0.3327</td>\n",
       "      <td>0.12520</td>\n",
       "      <td>0.3415</td>\n",
       "      <td>0.09740</td>\n",
       "    </tr>\n",
       "    <tr>\n",
       "      <th>1</th>\n",
       "      <td>10.80</td>\n",
       "      <td>9.71</td>\n",
       "      <td>68.77</td>\n",
       "      <td>357.6</td>\n",
       "      <td>0.09594</td>\n",
       "      <td>0.05736</td>\n",
       "      <td>0.02531</td>\n",
       "      <td>0.01698</td>\n",
       "      <td>0.1381</td>\n",
       "      <td>0.06400</td>\n",
       "      <td>...</td>\n",
       "      <td>11.60</td>\n",
       "      <td>12.02</td>\n",
       "      <td>73.66</td>\n",
       "      <td>414.0</td>\n",
       "      <td>0.14360</td>\n",
       "      <td>0.1257</td>\n",
       "      <td>0.1047</td>\n",
       "      <td>0.04603</td>\n",
       "      <td>0.2090</td>\n",
       "      <td>0.07699</td>\n",
       "    </tr>\n",
       "    <tr>\n",
       "      <th>2</th>\n",
       "      <td>18.31</td>\n",
       "      <td>18.58</td>\n",
       "      <td>118.60</td>\n",
       "      <td>1041.0</td>\n",
       "      <td>0.08588</td>\n",
       "      <td>0.08468</td>\n",
       "      <td>0.08169</td>\n",
       "      <td>0.05814</td>\n",
       "      <td>0.1621</td>\n",
       "      <td>0.05425</td>\n",
       "      <td>...</td>\n",
       "      <td>21.31</td>\n",
       "      <td>26.36</td>\n",
       "      <td>139.20</td>\n",
       "      <td>1410.0</td>\n",
       "      <td>0.12340</td>\n",
       "      <td>0.2445</td>\n",
       "      <td>0.3538</td>\n",
       "      <td>0.15710</td>\n",
       "      <td>0.3206</td>\n",
       "      <td>0.06938</td>\n",
       "    </tr>\n",
       "    <tr>\n",
       "      <th>3</th>\n",
       "      <td>14.92</td>\n",
       "      <td>14.93</td>\n",
       "      <td>96.45</td>\n",
       "      <td>686.9</td>\n",
       "      <td>0.08098</td>\n",
       "      <td>0.08549</td>\n",
       "      <td>0.05539</td>\n",
       "      <td>0.03221</td>\n",
       "      <td>0.1687</td>\n",
       "      <td>0.05669</td>\n",
       "      <td>...</td>\n",
       "      <td>17.18</td>\n",
       "      <td>18.22</td>\n",
       "      <td>112.00</td>\n",
       "      <td>906.6</td>\n",
       "      <td>0.10650</td>\n",
       "      <td>0.2791</td>\n",
       "      <td>0.3151</td>\n",
       "      <td>0.11470</td>\n",
       "      <td>0.2688</td>\n",
       "      <td>0.08273</td>\n",
       "    </tr>\n",
       "    <tr>\n",
       "      <th>4</th>\n",
       "      <td>12.89</td>\n",
       "      <td>13.12</td>\n",
       "      <td>81.89</td>\n",
       "      <td>515.9</td>\n",
       "      <td>0.06955</td>\n",
       "      <td>0.03729</td>\n",
       "      <td>0.02260</td>\n",
       "      <td>0.01171</td>\n",
       "      <td>0.1337</td>\n",
       "      <td>0.05581</td>\n",
       "      <td>...</td>\n",
       "      <td>13.62</td>\n",
       "      <td>15.54</td>\n",
       "      <td>87.40</td>\n",
       "      <td>577.0</td>\n",
       "      <td>0.09616</td>\n",
       "      <td>0.1147</td>\n",
       "      <td>0.1186</td>\n",
       "      <td>0.05366</td>\n",
       "      <td>0.2309</td>\n",
       "      <td>0.06915</td>\n",
       "    </tr>\n",
       "  </tbody>\n",
       "</table>\n",
       "<p>5 rows × 30 columns</p>\n",
       "</div>"
      ],
      "text/plain": [
       "   mean_radius  mean_texture  mean_perimeter  mean_area  mean_smoothness  \\\n",
       "0        15.12         16.68           98.78      716.6          0.08876   \n",
       "1        10.80          9.71           68.77      357.6          0.09594   \n",
       "2        18.31         18.58          118.60     1041.0          0.08588   \n",
       "3        14.92         14.93           96.45      686.9          0.08098   \n",
       "4        12.89         13.12           81.89      515.9          0.06955   \n",
       "\n",
       "   mean_compactness  mean_concavity  mean_concave_points  mean_symmetry  \\\n",
       "0           0.09588         0.07550              0.04079         0.1594   \n",
       "1           0.05736         0.02531              0.01698         0.1381   \n",
       "2           0.08468         0.08169              0.05814         0.1621   \n",
       "3           0.08549         0.05539              0.03221         0.1687   \n",
       "4           0.03729         0.02260              0.01171         0.1337   \n",
       "\n",
       "   mean_fractal_dimension  ...  worst_radius  worst_texture  worst_perimeter  \\\n",
       "0                 0.05986  ...         17.77          20.24           117.70   \n",
       "1                 0.06400  ...         11.60          12.02            73.66   \n",
       "2                 0.05425  ...         21.31          26.36           139.20   \n",
       "3                 0.05669  ...         17.18          18.22           112.00   \n",
       "4                 0.05581  ...         13.62          15.54            87.40   \n",
       "\n",
       "   worst_area  worst_smoothness  worst_compactness  worst_concavity  \\\n",
       "0       989.5           0.14910             0.3331           0.3327   \n",
       "1       414.0           0.14360             0.1257           0.1047   \n",
       "2      1410.0           0.12340             0.2445           0.3538   \n",
       "3       906.6           0.10650             0.2791           0.3151   \n",
       "4       577.0           0.09616             0.1147           0.1186   \n",
       "\n",
       "   worst_concave_points  worst_symmetry  worst_fractal_dimension  \n",
       "0               0.12520          0.3415                  0.09740  \n",
       "1               0.04603          0.2090                  0.07699  \n",
       "2               0.15710          0.3206                  0.06938  \n",
       "3               0.11470          0.2688                  0.08273  \n",
       "4               0.05366          0.2309                  0.06915  \n",
       "\n",
       "[5 rows x 30 columns]"
      ]
     },
     "execution_count": 10,
     "metadata": {},
     "output_type": "execute_result"
    }
   ],
   "source": [
    "df_raw_x.head()"
   ]
  },
  {
   "cell_type": "markdown",
   "id": "ba79f95a",
   "metadata": {},
   "source": [
    "### Scale 변환"
   ]
  },
  {
   "cell_type": "code",
   "execution_count": 11,
   "id": "dc983480",
   "metadata": {},
   "outputs": [
    {
     "data": {
      "text/html": [
       "<div>\n",
       "<style scoped>\n",
       "    .dataframe tbody tr th:only-of-type {\n",
       "        vertical-align: middle;\n",
       "    }\n",
       "\n",
       "    .dataframe tbody tr th {\n",
       "        vertical-align: top;\n",
       "    }\n",
       "\n",
       "    .dataframe thead th {\n",
       "        text-align: right;\n",
       "    }\n",
       "</style>\n",
       "<table border=\"1\" class=\"dataframe\">\n",
       "  <thead>\n",
       "    <tr style=\"text-align: right;\">\n",
       "      <th></th>\n",
       "      <th>mean_radius</th>\n",
       "      <th>mean_texture</th>\n",
       "      <th>mean_perimeter</th>\n",
       "      <th>mean_area</th>\n",
       "      <th>mean_smoothness</th>\n",
       "      <th>mean_compactness</th>\n",
       "      <th>mean_concavity</th>\n",
       "      <th>mean_concave_points</th>\n",
       "      <th>mean_symmetry</th>\n",
       "      <th>mean_fractal_dimension</th>\n",
       "      <th>...</th>\n",
       "      <th>worst_radius</th>\n",
       "      <th>worst_texture</th>\n",
       "      <th>worst_perimeter</th>\n",
       "      <th>worst_area</th>\n",
       "      <th>worst_smoothness</th>\n",
       "      <th>worst_compactness</th>\n",
       "      <th>worst_concavity</th>\n",
       "      <th>worst_concave_points</th>\n",
       "      <th>worst_symmetry</th>\n",
       "      <th>worst_fractal_dimension</th>\n",
       "    </tr>\n",
       "  </thead>\n",
       "  <tbody>\n",
       "    <tr>\n",
       "      <th>0</th>\n",
       "      <td>-0.157678</td>\n",
       "      <td>-0.879112</td>\n",
       "      <td>-0.165550</td>\n",
       "      <td>-0.232872</td>\n",
       "      <td>-0.744948</td>\n",
       "      <td>-0.479220</td>\n",
       "      <td>-0.550769</td>\n",
       "      <td>-0.628488</td>\n",
       "      <td>-0.997431</td>\n",
       "      <td>-0.392627</td>\n",
       "      <td>...</td>\n",
       "      <td>-0.149283</td>\n",
       "      <td>-1.156442</td>\n",
       "      <td>-0.153789</td>\n",
       "      <td>-0.224951</td>\n",
       "      <td>0.490637</td>\n",
       "      <td>0.139396</td>\n",
       "      <td>-0.094470</td>\n",
       "      <td>-0.301949</td>\n",
       "      <td>0.525611</td>\n",
       "      <td>0.511081</td>\n",
       "    </tr>\n",
       "    <tr>\n",
       "      <th>1</th>\n",
       "      <td>-1.312779</td>\n",
       "      <td>-2.560965</td>\n",
       "      <td>-1.328928</td>\n",
       "      <td>-1.150194</td>\n",
       "      <td>-0.240274</td>\n",
       "      <td>-1.153621</td>\n",
       "      <td>-1.143404</td>\n",
       "      <td>-1.199934</td>\n",
       "      <td>-1.773612</td>\n",
       "      <td>0.184077</td>\n",
       "      <td>...</td>\n",
       "      <td>-1.341759</td>\n",
       "      <td>-2.517236</td>\n",
       "      <td>-1.380396</td>\n",
       "      <td>-1.124201</td>\n",
       "      <td>0.254373</td>\n",
       "      <td>-1.046076</td>\n",
       "      <td>-1.159323</td>\n",
       "      <td>-1.480312</td>\n",
       "      <td>-1.387506</td>\n",
       "      <td>-0.507149</td>\n",
       "    </tr>\n",
       "    <tr>\n",
       "      <th>2</th>\n",
       "      <td>0.695279</td>\n",
       "      <td>-0.420644</td>\n",
       "      <td>0.602798</td>\n",
       "      <td>0.596040</td>\n",
       "      <td>-0.947380</td>\n",
       "      <td>-0.675307</td>\n",
       "      <td>-0.477679</td>\n",
       "      <td>-0.212084</td>\n",
       "      <td>-0.899042</td>\n",
       "      <td>-1.174101</td>\n",
       "      <td>...</td>\n",
       "      <td>0.534893</td>\n",
       "      <td>-0.143296</td>\n",
       "      <td>0.445031</td>\n",
       "      <td>0.432104</td>\n",
       "      <td>-0.613360</td>\n",
       "      <td>-0.367031</td>\n",
       "      <td>0.004076</td>\n",
       "      <td>0.172850</td>\n",
       "      <td>0.223844</td>\n",
       "      <td>-0.886803</td>\n",
       "    </tr>\n",
       "    <tr>\n",
       "      <th>3</th>\n",
       "      <td>-0.211154</td>\n",
       "      <td>-1.301385</td>\n",
       "      <td>-0.255876</td>\n",
       "      <td>-0.308762</td>\n",
       "      <td>-1.291796</td>\n",
       "      <td>-0.661126</td>\n",
       "      <td>-0.788224</td>\n",
       "      <td>-0.834410</td>\n",
       "      <td>-0.658535</td>\n",
       "      <td>-0.834209</td>\n",
       "      <td>...</td>\n",
       "      <td>-0.263312</td>\n",
       "      <td>-1.490846</td>\n",
       "      <td>-0.312546</td>\n",
       "      <td>-0.354487</td>\n",
       "      <td>-1.339335</td>\n",
       "      <td>-0.169261</td>\n",
       "      <td>-0.176669</td>\n",
       "      <td>-0.458230</td>\n",
       "      <td>-0.524077</td>\n",
       "      <td>-0.220788</td>\n",
       "    </tr>\n",
       "    <tr>\n",
       "      <th>4</th>\n",
       "      <td>-0.753945</td>\n",
       "      <td>-1.738136</td>\n",
       "      <td>-0.820314</td>\n",
       "      <td>-0.745704</td>\n",
       "      <td>-2.095198</td>\n",
       "      <td>-1.505004</td>\n",
       "      <td>-1.175403</td>\n",
       "      <td>-1.326415</td>\n",
       "      <td>-1.933950</td>\n",
       "      <td>-0.956793</td>\n",
       "      <td>...</td>\n",
       "      <td>-0.951354</td>\n",
       "      <td>-1.934512</td>\n",
       "      <td>-0.997708</td>\n",
       "      <td>-0.869505</td>\n",
       "      <td>-1.783511</td>\n",
       "      <td>-1.108951</td>\n",
       "      <td>-1.094404</td>\n",
       "      <td>-1.366747</td>\n",
       "      <td>-1.071301</td>\n",
       "      <td>-0.898278</td>\n",
       "    </tr>\n",
       "  </tbody>\n",
       "</table>\n",
       "<p>5 rows × 30 columns</p>\n",
       "</div>"
      ],
      "text/plain": [
       "   mean_radius  mean_texture  mean_perimeter  mean_area  mean_smoothness  \\\n",
       "0    -0.157678     -0.879112       -0.165550  -0.232872        -0.744948   \n",
       "1    -1.312779     -2.560965       -1.328928  -1.150194        -0.240274   \n",
       "2     0.695279     -0.420644        0.602798   0.596040        -0.947380   \n",
       "3    -0.211154     -1.301385       -0.255876  -0.308762        -1.291796   \n",
       "4    -0.753945     -1.738136       -0.820314  -0.745704        -2.095198   \n",
       "\n",
       "   mean_compactness  mean_concavity  mean_concave_points  mean_symmetry  \\\n",
       "0         -0.479220       -0.550769            -0.628488      -0.997431   \n",
       "1         -1.153621       -1.143404            -1.199934      -1.773612   \n",
       "2         -0.675307       -0.477679            -0.212084      -0.899042   \n",
       "3         -0.661126       -0.788224            -0.834410      -0.658535   \n",
       "4         -1.505004       -1.175403            -1.326415      -1.933950   \n",
       "\n",
       "   mean_fractal_dimension  ...  worst_radius  worst_texture  worst_perimeter  \\\n",
       "0               -0.392627  ...     -0.149283      -1.156442        -0.153789   \n",
       "1                0.184077  ...     -1.341759      -2.517236        -1.380396   \n",
       "2               -1.174101  ...      0.534893      -0.143296         0.445031   \n",
       "3               -0.834209  ...     -0.263312      -1.490846        -0.312546   \n",
       "4               -0.956793  ...     -0.951354      -1.934512        -0.997708   \n",
       "\n",
       "   worst_area  worst_smoothness  worst_compactness  worst_concavity  \\\n",
       "0   -0.224951          0.490637           0.139396        -0.094470   \n",
       "1   -1.124201          0.254373          -1.046076        -1.159323   \n",
       "2    0.432104         -0.613360          -0.367031         0.004076   \n",
       "3   -0.354487         -1.339335          -0.169261        -0.176669   \n",
       "4   -0.869505         -1.783511          -1.108951        -1.094404   \n",
       "\n",
       "   worst_concave_points  worst_symmetry  worst_fractal_dimension  \n",
       "0             -0.301949        0.525611                 0.511081  \n",
       "1             -1.480312       -1.387506                -0.507149  \n",
       "2              0.172850        0.223844                -0.886803  \n",
       "3             -0.458230       -0.524077                -0.220788  \n",
       "4             -1.366747       -1.071301                -0.898278  \n",
       "\n",
       "[5 rows x 30 columns]"
      ]
     },
     "execution_count": 11,
     "metadata": {},
     "output_type": "execute_result"
    }
   ],
   "source": [
    "v_feature_name=df_raw_x.columns\n",
    "# Standard Scaler 적용해서 변환\n",
    "scaler=StandardScaler()\n",
    "df_scaled=scaler.fit_transform(df_raw_x)\n",
    "df_scaled=pd.DataFrame(df_scaled, columns=v_feature_name)\n",
    "df_scaled.head()"
   ]
  },
  {
   "cell_type": "markdown",
   "id": "587a41da",
   "metadata": {},
   "source": [
    "### 데이터 분할 train(0.6) : test(0.4)"
   ]
  },
  {
   "cell_type": "code",
   "execution_count": 12,
   "id": "1ebe6ea4",
   "metadata": {
    "scrolled": true
   },
   "outputs": [
    {
     "name": "stdout",
     "output_type": "stream",
     "text": [
      "train data :  (192, 30)\n",
      "test data :  (128, 30)\n"
     ]
    }
   ],
   "source": [
    "df_scaled_train_x, df_scaled_test_x=train_test_split(df_scaled, test_size=0.4)\n",
    "df_train_y, df_test_y=train_test_split(df_raw_y, test_size=0.4)\n",
    "print(\"train data : \", df_scaled_train_x.shape)\n",
    "print(\"test data : \", df_scaled_test_x.shape)"
   ]
  },
  {
   "cell_type": "markdown",
   "id": "6196355e",
   "metadata": {},
   "source": [
    "train data 총 192개, test data 총 128개로 구성됨"
   ]
  },
  {
   "cell_type": "markdown",
   "id": "620a3f51",
   "metadata": {},
   "source": [
    "### 목표변수 확인"
   ]
  },
  {
   "cell_type": "code",
   "execution_count": 13,
   "id": "602942b3",
   "metadata": {},
   "outputs": [
    {
     "data": {
      "text/plain": [
       "음성    212\n",
       "양성    108\n",
       "Name: diagnosis, dtype: int64"
      ]
     },
     "execution_count": 13,
     "metadata": {},
     "output_type": "execute_result"
    }
   ],
   "source": [
    "df_raw_y.value_counts()"
   ]
  },
  {
   "cell_type": "markdown",
   "id": "d49f7daa",
   "metadata": {},
   "source": [
    " 목표변수 전체에서 음성은 212개, 양성은 108개로 확인"
   ]
  },
  {
   "cell_type": "code",
   "execution_count": 14,
   "id": "c1840914",
   "metadata": {
    "scrolled": true
   },
   "outputs": [
    {
     "data": {
      "text/plain": [
       "음성    84\n",
       "양성    44\n",
       "Name: diagnosis, dtype: int64"
      ]
     },
     "execution_count": 14,
     "metadata": {},
     "output_type": "execute_result"
    }
   ],
   "source": [
    "df_test_y.value_counts()"
   ]
  },
  {
   "cell_type": "markdown",
   "id": "9f2bbcc2",
   "metadata": {},
   "source": [
    "목표변수 test data 중 음성은 84개, 양성은 44개 결과 확인"
   ]
  },
  {
   "cell_type": "markdown",
   "id": "4e789ea4",
   "metadata": {},
   "source": [
    "## SVC 모델 생성"
   ]
  },
  {
   "cell_type": "markdown",
   "id": "4b41d8c5",
   "metadata": {},
   "source": [
    "### 기본 옵션으로 모델 생성"
   ]
  },
  {
   "cell_type": "code",
   "execution_count": 15,
   "id": "71932f59",
   "metadata": {},
   "outputs": [
    {
     "data": {
      "text/plain": [
       "SVC()"
      ]
     },
     "execution_count": 15,
     "metadata": {},
     "output_type": "execute_result"
    }
   ],
   "source": [
    "svm_scaled=SVC()\n",
    "svm_scaled.fit(df_scaled_train_x, df_train_y)"
   ]
  },
  {
   "cell_type": "code",
   "execution_count": 16,
   "id": "67fe92df",
   "metadata": {},
   "outputs": [
    {
     "name": "stdout",
     "output_type": "stream",
     "text": [
      "Accuracy on training set : 0.714\n",
      "Accuracy on test set : 0.648\n"
     ]
    }
   ],
   "source": [
    "print(\"Accuracy on training set : {:.3f}\".format(svm_scaled.score(df_scaled_train_x, df_train_y)))\n",
    "print(\"Accuracy on test set : {:.3f}\".format(svm_scaled.score(df_scaled_test_x, df_test_y)))"
   ]
  },
  {
   "cell_type": "markdown",
   "id": "2852e2da",
   "metadata": {},
   "source": [
    "기본 옵션으로 의사결정나무 모델 생성시, 모델 정확도는 train 71.4%, test 64.1%로 모델은 train data에 과대적합"
   ]
  },
  {
   "cell_type": "markdown",
   "id": "a3008621",
   "metadata": {},
   "source": [
    "## 모델 Parameter 조정"
   ]
  },
  {
   "cell_type": "markdown",
   "id": "47fe3e51",
   "metadata": {},
   "source": [
    "### Cost : cost 변경에 따른 모델 성능"
   ]
  },
  {
   "cell_type": "code",
   "execution_count": 35,
   "id": "887a2712",
   "metadata": {},
   "outputs": [],
   "source": [
    "#train 및 test 정확도 결과 저장용\n",
    "train_accuracy=[]; test_accuracy=[]\n",
    "# c: 규제\n",
    "para_c = [c*0.1 for c in range(1,21)]\n",
    "\n",
    "for v_C in para_c :\n",
    "    svm=SVC(C=v_C)\n",
    "    svm.fit(df_scaled_train_x, df_train_y)\n",
    "    train_accuracy.append(svm.score(df_scaled_train_x, df_train_y))\n",
    "    test_accuracy.append(svm.score(df_scaled_test_x, df_test_y))\n",
    "    \n",
    "# 데이터 테이블로 저장\n",
    "df_accuracy_c=pd.DataFrame()\n",
    "df_accuracy_c['C']=para_c\n",
    "df_accuracy_c['Train Accuracy']=train_accuracy\n",
    "df_accuracy_c['Test Accuracy']=test_accuracy"
   ]
  },
  {
   "cell_type": "code",
   "execution_count": 36,
   "id": "083575ee",
   "metadata": {},
   "outputs": [
    {
     "data": {
      "text/html": [
       "<div>\n",
       "<style scoped>\n",
       "    .dataframe tbody tr th:only-of-type {\n",
       "        vertical-align: middle;\n",
       "    }\n",
       "\n",
       "    .dataframe tbody tr th {\n",
       "        vertical-align: top;\n",
       "    }\n",
       "\n",
       "    .dataframe thead th {\n",
       "        text-align: right;\n",
       "    }\n",
       "</style>\n",
       "<table border=\"1\" class=\"dataframe\">\n",
       "  <thead>\n",
       "    <tr style=\"text-align: right;\">\n",
       "      <th></th>\n",
       "      <th>C</th>\n",
       "      <th>Train Accuracy</th>\n",
       "      <th>Test Accuracy</th>\n",
       "    </tr>\n",
       "  </thead>\n",
       "  <tbody>\n",
       "    <tr>\n",
       "      <th>0</th>\n",
       "      <td>0.1</td>\n",
       "      <td>0.667</td>\n",
       "      <td>0.656</td>\n",
       "    </tr>\n",
       "    <tr>\n",
       "      <th>1</th>\n",
       "      <td>0.2</td>\n",
       "      <td>0.667</td>\n",
       "      <td>0.656</td>\n",
       "    </tr>\n",
       "    <tr>\n",
       "      <th>2</th>\n",
       "      <td>0.3</td>\n",
       "      <td>0.667</td>\n",
       "      <td>0.656</td>\n",
       "    </tr>\n",
       "    <tr>\n",
       "      <th>3</th>\n",
       "      <td>0.4</td>\n",
       "      <td>0.667</td>\n",
       "      <td>0.656</td>\n",
       "    </tr>\n",
       "    <tr>\n",
       "      <th>4</th>\n",
       "      <td>0.5</td>\n",
       "      <td>0.667</td>\n",
       "      <td>0.656</td>\n",
       "    </tr>\n",
       "    <tr>\n",
       "      <th>5</th>\n",
       "      <td>0.6</td>\n",
       "      <td>0.672</td>\n",
       "      <td>0.656</td>\n",
       "    </tr>\n",
       "    <tr>\n",
       "      <th>6</th>\n",
       "      <td>0.7</td>\n",
       "      <td>0.688</td>\n",
       "      <td>0.656</td>\n",
       "    </tr>\n",
       "    <tr>\n",
       "      <th>7</th>\n",
       "      <td>0.8</td>\n",
       "      <td>0.688</td>\n",
       "      <td>0.656</td>\n",
       "    </tr>\n",
       "    <tr>\n",
       "      <th>8</th>\n",
       "      <td>0.9</td>\n",
       "      <td>0.708</td>\n",
       "      <td>0.648</td>\n",
       "    </tr>\n",
       "    <tr>\n",
       "      <th>9</th>\n",
       "      <td>1.0</td>\n",
       "      <td>0.714</td>\n",
       "      <td>0.648</td>\n",
       "    </tr>\n",
       "    <tr>\n",
       "      <th>10</th>\n",
       "      <td>1.1</td>\n",
       "      <td>0.724</td>\n",
       "      <td>0.648</td>\n",
       "    </tr>\n",
       "    <tr>\n",
       "      <th>11</th>\n",
       "      <td>1.2</td>\n",
       "      <td>0.729</td>\n",
       "      <td>0.648</td>\n",
       "    </tr>\n",
       "    <tr>\n",
       "      <th>12</th>\n",
       "      <td>1.3</td>\n",
       "      <td>0.729</td>\n",
       "      <td>0.648</td>\n",
       "    </tr>\n",
       "    <tr>\n",
       "      <th>13</th>\n",
       "      <td>1.4</td>\n",
       "      <td>0.734</td>\n",
       "      <td>0.648</td>\n",
       "    </tr>\n",
       "    <tr>\n",
       "      <th>14</th>\n",
       "      <td>1.5</td>\n",
       "      <td>0.745</td>\n",
       "      <td>0.664</td>\n",
       "    </tr>\n",
       "    <tr>\n",
       "      <th>15</th>\n",
       "      <td>1.6</td>\n",
       "      <td>0.760</td>\n",
       "      <td>0.656</td>\n",
       "    </tr>\n",
       "    <tr>\n",
       "      <th>16</th>\n",
       "      <td>1.7</td>\n",
       "      <td>0.760</td>\n",
       "      <td>0.648</td>\n",
       "    </tr>\n",
       "    <tr>\n",
       "      <th>17</th>\n",
       "      <td>1.8</td>\n",
       "      <td>0.771</td>\n",
       "      <td>0.648</td>\n",
       "    </tr>\n",
       "    <tr>\n",
       "      <th>18</th>\n",
       "      <td>1.9</td>\n",
       "      <td>0.771</td>\n",
       "      <td>0.664</td>\n",
       "    </tr>\n",
       "    <tr>\n",
       "      <th>19</th>\n",
       "      <td>2.0</td>\n",
       "      <td>0.776</td>\n",
       "      <td>0.656</td>\n",
       "    </tr>\n",
       "  </tbody>\n",
       "</table>\n",
       "</div>"
      ],
      "text/plain": [
       "      C  Train Accuracy  Test Accuracy\n",
       "0   0.1           0.667          0.656\n",
       "1   0.2           0.667          0.656\n",
       "2   0.3           0.667          0.656\n",
       "3   0.4           0.667          0.656\n",
       "4   0.5           0.667          0.656\n",
       "5   0.6           0.672          0.656\n",
       "6   0.7           0.688          0.656\n",
       "7   0.8           0.688          0.656\n",
       "8   0.9           0.708          0.648\n",
       "9   1.0           0.714          0.648\n",
       "10  1.1           0.724          0.648\n",
       "11  1.2           0.729          0.648\n",
       "12  1.3           0.729          0.648\n",
       "13  1.4           0.734          0.648\n",
       "14  1.5           0.745          0.664\n",
       "15  1.6           0.760          0.656\n",
       "16  1.7           0.760          0.648\n",
       "17  1.8           0.771          0.648\n",
       "18  1.9           0.771          0.664\n",
       "19  2.0           0.776          0.656"
      ]
     },
     "execution_count": 36,
     "metadata": {},
     "output_type": "execute_result"
    }
   ],
   "source": [
    "# 모델 정확도 확인\n",
    "df_accuracy_c.round(3)"
   ]
  },
  {
   "cell_type": "code",
   "execution_count": 37,
   "id": "5acf8942",
   "metadata": {},
   "outputs": [
    {
     "data": {
      "text/plain": [
       "<matplotlib.legend.Legend at 0x1580f7a0eb0>"
      ]
     },
     "execution_count": 37,
     "metadata": {},
     "output_type": "execute_result"
    },
    {
     "data": {
      "image/png": "[encoded data removed]",
      "text/plain": [
       "<Figure size 432x288 with 1 Axes>"
      ]
     },
     "metadata": {
      "needs_background": "light"
     },
     "output_type": "display_data"
    }
   ],
   "source": [
    "# 모델 정확도 그래프 확인\n",
    "plt.plot(para_c, train_accuracy, linestyle='-', label='Train Accuracy')\n",
    "plt.plot(para_c, test_accuracy, linestyle='--', label='Test Accuracy')\n",
    "plt.ylabel('accuracy'); plt.xlabel('C')\n",
    "plt.legend()"
   ]
  },
  {
   "cell_type": "markdown",
   "id": "0cc3b3a7",
   "metadata": {},
   "source": [
    "cost가 클수록 train data는 과대적합 경향성을 보임. \n",
    "train data가 과대적합됨에 따라 test data의 정확도가 감소함.\n",
    "따라서 test data의 성능을 최대한 향상시키고 과대적합을 방지하기 위해 cost는 0.6으로 설정"
   ]
  },
  {
   "cell_type": "markdown",
   "id": "51345378",
   "metadata": {},
   "source": [
    "### Gamma : Gamma(데이터의 영향 범위) 변경에 따른 모델 성능"
   ]
  },
  {
   "cell_type": "code",
   "execution_count": 53,
   "id": "f2c23a16",
   "metadata": {},
   "outputs": [],
   "source": [
    "#train 및 test 정확도 결과 저장용\n",
    "train_accuracy=[]; test_accuracy=[]\n",
    "# para_gamma\n",
    "para_gamma=[0.02*gamma for gamma in range(1,15)]\n",
    "\n",
    "for v_gamma in para_gamma :\n",
    "    svm=SVC(gamma=v_gamma, C=0.6)\n",
    "    svm.fit(df_scaled_train_x, df_train_y)\n",
    "    train_accuracy.append(svm.score(df_scaled_train_x, df_train_y))\n",
    "    test_accuracy.append(svm.score(df_scaled_test_x, df_test_y))\n",
    "    \n",
    "# 데이터 테이블로 저장\n",
    "df_accuracy_gamma=pd.DataFrame()\n",
    "df_accuracy_gamma['gamma']=para_gamma\n",
    "df_accuracy_gamma['Train Accuracy']=train_accuracy\n",
    "df_accuracy_gamma['Test Accuracy']=test_accuracy"
   ]
  },
  {
   "cell_type": "code",
   "execution_count": 54,
   "id": "3f48ea72",
   "metadata": {},
   "outputs": [
    {
     "data": {
      "text/html": [
       "<div>\n",
       "<style scoped>\n",
       "    .dataframe tbody tr th:only-of-type {\n",
       "        vertical-align: middle;\n",
       "    }\n",
       "\n",
       "    .dataframe tbody tr th {\n",
       "        vertical-align: top;\n",
       "    }\n",
       "\n",
       "    .dataframe thead th {\n",
       "        text-align: right;\n",
       "    }\n",
       "</style>\n",
       "<table border=\"1\" class=\"dataframe\">\n",
       "  <thead>\n",
       "    <tr style=\"text-align: right;\">\n",
       "      <th></th>\n",
       "      <th>gamma</th>\n",
       "      <th>Train Accuracy</th>\n",
       "      <th>Test Accuracy</th>\n",
       "    </tr>\n",
       "  </thead>\n",
       "  <tbody>\n",
       "    <tr>\n",
       "      <th>0</th>\n",
       "      <td>0.02</td>\n",
       "      <td>0.672</td>\n",
       "      <td>0.656</td>\n",
       "    </tr>\n",
       "    <tr>\n",
       "      <th>1</th>\n",
       "      <td>0.04</td>\n",
       "      <td>0.672</td>\n",
       "      <td>0.656</td>\n",
       "    </tr>\n",
       "    <tr>\n",
       "      <th>2</th>\n",
       "      <td>0.06</td>\n",
       "      <td>0.677</td>\n",
       "      <td>0.656</td>\n",
       "    </tr>\n",
       "    <tr>\n",
       "      <th>3</th>\n",
       "      <td>0.08</td>\n",
       "      <td>0.682</td>\n",
       "      <td>0.656</td>\n",
       "    </tr>\n",
       "    <tr>\n",
       "      <th>4</th>\n",
       "      <td>0.10</td>\n",
       "      <td>0.688</td>\n",
       "      <td>0.656</td>\n",
       "    </tr>\n",
       "    <tr>\n",
       "      <th>5</th>\n",
       "      <td>0.12</td>\n",
       "      <td>0.688</td>\n",
       "      <td>0.656</td>\n",
       "    </tr>\n",
       "    <tr>\n",
       "      <th>6</th>\n",
       "      <td>0.14</td>\n",
       "      <td>0.693</td>\n",
       "      <td>0.656</td>\n",
       "    </tr>\n",
       "    <tr>\n",
       "      <th>7</th>\n",
       "      <td>0.16</td>\n",
       "      <td>0.693</td>\n",
       "      <td>0.656</td>\n",
       "    </tr>\n",
       "    <tr>\n",
       "      <th>8</th>\n",
       "      <td>0.18</td>\n",
       "      <td>0.698</td>\n",
       "      <td>0.656</td>\n",
       "    </tr>\n",
       "    <tr>\n",
       "      <th>9</th>\n",
       "      <td>0.20</td>\n",
       "      <td>0.693</td>\n",
       "      <td>0.656</td>\n",
       "    </tr>\n",
       "    <tr>\n",
       "      <th>10</th>\n",
       "      <td>0.22</td>\n",
       "      <td>0.693</td>\n",
       "      <td>0.656</td>\n",
       "    </tr>\n",
       "    <tr>\n",
       "      <th>11</th>\n",
       "      <td>0.24</td>\n",
       "      <td>0.693</td>\n",
       "      <td>0.656</td>\n",
       "    </tr>\n",
       "    <tr>\n",
       "      <th>12</th>\n",
       "      <td>0.26</td>\n",
       "      <td>0.693</td>\n",
       "      <td>0.656</td>\n",
       "    </tr>\n",
       "    <tr>\n",
       "      <th>13</th>\n",
       "      <td>0.28</td>\n",
       "      <td>0.693</td>\n",
       "      <td>0.656</td>\n",
       "    </tr>\n",
       "  </tbody>\n",
       "</table>\n",
       "</div>"
      ],
      "text/plain": [
       "    gamma  Train Accuracy  Test Accuracy\n",
       "0    0.02           0.672          0.656\n",
       "1    0.04           0.672          0.656\n",
       "2    0.06           0.677          0.656\n",
       "3    0.08           0.682          0.656\n",
       "4    0.10           0.688          0.656\n",
       "5    0.12           0.688          0.656\n",
       "6    0.14           0.693          0.656\n",
       "7    0.16           0.693          0.656\n",
       "8    0.18           0.698          0.656\n",
       "9    0.20           0.693          0.656\n",
       "10   0.22           0.693          0.656\n",
       "11   0.24           0.693          0.656\n",
       "12   0.26           0.693          0.656\n",
       "13   0.28           0.693          0.656"
      ]
     },
     "execution_count": 54,
     "metadata": {},
     "output_type": "execute_result"
    }
   ],
   "source": [
    "# 모델 정확도 확인\n",
    "df_accuracy_gamma.round(3)"
   ]
  },
  {
   "cell_type": "code",
   "execution_count": 55,
   "id": "c7389631",
   "metadata": {},
   "outputs": [
    {
     "data": {
      "text/plain": [
       "<matplotlib.legend.Legend at 0x15810994550>"
      ]
     },
     "execution_count": 55,
     "metadata": {},
     "output_type": "execute_result"
    },
    {
     "data": {
      "image/png": "[encoded data removed]",
      "text/plain": [
       "<Figure size 432x288 with 1 Axes>"
      ]
     },
     "metadata": {
      "needs_background": "light"
     },
     "output_type": "display_data"
    }
   ],
   "source": [
    "# 모델 정확도 그래프 확인\n",
    "plt.plot(para_gamma, train_accuracy, linestyle='-', label='Train Accuracy')\n",
    "plt.plot(para_gamma, test_accuracy, linestyle='--', label='Test Accuracy')\n",
    "plt.ylabel('accuracy'); plt.xlabel('gamma')\n",
    "plt.legend()"
   ]
  },
  {
   "cell_type": "markdown",
   "id": "a83ddfb2",
   "metadata": {},
   "source": [
    "gamma가 클수록 train data 과적합 경향이 나타남.\n",
    "test data 성능 향상시키고 과대적합 방지하기 위해서 gamma는 0.03으로 설정"
   ]
  },
  {
   "cell_type": "markdown",
   "id": "76890c03",
   "metadata": {},
   "source": [
    "## 최종 모델"
   ]
  },
  {
   "cell_type": "code",
   "execution_count": 56,
   "id": "ff0c7c57",
   "metadata": {},
   "outputs": [
    {
     "data": {
      "text/plain": [
       "SVC(C=0.6, gamma=0.03)"
      ]
     },
     "execution_count": 56,
     "metadata": {},
     "output_type": "execute_result"
    }
   ],
   "source": [
    "svc_final=SVC(gamma=0.03, C=0.6)\n",
    "svc_final.fit(df_scaled_train_x, df_train_y)"
   ]
  },
  {
   "cell_type": "markdown",
   "id": "47f4f06a",
   "metadata": {},
   "source": [
    "### 최종 모델 성능 평가"
   ]
  },
  {
   "cell_type": "code",
   "execution_count": 57,
   "id": "a3aa129c",
   "metadata": {},
   "outputs": [
    {
     "name": "stdout",
     "output_type": "stream",
     "text": [
      "Train Data Accuracy : 0.672\n",
      "Test Data Accuracy : 0.656\n"
     ]
    }
   ],
   "source": [
    "# 모델 정확도\n",
    "print(\"Train Data Accuracy :\", svc_final.score(df_scaled_train_x, df_train_y).round(3))\n",
    "print(\"Test Data Accuracy :\", svc_final.score(df_scaled_test_x, df_test_y).round(3))"
   ]
  },
  {
   "cell_type": "markdown",
   "id": "321752a5",
   "metadata": {},
   "source": [
    "최종 모델은 train data에서 67.2%의 정확도를 보이며, test data에서는 65.6%의 정확도를 보인다. 처음보다 train data의 성능은 조금 감소하였지만 test data의 성능은 오히려 향상되었고 train data와 test data사이에 1%정도의 정확도 차이를 보이며 과대적합 문제를 해결하였음을 알 수 있다."
   ]
  },
  {
   "cell_type": "markdown",
   "id": "1c5136fd",
   "metadata": {},
   "source": [
    "### 최종 모델을 이용한 분류 예측"
   ]
  },
  {
   "cell_type": "code",
   "execution_count": 58,
   "id": "2f3a1210",
   "metadata": {},
   "outputs": [
    {
     "name": "stdout",
     "output_type": "stream",
     "text": [
      "Confusion Matrix :\n",
      "[[ 0 44]\n",
      " [ 0 84]]\n"
     ]
    }
   ],
   "source": [
    "# 목표범수 예측\n",
    "y_pred=svc_final.predict(df_scaled_test_x)\n",
    "\n",
    "# Confusion matrix\n",
    "print(\"Confusion Matrix :\\n{}\".format(confusion_matrix(df_test_y, y_pred)))"
   ]
  },
  {
   "attachments": {
    "%EA%B7%B8%EB%A6%BC3.png": {
     "image/png": "[encoded data removed]"
    }
   },
   "cell_type": "markdown",
   "id": "be58f150",
   "metadata": {},
   "source": [
    "[Confusion Matrix]\n",
    "![%EA%B7%B8%EB%A6%BC3.png](attachment:%EA%B7%B8%EB%A6%BC3.png)"
   ]
  },
  {
   "cell_type": "markdown",
   "id": "b0df71c3",
   "metadata": {},
   "source": [
    "이 때, 0은 양성 data, 1은 음성 data를 의미함"
   ]
  },
  {
   "cell_type": "markdown",
   "id": "f3ee0605",
   "metadata": {},
   "source": [
    "최종 모델 확인 결과, 유방암 데이터 셋을 SVM을 통해 음성,양성을 분류하였을 때 test data의 성능은 65.6%인 것으로 나타났다.\n",
    "그러나 이 수치는 test data 전체 128개를 모두 음성으로 분류함으로써 나타나는 수치였다. \n",
    "따라서 실제로 음성인 것을 양성으로 판단하는 일은 없었으나 실제로는 양성인 데이터조차 모두 음성으로 판단하였기 때문에 오분류율이 34.3%에 달하는 것으로 나타난다. 이는 심각한 문제이며 서포트 벡터 머신 대신 랜덤포레스트 모델로 음성/양성을 분류하는 것이 더 적절해보인다. "
   ]
  }
 ],
 "metadata": {
  "kernelspec": {
   "display_name": "Python 3 (ipykernel)",
   "language": "python",
   "name": "python3"
  },
  "language_info": {
   "codemirror_mode": {
    "name": "ipython",
    "version": 3
   },
   "file_extension": ".py",
   "mimetype": "text/x-python",
   "name": "python",
   "nbconvert_exporter": "python",
   "pygments_lexer": "ipython3",
   "version": "3.9.12"
  }
 },
 "nbformat": 4,
 "nbformat_minor": 5
}
