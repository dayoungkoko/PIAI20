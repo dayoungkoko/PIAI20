{
 "cells": [
  {
   "cell_type": "markdown",
   "id": "c548b989",
   "metadata": {},
   "source": [
    "# 의사결정나무_분류"
   ]
  },
  {
   "cell_type": "code",
   "execution_count": 93,
   "id": "c1b38739",
   "metadata": {},
   "outputs": [],
   "source": [
    "import pandas as pd\n",
    "import matplotlib.pyplot as plt\n",
    "import matplotlib\n",
    "from sklearn.tree import export_graphviz\n",
    "import graphviz\n",
    "from sklearn.model_selection import train_test_split\n",
    "from sklearn.tree import DecisionTreeClassifier\n",
    "from sklearn.model_selection import GridSearchCV\n",
    "from sklearn.metrics import accuracy_score, f1_score\n",
    "from sklearn.metrics import confusion_matrix, classification_report"
   ]
  },
  {
   "cell_type": "code",
   "execution_count": 94,
   "id": "06c1f4df",
   "metadata": {},
   "outputs": [],
   "source": [
    "import matplotlib as mpl\n",
    "\n",
    "# 유니코드 깨짐현상 해결\n",
    "mpl.rcParams['axes.unicode_minus'] = False\n",
    "\n",
    "# 나눔고딕 폰트 적용\n",
    "plt.rcParams['font.family']='NanumGothic'"
   ]
  },
  {
   "cell_type": "markdown",
   "id": "5a2366f0",
   "metadata": {},
   "source": [
    "## 데이터 구성하기"
   ]
  },
  {
   "cell_type": "code",
   "execution_count": 95,
   "id": "957c2b67",
   "metadata": {
    "scrolled": true
   },
   "outputs": [
    {
     "data": {
      "text/html": [
       "<div>\n",
       "<style scoped>\n",
       "    .dataframe tbody tr th:only-of-type {\n",
       "        vertical-align: middle;\n",
       "    }\n",
       "\n",
       "    .dataframe tbody tr th {\n",
       "        vertical-align: top;\n",
       "    }\n",
       "\n",
       "    .dataframe thead th {\n",
       "        text-align: right;\n",
       "    }\n",
       "</style>\n",
       "<table border=\"1\" class=\"dataframe\">\n",
       "  <thead>\n",
       "    <tr style=\"text-align: right;\">\n",
       "      <th></th>\n",
       "      <th>diagnosis</th>\n",
       "      <th>mean_radius</th>\n",
       "      <th>mean_texture</th>\n",
       "      <th>mean_perimeter</th>\n",
       "      <th>mean_area</th>\n",
       "      <th>mean_smoothness</th>\n",
       "      <th>mean_compactness</th>\n",
       "      <th>mean_concavity</th>\n",
       "      <th>mean_concave_points</th>\n",
       "      <th>mean_symmetry</th>\n",
       "      <th>...</th>\n",
       "      <th>worst_radius</th>\n",
       "      <th>worst_texture</th>\n",
       "      <th>worst_perimeter</th>\n",
       "      <th>worst_area</th>\n",
       "      <th>worst_smoothness</th>\n",
       "      <th>worst_compactness</th>\n",
       "      <th>worst_concavity</th>\n",
       "      <th>worst_concave_points</th>\n",
       "      <th>worst_symmetry</th>\n",
       "      <th>worst_fractal_dimension</th>\n",
       "    </tr>\n",
       "  </thead>\n",
       "  <tbody>\n",
       "    <tr>\n",
       "      <th>0</th>\n",
       "      <td>음성</td>\n",
       "      <td>15.12</td>\n",
       "      <td>16.68</td>\n",
       "      <td>98.78</td>\n",
       "      <td>716.6</td>\n",
       "      <td>0.08876</td>\n",
       "      <td>0.09588</td>\n",
       "      <td>0.07550</td>\n",
       "      <td>0.04079</td>\n",
       "      <td>0.1594</td>\n",
       "      <td>...</td>\n",
       "      <td>17.77</td>\n",
       "      <td>20.24</td>\n",
       "      <td>117.70</td>\n",
       "      <td>989.5</td>\n",
       "      <td>0.14910</td>\n",
       "      <td>0.3331</td>\n",
       "      <td>0.3327</td>\n",
       "      <td>0.12520</td>\n",
       "      <td>0.3415</td>\n",
       "      <td>0.09740</td>\n",
       "    </tr>\n",
       "    <tr>\n",
       "      <th>1</th>\n",
       "      <td>양성</td>\n",
       "      <td>10.80</td>\n",
       "      <td>9.71</td>\n",
       "      <td>68.77</td>\n",
       "      <td>357.6</td>\n",
       "      <td>0.09594</td>\n",
       "      <td>0.05736</td>\n",
       "      <td>0.02531</td>\n",
       "      <td>0.01698</td>\n",
       "      <td>0.1381</td>\n",
       "      <td>...</td>\n",
       "      <td>11.60</td>\n",
       "      <td>12.02</td>\n",
       "      <td>73.66</td>\n",
       "      <td>414.0</td>\n",
       "      <td>0.14360</td>\n",
       "      <td>0.1257</td>\n",
       "      <td>0.1047</td>\n",
       "      <td>0.04603</td>\n",
       "      <td>0.2090</td>\n",
       "      <td>0.07699</td>\n",
       "    </tr>\n",
       "    <tr>\n",
       "      <th>2</th>\n",
       "      <td>음성</td>\n",
       "      <td>18.31</td>\n",
       "      <td>18.58</td>\n",
       "      <td>118.60</td>\n",
       "      <td>1041.0</td>\n",
       "      <td>0.08588</td>\n",
       "      <td>0.08468</td>\n",
       "      <td>0.08169</td>\n",
       "      <td>0.05814</td>\n",
       "      <td>0.1621</td>\n",
       "      <td>...</td>\n",
       "      <td>21.31</td>\n",
       "      <td>26.36</td>\n",
       "      <td>139.20</td>\n",
       "      <td>1410.0</td>\n",
       "      <td>0.12340</td>\n",
       "      <td>0.2445</td>\n",
       "      <td>0.3538</td>\n",
       "      <td>0.15710</td>\n",
       "      <td>0.3206</td>\n",
       "      <td>0.06938</td>\n",
       "    </tr>\n",
       "    <tr>\n",
       "      <th>3</th>\n",
       "      <td>양성</td>\n",
       "      <td>14.92</td>\n",
       "      <td>14.93</td>\n",
       "      <td>96.45</td>\n",
       "      <td>686.9</td>\n",
       "      <td>0.08098</td>\n",
       "      <td>0.08549</td>\n",
       "      <td>0.05539</td>\n",
       "      <td>0.03221</td>\n",
       "      <td>0.1687</td>\n",
       "      <td>...</td>\n",
       "      <td>17.18</td>\n",
       "      <td>18.22</td>\n",
       "      <td>112.00</td>\n",
       "      <td>906.6</td>\n",
       "      <td>0.10650</td>\n",
       "      <td>0.2791</td>\n",
       "      <td>0.3151</td>\n",
       "      <td>0.11470</td>\n",
       "      <td>0.2688</td>\n",
       "      <td>0.08273</td>\n",
       "    </tr>\n",
       "    <tr>\n",
       "      <th>4</th>\n",
       "      <td>양성</td>\n",
       "      <td>12.89</td>\n",
       "      <td>13.12</td>\n",
       "      <td>81.89</td>\n",
       "      <td>515.9</td>\n",
       "      <td>0.06955</td>\n",
       "      <td>0.03729</td>\n",
       "      <td>0.02260</td>\n",
       "      <td>0.01171</td>\n",
       "      <td>0.1337</td>\n",
       "      <td>...</td>\n",
       "      <td>13.62</td>\n",
       "      <td>15.54</td>\n",
       "      <td>87.40</td>\n",
       "      <td>577.0</td>\n",
       "      <td>0.09616</td>\n",
       "      <td>0.1147</td>\n",
       "      <td>0.1186</td>\n",
       "      <td>0.05366</td>\n",
       "      <td>0.2309</td>\n",
       "      <td>0.06915</td>\n",
       "    </tr>\n",
       "  </tbody>\n",
       "</table>\n",
       "<p>5 rows × 31 columns</p>\n",
       "</div>"
      ],
      "text/plain": [
       "  diagnosis  mean_radius  mean_texture  mean_perimeter  mean_area  \\\n",
       "0        음성        15.12         16.68           98.78      716.6   \n",
       "1        양성        10.80          9.71           68.77      357.6   \n",
       "2        음성        18.31         18.58          118.60     1041.0   \n",
       "3        양성        14.92         14.93           96.45      686.9   \n",
       "4        양성        12.89         13.12           81.89      515.9   \n",
       "\n",
       "   mean_smoothness  mean_compactness  mean_concavity  mean_concave_points  \\\n",
       "0          0.08876           0.09588         0.07550              0.04079   \n",
       "1          0.09594           0.05736         0.02531              0.01698   \n",
       "2          0.08588           0.08468         0.08169              0.05814   \n",
       "3          0.08098           0.08549         0.05539              0.03221   \n",
       "4          0.06955           0.03729         0.02260              0.01171   \n",
       "\n",
       "   mean_symmetry  ...  worst_radius  worst_texture  worst_perimeter  \\\n",
       "0         0.1594  ...         17.77          20.24           117.70   \n",
       "1         0.1381  ...         11.60          12.02            73.66   \n",
       "2         0.1621  ...         21.31          26.36           139.20   \n",
       "3         0.1687  ...         17.18          18.22           112.00   \n",
       "4         0.1337  ...         13.62          15.54            87.40   \n",
       "\n",
       "   worst_area  worst_smoothness  worst_compactness  worst_concavity  \\\n",
       "0       989.5           0.14910             0.3331           0.3327   \n",
       "1       414.0           0.14360             0.1257           0.1047   \n",
       "2      1410.0           0.12340             0.2445           0.3538   \n",
       "3       906.6           0.10650             0.2791           0.3151   \n",
       "4       577.0           0.09616             0.1147           0.1186   \n",
       "\n",
       "   worst_concave_points  worst_symmetry  worst_fractal_dimension  \n",
       "0               0.12520          0.3415                  0.09740  \n",
       "1               0.04603          0.2090                  0.07699  \n",
       "2               0.15710          0.3206                  0.06938  \n",
       "3               0.11470          0.2688                  0.08273  \n",
       "4               0.05366          0.2309                  0.06915  \n",
       "\n",
       "[5 rows x 31 columns]"
      ]
     },
     "execution_count": 95,
     "metadata": {},
     "output_type": "execute_result"
    }
   ],
   "source": [
    "df_raw=pd.read_csv(\"/home/piai/Big Data/2. Big Data 분석/유방암.csv\", encoding='euc-kr')\n",
    "df_raw.head()"
   ]
  },
  {
   "cell_type": "markdown",
   "id": "0f8da9f5",
   "metadata": {},
   "source": [
    "### 데이터 개수 확인"
   ]
  },
  {
   "cell_type": "code",
   "execution_count": 11,
   "id": "0891898e",
   "metadata": {
    "scrolled": true
   },
   "outputs": [
    {
     "data": {
      "text/plain": [
       "(320, 31)"
      ]
     },
     "execution_count": 11,
     "metadata": {},
     "output_type": "execute_result"
    }
   ],
   "source": [
    "df_raw.shape"
   ]
  },
  {
   "cell_type": "markdown",
   "id": "2961965c",
   "metadata": {},
   "source": [
    "변수 : 31개, 자료수 320개 "
   ]
  },
  {
   "cell_type": "markdown",
   "id": "cce8354c",
   "metadata": {},
   "source": [
    "### 데이터 타입 확인"
   ]
  },
  {
   "cell_type": "code",
   "execution_count": 12,
   "id": "b320a8d3",
   "metadata": {},
   "outputs": [
    {
     "name": "stdout",
     "output_type": "stream",
     "text": [
      "<class 'pandas.core.frame.DataFrame'>\n",
      "RangeIndex: 320 entries, 0 to 319\n",
      "Data columns (total 31 columns):\n",
      " #   Column                   Non-Null Count  Dtype  \n",
      "---  ------                   --------------  -----  \n",
      " 0   diagnosis                320 non-null    object \n",
      " 1   mean_radius              320 non-null    float64\n",
      " 2   mean_texture             320 non-null    float64\n",
      " 3   mean_perimeter           320 non-null    float64\n",
      " 4   mean_area                320 non-null    float64\n",
      " 5   mean_smoothness          320 non-null    float64\n",
      " 6   mean_compactness         320 non-null    float64\n",
      " 7   mean_concavity           320 non-null    float64\n",
      " 8   mean_concave_points      320 non-null    float64\n",
      " 9   mean_symmetry            320 non-null    float64\n",
      " 10  mean_fractal_dimension   320 non-null    float64\n",
      " 11  radius_error             320 non-null    float64\n",
      " 12  texture_error            320 non-null    float64\n",
      " 13  perimeter_error          320 non-null    float64\n",
      " 14  area_error               320 non-null    float64\n",
      " 15  smoothness_error         320 non-null    float64\n",
      " 16  compactness_error        320 non-null    float64\n",
      " 17  concavity_error          320 non-null    float64\n",
      " 18  concave_points_error     320 non-null    float64\n",
      " 19  symmetry_error           320 non-null    float64\n",
      " 20  fractal_dimension_error  320 non-null    float64\n",
      " 21  worst_radius             320 non-null    float64\n",
      " 22  worst_texture            320 non-null    float64\n",
      " 23  worst_perimeter          320 non-null    float64\n",
      " 24  worst_area               320 non-null    float64\n",
      " 25  worst_smoothness         320 non-null    float64\n",
      " 26  worst_compactness        320 non-null    float64\n",
      " 27  worst_concavity          320 non-null    float64\n",
      " 28  worst_concave_points     320 non-null    float64\n",
      " 29  worst_symmetry           320 non-null    float64\n",
      " 30  worst_fractal_dimension  320 non-null    float64\n",
      "dtypes: float64(30), object(1)\n",
      "memory usage: 77.6+ KB\n"
     ]
    }
   ],
   "source": [
    "df_raw.info()"
   ]
  },
  {
   "cell_type": "markdown",
   "id": "ea8b2c97",
   "metadata": {},
   "source": [
    "목표변수 diagnosis는 범주형 변수이므로 object type\n",
    "그 외로는 모두 연속형 변수이므로 float64 type 확인"
   ]
  },
  {
   "cell_type": "markdown",
   "id": "3f81a91e",
   "metadata": {},
   "source": [
    "### 결측치 처리"
   ]
  },
  {
   "cell_type": "code",
   "execution_count": 8,
   "id": "cf258ce3",
   "metadata": {},
   "outputs": [
    {
     "data": {
      "text/plain": [
       "diagnosis                  0\n",
       "mean_radius                0\n",
       "mean_texture               0\n",
       "mean_perimeter             0\n",
       "mean_area                  0\n",
       "mean_smoothness            0\n",
       "mean_compactness           0\n",
       "mean_concavity             0\n",
       "mean_concave_points        0\n",
       "mean_symmetry              0\n",
       "mean_fractal_dimension     0\n",
       "radius_error               0\n",
       "texture_error              0\n",
       "perimeter_error            0\n",
       "area_error                 0\n",
       "smoothness_error           0\n",
       "compactness_error          0\n",
       "concavity_error            0\n",
       "concave_points_error       0\n",
       "symmetry_error             0\n",
       "fractal_dimension_error    0\n",
       "worst_radius               0\n",
       "worst_texture              0\n",
       "worst_perimeter            0\n",
       "worst_area                 0\n",
       "worst_smoothness           0\n",
       "worst_compactness          0\n",
       "worst_concavity            0\n",
       "worst_concave_points       0\n",
       "worst_symmetry             0\n",
       "worst_fractal_dimension    0\n",
       "dtype: int64"
      ]
     },
     "execution_count": 8,
     "metadata": {},
     "output_type": "execute_result"
    }
   ],
   "source": [
    "df_raw.isnull().sum()"
   ]
  },
  {
   "cell_type": "markdown",
   "id": "89328a58",
   "metadata": {},
   "source": [
    "결측치 없음. 그대로 진행"
   ]
  },
  {
   "cell_type": "markdown",
   "id": "9d0caf50",
   "metadata": {},
   "source": [
    "### 기술 통계량 확인"
   ]
  },
  {
   "cell_type": "code",
   "execution_count": 10,
   "id": "24caeeb5",
   "metadata": {},
   "outputs": [
    {
     "data": {
      "text/html": [
       "<div>\n",
       "<style scoped>\n",
       "    .dataframe tbody tr th:only-of-type {\n",
       "        vertical-align: middle;\n",
       "    }\n",
       "\n",
       "    .dataframe tbody tr th {\n",
       "        vertical-align: top;\n",
       "    }\n",
       "\n",
       "    .dataframe thead th {\n",
       "        text-align: right;\n",
       "    }\n",
       "</style>\n",
       "<table border=\"1\" class=\"dataframe\">\n",
       "  <thead>\n",
       "    <tr style=\"text-align: right;\">\n",
       "      <th></th>\n",
       "      <th>mean_radius</th>\n",
       "      <th>mean_texture</th>\n",
       "      <th>mean_perimeter</th>\n",
       "      <th>mean_area</th>\n",
       "      <th>mean_smoothness</th>\n",
       "      <th>mean_compactness</th>\n",
       "      <th>mean_concavity</th>\n",
       "      <th>mean_concave_points</th>\n",
       "      <th>mean_symmetry</th>\n",
       "      <th>mean_fractal_dimension</th>\n",
       "      <th>...</th>\n",
       "      <th>worst_radius</th>\n",
       "      <th>worst_texture</th>\n",
       "      <th>worst_perimeter</th>\n",
       "      <th>worst_area</th>\n",
       "      <th>worst_smoothness</th>\n",
       "      <th>worst_compactness</th>\n",
       "      <th>worst_concavity</th>\n",
       "      <th>worst_concave_points</th>\n",
       "      <th>worst_symmetry</th>\n",
       "      <th>worst_fractal_dimension</th>\n",
       "    </tr>\n",
       "  </thead>\n",
       "  <tbody>\n",
       "    <tr>\n",
       "      <th>count</th>\n",
       "      <td>320.000</td>\n",
       "      <td>320.000</td>\n",
       "      <td>320.000</td>\n",
       "      <td>320.000</td>\n",
       "      <td>320.000</td>\n",
       "      <td>320.000</td>\n",
       "      <td>320.000</td>\n",
       "      <td>320.000</td>\n",
       "      <td>320.000</td>\n",
       "      <td>320.000</td>\n",
       "      <td>...</td>\n",
       "      <td>320.000</td>\n",
       "      <td>320.000</td>\n",
       "      <td>320.000</td>\n",
       "      <td>320.000</td>\n",
       "      <td>320.000</td>\n",
       "      <td>320.000</td>\n",
       "      <td>320.000</td>\n",
       "      <td>320.000</td>\n",
       "      <td>320.000</td>\n",
       "      <td>320.000</td>\n",
       "    </tr>\n",
       "    <tr>\n",
       "      <th>mean</th>\n",
       "      <td>15.710</td>\n",
       "      <td>20.323</td>\n",
       "      <td>103.050</td>\n",
       "      <td>807.736</td>\n",
       "      <td>0.099</td>\n",
       "      <td>0.123</td>\n",
       "      <td>0.122</td>\n",
       "      <td>0.067</td>\n",
       "      <td>0.187</td>\n",
       "      <td>0.063</td>\n",
       "      <td>...</td>\n",
       "      <td>18.542</td>\n",
       "      <td>27.226</td>\n",
       "      <td>123.222</td>\n",
       "      <td>1133.463</td>\n",
       "      <td>0.138</td>\n",
       "      <td>0.309</td>\n",
       "      <td>0.353</td>\n",
       "      <td>0.145</td>\n",
       "      <td>0.305</td>\n",
       "      <td>0.087</td>\n",
       "    </tr>\n",
       "    <tr>\n",
       "      <th>std</th>\n",
       "      <td>3.746</td>\n",
       "      <td>4.151</td>\n",
       "      <td>25.836</td>\n",
       "      <td>391.969</td>\n",
       "      <td>0.014</td>\n",
       "      <td>0.057</td>\n",
       "      <td>0.085</td>\n",
       "      <td>0.042</td>\n",
       "      <td>0.027</td>\n",
       "      <td>0.007</td>\n",
       "      <td>...</td>\n",
       "      <td>5.182</td>\n",
       "      <td>6.050</td>\n",
       "      <td>35.960</td>\n",
       "      <td>640.980</td>\n",
       "      <td>0.023</td>\n",
       "      <td>0.175</td>\n",
       "      <td>0.214</td>\n",
       "      <td>0.067</td>\n",
       "      <td>0.069</td>\n",
       "      <td>0.020</td>\n",
       "    </tr>\n",
       "    <tr>\n",
       "      <th>min</th>\n",
       "      <td>7.691</td>\n",
       "      <td>9.710</td>\n",
       "      <td>47.920</td>\n",
       "      <td>170.400</td>\n",
       "      <td>0.053</td>\n",
       "      <td>0.027</td>\n",
       "      <td>0.000</td>\n",
       "      <td>0.000</td>\n",
       "      <td>0.127</td>\n",
       "      <td>0.050</td>\n",
       "      <td>...</td>\n",
       "      <td>8.678</td>\n",
       "      <td>12.020</td>\n",
       "      <td>54.490</td>\n",
       "      <td>223.600</td>\n",
       "      <td>0.086</td>\n",
       "      <td>0.050</td>\n",
       "      <td>0.000</td>\n",
       "      <td>0.000</td>\n",
       "      <td>0.156</td>\n",
       "      <td>0.055</td>\n",
       "    </tr>\n",
       "    <tr>\n",
       "      <th>25%</th>\n",
       "      <td>13.050</td>\n",
       "      <td>17.460</td>\n",
       "      <td>84.845</td>\n",
       "      <td>523.900</td>\n",
       "      <td>0.090</td>\n",
       "      <td>0.081</td>\n",
       "      <td>0.053</td>\n",
       "      <td>0.030</td>\n",
       "      <td>0.167</td>\n",
       "      <td>0.057</td>\n",
       "      <td>...</td>\n",
       "      <td>14.657</td>\n",
       "      <td>23.275</td>\n",
       "      <td>95.525</td>\n",
       "      <td>653.525</td>\n",
       "      <td>0.123</td>\n",
       "      <td>0.180</td>\n",
       "      <td>0.183</td>\n",
       "      <td>0.091</td>\n",
       "      <td>0.259</td>\n",
       "      <td>0.073</td>\n",
       "    </tr>\n",
       "    <tr>\n",
       "      <th>50%</th>\n",
       "      <td>15.125</td>\n",
       "      <td>20.215</td>\n",
       "      <td>100.100</td>\n",
       "      <td>713.050</td>\n",
       "      <td>0.099</td>\n",
       "      <td>0.115</td>\n",
       "      <td>0.111</td>\n",
       "      <td>0.065</td>\n",
       "      <td>0.185</td>\n",
       "      <td>0.061</td>\n",
       "      <td>...</td>\n",
       "      <td>17.730</td>\n",
       "      <td>26.880</td>\n",
       "      <td>118.850</td>\n",
       "      <td>969.200</td>\n",
       "      <td>0.138</td>\n",
       "      <td>0.277</td>\n",
       "      <td>0.340</td>\n",
       "      <td>0.153</td>\n",
       "      <td>0.296</td>\n",
       "      <td>0.083</td>\n",
       "    </tr>\n",
       "    <tr>\n",
       "      <th>75%</th>\n",
       "      <td>18.520</td>\n",
       "      <td>22.500</td>\n",
       "      <td>121.550</td>\n",
       "      <td>1075.250</td>\n",
       "      <td>0.108</td>\n",
       "      <td>0.156</td>\n",
       "      <td>0.170</td>\n",
       "      <td>0.092</td>\n",
       "      <td>0.203</td>\n",
       "      <td>0.067</td>\n",
       "      <td>...</td>\n",
       "      <td>22.420</td>\n",
       "      <td>30.938</td>\n",
       "      <td>148.850</td>\n",
       "      <td>1538.500</td>\n",
       "      <td>0.151</td>\n",
       "      <td>0.406</td>\n",
       "      <td>0.484</td>\n",
       "      <td>0.197</td>\n",
       "      <td>0.328</td>\n",
       "      <td>0.098</td>\n",
       "    </tr>\n",
       "    <tr>\n",
       "      <th>max</th>\n",
       "      <td>28.110</td>\n",
       "      <td>39.280</td>\n",
       "      <td>188.500</td>\n",
       "      <td>2501.000</td>\n",
       "      <td>0.163</td>\n",
       "      <td>0.345</td>\n",
       "      <td>0.427</td>\n",
       "      <td>0.201</td>\n",
       "      <td>0.304</td>\n",
       "      <td>0.097</td>\n",
       "      <td>...</td>\n",
       "      <td>36.040</td>\n",
       "      <td>49.540</td>\n",
       "      <td>251.200</td>\n",
       "      <td>4254.000</td>\n",
       "      <td>0.223</td>\n",
       "      <td>1.058</td>\n",
       "      <td>1.170</td>\n",
       "      <td>0.291</td>\n",
       "      <td>0.664</td>\n",
       "      <td>0.208</td>\n",
       "    </tr>\n",
       "  </tbody>\n",
       "</table>\n",
       "<p>8 rows × 30 columns</p>\n",
       "</div>"
      ],
      "text/plain": [
       "       mean_radius  mean_texture  mean_perimeter  mean_area  mean_smoothness  \\\n",
       "count      320.000       320.000         320.000    320.000          320.000   \n",
       "mean        15.710        20.323         103.050    807.736            0.099   \n",
       "std          3.746         4.151          25.836    391.969            0.014   \n",
       "min          7.691         9.710          47.920    170.400            0.053   \n",
       "25%         13.050        17.460          84.845    523.900            0.090   \n",
       "50%         15.125        20.215         100.100    713.050            0.099   \n",
       "75%         18.520        22.500         121.550   1075.250            0.108   \n",
       "max         28.110        39.280         188.500   2501.000            0.163   \n",
       "\n",
       "       mean_compactness  mean_concavity  mean_concave_points  mean_symmetry  \\\n",
       "count           320.000         320.000              320.000        320.000   \n",
       "mean              0.123           0.122                0.067          0.187   \n",
       "std               0.057           0.085                0.042          0.027   \n",
       "min               0.027           0.000                0.000          0.127   \n",
       "25%               0.081           0.053                0.030          0.167   \n",
       "50%               0.115           0.111                0.065          0.185   \n",
       "75%               0.156           0.170                0.092          0.203   \n",
       "max               0.345           0.427                0.201          0.304   \n",
       "\n",
       "       mean_fractal_dimension  ...  worst_radius  worst_texture  \\\n",
       "count                 320.000  ...       320.000        320.000   \n",
       "mean                    0.063  ...        18.542         27.226   \n",
       "std                     0.007  ...         5.182          6.050   \n",
       "min                     0.050  ...         8.678         12.020   \n",
       "25%                     0.057  ...        14.657         23.275   \n",
       "50%                     0.061  ...        17.730         26.880   \n",
       "75%                     0.067  ...        22.420         30.938   \n",
       "max                     0.097  ...        36.040         49.540   \n",
       "\n",
       "       worst_perimeter  worst_area  worst_smoothness  worst_compactness  \\\n",
       "count          320.000     320.000           320.000            320.000   \n",
       "mean           123.222    1133.463             0.138              0.309   \n",
       "std             35.960     640.980             0.023              0.175   \n",
       "min             54.490     223.600             0.086              0.050   \n",
       "25%             95.525     653.525             0.123              0.180   \n",
       "50%            118.850     969.200             0.138              0.277   \n",
       "75%            148.850    1538.500             0.151              0.406   \n",
       "max            251.200    4254.000             0.223              1.058   \n",
       "\n",
       "       worst_concavity  worst_concave_points  worst_symmetry  \\\n",
       "count          320.000               320.000         320.000   \n",
       "mean             0.353                 0.145           0.305   \n",
       "std              0.214                 0.067           0.069   \n",
       "min              0.000                 0.000           0.156   \n",
       "25%              0.183                 0.091           0.259   \n",
       "50%              0.340                 0.153           0.296   \n",
       "75%              0.484                 0.197           0.328   \n",
       "max              1.170                 0.291           0.664   \n",
       "\n",
       "       worst_fractal_dimension  \n",
       "count                  320.000  \n",
       "mean                     0.087  \n",
       "std                      0.020  \n",
       "min                      0.055  \n",
       "25%                      0.073  \n",
       "50%                      0.083  \n",
       "75%                      0.098  \n",
       "max                      0.208  \n",
       "\n",
       "[8 rows x 30 columns]"
      ]
     },
     "execution_count": 10,
     "metadata": {},
     "output_type": "execute_result"
    }
   ],
   "source": [
    "df_raw.describe().round(3)"
   ]
  },
  {
   "cell_type": "markdown",
   "id": "4a4d95b7",
   "metadata": {},
   "source": [
    "### 목표변수(diagnosis), 설명변수 데이터 구성"
   ]
  },
  {
   "cell_type": "code",
   "execution_count": 97,
   "id": "1ef59582",
   "metadata": {},
   "outputs": [],
   "source": [
    "# 설명변수\n",
    "df_raw_x=df_raw.drop('diagnosis', axis=1) \n",
    "# 목표변수 (diagnosis)\n",
    "df_raw_y=df_raw['diagnosis']"
   ]
  },
  {
   "cell_type": "code",
   "execution_count": 14,
   "id": "7fac25b9",
   "metadata": {},
   "outputs": [
    {
     "data": {
      "text/plain": [
       "0    음성\n",
       "1    양성\n",
       "2    음성\n",
       "3    양성\n",
       "4    양성\n",
       "Name: diagnosis, dtype: object"
      ]
     },
     "execution_count": 14,
     "metadata": {},
     "output_type": "execute_result"
    }
   ],
   "source": [
    "df_raw_y.head()"
   ]
  },
  {
   "cell_type": "code",
   "execution_count": 15,
   "id": "dbb9e831",
   "metadata": {},
   "outputs": [
    {
     "data": {
      "text/html": [
       "<div>\n",
       "<style scoped>\n",
       "    .dataframe tbody tr th:only-of-type {\n",
       "        vertical-align: middle;\n",
       "    }\n",
       "\n",
       "    .dataframe tbody tr th {\n",
       "        vertical-align: top;\n",
       "    }\n",
       "\n",
       "    .dataframe thead th {\n",
       "        text-align: right;\n",
       "    }\n",
       "</style>\n",
       "<table border=\"1\" class=\"dataframe\">\n",
       "  <thead>\n",
       "    <tr style=\"text-align: right;\">\n",
       "      <th></th>\n",
       "      <th>mean_radius</th>\n",
       "      <th>mean_texture</th>\n",
       "      <th>mean_perimeter</th>\n",
       "      <th>mean_area</th>\n",
       "      <th>mean_smoothness</th>\n",
       "      <th>mean_compactness</th>\n",
       "      <th>mean_concavity</th>\n",
       "      <th>mean_concave_points</th>\n",
       "      <th>mean_symmetry</th>\n",
       "      <th>mean_fractal_dimension</th>\n",
       "      <th>...</th>\n",
       "      <th>worst_radius</th>\n",
       "      <th>worst_texture</th>\n",
       "      <th>worst_perimeter</th>\n",
       "      <th>worst_area</th>\n",
       "      <th>worst_smoothness</th>\n",
       "      <th>worst_compactness</th>\n",
       "      <th>worst_concavity</th>\n",
       "      <th>worst_concave_points</th>\n",
       "      <th>worst_symmetry</th>\n",
       "      <th>worst_fractal_dimension</th>\n",
       "    </tr>\n",
       "  </thead>\n",
       "  <tbody>\n",
       "    <tr>\n",
       "      <th>0</th>\n",
       "      <td>15.12</td>\n",
       "      <td>16.68</td>\n",
       "      <td>98.78</td>\n",
       "      <td>716.6</td>\n",
       "      <td>0.08876</td>\n",
       "      <td>0.09588</td>\n",
       "      <td>0.07550</td>\n",
       "      <td>0.04079</td>\n",
       "      <td>0.1594</td>\n",
       "      <td>0.05986</td>\n",
       "      <td>...</td>\n",
       "      <td>17.77</td>\n",
       "      <td>20.24</td>\n",
       "      <td>117.70</td>\n",
       "      <td>989.5</td>\n",
       "      <td>0.14910</td>\n",
       "      <td>0.3331</td>\n",
       "      <td>0.3327</td>\n",
       "      <td>0.12520</td>\n",
       "      <td>0.3415</td>\n",
       "      <td>0.09740</td>\n",
       "    </tr>\n",
       "    <tr>\n",
       "      <th>1</th>\n",
       "      <td>10.80</td>\n",
       "      <td>9.71</td>\n",
       "      <td>68.77</td>\n",
       "      <td>357.6</td>\n",
       "      <td>0.09594</td>\n",
       "      <td>0.05736</td>\n",
       "      <td>0.02531</td>\n",
       "      <td>0.01698</td>\n",
       "      <td>0.1381</td>\n",
       "      <td>0.06400</td>\n",
       "      <td>...</td>\n",
       "      <td>11.60</td>\n",
       "      <td>12.02</td>\n",
       "      <td>73.66</td>\n",
       "      <td>414.0</td>\n",
       "      <td>0.14360</td>\n",
       "      <td>0.1257</td>\n",
       "      <td>0.1047</td>\n",
       "      <td>0.04603</td>\n",
       "      <td>0.2090</td>\n",
       "      <td>0.07699</td>\n",
       "    </tr>\n",
       "    <tr>\n",
       "      <th>2</th>\n",
       "      <td>18.31</td>\n",
       "      <td>18.58</td>\n",
       "      <td>118.60</td>\n",
       "      <td>1041.0</td>\n",
       "      <td>0.08588</td>\n",
       "      <td>0.08468</td>\n",
       "      <td>0.08169</td>\n",
       "      <td>0.05814</td>\n",
       "      <td>0.1621</td>\n",
       "      <td>0.05425</td>\n",
       "      <td>...</td>\n",
       "      <td>21.31</td>\n",
       "      <td>26.36</td>\n",
       "      <td>139.20</td>\n",
       "      <td>1410.0</td>\n",
       "      <td>0.12340</td>\n",
       "      <td>0.2445</td>\n",
       "      <td>0.3538</td>\n",
       "      <td>0.15710</td>\n",
       "      <td>0.3206</td>\n",
       "      <td>0.06938</td>\n",
       "    </tr>\n",
       "    <tr>\n",
       "      <th>3</th>\n",
       "      <td>14.92</td>\n",
       "      <td>14.93</td>\n",
       "      <td>96.45</td>\n",
       "      <td>686.9</td>\n",
       "      <td>0.08098</td>\n",
       "      <td>0.08549</td>\n",
       "      <td>0.05539</td>\n",
       "      <td>0.03221</td>\n",
       "      <td>0.1687</td>\n",
       "      <td>0.05669</td>\n",
       "      <td>...</td>\n",
       "      <td>17.18</td>\n",
       "      <td>18.22</td>\n",
       "      <td>112.00</td>\n",
       "      <td>906.6</td>\n",
       "      <td>0.10650</td>\n",
       "      <td>0.2791</td>\n",
       "      <td>0.3151</td>\n",
       "      <td>0.11470</td>\n",
       "      <td>0.2688</td>\n",
       "      <td>0.08273</td>\n",
       "    </tr>\n",
       "    <tr>\n",
       "      <th>4</th>\n",
       "      <td>12.89</td>\n",
       "      <td>13.12</td>\n",
       "      <td>81.89</td>\n",
       "      <td>515.9</td>\n",
       "      <td>0.06955</td>\n",
       "      <td>0.03729</td>\n",
       "      <td>0.02260</td>\n",
       "      <td>0.01171</td>\n",
       "      <td>0.1337</td>\n",
       "      <td>0.05581</td>\n",
       "      <td>...</td>\n",
       "      <td>13.62</td>\n",
       "      <td>15.54</td>\n",
       "      <td>87.40</td>\n",
       "      <td>577.0</td>\n",
       "      <td>0.09616</td>\n",
       "      <td>0.1147</td>\n",
       "      <td>0.1186</td>\n",
       "      <td>0.05366</td>\n",
       "      <td>0.2309</td>\n",
       "      <td>0.06915</td>\n",
       "    </tr>\n",
       "  </tbody>\n",
       "</table>\n",
       "<p>5 rows × 30 columns</p>\n",
       "</div>"
      ],
      "text/plain": [
       "   mean_radius  mean_texture  mean_perimeter  mean_area  mean_smoothness  \\\n",
       "0        15.12         16.68           98.78      716.6          0.08876   \n",
       "1        10.80          9.71           68.77      357.6          0.09594   \n",
       "2        18.31         18.58          118.60     1041.0          0.08588   \n",
       "3        14.92         14.93           96.45      686.9          0.08098   \n",
       "4        12.89         13.12           81.89      515.9          0.06955   \n",
       "\n",
       "   mean_compactness  mean_concavity  mean_concave_points  mean_symmetry  \\\n",
       "0           0.09588         0.07550              0.04079         0.1594   \n",
       "1           0.05736         0.02531              0.01698         0.1381   \n",
       "2           0.08468         0.08169              0.05814         0.1621   \n",
       "3           0.08549         0.05539              0.03221         0.1687   \n",
       "4           0.03729         0.02260              0.01171         0.1337   \n",
       "\n",
       "   mean_fractal_dimension  ...  worst_radius  worst_texture  worst_perimeter  \\\n",
       "0                 0.05986  ...         17.77          20.24           117.70   \n",
       "1                 0.06400  ...         11.60          12.02            73.66   \n",
       "2                 0.05425  ...         21.31          26.36           139.20   \n",
       "3                 0.05669  ...         17.18          18.22           112.00   \n",
       "4                 0.05581  ...         13.62          15.54            87.40   \n",
       "\n",
       "   worst_area  worst_smoothness  worst_compactness  worst_concavity  \\\n",
       "0       989.5           0.14910             0.3331           0.3327   \n",
       "1       414.0           0.14360             0.1257           0.1047   \n",
       "2      1410.0           0.12340             0.2445           0.3538   \n",
       "3       906.6           0.10650             0.2791           0.3151   \n",
       "4       577.0           0.09616             0.1147           0.1186   \n",
       "\n",
       "   worst_concave_points  worst_symmetry  worst_fractal_dimension  \n",
       "0               0.12520          0.3415                  0.09740  \n",
       "1               0.04603          0.2090                  0.07699  \n",
       "2               0.15710          0.3206                  0.06938  \n",
       "3               0.11470          0.2688                  0.08273  \n",
       "4               0.05366          0.2309                  0.06915  \n",
       "\n",
       "[5 rows x 30 columns]"
      ]
     },
     "execution_count": 15,
     "metadata": {},
     "output_type": "execute_result"
    }
   ],
   "source": [
    "df_raw_x.head()"
   ]
  },
  {
   "cell_type": "markdown",
   "id": "587a41da",
   "metadata": {},
   "source": [
    "### 데이터 분할 train(0.6) : test(0.4)"
   ]
  },
  {
   "cell_type": "code",
   "execution_count": 16,
   "id": "1ebe6ea4",
   "metadata": {
    "scrolled": true
   },
   "outputs": [
    {
     "name": "stdout",
     "output_type": "stream",
     "text": [
      "train data :  (192, 30)\n",
      "test data :  (128, 30)\n"
     ]
    }
   ],
   "source": [
    "df_train_x, df_test_x, df_train_y, df_test_y=train_test_split(df_raw_x, df_raw_y, test_size=0.4)\n",
    "print(\"train data : \", df_train_x.shape)\n",
    "print(\"test data : \", df_test_x.shape)"
   ]
  },
  {
   "cell_type": "markdown",
   "id": "6196355e",
   "metadata": {},
   "source": [
    "train data 총 192개, test data 총 128개로 구성됨"
   ]
  },
  {
   "cell_type": "markdown",
   "id": "620a3f51",
   "metadata": {},
   "source": [
    "### 목표변수 확인"
   ]
  },
  {
   "cell_type": "code",
   "execution_count": 65,
   "id": "602942b3",
   "metadata": {},
   "outputs": [
    {
     "data": {
      "text/plain": [
       "음성    212\n",
       "양성    108\n",
       "Name: diagnosis, dtype: int64"
      ]
     },
     "execution_count": 65,
     "metadata": {},
     "output_type": "execute_result"
    }
   ],
   "source": [
    "df_raw_y.value_counts()"
   ]
  },
  {
   "cell_type": "markdown",
   "id": "d49f7daa",
   "metadata": {},
   "source": [
    " 목표변수 전체에서 음성은 212개, 양성은 108개로 확인"
   ]
  },
  {
   "cell_type": "code",
   "execution_count": 63,
   "id": "c1840914",
   "metadata": {
    "scrolled": true
   },
   "outputs": [
    {
     "data": {
      "text/plain": [
       "음성    80\n",
       "양성    48\n",
       "Name: diagnosis, dtype: int64"
      ]
     },
     "execution_count": 63,
     "metadata": {},
     "output_type": "execute_result"
    }
   ],
   "source": [
    "df_test_y.value_counts()"
   ]
  },
  {
   "cell_type": "markdown",
   "id": "9f2bbcc2",
   "metadata": {},
   "source": [
    "목표변수 test data 중 음성은 80개, 양성은 48개 결과 확인"
   ]
  },
  {
   "cell_type": "code",
   "execution_count": null,
   "id": "4f812e64",
   "metadata": {},
   "outputs": [],
   "source": []
  },
  {
   "cell_type": "markdown",
   "id": "4e789ea4",
   "metadata": {},
   "source": [
    "## 의사결정나무 모델 생성"
   ]
  },
  {
   "cell_type": "markdown",
   "id": "4b41d8c5",
   "metadata": {},
   "source": [
    "### 기본 옵션으로 모델 생성"
   ]
  },
  {
   "cell_type": "code",
   "execution_count": 56,
   "id": "71932f59",
   "metadata": {},
   "outputs": [
    {
     "data": {
      "text/html": [
       "<style>#sk-container-id-4 {color: black;background-color: white;}#sk-container-id-4 pre{padding: 0;}#sk-container-id-4 div.sk-toggleable {background-color: white;}#sk-container-id-4 label.sk-toggleable__label {cursor: pointer;display: block;width: 100%;margin-bottom: 0;padding: 0.3em;box-sizing: border-box;text-align: center;}#sk-container-id-4 label.sk-toggleable__label-arrow:before {content: \"▸\";float: left;margin-right: 0.25em;color: #696969;}#sk-container-id-4 label.sk-toggleable__label-arrow:hover:before {color: black;}#sk-container-id-4 div.sk-estimator:hover label.sk-toggleable__label-arrow:before {color: black;}#sk-container-id-4 div.sk-toggleable__content {max-height: 0;max-width: 0;overflow: hidden;text-align: left;background-color: #f0f8ff;}#sk-container-id-4 div.sk-toggleable__content pre {margin: 0.2em;color: black;border-radius: 0.25em;background-color: #f0f8ff;}#sk-container-id-4 input.sk-toggleable__control:checked~div.sk-toggleable__content {max-height: 200px;max-width: 100%;overflow: auto;}#sk-container-id-4 input.sk-toggleable__control:checked~label.sk-toggleable__label-arrow:before {content: \"▾\";}#sk-container-id-4 div.sk-estimator input.sk-toggleable__control:checked~label.sk-toggleable__label {background-color: #d4ebff;}#sk-container-id-4 div.sk-label input.sk-toggleable__control:checked~label.sk-toggleable__label {background-color: #d4ebff;}#sk-container-id-4 input.sk-hidden--visually {border: 0;clip: rect(1px 1px 1px 1px);clip: rect(1px, 1px, 1px, 1px);height: 1px;margin: -1px;overflow: hidden;padding: 0;position: absolute;width: 1px;}#sk-container-id-4 div.sk-estimator {font-family: monospace;background-color: #f0f8ff;border: 1px dotted black;border-radius: 0.25em;box-sizing: border-box;margin-bottom: 0.5em;}#sk-container-id-4 div.sk-estimator:hover {background-color: #d4ebff;}#sk-container-id-4 div.sk-parallel-item::after {content: \"\";width: 100%;border-bottom: 1px solid gray;flex-grow: 1;}#sk-container-id-4 div.sk-label:hover label.sk-toggleable__label {background-color: #d4ebff;}#sk-container-id-4 div.sk-serial::before {content: \"\";position: absolute;border-left: 1px solid gray;box-sizing: border-box;top: 0;bottom: 0;left: 50%;z-index: 0;}#sk-container-id-4 div.sk-serial {display: flex;flex-direction: column;align-items: center;background-color: white;padding-right: 0.2em;padding-left: 0.2em;position: relative;}#sk-container-id-4 div.sk-item {position: relative;z-index: 1;}#sk-container-id-4 div.sk-parallel {display: flex;align-items: stretch;justify-content: center;background-color: white;position: relative;}#sk-container-id-4 div.sk-item::before, #sk-container-id-4 div.sk-parallel-item::before {content: \"\";position: absolute;border-left: 1px solid gray;box-sizing: border-box;top: 0;bottom: 0;left: 50%;z-index: -1;}#sk-container-id-4 div.sk-parallel-item {display: flex;flex-direction: column;z-index: 1;position: relative;background-color: white;}#sk-container-id-4 div.sk-parallel-item:first-child::after {align-self: flex-end;width: 50%;}#sk-container-id-4 div.sk-parallel-item:last-child::after {align-self: flex-start;width: 50%;}#sk-container-id-4 div.sk-parallel-item:only-child::after {width: 0;}#sk-container-id-4 div.sk-dashed-wrapped {border: 1px dashed gray;margin: 0 0.4em 0.5em 0.4em;box-sizing: border-box;padding-bottom: 0.4em;background-color: white;}#sk-container-id-4 div.sk-label label {font-family: monospace;font-weight: bold;display: inline-block;line-height: 1.2em;}#sk-container-id-4 div.sk-label-container {text-align: center;}#sk-container-id-4 div.sk-container {/* jupyter's `normalize.less` sets `[hidden] { display: none; }` but bootstrap.min.css set `[hidden] { display: none !important; }` so we also need the `!important` here to be able to override the default hidden behavior on the sphinx rendered scikit-learn.org. See: https://github.com/scikit-learn/scikit-learn/issues/21755 */display: inline-block !important;position: relative;}#sk-container-id-4 div.sk-text-repr-fallback {display: none;}</style><div id=\"sk-container-id-4\" class=\"sk-top-container\"><div class=\"sk-text-repr-fallback\"><pre>DecisionTreeClassifier()</pre><b>In a Jupyter environment, please rerun this cell to show the HTML representation or trust the notebook. <br />On GitHub, the HTML representation is unable to render, please try loading this page with nbviewer.org.</b></div><div class=\"sk-container\" hidden><div class=\"sk-item\"><div class=\"sk-estimator sk-toggleable\"><input class=\"sk-toggleable__control sk-hidden--visually\" id=\"sk-estimator-id-4\" type=\"checkbox\" checked><label for=\"sk-estimator-id-4\" class=\"sk-toggleable__label sk-toggleable__label-arrow\">DecisionTreeClassifier</label><div class=\"sk-toggleable__content\"><pre>DecisionTreeClassifier()</pre></div></div></div></div></div>"
      ],
      "text/plain": [
       "DecisionTreeClassifier()"
      ]
     },
     "execution_count": 56,
     "metadata": {},
     "output_type": "execute_result"
    }
   ],
   "source": [
    "tree_uncustomized=DecisionTreeClassifier()\n",
    "tree_uncustomized.fit(df_train_x, df_train_y)"
   ]
  },
  {
   "cell_type": "code",
   "execution_count": 30,
   "id": "67fe92df",
   "metadata": {},
   "outputs": [
    {
     "name": "stdout",
     "output_type": "stream",
     "text": [
      "Accuracy on training set : 1.000\n",
      "Accuracy on test set : 0.867\n"
     ]
    }
   ],
   "source": [
    "print(\"Accuracy on training set : {:.3f}\".format(tree_uncustomized.score(df_train_x, df_train_y)))\n",
    "print(\"Accuracy on test set : {:.3f}\".format(tree_uncustomized.score(df_test_x, df_test_y)))"
   ]
  },
  {
   "cell_type": "markdown",
   "id": "2852e2da",
   "metadata": {},
   "source": [
    "기본 옵션으로 의사결정나무 모델 생성시, 모델 정확도는 train 100%, test 86.7%로 모델은 train data에 과대적합"
   ]
  },
  {
   "cell_type": "markdown",
   "id": "a3008621",
   "metadata": {},
   "source": [
    "## 모델 Parameter 조정"
   ]
  },
  {
   "cell_type": "markdown",
   "id": "47fe3e51",
   "metadata": {},
   "source": [
    "### max_depth : 최대 깊이 변경에 따른 모델 생성"
   ]
  },
  {
   "cell_type": "code",
   "execution_count": 32,
   "id": "887a2712",
   "metadata": {},
   "outputs": [],
   "source": [
    "#train 및 test 정확도 결과 저장용\n",
    "train_accuracy=[]; test_accuracy=[]\n",
    "# max_depth 최대 깊이 변경. 1~10\n",
    "para_depth=[depth for depth in range(1,11)]\n",
    "\n",
    "for v_max_depth in para_depth :\n",
    "    tree=DecisionTreeClassifier(max_depth=v_max_depth)\n",
    "    tree.fit(df_train_x, df_train_y)\n",
    "    train_accuracy.append(tree.score(df_train_x, df_train_y))\n",
    "    test_accuracy.append(tree.score(df_test_x, df_test_y))\n",
    "    \n",
    "# 데이터 테이블로 저장\n",
    "df_accuracy_depth=pd.DataFrame()\n",
    "df_accuracy_depth['Depth']=para_depth\n",
    "df_accuracy_depth['Train Accuracy']=train_accuracy\n",
    "df_accuracy_depth['Test Accuracy']=test_accuracy"
   ]
  },
  {
   "cell_type": "code",
   "execution_count": 33,
   "id": "083575ee",
   "metadata": {},
   "outputs": [
    {
     "data": {
      "text/html": [
       "<div>\n",
       "<style scoped>\n",
       "    .dataframe tbody tr th:only-of-type {\n",
       "        vertical-align: middle;\n",
       "    }\n",
       "\n",
       "    .dataframe tbody tr th {\n",
       "        vertical-align: top;\n",
       "    }\n",
       "\n",
       "    .dataframe thead th {\n",
       "        text-align: right;\n",
       "    }\n",
       "</style>\n",
       "<table border=\"1\" class=\"dataframe\">\n",
       "  <thead>\n",
       "    <tr style=\"text-align: right;\">\n",
       "      <th></th>\n",
       "      <th>Depth</th>\n",
       "      <th>Train Accuracy</th>\n",
       "      <th>Test Accuracy</th>\n",
       "    </tr>\n",
       "  </thead>\n",
       "  <tbody>\n",
       "    <tr>\n",
       "      <th>0</th>\n",
       "      <td>1</td>\n",
       "      <td>0.911</td>\n",
       "      <td>0.898</td>\n",
       "    </tr>\n",
       "    <tr>\n",
       "      <th>1</th>\n",
       "      <td>2</td>\n",
       "      <td>0.958</td>\n",
       "      <td>0.883</td>\n",
       "    </tr>\n",
       "    <tr>\n",
       "      <th>2</th>\n",
       "      <td>3</td>\n",
       "      <td>0.984</td>\n",
       "      <td>0.852</td>\n",
       "    </tr>\n",
       "    <tr>\n",
       "      <th>3</th>\n",
       "      <td>4</td>\n",
       "      <td>0.995</td>\n",
       "      <td>0.875</td>\n",
       "    </tr>\n",
       "    <tr>\n",
       "      <th>4</th>\n",
       "      <td>5</td>\n",
       "      <td>1.000</td>\n",
       "      <td>0.906</td>\n",
       "    </tr>\n",
       "    <tr>\n",
       "      <th>5</th>\n",
       "      <td>6</td>\n",
       "      <td>1.000</td>\n",
       "      <td>0.898</td>\n",
       "    </tr>\n",
       "    <tr>\n",
       "      <th>6</th>\n",
       "      <td>7</td>\n",
       "      <td>1.000</td>\n",
       "      <td>0.891</td>\n",
       "    </tr>\n",
       "    <tr>\n",
       "      <th>7</th>\n",
       "      <td>8</td>\n",
       "      <td>1.000</td>\n",
       "      <td>0.898</td>\n",
       "    </tr>\n",
       "    <tr>\n",
       "      <th>8</th>\n",
       "      <td>9</td>\n",
       "      <td>1.000</td>\n",
       "      <td>0.906</td>\n",
       "    </tr>\n",
       "    <tr>\n",
       "      <th>9</th>\n",
       "      <td>10</td>\n",
       "      <td>1.000</td>\n",
       "      <td>0.852</td>\n",
       "    </tr>\n",
       "  </tbody>\n",
       "</table>\n",
       "</div>"
      ],
      "text/plain": [
       "   Depth  Train Accuracy  Test Accuracy\n",
       "0      1           0.911          0.898\n",
       "1      2           0.958          0.883\n",
       "2      3           0.984          0.852\n",
       "3      4           0.995          0.875\n",
       "4      5           1.000          0.906\n",
       "5      6           1.000          0.898\n",
       "6      7           1.000          0.891\n",
       "7      8           1.000          0.898\n",
       "8      9           1.000          0.906\n",
       "9     10           1.000          0.852"
      ]
     },
     "execution_count": 33,
     "metadata": {},
     "output_type": "execute_result"
    }
   ],
   "source": [
    "# 모델 정확도 확인\n",
    "df_accuracy_depth.round(3)"
   ]
  },
  {
   "cell_type": "code",
   "execution_count": 34,
   "id": "5acf8942",
   "metadata": {},
   "outputs": [
    {
     "data": {
      "text/plain": [
       "<matplotlib.legend.Legend at 0x7f80b5709ac0>"
      ]
     },
     "execution_count": 34,
     "metadata": {},
     "output_type": "execute_result"
    },
    {
     "data": {
      "image/png": "[encoded data removed]",
      "text/plain": [
       "<Figure size 640x480 with 1 Axes>"
      ]
     },
     "metadata": {},
     "output_type": "display_data"
    }
   ],
   "source": [
    "# 모델 정확도 그래프 확인\n",
    "plt.plot(para_depth, train_accuracy, linestyle='-', label='Train Accuracy')\n",
    "plt.plot(para_depth, test_accuracy, linestyle='--', label='Test Accuracy')\n",
    "plt.legend()"
   ]
  },
  {
   "cell_type": "markdown",
   "id": "0cc3b3a7",
   "metadata": {},
   "source": [
    "test data의 정확성을 높이기 위해서 max_depth로 5 또는 9가 적당함.\n",
    "\n",
    "하지만 9로 설정했을 때 과대적합이 될 위험성이 더 커지기 때문에 max_depth는 5로 설정"
   ]
  },
  {
   "cell_type": "markdown",
   "id": "51345378",
   "metadata": {},
   "source": [
    "### min_samples_split : 분리 노드의 최소 자료수 변경에 따른 모델 생성"
   ]
  },
  {
   "cell_type": "code",
   "execution_count": 38,
   "id": "f2c23a16",
   "metadata": {},
   "outputs": [],
   "source": [
    "#train 및 test 정확도 결과 저장용\n",
    "train_accuracy=[]; test_accuracy=[]\n",
    "# min_samples_split : 분할하기 위한 노드의 최소 샘플 수. 10~100\n",
    "para_split=[n_split*10 for n_split in range(1,11)]\n",
    "\n",
    "for v_min_samples_split in para_split :\n",
    "    tree=DecisionTreeClassifier(min_samples_split=v_min_samples_split, max_depth=5)\n",
    "    tree.fit(df_train_x, df_train_y)\n",
    "    train_accuracy.append(tree.score(df_train_x, df_train_y))\n",
    "    test_accuracy.append(tree.score(df_test_x, df_test_y))\n",
    "    \n",
    "# 데이터 테이블로 저장\n",
    "df_accuracy_split=pd.DataFrame()\n",
    "df_accuracy_split['MinSamplesSplit']=para_split\n",
    "df_accuracy_split['Train Accuracy']=train_accuracy\n",
    "df_accuracy_split['Test Accuracy']=test_accuracy"
   ]
  },
  {
   "cell_type": "code",
   "execution_count": 39,
   "id": "3f48ea72",
   "metadata": {},
   "outputs": [
    {
     "data": {
      "text/html": [
       "<div>\n",
       "<style scoped>\n",
       "    .dataframe tbody tr th:only-of-type {\n",
       "        vertical-align: middle;\n",
       "    }\n",
       "\n",
       "    .dataframe tbody tr th {\n",
       "        vertical-align: top;\n",
       "    }\n",
       "\n",
       "    .dataframe thead th {\n",
       "        text-align: right;\n",
       "    }\n",
       "</style>\n",
       "<table border=\"1\" class=\"dataframe\">\n",
       "  <thead>\n",
       "    <tr style=\"text-align: right;\">\n",
       "      <th></th>\n",
       "      <th>MinSamplesSplit</th>\n",
       "      <th>Train Accuracy</th>\n",
       "      <th>Test Accuracy</th>\n",
       "    </tr>\n",
       "  </thead>\n",
       "  <tbody>\n",
       "    <tr>\n",
       "      <th>0</th>\n",
       "      <td>10</td>\n",
       "      <td>0.974</td>\n",
       "      <td>0.867</td>\n",
       "    </tr>\n",
       "    <tr>\n",
       "      <th>1</th>\n",
       "      <td>20</td>\n",
       "      <td>0.974</td>\n",
       "      <td>0.867</td>\n",
       "    </tr>\n",
       "    <tr>\n",
       "      <th>2</th>\n",
       "      <td>30</td>\n",
       "      <td>0.974</td>\n",
       "      <td>0.859</td>\n",
       "    </tr>\n",
       "    <tr>\n",
       "      <th>3</th>\n",
       "      <td>40</td>\n",
       "      <td>0.974</td>\n",
       "      <td>0.867</td>\n",
       "    </tr>\n",
       "    <tr>\n",
       "      <th>4</th>\n",
       "      <td>50</td>\n",
       "      <td>0.974</td>\n",
       "      <td>0.867</td>\n",
       "    </tr>\n",
       "    <tr>\n",
       "      <th>5</th>\n",
       "      <td>60</td>\n",
       "      <td>0.958</td>\n",
       "      <td>0.875</td>\n",
       "    </tr>\n",
       "    <tr>\n",
       "      <th>6</th>\n",
       "      <td>70</td>\n",
       "      <td>0.927</td>\n",
       "      <td>0.859</td>\n",
       "    </tr>\n",
       "    <tr>\n",
       "      <th>7</th>\n",
       "      <td>80</td>\n",
       "      <td>0.927</td>\n",
       "      <td>0.859</td>\n",
       "    </tr>\n",
       "    <tr>\n",
       "      <th>8</th>\n",
       "      <td>90</td>\n",
       "      <td>0.927</td>\n",
       "      <td>0.859</td>\n",
       "    </tr>\n",
       "    <tr>\n",
       "      <th>9</th>\n",
       "      <td>100</td>\n",
       "      <td>0.927</td>\n",
       "      <td>0.859</td>\n",
       "    </tr>\n",
       "  </tbody>\n",
       "</table>\n",
       "</div>"
      ],
      "text/plain": [
       "   MinSamplesSplit  Train Accuracy  Test Accuracy\n",
       "0               10           0.974          0.867\n",
       "1               20           0.974          0.867\n",
       "2               30           0.974          0.859\n",
       "3               40           0.974          0.867\n",
       "4               50           0.974          0.867\n",
       "5               60           0.958          0.875\n",
       "6               70           0.927          0.859\n",
       "7               80           0.927          0.859\n",
       "8               90           0.927          0.859\n",
       "9              100           0.927          0.859"
      ]
     },
     "execution_count": 39,
     "metadata": {},
     "output_type": "execute_result"
    }
   ],
   "source": [
    "# 모델 정확도 확인\n",
    "df_accuracy_split.round(3)"
   ]
  },
  {
   "cell_type": "code",
   "execution_count": 40,
   "id": "c7389631",
   "metadata": {},
   "outputs": [
    {
     "data": {
      "text/plain": [
       "<matplotlib.legend.Legend at 0x7f80b4e12c70>"
      ]
     },
     "execution_count": 40,
     "metadata": {},
     "output_type": "execute_result"
    },
    {
     "data": {
      "image/png": "[encoded data removed]",
      "text/plain": [
       "<Figure size 640x480 with 1 Axes>"
      ]
     },
     "metadata": {},
     "output_type": "display_data"
    }
   ],
   "source": [
    "# 모델 정확도 그래프 확인\n",
    "plt.plot(para_split, train_accuracy, linestyle='-', label='Train Accuracy')\n",
    "plt.plot(para_split, test_accuracy, linestyle='--', label='Test Accuracy')\n",
    "plt.legend()"
   ]
  },
  {
   "cell_type": "markdown",
   "id": "a83ddfb2",
   "metadata": {},
   "source": [
    "train data는 총 192개. \n",
    "test data는 60 이후로 성능이 저하되며 train data는 50 이후로 성능이 저하됨.\n",
    "train data의 총 개수가 192개 임을 감안하여 과대적합을 방지하기 위해 min_samples_split는 50개로 설정"
   ]
  },
  {
   "cell_type": "markdown",
   "id": "705c3b03",
   "metadata": {},
   "source": [
    "### min_samples_leaf : 잎사귀 노드의 최소 자료수 변경에 따른 모델 생성"
   ]
  },
  {
   "cell_type": "code",
   "execution_count": 44,
   "id": "724a6875",
   "metadata": {},
   "outputs": [],
   "source": [
    "#train 및 test 정확도 결과 저장용\n",
    "train_accuracy=[]; test_accuracy=[]\n",
    "# min_samples_leaf : 잎사귀 노드 최소 자료 수. 2~20\n",
    "para_leaf=[n_leaf*2 for n_leaf in range(1,11)]\n",
    "\n",
    "for v_min_samples_leaf in para_leaf :\n",
    "    tree=DecisionTreeClassifier(min_samples_leaf=v_min_samples_leaf, min_samples_split=50, max_depth=5)\n",
    "    tree.fit(df_train_x, df_train_y)\n",
    "    train_accuracy.append(tree.score(df_train_x, df_train_y))\n",
    "    test_accuracy.append(tree.score(df_test_x, df_test_y))\n",
    "    \n",
    "# 데이터 테이블로 저장\n",
    "df_accuracy_leaf=pd.DataFrame()\n",
    "df_accuracy_leaf['MinSamplesLeaf']=para_leaf\n",
    "df_accuracy_leaf['Train Accuracy']=train_accuracy\n",
    "df_accuracy_leaf['Test Accuracy']=test_accuracy"
   ]
  },
  {
   "cell_type": "code",
   "execution_count": 45,
   "id": "c82002c9",
   "metadata": {},
   "outputs": [
    {
     "data": {
      "text/html": [
       "<div>\n",
       "<style scoped>\n",
       "    .dataframe tbody tr th:only-of-type {\n",
       "        vertical-align: middle;\n",
       "    }\n",
       "\n",
       "    .dataframe tbody tr th {\n",
       "        vertical-align: top;\n",
       "    }\n",
       "\n",
       "    .dataframe thead th {\n",
       "        text-align: right;\n",
       "    }\n",
       "</style>\n",
       "<table border=\"1\" class=\"dataframe\">\n",
       "  <thead>\n",
       "    <tr style=\"text-align: right;\">\n",
       "      <th></th>\n",
       "      <th>MinSamplesLeaf</th>\n",
       "      <th>Train Accuracy</th>\n",
       "      <th>Test Accuracy</th>\n",
       "    </tr>\n",
       "  </thead>\n",
       "  <tbody>\n",
       "    <tr>\n",
       "      <th>0</th>\n",
       "      <td>2</td>\n",
       "      <td>0.969</td>\n",
       "      <td>0.852</td>\n",
       "    </tr>\n",
       "    <tr>\n",
       "      <th>1</th>\n",
       "      <td>4</td>\n",
       "      <td>0.964</td>\n",
       "      <td>0.891</td>\n",
       "    </tr>\n",
       "    <tr>\n",
       "      <th>2</th>\n",
       "      <td>6</td>\n",
       "      <td>0.958</td>\n",
       "      <td>0.883</td>\n",
       "    </tr>\n",
       "    <tr>\n",
       "      <th>3</th>\n",
       "      <td>8</td>\n",
       "      <td>0.953</td>\n",
       "      <td>0.883</td>\n",
       "    </tr>\n",
       "    <tr>\n",
       "      <th>4</th>\n",
       "      <td>10</td>\n",
       "      <td>0.938</td>\n",
       "      <td>0.891</td>\n",
       "    </tr>\n",
       "    <tr>\n",
       "      <th>5</th>\n",
       "      <td>12</td>\n",
       "      <td>0.932</td>\n",
       "      <td>0.898</td>\n",
       "    </tr>\n",
       "    <tr>\n",
       "      <th>6</th>\n",
       "      <td>14</td>\n",
       "      <td>0.922</td>\n",
       "      <td>0.898</td>\n",
       "    </tr>\n",
       "    <tr>\n",
       "      <th>7</th>\n",
       "      <td>16</td>\n",
       "      <td>0.922</td>\n",
       "      <td>0.898</td>\n",
       "    </tr>\n",
       "    <tr>\n",
       "      <th>8</th>\n",
       "      <td>18</td>\n",
       "      <td>0.911</td>\n",
       "      <td>0.898</td>\n",
       "    </tr>\n",
       "    <tr>\n",
       "      <th>9</th>\n",
       "      <td>20</td>\n",
       "      <td>0.911</td>\n",
       "      <td>0.898</td>\n",
       "    </tr>\n",
       "  </tbody>\n",
       "</table>\n",
       "</div>"
      ],
      "text/plain": [
       "   MinSamplesLeaf  Train Accuracy  Test Accuracy\n",
       "0               2           0.969          0.852\n",
       "1               4           0.964          0.891\n",
       "2               6           0.958          0.883\n",
       "3               8           0.953          0.883\n",
       "4              10           0.938          0.891\n",
       "5              12           0.932          0.898\n",
       "6              14           0.922          0.898\n",
       "7              16           0.922          0.898\n",
       "8              18           0.911          0.898\n",
       "9              20           0.911          0.898"
      ]
     },
     "execution_count": 45,
     "metadata": {},
     "output_type": "execute_result"
    }
   ],
   "source": [
    "# 모델 정확도 확인\n",
    "df_accuracy_leaf.round(3)"
   ]
  },
  {
   "cell_type": "code",
   "execution_count": 43,
   "id": "3c03649a",
   "metadata": {},
   "outputs": [
    {
     "data": {
      "text/plain": [
       "<matplotlib.legend.Legend at 0x7f80b4d8e700>"
      ]
     },
     "execution_count": 43,
     "metadata": {},
     "output_type": "execute_result"
    },
    {
     "data": {
      "image/png": "[encoded data removed]",
      "text/plain": [
       "<Figure size 640x480 with 1 Axes>"
      ]
     },
     "metadata": {},
     "output_type": "display_data"
    }
   ],
   "source": [
    "# 모델 정확도 그래프 확인\n",
    "plt.plot(para_leaf, train_accuracy, linestyle='-', label='Train Accuracy')\n",
    "plt.plot(para_leaf, test_accuracy, linestyle='--', label='Test Accuracy')\n",
    "plt.legend()"
   ]
  },
  {
   "cell_type": "markdown",
   "id": "450e8b71",
   "metadata": {},
   "source": [
    "train data는 총 192개. \n",
    "test data는 값이 증가할수록 모델의 정확도가 감소한다.\n",
    "train data의 총 개수가 192개 임을 감안하여 min_samples_leaf는 12개로 설정"
   ]
  },
  {
   "cell_type": "markdown",
   "id": "76890c03",
   "metadata": {},
   "source": [
    "## 최종 모델"
   ]
  },
  {
   "cell_type": "code",
   "execution_count": 55,
   "id": "ff0c7c57",
   "metadata": {},
   "outputs": [
    {
     "data": {
      "text/html": [
       "<style>#sk-container-id-3 {color: black;background-color: white;}#sk-container-id-3 pre{padding: 0;}#sk-container-id-3 div.sk-toggleable {background-color: white;}#sk-container-id-3 label.sk-toggleable__label {cursor: pointer;display: block;width: 100%;margin-bottom: 0;padding: 0.3em;box-sizing: border-box;text-align: center;}#sk-container-id-3 label.sk-toggleable__label-arrow:before {content: \"▸\";float: left;margin-right: 0.25em;color: #696969;}#sk-container-id-3 label.sk-toggleable__label-arrow:hover:before {color: black;}#sk-container-id-3 div.sk-estimator:hover label.sk-toggleable__label-arrow:before {color: black;}#sk-container-id-3 div.sk-toggleable__content {max-height: 0;max-width: 0;overflow: hidden;text-align: left;background-color: #f0f8ff;}#sk-container-id-3 div.sk-toggleable__content pre {margin: 0.2em;color: black;border-radius: 0.25em;background-color: #f0f8ff;}#sk-container-id-3 input.sk-toggleable__control:checked~div.sk-toggleable__content {max-height: 200px;max-width: 100%;overflow: auto;}#sk-container-id-3 input.sk-toggleable__control:checked~label.sk-toggleable__label-arrow:before {content: \"▾\";}#sk-container-id-3 div.sk-estimator input.sk-toggleable__control:checked~label.sk-toggleable__label {background-color: #d4ebff;}#sk-container-id-3 div.sk-label input.sk-toggleable__control:checked~label.sk-toggleable__label {background-color: #d4ebff;}#sk-container-id-3 input.sk-hidden--visually {border: 0;clip: rect(1px 1px 1px 1px);clip: rect(1px, 1px, 1px, 1px);height: 1px;margin: -1px;overflow: hidden;padding: 0;position: absolute;width: 1px;}#sk-container-id-3 div.sk-estimator {font-family: monospace;background-color: #f0f8ff;border: 1px dotted black;border-radius: 0.25em;box-sizing: border-box;margin-bottom: 0.5em;}#sk-container-id-3 div.sk-estimator:hover {background-color: #d4ebff;}#sk-container-id-3 div.sk-parallel-item::after {content: \"\";width: 100%;border-bottom: 1px solid gray;flex-grow: 1;}#sk-container-id-3 div.sk-label:hover label.sk-toggleable__label {background-color: #d4ebff;}#sk-container-id-3 div.sk-serial::before {content: \"\";position: absolute;border-left: 1px solid gray;box-sizing: border-box;top: 0;bottom: 0;left: 50%;z-index: 0;}#sk-container-id-3 div.sk-serial {display: flex;flex-direction: column;align-items: center;background-color: white;padding-right: 0.2em;padding-left: 0.2em;position: relative;}#sk-container-id-3 div.sk-item {position: relative;z-index: 1;}#sk-container-id-3 div.sk-parallel {display: flex;align-items: stretch;justify-content: center;background-color: white;position: relative;}#sk-container-id-3 div.sk-item::before, #sk-container-id-3 div.sk-parallel-item::before {content: \"\";position: absolute;border-left: 1px solid gray;box-sizing: border-box;top: 0;bottom: 0;left: 50%;z-index: -1;}#sk-container-id-3 div.sk-parallel-item {display: flex;flex-direction: column;z-index: 1;position: relative;background-color: white;}#sk-container-id-3 div.sk-parallel-item:first-child::after {align-self: flex-end;width: 50%;}#sk-container-id-3 div.sk-parallel-item:last-child::after {align-self: flex-start;width: 50%;}#sk-container-id-3 div.sk-parallel-item:only-child::after {width: 0;}#sk-container-id-3 div.sk-dashed-wrapped {border: 1px dashed gray;margin: 0 0.4em 0.5em 0.4em;box-sizing: border-box;padding-bottom: 0.4em;background-color: white;}#sk-container-id-3 div.sk-label label {font-family: monospace;font-weight: bold;display: inline-block;line-height: 1.2em;}#sk-container-id-3 div.sk-label-container {text-align: center;}#sk-container-id-3 div.sk-container {/* jupyter's `normalize.less` sets `[hidden] { display: none; }` but bootstrap.min.css set `[hidden] { display: none !important; }` so we also need the `!important` here to be able to override the default hidden behavior on the sphinx rendered scikit-learn.org. See: https://github.com/scikit-learn/scikit-learn/issues/21755 */display: inline-block !important;position: relative;}#sk-container-id-3 div.sk-text-repr-fallback {display: none;}</style><div id=\"sk-container-id-3\" class=\"sk-top-container\"><div class=\"sk-text-repr-fallback\"><pre>DecisionTreeClassifier(max_depth=5, min_samples_leaf=12, min_samples_split=50)</pre><b>In a Jupyter environment, please rerun this cell to show the HTML representation or trust the notebook. <br />On GitHub, the HTML representation is unable to render, please try loading this page with nbviewer.org.</b></div><div class=\"sk-container\" hidden><div class=\"sk-item\"><div class=\"sk-estimator sk-toggleable\"><input class=\"sk-toggleable__control sk-hidden--visually\" id=\"sk-estimator-id-3\" type=\"checkbox\" checked><label for=\"sk-estimator-id-3\" class=\"sk-toggleable__label sk-toggleable__label-arrow\">DecisionTreeClassifier</label><div class=\"sk-toggleable__content\"><pre>DecisionTreeClassifier(max_depth=5, min_samples_leaf=12, min_samples_split=50)</pre></div></div></div></div></div>"
      ],
      "text/plain": [
       "DecisionTreeClassifier(max_depth=5, min_samples_leaf=12, min_samples_split=50)"
      ]
     },
     "execution_count": 55,
     "metadata": {},
     "output_type": "execute_result"
    }
   ],
   "source": [
    "tree_final=DecisionTreeClassifier(max_depth=5, min_samples_split=50, min_samples_leaf=12)\n",
    "tree_final.fit(df_train_x, df_train_y)"
   ]
  },
  {
   "cell_type": "markdown",
   "id": "47f4f06a",
   "metadata": {},
   "source": [
    "### 최종 모델 성능 평가"
   ]
  },
  {
   "cell_type": "code",
   "execution_count": 49,
   "id": "a3aa129c",
   "metadata": {},
   "outputs": [
    {
     "name": "stdout",
     "output_type": "stream",
     "text": [
      "Train Data Accuracy : 0.932\n",
      "Test Data Accuracy : 0.898\n"
     ]
    }
   ],
   "source": [
    "# 모델 정확도\n",
    "print(\"Train Data Accuracy :\", tree_final.score(df_train_x, df_train_y).round(3))\n",
    "print(\"Test Data Accuracy :\", tree_final.score(df_test_x, df_test_y).round(3))"
   ]
  },
  {
   "cell_type": "markdown",
   "id": "321752a5",
   "metadata": {},
   "source": [
    "최종 모델은 train data에서 93.2%의 정확도를 보이며, test data에서는 89.8%의 정확도를 보인다. 따라서 train data의 성능은 조금 감소하였지만 test data의 성능을 향상시키며 과대적합 문제를 해결하였다."
   ]
  },
  {
   "cell_type": "markdown",
   "id": "1c5136fd",
   "metadata": {},
   "source": [
    "### 최종 모델을 이용한 분류 예측"
   ]
  },
  {
   "cell_type": "code",
   "execution_count": 54,
   "id": "2f3a1210",
   "metadata": {},
   "outputs": [
    {
     "name": "stdout",
     "output_type": "stream",
     "text": [
      "Confusion Matrix :\n",
      "[[42  6]\n",
      " [ 7 73]]\n"
     ]
    }
   ],
   "source": [
    "# 목표범수 예측\n",
    "y_pred=tree_final.predict(df_test_x)\n",
    "\n",
    "# Confusion matrix\n",
    "print(\"Confusion Matrix :\\n{}\".format(confusion_matrix(df_test_y, y_pred)))"
   ]
  },
  {
   "attachments": {
    "%EA%B7%B8%EB%A6%BC1.png": {
     "image/png": "[encoded data removed]"
    }
   },
   "cell_type": "markdown",
   "id": "be58f150",
   "metadata": {},
   "source": [
    "[Confusion Matrix]\n",
    "![%EA%B7%B8%EB%A6%BC1.png](attachment:%EA%B7%B8%EB%A6%BC1.png)"
   ]
  },
  {
   "cell_type": "markdown",
   "id": "b0df71c3",
   "metadata": {},
   "source": [
    "이 때, 0은 양성 data, 1은 음성 data를 의미함"
   ]
  },
  {
   "cell_type": "markdown",
   "id": "43eea10f",
   "metadata": {},
   "source": [
    "### 최종 모델 시각화"
   ]
  },
  {
   "cell_type": "code",
   "execution_count": 73,
   "id": "6fb465f5",
   "metadata": {},
   "outputs": [
    {
     "data": {
      "image/svg+xml": [
       "<?xml version=\"1.0\" encoding=\"UTF-8\" standalone=\"no\"?>\n",
       "<!DOCTYPE svg PUBLIC \"-//W3C//DTD SVG 1.1//EN\"\n",
       " \"http://www.w3.org/Graphics/SVG/1.1/DTD/svg11.dtd\">\n",
       "<!-- Generated by graphviz version 2.50.0 (0)\n",
       " -->\n",
       "<!-- Title: Tree Pages: 1 -->\n",
       "<svg width=\"784pt\" height=\"433pt\"\n",
       " viewBox=\"0.00 0.00 783.50 433.00\" xmlns=\"http://www.w3.org/2000/svg\" xmlns:xlink=\"http://www.w3.org/1999/xlink\">\n",
       "<g id=\"graph0\" class=\"graph\" transform=\"scale(1 1) rotate(0) translate(4 429)\">\n",
       "<title>Tree</title>\n",
       "<polygon fill=\"white\" stroke=\"transparent\" points=\"-4,4 -4,-429 779.5,-429 779.5,4 -4,4\"/>\n",
       "<!-- 0 -->\n",
       "<g id=\"node1\" class=\"node\">\n",
       "<title>0</title>\n",
       "<polygon fill=\"#93caf1\" stroke=\"black\" points=\"492,-425 250,-425 250,-342 492,-342 492,-425\"/>\n",
       "<text text-anchor=\"middle\" x=\"371\" y=\"-409.8\" font-family=\"Helvetica,sans-Serif\" font-size=\"14.00\">mean_concave_points &lt;= 0.051</text>\n",
       "<text text-anchor=\"middle\" x=\"371\" y=\"-394.8\" font-family=\"Helvetica,sans-Serif\" font-size=\"14.00\">gini = 0.43</text>\n",
       "<text text-anchor=\"middle\" x=\"371\" y=\"-379.8\" font-family=\"Helvetica,sans-Serif\" font-size=\"14.00\">samples = 192</text>\n",
       "<text text-anchor=\"middle\" x=\"371\" y=\"-364.8\" font-family=\"Helvetica,sans-Serif\" font-size=\"14.00\">value = [60, 132]</text>\n",
       "<text text-anchor=\"middle\" x=\"371\" y=\"-349.8\" font-family=\"Helvetica,sans-Serif\" font-size=\"14.00\">class = 음성</text>\n",
       "</g>\n",
       "<!-- 1 -->\n",
       "<g id=\"node2\" class=\"node\">\n",
       "<title>1</title>\n",
       "<polygon fill=\"#ea9b61\" stroke=\"black\" points=\"362,-306 168,-306 168,-223 362,-223 362,-306\"/>\n",
       "<text text-anchor=\"middle\" x=\"265\" y=\"-290.8\" font-family=\"Helvetica,sans-Serif\" font-size=\"14.00\">worst_texture &lt;= 30.975</text>\n",
       "<text text-anchor=\"middle\" x=\"265\" y=\"-275.8\" font-family=\"Helvetica,sans-Serif\" font-size=\"14.00\">gini = 0.281</text>\n",
       "<text text-anchor=\"middle\" x=\"265\" y=\"-260.8\" font-family=\"Helvetica,sans-Serif\" font-size=\"14.00\">samples = 65</text>\n",
       "<text text-anchor=\"middle\" x=\"265\" y=\"-245.8\" font-family=\"Helvetica,sans-Serif\" font-size=\"14.00\">value = [54, 11]</text>\n",
       "<text text-anchor=\"middle\" x=\"265\" y=\"-230.8\" font-family=\"Helvetica,sans-Serif\" font-size=\"14.00\">class = 양성</text>\n",
       "</g>\n",
       "<!-- 0&#45;&gt;1 -->\n",
       "<g id=\"edge1\" class=\"edge\">\n",
       "<title>0&#45;&gt;1</title>\n",
       "<path fill=\"none\" stroke=\"black\" d=\"M334.22,-341.91C325.92,-332.74 317.03,-322.93 308.48,-313.49\"/>\n",
       "<polygon fill=\"black\" stroke=\"black\" points=\"311.02,-311.08 301.71,-306.02 305.83,-315.78 311.02,-311.08\"/>\n",
       "<text text-anchor=\"middle\" x=\"300.48\" y=\"-327.29\" font-family=\"Helvetica,sans-Serif\" font-size=\"14.00\">True</text>\n",
       "</g>\n",
       "<!-- 6 -->\n",
       "<g id=\"node7\" class=\"node\">\n",
       "<title>6</title>\n",
       "<polygon fill=\"#43a2e6\" stroke=\"black\" points=\"574,-306 380,-306 380,-223 574,-223 574,-306\"/>\n",
       "<text text-anchor=\"middle\" x=\"477\" y=\"-290.8\" font-family=\"Helvetica,sans-Serif\" font-size=\"14.00\">mean_texture &lt;= 17.005</text>\n",
       "<text text-anchor=\"middle\" x=\"477\" y=\"-275.8\" font-family=\"Helvetica,sans-Serif\" font-size=\"14.00\">gini = 0.09</text>\n",
       "<text text-anchor=\"middle\" x=\"477\" y=\"-260.8\" font-family=\"Helvetica,sans-Serif\" font-size=\"14.00\">samples = 127</text>\n",
       "<text text-anchor=\"middle\" x=\"477\" y=\"-245.8\" font-family=\"Helvetica,sans-Serif\" font-size=\"14.00\">value = [6, 121]</text>\n",
       "<text text-anchor=\"middle\" x=\"477\" y=\"-230.8\" font-family=\"Helvetica,sans-Serif\" font-size=\"14.00\">class = 음성</text>\n",
       "</g>\n",
       "<!-- 0&#45;&gt;6 -->\n",
       "<g id=\"edge6\" class=\"edge\">\n",
       "<title>0&#45;&gt;6</title>\n",
       "<path fill=\"none\" stroke=\"black\" d=\"M407.78,-341.91C416.08,-332.74 424.97,-322.93 433.52,-313.49\"/>\n",
       "<polygon fill=\"black\" stroke=\"black\" points=\"436.17,-315.78 440.29,-306.02 430.98,-311.08 436.17,-315.78\"/>\n",
       "<text text-anchor=\"middle\" x=\"441.52\" y=\"-327.29\" font-family=\"Helvetica,sans-Serif\" font-size=\"14.00\">False</text>\n",
       "</g>\n",
       "<!-- 2 -->\n",
       "<g id=\"node3\" class=\"node\">\n",
       "<title>2</title>\n",
       "<polygon fill=\"#e78945\" stroke=\"black\" points=\"211,-187 51,-187 51,-104 211,-104 211,-187\"/>\n",
       "<text text-anchor=\"middle\" x=\"131\" y=\"-171.8\" font-family=\"Helvetica,sans-Serif\" font-size=\"14.00\">area_error &lt;= 22.91</text>\n",
       "<text text-anchor=\"middle\" x=\"131\" y=\"-156.8\" font-family=\"Helvetica,sans-Serif\" font-size=\"14.00\">gini = 0.107</text>\n",
       "<text text-anchor=\"middle\" x=\"131\" y=\"-141.8\" font-family=\"Helvetica,sans-Serif\" font-size=\"14.00\">samples = 53</text>\n",
       "<text text-anchor=\"middle\" x=\"131\" y=\"-126.8\" font-family=\"Helvetica,sans-Serif\" font-size=\"14.00\">value = [50, 3]</text>\n",
       "<text text-anchor=\"middle\" x=\"131\" y=\"-111.8\" font-family=\"Helvetica,sans-Serif\" font-size=\"14.00\">class = 양성</text>\n",
       "</g>\n",
       "<!-- 1&#45;&gt;2 -->\n",
       "<g id=\"edge2\" class=\"edge\">\n",
       "<title>1&#45;&gt;2</title>\n",
       "<path fill=\"none\" stroke=\"black\" d=\"M218.51,-222.91C207.7,-213.47 196.1,-203.34 185,-193.65\"/>\n",
       "<polygon fill=\"black\" stroke=\"black\" points=\"187.24,-190.96 177.41,-187.02 182.64,-196.23 187.24,-190.96\"/>\n",
       "</g>\n",
       "<!-- 5 -->\n",
       "<g id=\"node6\" class=\"node\">\n",
       "<title>5</title>\n",
       "<polygon fill=\"#9ccef2\" stroke=\"black\" points=\"342.5,-179.5 229.5,-179.5 229.5,-111.5 342.5,-111.5 342.5,-179.5\"/>\n",
       "<text text-anchor=\"middle\" x=\"286\" y=\"-164.3\" font-family=\"Helvetica,sans-Serif\" font-size=\"14.00\">gini = 0.444</text>\n",
       "<text text-anchor=\"middle\" x=\"286\" y=\"-149.3\" font-family=\"Helvetica,sans-Serif\" font-size=\"14.00\">samples = 12</text>\n",
       "<text text-anchor=\"middle\" x=\"286\" y=\"-134.3\" font-family=\"Helvetica,sans-Serif\" font-size=\"14.00\">value = [4, 8]</text>\n",
       "<text text-anchor=\"middle\" x=\"286\" y=\"-119.3\" font-family=\"Helvetica,sans-Serif\" font-size=\"14.00\">class = 음성</text>\n",
       "</g>\n",
       "<!-- 1&#45;&gt;5 -->\n",
       "<g id=\"edge5\" class=\"edge\">\n",
       "<title>1&#45;&gt;5</title>\n",
       "<path fill=\"none\" stroke=\"black\" d=\"M272.29,-222.91C274.21,-212.2 276.29,-200.62 278.23,-189.78\"/>\n",
       "<polygon fill=\"black\" stroke=\"black\" points=\"281.73,-190.13 280.05,-179.67 274.84,-188.89 281.73,-190.13\"/>\n",
       "</g>\n",
       "<!-- 3 -->\n",
       "<g id=\"node4\" class=\"node\">\n",
       "<title>3</title>\n",
       "<polygon fill=\"#e58139\" stroke=\"black\" points=\"122,-68 0,-68 0,0 122,0 122,-68\"/>\n",
       "<text text-anchor=\"middle\" x=\"61\" y=\"-52.8\" font-family=\"Helvetica,sans-Serif\" font-size=\"14.00\">gini = 0.0</text>\n",
       "<text text-anchor=\"middle\" x=\"61\" y=\"-37.8\" font-family=\"Helvetica,sans-Serif\" font-size=\"14.00\">samples = 34</text>\n",
       "<text text-anchor=\"middle\" x=\"61\" y=\"-22.8\" font-family=\"Helvetica,sans-Serif\" font-size=\"14.00\">value = [34, 0]</text>\n",
       "<text text-anchor=\"middle\" x=\"61\" y=\"-7.8\" font-family=\"Helvetica,sans-Serif\" font-size=\"14.00\">class = 양성</text>\n",
       "</g>\n",
       "<!-- 2&#45;&gt;3 -->\n",
       "<g id=\"edge3\" class=\"edge\">\n",
       "<title>2&#45;&gt;3</title>\n",
       "<path fill=\"none\" stroke=\"black\" d=\"M104.93,-103.73C99.34,-94.97 93.41,-85.7 87.79,-76.91\"/>\n",
       "<polygon fill=\"black\" stroke=\"black\" points=\"90.62,-74.84 82.29,-68.3 84.72,-78.61 90.62,-74.84\"/>\n",
       "</g>\n",
       "<!-- 4 -->\n",
       "<g id=\"node5\" class=\"node\">\n",
       "<title>4</title>\n",
       "<polygon fill=\"#ea995e\" stroke=\"black\" points=\"262,-68 140,-68 140,0 262,0 262,-68\"/>\n",
       "<text text-anchor=\"middle\" x=\"201\" y=\"-52.8\" font-family=\"Helvetica,sans-Serif\" font-size=\"14.00\">gini = 0.266</text>\n",
       "<text text-anchor=\"middle\" x=\"201\" y=\"-37.8\" font-family=\"Helvetica,sans-Serif\" font-size=\"14.00\">samples = 19</text>\n",
       "<text text-anchor=\"middle\" x=\"201\" y=\"-22.8\" font-family=\"Helvetica,sans-Serif\" font-size=\"14.00\">value = [16, 3]</text>\n",
       "<text text-anchor=\"middle\" x=\"201\" y=\"-7.8\" font-family=\"Helvetica,sans-Serif\" font-size=\"14.00\">class = 양성</text>\n",
       "</g>\n",
       "<!-- 2&#45;&gt;4 -->\n",
       "<g id=\"edge4\" class=\"edge\">\n",
       "<title>2&#45;&gt;4</title>\n",
       "<path fill=\"none\" stroke=\"black\" d=\"M157.07,-103.73C162.66,-94.97 168.59,-85.7 174.21,-76.91\"/>\n",
       "<polygon fill=\"black\" stroke=\"black\" points=\"177.28,-78.61 179.71,-68.3 171.38,-74.84 177.28,-78.61\"/>\n",
       "</g>\n",
       "<!-- 7 -->\n",
       "<g id=\"node8\" class=\"node\">\n",
       "<title>7</title>\n",
       "<polygon fill=\"#c6e3f8\" stroke=\"black\" points=\"513.5,-179.5 400.5,-179.5 400.5,-111.5 513.5,-111.5 513.5,-179.5\"/>\n",
       "<text text-anchor=\"middle\" x=\"457\" y=\"-164.3\" font-family=\"Helvetica,sans-Serif\" font-size=\"14.00\">gini = 0.486</text>\n",
       "<text text-anchor=\"middle\" x=\"457\" y=\"-149.3\" font-family=\"Helvetica,sans-Serif\" font-size=\"14.00\">samples = 12</text>\n",
       "<text text-anchor=\"middle\" x=\"457\" y=\"-134.3\" font-family=\"Helvetica,sans-Serif\" font-size=\"14.00\">value = [5, 7]</text>\n",
       "<text text-anchor=\"middle\" x=\"457\" y=\"-119.3\" font-family=\"Helvetica,sans-Serif\" font-size=\"14.00\">class = 음성</text>\n",
       "</g>\n",
       "<!-- 6&#45;&gt;7 -->\n",
       "<g id=\"edge7\" class=\"edge\">\n",
       "<title>6&#45;&gt;7</title>\n",
       "<path fill=\"none\" stroke=\"black\" d=\"M470.06,-222.91C468.23,-212.2 466.25,-200.62 464.4,-189.78\"/>\n",
       "<polygon fill=\"black\" stroke=\"black\" points=\"467.8,-188.93 462.67,-179.67 460.9,-190.11 467.8,-188.93\"/>\n",
       "</g>\n",
       "<!-- 8 -->\n",
       "<g id=\"node9\" class=\"node\">\n",
       "<title>8</title>\n",
       "<polygon fill=\"#3b9ee5\" stroke=\"black\" points=\"744.5,-187 531.5,-187 531.5,-104 744.5,-104 744.5,-187\"/>\n",
       "<text text-anchor=\"middle\" x=\"638\" y=\"-171.8\" font-family=\"Helvetica,sans-Serif\" font-size=\"14.00\">mean_perimeter &lt;= 91.945</text>\n",
       "<text text-anchor=\"middle\" x=\"638\" y=\"-156.8\" font-family=\"Helvetica,sans-Serif\" font-size=\"14.00\">gini = 0.017</text>\n",
       "<text text-anchor=\"middle\" x=\"638\" y=\"-141.8\" font-family=\"Helvetica,sans-Serif\" font-size=\"14.00\">samples = 115</text>\n",
       "<text text-anchor=\"middle\" x=\"638\" y=\"-126.8\" font-family=\"Helvetica,sans-Serif\" font-size=\"14.00\">value = [1, 114]</text>\n",
       "<text text-anchor=\"middle\" x=\"638\" y=\"-111.8\" font-family=\"Helvetica,sans-Serif\" font-size=\"14.00\">class = 음성</text>\n",
       "</g>\n",
       "<!-- 6&#45;&gt;8 -->\n",
       "<g id=\"edge8\" class=\"edge\">\n",
       "<title>6&#45;&gt;8</title>\n",
       "<path fill=\"none\" stroke=\"black\" d=\"M532.86,-222.91C546.1,-213.29 560.32,-202.95 573.89,-193.09\"/>\n",
       "<polygon fill=\"black\" stroke=\"black\" points=\"576.21,-195.73 582.24,-187.02 572.09,-190.07 576.21,-195.73\"/>\n",
       "</g>\n",
       "<!-- 9 -->\n",
       "<g id=\"node10\" class=\"node\">\n",
       "<title>9</title>\n",
       "<polygon fill=\"#4ba6e7\" stroke=\"black\" points=\"626,-68 504,-68 504,0 626,0 626,-68\"/>\n",
       "<text text-anchor=\"middle\" x=\"565\" y=\"-52.8\" font-family=\"Helvetica,sans-Serif\" font-size=\"14.00\">gini = 0.153</text>\n",
       "<text text-anchor=\"middle\" x=\"565\" y=\"-37.8\" font-family=\"Helvetica,sans-Serif\" font-size=\"14.00\">samples = 12</text>\n",
       "<text text-anchor=\"middle\" x=\"565\" y=\"-22.8\" font-family=\"Helvetica,sans-Serif\" font-size=\"14.00\">value = [1, 11]</text>\n",
       "<text text-anchor=\"middle\" x=\"565\" y=\"-7.8\" font-family=\"Helvetica,sans-Serif\" font-size=\"14.00\">class = 음성</text>\n",
       "</g>\n",
       "<!-- 8&#45;&gt;9 -->\n",
       "<g id=\"edge9\" class=\"edge\">\n",
       "<title>8&#45;&gt;9</title>\n",
       "<path fill=\"none\" stroke=\"black\" d=\"M610.82,-103.73C604.92,-94.88 598.67,-85.51 592.75,-76.63\"/>\n",
       "<polygon fill=\"black\" stroke=\"black\" points=\"595.66,-74.68 587.2,-68.3 589.83,-78.56 595.66,-74.68\"/>\n",
       "</g>\n",
       "<!-- 10 -->\n",
       "<g id=\"node11\" class=\"node\">\n",
       "<title>10</title>\n",
       "<polygon fill=\"#399de5\" stroke=\"black\" points=\"775.5,-68 644.5,-68 644.5,0 775.5,0 775.5,-68\"/>\n",
       "<text text-anchor=\"middle\" x=\"710\" y=\"-52.8\" font-family=\"Helvetica,sans-Serif\" font-size=\"14.00\">gini = 0.0</text>\n",
       "<text text-anchor=\"middle\" x=\"710\" y=\"-37.8\" font-family=\"Helvetica,sans-Serif\" font-size=\"14.00\">samples = 103</text>\n",
       "<text text-anchor=\"middle\" x=\"710\" y=\"-22.8\" font-family=\"Helvetica,sans-Serif\" font-size=\"14.00\">value = [0, 103]</text>\n",
       "<text text-anchor=\"middle\" x=\"710\" y=\"-7.8\" font-family=\"Helvetica,sans-Serif\" font-size=\"14.00\">class = 음성</text>\n",
       "</g>\n",
       "<!-- 8&#45;&gt;10 -->\n",
       "<g id=\"edge10\" class=\"edge\">\n",
       "<title>8&#45;&gt;10</title>\n",
       "<path fill=\"none\" stroke=\"black\" d=\"M664.81,-103.73C670.57,-94.97 676.66,-85.7 682.45,-76.91\"/>\n",
       "<polygon fill=\"black\" stroke=\"black\" points=\"685.53,-78.58 688.1,-68.3 679.69,-74.73 685.53,-78.58\"/>\n",
       "</g>\n",
       "</g>\n",
       "</svg>\n"
      ],
      "text/plain": [
       "<graphviz.files.Source at 0x7f80b4ed8640>"
      ]
     },
     "metadata": {},
     "output_type": "display_data"
    }
   ],
   "source": [
    "v_feature_name=df_train_x.columns\n",
    "export_graphviz(tree_final, out_file='tree_final.dot',class_names=['양성', '음성'], feature_names=v_feature_name, impurity=True, filled=True)\n",
    "with open('tree_final.dot') as f:\n",
    "    dot_graph=f.read()\n",
    "display(graphviz.Source(dot_graph))"
   ]
  },
  {
   "cell_type": "markdown",
   "id": "d3098328",
   "metadata": {},
   "source": [
    "### 설명변수 중요도"
   ]
  },
  {
   "cell_type": "code",
   "execution_count": 89,
   "id": "67f0d781",
   "metadata": {
    "scrolled": true
   },
   "outputs": [
    {
     "data": {
      "text/html": [
       "<div>\n",
       "<style scoped>\n",
       "    .dataframe tbody tr th:only-of-type {\n",
       "        vertical-align: middle;\n",
       "    }\n",
       "\n",
       "    .dataframe tbody tr th {\n",
       "        vertical-align: top;\n",
       "    }\n",
       "\n",
       "    .dataframe thead th {\n",
       "        text-align: right;\n",
       "    }\n",
       "</style>\n",
       "<table border=\"1\" class=\"dataframe\">\n",
       "  <thead>\n",
       "    <tr style=\"text-align: right;\">\n",
       "      <th></th>\n",
       "      <th>Feature</th>\n",
       "      <th>Importance</th>\n",
       "    </tr>\n",
       "  </thead>\n",
       "  <tbody>\n",
       "    <tr>\n",
       "      <th>7</th>\n",
       "      <td>mean_concave_points</td>\n",
       "      <td>0.819</td>\n",
       "    </tr>\n",
       "    <tr>\n",
       "      <th>21</th>\n",
       "      <td>worst_texture</td>\n",
       "      <td>0.113</td>\n",
       "    </tr>\n",
       "    <tr>\n",
       "      <th>1</th>\n",
       "      <td>mean_texture</td>\n",
       "      <td>0.056</td>\n",
       "    </tr>\n",
       "    <tr>\n",
       "      <th>13</th>\n",
       "      <td>area_error</td>\n",
       "      <td>0.009</td>\n",
       "    </tr>\n",
       "    <tr>\n",
       "      <th>2</th>\n",
       "      <td>mean_perimeter</td>\n",
       "      <td>0.002</td>\n",
       "    </tr>\n",
       "    <tr>\n",
       "      <th>0</th>\n",
       "      <td>mean_radius</td>\n",
       "      <td>0.000</td>\n",
       "    </tr>\n",
       "    <tr>\n",
       "      <th>22</th>\n",
       "      <td>worst_perimeter</td>\n",
       "      <td>0.000</td>\n",
       "    </tr>\n",
       "    <tr>\n",
       "      <th>19</th>\n",
       "      <td>fractal_dimension_error</td>\n",
       "      <td>0.000</td>\n",
       "    </tr>\n",
       "  </tbody>\n",
       "</table>\n",
       "</div>"
      ],
      "text/plain": [
       "                    Feature  Importance\n",
       "7       mean_concave_points       0.819\n",
       "21            worst_texture       0.113\n",
       "1              mean_texture       0.056\n",
       "13               area_error       0.009\n",
       "2            mean_perimeter       0.002\n",
       "0               mean_radius       0.000\n",
       "22          worst_perimeter       0.000\n",
       "19  fractal_dimension_error       0.000"
      ]
     },
     "execution_count": 89,
     "metadata": {},
     "output_type": "execute_result"
    }
   ],
   "source": [
    "# tree.feature_importances_로 설명변수 중요도 확인 및 테이블 저장\n",
    "df_importance=pd.DataFrame()\n",
    "df_importance['Feature']=v_feature_name\n",
    "df_importance['Importance']=tree_final.feature_importances_\n",
    "\n",
    "# 설명변수 중요도 테이블 출력\n",
    "df_importance.sort_values(\"Importance\", ascending=False, inplace=True)\n",
    "df_importance[:8].round(3)"
   ]
  },
  {
   "cell_type": "markdown",
   "id": "cff90370",
   "metadata": {},
   "source": [
    "이외 변수들은 영향이 너무 미미하므로 출력하지 않음."
   ]
  },
  {
   "cell_type": "markdown",
   "id": "f3ee0605",
   "metadata": {},
   "source": [
    "최종 모델 확인 결과, 유방암 데이터 세트에서 음성/양성을 판단함에 있어서 mean_concave_points가 결정적인 변수로 작용한다는 것을 알 수 있다.\n",
    "mean_concave_points는 오목한 포인트의 개수를 의미하는 것으로 mean_concave_point가 0.051보다 크다면 음성으로 판단될 확률이 높다.\n",
    "만약 mean_concave_point가 0.051보다 작았을 때는 worst_texture가 대략 31이상일 때를 제외하고는 높은 확률로 양성으로 판단된다는 것을 확인할 수 있다. \n",
    "confusion matrix에서 양성을 음성으로 판단하는 경우와 음성을 양성으로 판단하는 경우는 매우 치명적이며 이 경우가 대략 10% 내외인 것으로 보아 더 많은 데이터 확보 후 모델 개선이 필요해보인다. "
   ]
  },
  {
   "cell_type": "code",
   "execution_count": null,
   "id": "0f0d975a",
   "metadata": {},
   "outputs": [],
   "source": []
  },
  {
   "cell_type": "code",
   "execution_count": null,
   "id": "613e79f8",
   "metadata": {},
   "outputs": [],
   "source": []
  },
  {
   "cell_type": "code",
   "execution_count": null,
   "id": "31e21874",
   "metadata": {},
   "outputs": [],
   "source": []
  },
  {
   "cell_type": "code",
   "execution_count": null,
   "id": "79bd4802",
   "metadata": {},
   "outputs": [],
   "source": []
  },
  {
   "cell_type": "code",
   "execution_count": null,
   "id": "fcd237b6",
   "metadata": {},
   "outputs": [],
   "source": []
  },
  {
   "cell_type": "markdown",
   "id": "87012ee4",
   "metadata": {},
   "source": [
    "# 랜덤 포레스트_분류"
   ]
  },
  {
   "cell_type": "code",
   "execution_count": 90,
   "id": "88d02927",
   "metadata": {},
   "outputs": [],
   "source": [
    "import pandas as pd\n",
    "import matplotlib.pyplot as plt\n",
    "import matplotlib\n",
    "from sklearn.tree import export_graphviz\n",
    "import graphviz\n",
    "from sklearn.model_selection import train_test_split\n",
    "from sklearn.ensemble import RandomForestClassifier\n",
    "from sklearn.model_selection import GridSearchCV\n",
    "from sklearn.metrics import accuracy_score, f1_score\n",
    "from sklearn.metrics import confusion_matrix, classification_report"
   ]
  },
  {
   "cell_type": "code",
   "execution_count": 91,
   "id": "991ca12c",
   "metadata": {},
   "outputs": [],
   "source": [
    "import matplotlib as mpl\n",
    "\n",
    "# 유니코드 깨짐현상 해결\n",
    "mpl.rcParams['axes.unicode_minus'] = False\n",
    "\n",
    "# 나눔고딕 폰트 적용\n",
    "plt.rcParams['font.family']='NanumGothic'"
   ]
  },
  {
   "cell_type": "markdown",
   "id": "11ad0cef",
   "metadata": {},
   "source": [
    "## 데이터 구성하기"
   ]
  },
  {
   "cell_type": "code",
   "execution_count": 92,
   "id": "e6ac6229",
   "metadata": {},
   "outputs": [
    {
     "data": {
      "text/html": [
       "<div>\n",
       "<style scoped>\n",
       "    .dataframe tbody tr th:only-of-type {\n",
       "        vertical-align: middle;\n",
       "    }\n",
       "\n",
       "    .dataframe tbody tr th {\n",
       "        vertical-align: top;\n",
       "    }\n",
       "\n",
       "    .dataframe thead th {\n",
       "        text-align: right;\n",
       "    }\n",
       "</style>\n",
       "<table border=\"1\" class=\"dataframe\">\n",
       "  <thead>\n",
       "    <tr style=\"text-align: right;\">\n",
       "      <th></th>\n",
       "      <th>diagnosis</th>\n",
       "      <th>mean_radius</th>\n",
       "      <th>mean_texture</th>\n",
       "      <th>mean_perimeter</th>\n",
       "      <th>mean_area</th>\n",
       "      <th>mean_smoothness</th>\n",
       "      <th>mean_compactness</th>\n",
       "      <th>mean_concavity</th>\n",
       "      <th>mean_concave_points</th>\n",
       "      <th>mean_symmetry</th>\n",
       "      <th>...</th>\n",
       "      <th>worst_radius</th>\n",
       "      <th>worst_texture</th>\n",
       "      <th>worst_perimeter</th>\n",
       "      <th>worst_area</th>\n",
       "      <th>worst_smoothness</th>\n",
       "      <th>worst_compactness</th>\n",
       "      <th>worst_concavity</th>\n",
       "      <th>worst_concave_points</th>\n",
       "      <th>worst_symmetry</th>\n",
       "      <th>worst_fractal_dimension</th>\n",
       "    </tr>\n",
       "  </thead>\n",
       "  <tbody>\n",
       "    <tr>\n",
       "      <th>0</th>\n",
       "      <td>음성</td>\n",
       "      <td>15.12</td>\n",
       "      <td>16.68</td>\n",
       "      <td>98.78</td>\n",
       "      <td>716.6</td>\n",
       "      <td>0.08876</td>\n",
       "      <td>0.09588</td>\n",
       "      <td>0.07550</td>\n",
       "      <td>0.04079</td>\n",
       "      <td>0.1594</td>\n",
       "      <td>...</td>\n",
       "      <td>17.77</td>\n",
       "      <td>20.24</td>\n",
       "      <td>117.70</td>\n",
       "      <td>989.5</td>\n",
       "      <td>0.14910</td>\n",
       "      <td>0.3331</td>\n",
       "      <td>0.3327</td>\n",
       "      <td>0.12520</td>\n",
       "      <td>0.3415</td>\n",
       "      <td>0.09740</td>\n",
       "    </tr>\n",
       "    <tr>\n",
       "      <th>1</th>\n",
       "      <td>양성</td>\n",
       "      <td>10.80</td>\n",
       "      <td>9.71</td>\n",
       "      <td>68.77</td>\n",
       "      <td>357.6</td>\n",
       "      <td>0.09594</td>\n",
       "      <td>0.05736</td>\n",
       "      <td>0.02531</td>\n",
       "      <td>0.01698</td>\n",
       "      <td>0.1381</td>\n",
       "      <td>...</td>\n",
       "      <td>11.60</td>\n",
       "      <td>12.02</td>\n",
       "      <td>73.66</td>\n",
       "      <td>414.0</td>\n",
       "      <td>0.14360</td>\n",
       "      <td>0.1257</td>\n",
       "      <td>0.1047</td>\n",
       "      <td>0.04603</td>\n",
       "      <td>0.2090</td>\n",
       "      <td>0.07699</td>\n",
       "    </tr>\n",
       "    <tr>\n",
       "      <th>2</th>\n",
       "      <td>음성</td>\n",
       "      <td>18.31</td>\n",
       "      <td>18.58</td>\n",
       "      <td>118.60</td>\n",
       "      <td>1041.0</td>\n",
       "      <td>0.08588</td>\n",
       "      <td>0.08468</td>\n",
       "      <td>0.08169</td>\n",
       "      <td>0.05814</td>\n",
       "      <td>0.1621</td>\n",
       "      <td>...</td>\n",
       "      <td>21.31</td>\n",
       "      <td>26.36</td>\n",
       "      <td>139.20</td>\n",
       "      <td>1410.0</td>\n",
       "      <td>0.12340</td>\n",
       "      <td>0.2445</td>\n",
       "      <td>0.3538</td>\n",
       "      <td>0.15710</td>\n",
       "      <td>0.3206</td>\n",
       "      <td>0.06938</td>\n",
       "    </tr>\n",
       "    <tr>\n",
       "      <th>3</th>\n",
       "      <td>양성</td>\n",
       "      <td>14.92</td>\n",
       "      <td>14.93</td>\n",
       "      <td>96.45</td>\n",
       "      <td>686.9</td>\n",
       "      <td>0.08098</td>\n",
       "      <td>0.08549</td>\n",
       "      <td>0.05539</td>\n",
       "      <td>0.03221</td>\n",
       "      <td>0.1687</td>\n",
       "      <td>...</td>\n",
       "      <td>17.18</td>\n",
       "      <td>18.22</td>\n",
       "      <td>112.00</td>\n",
       "      <td>906.6</td>\n",
       "      <td>0.10650</td>\n",
       "      <td>0.2791</td>\n",
       "      <td>0.3151</td>\n",
       "      <td>0.11470</td>\n",
       "      <td>0.2688</td>\n",
       "      <td>0.08273</td>\n",
       "    </tr>\n",
       "    <tr>\n",
       "      <th>4</th>\n",
       "      <td>양성</td>\n",
       "      <td>12.89</td>\n",
       "      <td>13.12</td>\n",
       "      <td>81.89</td>\n",
       "      <td>515.9</td>\n",
       "      <td>0.06955</td>\n",
       "      <td>0.03729</td>\n",
       "      <td>0.02260</td>\n",
       "      <td>0.01171</td>\n",
       "      <td>0.1337</td>\n",
       "      <td>...</td>\n",
       "      <td>13.62</td>\n",
       "      <td>15.54</td>\n",
       "      <td>87.40</td>\n",
       "      <td>577.0</td>\n",
       "      <td>0.09616</td>\n",
       "      <td>0.1147</td>\n",
       "      <td>0.1186</td>\n",
       "      <td>0.05366</td>\n",
       "      <td>0.2309</td>\n",
       "      <td>0.06915</td>\n",
       "    </tr>\n",
       "  </tbody>\n",
       "</table>\n",
       "<p>5 rows × 31 columns</p>\n",
       "</div>"
      ],
      "text/plain": [
       "  diagnosis  mean_radius  mean_texture  mean_perimeter  mean_area  \\\n",
       "0        음성        15.12         16.68           98.78      716.6   \n",
       "1        양성        10.80          9.71           68.77      357.6   \n",
       "2        음성        18.31         18.58          118.60     1041.0   \n",
       "3        양성        14.92         14.93           96.45      686.9   \n",
       "4        양성        12.89         13.12           81.89      515.9   \n",
       "\n",
       "   mean_smoothness  mean_compactness  mean_concavity  mean_concave_points  \\\n",
       "0          0.08876           0.09588         0.07550              0.04079   \n",
       "1          0.09594           0.05736         0.02531              0.01698   \n",
       "2          0.08588           0.08468         0.08169              0.05814   \n",
       "3          0.08098           0.08549         0.05539              0.03221   \n",
       "4          0.06955           0.03729         0.02260              0.01171   \n",
       "\n",
       "   mean_symmetry  ...  worst_radius  worst_texture  worst_perimeter  \\\n",
       "0         0.1594  ...         17.77          20.24           117.70   \n",
       "1         0.1381  ...         11.60          12.02            73.66   \n",
       "2         0.1621  ...         21.31          26.36           139.20   \n",
       "3         0.1687  ...         17.18          18.22           112.00   \n",
       "4         0.1337  ...         13.62          15.54            87.40   \n",
       "\n",
       "   worst_area  worst_smoothness  worst_compactness  worst_concavity  \\\n",
       "0       989.5           0.14910             0.3331           0.3327   \n",
       "1       414.0           0.14360             0.1257           0.1047   \n",
       "2      1410.0           0.12340             0.2445           0.3538   \n",
       "3       906.6           0.10650             0.2791           0.3151   \n",
       "4       577.0           0.09616             0.1147           0.1186   \n",
       "\n",
       "   worst_concave_points  worst_symmetry  worst_fractal_dimension  \n",
       "0               0.12520          0.3415                  0.09740  \n",
       "1               0.04603          0.2090                  0.07699  \n",
       "2               0.15710          0.3206                  0.06938  \n",
       "3               0.11470          0.2688                  0.08273  \n",
       "4               0.05366          0.2309                  0.06915  \n",
       "\n",
       "[5 rows x 31 columns]"
      ]
     },
     "execution_count": 92,
     "metadata": {},
     "output_type": "execute_result"
    }
   ],
   "source": [
    "df_raw=pd.read_csv(\"/home/piai/Big Data/2. Big Data 분석/유방암.csv\", encoding='euc-kr')\n",
    "df_raw.head()"
   ]
  },
  {
   "cell_type": "markdown",
   "id": "c68e1a98",
   "metadata": {},
   "source": [
    "이 외 결측치 확인 및 기술통계량 확인 등은 위의 과정에서 진행했으므로 생략"
   ]
  },
  {
   "cell_type": "markdown",
   "id": "bd42e54d",
   "metadata": {},
   "source": [
    "### 목표변수(diagnosis), 설명변수 데이터 구성"
   ]
  },
  {
   "cell_type": "code",
   "execution_count": 96,
   "id": "1c4e1ae3",
   "metadata": {},
   "outputs": [],
   "source": [
    "# 설명변수\n",
    "df_raw_x=df_raw.drop('diagnosis', axis=1) \n",
    "# 목표변수 (diagnosis)\n",
    "df_raw_y=df_raw['diagnosis']"
   ]
  },
  {
   "cell_type": "markdown",
   "id": "ce2d1cd5",
   "metadata": {},
   "source": [
    "### 데이터 분할 train(0.6) : test(0.4)"
   ]
  },
  {
   "cell_type": "code",
   "execution_count": 98,
   "id": "3f20b677",
   "metadata": {},
   "outputs": [
    {
     "name": "stdout",
     "output_type": "stream",
     "text": [
      "train data :  (192, 30)\n",
      "test data :  (128, 30)\n"
     ]
    }
   ],
   "source": [
    "df_train_x, df_test_x, df_train_y, df_test_y=train_test_split(df_raw_x, df_raw_y, test_size=0.4)\n",
    "print(\"train data : \", df_train_x.shape)\n",
    "print(\"test data : \", df_test_x.shape)"
   ]
  },
  {
   "cell_type": "markdown",
   "id": "14265c37",
   "metadata": {},
   "source": [
    "train data 총 192개, test data 총 128개로 구성됨"
   ]
  },
  {
   "cell_type": "markdown",
   "id": "eae4fc09",
   "metadata": {},
   "source": [
    "위에서,\n",
    "목표변수 전체에서 음성은 212개, 양성은 108개로 확인\n",
    "\n",
    "목표변수 test data 중 음성은 80개, 양성은 48개 결과 확인"
   ]
  },
  {
   "cell_type": "markdown",
   "id": "2788e09e",
   "metadata": {},
   "source": [
    "## 랜덤 포레스트 모델 생성"
   ]
  },
  {
   "cell_type": "markdown",
   "id": "ce0e542a",
   "metadata": {},
   "source": [
    "### 기본 옵션으로 모델 생성"
   ]
  },
  {
   "cell_type": "code",
   "execution_count": 99,
   "id": "e8198168",
   "metadata": {},
   "outputs": [
    {
     "data": {
      "text/html": [
       "<style>#sk-container-id-5 {color: black;background-color: white;}#sk-container-id-5 pre{padding: 0;}#sk-container-id-5 div.sk-toggleable {background-color: white;}#sk-container-id-5 label.sk-toggleable__label {cursor: pointer;display: block;width: 100%;margin-bottom: 0;padding: 0.3em;box-sizing: border-box;text-align: center;}#sk-container-id-5 label.sk-toggleable__label-arrow:before {content: \"▸\";float: left;margin-right: 0.25em;color: #696969;}#sk-container-id-5 label.sk-toggleable__label-arrow:hover:before {color: black;}#sk-container-id-5 div.sk-estimator:hover label.sk-toggleable__label-arrow:before {color: black;}#sk-container-id-5 div.sk-toggleable__content {max-height: 0;max-width: 0;overflow: hidden;text-align: left;background-color: #f0f8ff;}#sk-container-id-5 div.sk-toggleable__content pre {margin: 0.2em;color: black;border-radius: 0.25em;background-color: #f0f8ff;}#sk-container-id-5 input.sk-toggleable__control:checked~div.sk-toggleable__content {max-height: 200px;max-width: 100%;overflow: auto;}#sk-container-id-5 input.sk-toggleable__control:checked~label.sk-toggleable__label-arrow:before {content: \"▾\";}#sk-container-id-5 div.sk-estimator input.sk-toggleable__control:checked~label.sk-toggleable__label {background-color: #d4ebff;}#sk-container-id-5 div.sk-label input.sk-toggleable__control:checked~label.sk-toggleable__label {background-color: #d4ebff;}#sk-container-id-5 input.sk-hidden--visually {border: 0;clip: rect(1px 1px 1px 1px);clip: rect(1px, 1px, 1px, 1px);height: 1px;margin: -1px;overflow: hidden;padding: 0;position: absolute;width: 1px;}#sk-container-id-5 div.sk-estimator {font-family: monospace;background-color: #f0f8ff;border: 1px dotted black;border-radius: 0.25em;box-sizing: border-box;margin-bottom: 0.5em;}#sk-container-id-5 div.sk-estimator:hover {background-color: #d4ebff;}#sk-container-id-5 div.sk-parallel-item::after {content: \"\";width: 100%;border-bottom: 1px solid gray;flex-grow: 1;}#sk-container-id-5 div.sk-label:hover label.sk-toggleable__label {background-color: #d4ebff;}#sk-container-id-5 div.sk-serial::before {content: \"\";position: absolute;border-left: 1px solid gray;box-sizing: border-box;top: 0;bottom: 0;left: 50%;z-index: 0;}#sk-container-id-5 div.sk-serial {display: flex;flex-direction: column;align-items: center;background-color: white;padding-right: 0.2em;padding-left: 0.2em;position: relative;}#sk-container-id-5 div.sk-item {position: relative;z-index: 1;}#sk-container-id-5 div.sk-parallel {display: flex;align-items: stretch;justify-content: center;background-color: white;position: relative;}#sk-container-id-5 div.sk-item::before, #sk-container-id-5 div.sk-parallel-item::before {content: \"\";position: absolute;border-left: 1px solid gray;box-sizing: border-box;top: 0;bottom: 0;left: 50%;z-index: -1;}#sk-container-id-5 div.sk-parallel-item {display: flex;flex-direction: column;z-index: 1;position: relative;background-color: white;}#sk-container-id-5 div.sk-parallel-item:first-child::after {align-self: flex-end;width: 50%;}#sk-container-id-5 div.sk-parallel-item:last-child::after {align-self: flex-start;width: 50%;}#sk-container-id-5 div.sk-parallel-item:only-child::after {width: 0;}#sk-container-id-5 div.sk-dashed-wrapped {border: 1px dashed gray;margin: 0 0.4em 0.5em 0.4em;box-sizing: border-box;padding-bottom: 0.4em;background-color: white;}#sk-container-id-5 div.sk-label label {font-family: monospace;font-weight: bold;display: inline-block;line-height: 1.2em;}#sk-container-id-5 div.sk-label-container {text-align: center;}#sk-container-id-5 div.sk-container {/* jupyter's `normalize.less` sets `[hidden] { display: none; }` but bootstrap.min.css set `[hidden] { display: none !important; }` so we also need the `!important` here to be able to override the default hidden behavior on the sphinx rendered scikit-learn.org. See: https://github.com/scikit-learn/scikit-learn/issues/21755 */display: inline-block !important;position: relative;}#sk-container-id-5 div.sk-text-repr-fallback {display: none;}</style><div id=\"sk-container-id-5\" class=\"sk-top-container\"><div class=\"sk-text-repr-fallback\"><pre>RandomForestClassifier()</pre><b>In a Jupyter environment, please rerun this cell to show the HTML representation or trust the notebook. <br />On GitHub, the HTML representation is unable to render, please try loading this page with nbviewer.org.</b></div><div class=\"sk-container\" hidden><div class=\"sk-item\"><div class=\"sk-estimator sk-toggleable\"><input class=\"sk-toggleable__control sk-hidden--visually\" id=\"sk-estimator-id-5\" type=\"checkbox\" checked><label for=\"sk-estimator-id-5\" class=\"sk-toggleable__label sk-toggleable__label-arrow\">RandomForestClassifier</label><div class=\"sk-toggleable__content\"><pre>RandomForestClassifier()</pre></div></div></div></div></div>"
      ],
      "text/plain": [
       "RandomForestClassifier()"
      ]
     },
     "execution_count": 99,
     "metadata": {},
     "output_type": "execute_result"
    }
   ],
   "source": [
    "rf_uncustomized=RandomForestClassifier()\n",
    "rf_uncustomized.fit(df_train_x, df_train_y)"
   ]
  },
  {
   "cell_type": "code",
   "execution_count": 100,
   "id": "db81aff7",
   "metadata": {},
   "outputs": [
    {
     "name": "stdout",
     "output_type": "stream",
     "text": [
      "Accuracy on training set : 1.000\n",
      "Accuracy on test set : 0.945\n"
     ]
    }
   ],
   "source": [
    "print(\"Accuracy on training set : {:.3f}\".format(rf_uncustomized.score(df_train_x, df_train_y)))\n",
    "print(\"Accuracy on test set : {:.3f}\".format(rf_uncustomized.score(df_test_x, df_test_y)))"
   ]
  },
  {
   "cell_type": "markdown",
   "id": "e5715949",
   "metadata": {},
   "source": [
    "기본 옵션으로 의사결정나무 모델 생성시, 모델 정확도는 train 100%, test 86.7%로 모델은 train data에 과대적합"
   ]
  },
  {
   "cell_type": "markdown",
   "id": "2152e319",
   "metadata": {},
   "source": [
    "## 모델 Parameter 조정"
   ]
  },
  {
   "cell_type": "markdown",
   "id": "3770ba0e",
   "metadata": {},
   "source": [
    "### n_estimators : 트리 수 변경에 따른 모델 성능"
   ]
  },
  {
   "cell_type": "code",
   "execution_count": 101,
   "id": "d9d5941e",
   "metadata": {},
   "outputs": [],
   "source": [
    "#train 및 test 정확도 결과 저장용\n",
    "train_accuracy=[]; test_accuracy=[]\n",
    "# n_estimators : 트리 수 변경 1~150\n",
    "para_n_tree=[n_tree*10 for n_tree in range(1,16)]\n",
    "\n",
    "for v_n_estimators in para_n_tree :\n",
    "    rf=RandomForestClassifier(n_estimators=v_n_estimators)\n",
    "    rf.fit(df_train_x, df_train_y)\n",
    "    train_accuracy.append(rf.score(df_train_x, df_train_y))\n",
    "    test_accuracy.append(rf.score(df_test_x, df_test_y))\n",
    "    \n",
    "# 데이터 테이블로 저장\n",
    "df_accuracy_n=pd.DataFrame()\n",
    "df_accuracy_n['n_estimators']=para_n_tree\n",
    "df_accuracy_n['Train Accuracy']=train_accuracy\n",
    "df_accuracy_n['Test Accuracy']=test_accuracy"
   ]
  },
  {
   "cell_type": "code",
   "execution_count": 102,
   "id": "8efc5c4e",
   "metadata": {},
   "outputs": [
    {
     "data": {
      "text/html": [
       "<div>\n",
       "<style scoped>\n",
       "    .dataframe tbody tr th:only-of-type {\n",
       "        vertical-align: middle;\n",
       "    }\n",
       "\n",
       "    .dataframe tbody tr th {\n",
       "        vertical-align: top;\n",
       "    }\n",
       "\n",
       "    .dataframe thead th {\n",
       "        text-align: right;\n",
       "    }\n",
       "</style>\n",
       "<table border=\"1\" class=\"dataframe\">\n",
       "  <thead>\n",
       "    <tr style=\"text-align: right;\">\n",
       "      <th></th>\n",
       "      <th>n_estimators</th>\n",
       "      <th>Train Accuracy</th>\n",
       "      <th>Test Accuracy</th>\n",
       "    </tr>\n",
       "  </thead>\n",
       "  <tbody>\n",
       "    <tr>\n",
       "      <th>0</th>\n",
       "      <td>10</td>\n",
       "      <td>0.995</td>\n",
       "      <td>0.945</td>\n",
       "    </tr>\n",
       "    <tr>\n",
       "      <th>1</th>\n",
       "      <td>20</td>\n",
       "      <td>1.000</td>\n",
       "      <td>0.938</td>\n",
       "    </tr>\n",
       "    <tr>\n",
       "      <th>2</th>\n",
       "      <td>30</td>\n",
       "      <td>1.000</td>\n",
       "      <td>0.938</td>\n",
       "    </tr>\n",
       "    <tr>\n",
       "      <th>3</th>\n",
       "      <td>40</td>\n",
       "      <td>1.000</td>\n",
       "      <td>0.961</td>\n",
       "    </tr>\n",
       "    <tr>\n",
       "      <th>4</th>\n",
       "      <td>50</td>\n",
       "      <td>1.000</td>\n",
       "      <td>0.938</td>\n",
       "    </tr>\n",
       "    <tr>\n",
       "      <th>5</th>\n",
       "      <td>60</td>\n",
       "      <td>1.000</td>\n",
       "      <td>0.930</td>\n",
       "    </tr>\n",
       "    <tr>\n",
       "      <th>6</th>\n",
       "      <td>70</td>\n",
       "      <td>1.000</td>\n",
       "      <td>0.938</td>\n",
       "    </tr>\n",
       "    <tr>\n",
       "      <th>7</th>\n",
       "      <td>80</td>\n",
       "      <td>1.000</td>\n",
       "      <td>0.953</td>\n",
       "    </tr>\n",
       "    <tr>\n",
       "      <th>8</th>\n",
       "      <td>90</td>\n",
       "      <td>1.000</td>\n",
       "      <td>0.938</td>\n",
       "    </tr>\n",
       "    <tr>\n",
       "      <th>9</th>\n",
       "      <td>100</td>\n",
       "      <td>1.000</td>\n",
       "      <td>0.938</td>\n",
       "    </tr>\n",
       "    <tr>\n",
       "      <th>10</th>\n",
       "      <td>110</td>\n",
       "      <td>1.000</td>\n",
       "      <td>0.938</td>\n",
       "    </tr>\n",
       "    <tr>\n",
       "      <th>11</th>\n",
       "      <td>120</td>\n",
       "      <td>1.000</td>\n",
       "      <td>0.953</td>\n",
       "    </tr>\n",
       "    <tr>\n",
       "      <th>12</th>\n",
       "      <td>130</td>\n",
       "      <td>1.000</td>\n",
       "      <td>0.938</td>\n",
       "    </tr>\n",
       "    <tr>\n",
       "      <th>13</th>\n",
       "      <td>140</td>\n",
       "      <td>1.000</td>\n",
       "      <td>0.945</td>\n",
       "    </tr>\n",
       "    <tr>\n",
       "      <th>14</th>\n",
       "      <td>150</td>\n",
       "      <td>1.000</td>\n",
       "      <td>0.938</td>\n",
       "    </tr>\n",
       "  </tbody>\n",
       "</table>\n",
       "</div>"
      ],
      "text/plain": [
       "    n_estimators  Train Accuracy  Test Accuracy\n",
       "0             10           0.995          0.945\n",
       "1             20           1.000          0.938\n",
       "2             30           1.000          0.938\n",
       "3             40           1.000          0.961\n",
       "4             50           1.000          0.938\n",
       "5             60           1.000          0.930\n",
       "6             70           1.000          0.938\n",
       "7             80           1.000          0.953\n",
       "8             90           1.000          0.938\n",
       "9            100           1.000          0.938\n",
       "10           110           1.000          0.938\n",
       "11           120           1.000          0.953\n",
       "12           130           1.000          0.938\n",
       "13           140           1.000          0.945\n",
       "14           150           1.000          0.938"
      ]
     },
     "execution_count": 102,
     "metadata": {},
     "output_type": "execute_result"
    }
   ],
   "source": [
    "# 모델 정확도 확인\n",
    "df_accuracy_n.round(3)"
   ]
  },
  {
   "cell_type": "code",
   "execution_count": 103,
   "id": "bc0fe7e6",
   "metadata": {},
   "outputs": [
    {
     "data": {
      "text/plain": [
       "<matplotlib.legend.Legend at 0x7f80aef9f670>"
      ]
     },
     "execution_count": 103,
     "metadata": {},
     "output_type": "execute_result"
    },
    {
     "data": {
      "image/png": "[encoded data removed]",
      "text/plain": [
       "<Figure size 640x480 with 1 Axes>"
      ]
     },
     "metadata": {},
     "output_type": "display_data"
    }
   ],
   "source": [
    "# 모델 정확도 그래프 확인\n",
    "plt.plot(para_n_tree, train_accuracy, linestyle='-', label='Train Accuracy')\n",
    "plt.plot(para_n_tree, test_accuracy, linestyle='--', label='Test Accuracy')\n",
    "plt.xlabel('n_estimators'); plt.ylabel('accuracy')\n",
    "plt.legend()"
   ]
  },
  {
   "cell_type": "markdown",
   "id": "9e9e5246",
   "metadata": {},
   "source": [
    "train data의 경우 결정 트리수가 20개 이상일 때부터 100%를 달성하기 때문에 과적합 경향을 보임.\n",
    "\n",
    "하지만 결정 트리수를 20개 이하로 설정하면 test data의 정확도가 낮기 때문에 test data가 최대 성능을 보이는 40으로 최종 결정"
   ]
  },
  {
   "cell_type": "markdown",
   "id": "869bcaf1",
   "metadata": {},
   "source": [
    "### max_depth : 최대 깊이 변경에 따른 모델 생성"
   ]
  },
  {
   "cell_type": "code",
   "execution_count": 104,
   "id": "aa10ef92",
   "metadata": {},
   "outputs": [],
   "source": [
    "#train 및 test 정확도 결과 저장용\n",
    "train_accuracy=[]; test_accuracy=[]\n",
    "# max_depth : 최대 깊이 변경. 1~10\n",
    "para_depth=[depth for depth in range(1,11)]\n",
    "\n",
    "for v_max_depth in para_depth :\n",
    "    rf=RandomForestClassifier(max_depth=v_max_depth, n_estimators=40)\n",
    "    rf.fit(df_train_x, df_train_y)\n",
    "    train_accuracy.append(rf.score(df_train_x, df_train_y))\n",
    "    test_accuracy.append(rf.score(df_test_x, df_test_y))\n",
    "    \n",
    "# 데이터 테이블로 저장\n",
    "df_accuracy_depth=pd.DataFrame()\n",
    "df_accuracy_depth['Depth']=para_depth\n",
    "df_accuracy_depth['Train Accuracy']=train_accuracy\n",
    "df_accuracy_depth['Test Accuracy']=test_accuracy"
   ]
  },
  {
   "cell_type": "code",
   "execution_count": 105,
   "id": "050dafa9",
   "metadata": {},
   "outputs": [
    {
     "data": {
      "text/html": [
       "<div>\n",
       "<style scoped>\n",
       "    .dataframe tbody tr th:only-of-type {\n",
       "        vertical-align: middle;\n",
       "    }\n",
       "\n",
       "    .dataframe tbody tr th {\n",
       "        vertical-align: top;\n",
       "    }\n",
       "\n",
       "    .dataframe thead th {\n",
       "        text-align: right;\n",
       "    }\n",
       "</style>\n",
       "<table border=\"1\" class=\"dataframe\">\n",
       "  <thead>\n",
       "    <tr style=\"text-align: right;\">\n",
       "      <th></th>\n",
       "      <th>Depth</th>\n",
       "      <th>Train Accuracy</th>\n",
       "      <th>Test Accuracy</th>\n",
       "    </tr>\n",
       "  </thead>\n",
       "  <tbody>\n",
       "    <tr>\n",
       "      <th>0</th>\n",
       "      <td>1</td>\n",
       "      <td>0.938</td>\n",
       "      <td>0.914</td>\n",
       "    </tr>\n",
       "    <tr>\n",
       "      <th>1</th>\n",
       "      <td>2</td>\n",
       "      <td>0.953</td>\n",
       "      <td>0.922</td>\n",
       "    </tr>\n",
       "    <tr>\n",
       "      <th>2</th>\n",
       "      <td>3</td>\n",
       "      <td>0.984</td>\n",
       "      <td>0.930</td>\n",
       "    </tr>\n",
       "    <tr>\n",
       "      <th>3</th>\n",
       "      <td>4</td>\n",
       "      <td>1.000</td>\n",
       "      <td>0.953</td>\n",
       "    </tr>\n",
       "    <tr>\n",
       "      <th>4</th>\n",
       "      <td>5</td>\n",
       "      <td>0.995</td>\n",
       "      <td>0.938</td>\n",
       "    </tr>\n",
       "    <tr>\n",
       "      <th>5</th>\n",
       "      <td>6</td>\n",
       "      <td>1.000</td>\n",
       "      <td>0.938</td>\n",
       "    </tr>\n",
       "    <tr>\n",
       "      <th>6</th>\n",
       "      <td>7</td>\n",
       "      <td>1.000</td>\n",
       "      <td>0.945</td>\n",
       "    </tr>\n",
       "    <tr>\n",
       "      <th>7</th>\n",
       "      <td>8</td>\n",
       "      <td>1.000</td>\n",
       "      <td>0.945</td>\n",
       "    </tr>\n",
       "    <tr>\n",
       "      <th>8</th>\n",
       "      <td>9</td>\n",
       "      <td>1.000</td>\n",
       "      <td>0.945</td>\n",
       "    </tr>\n",
       "    <tr>\n",
       "      <th>9</th>\n",
       "      <td>10</td>\n",
       "      <td>1.000</td>\n",
       "      <td>0.938</td>\n",
       "    </tr>\n",
       "  </tbody>\n",
       "</table>\n",
       "</div>"
      ],
      "text/plain": [
       "   Depth  Train Accuracy  Test Accuracy\n",
       "0      1           0.938          0.914\n",
       "1      2           0.953          0.922\n",
       "2      3           0.984          0.930\n",
       "3      4           1.000          0.953\n",
       "4      5           0.995          0.938\n",
       "5      6           1.000          0.938\n",
       "6      7           1.000          0.945\n",
       "7      8           1.000          0.945\n",
       "8      9           1.000          0.945\n",
       "9     10           1.000          0.938"
      ]
     },
     "execution_count": 105,
     "metadata": {},
     "output_type": "execute_result"
    }
   ],
   "source": [
    "# 모델 정확도 확인\n",
    "df_accuracy_depth.round(3)"
   ]
  },
  {
   "cell_type": "code",
   "execution_count": 106,
   "id": "68a5b58f",
   "metadata": {},
   "outputs": [
    {
     "data": {
      "text/plain": [
       "<matplotlib.legend.Legend at 0x7f80aed886a0>"
      ]
     },
     "execution_count": 106,
     "metadata": {},
     "output_type": "execute_result"
    },
    {
     "data": {
      "image/png": "[encoded data removed]",
      "text/plain": [
       "<Figure size 640x480 with 1 Axes>"
      ]
     },
     "metadata": {},
     "output_type": "display_data"
    }
   ],
   "source": [
    "# 모델 정확도 그래프 확인\n",
    "plt.plot(para_depth, train_accuracy, linestyle='-', label='Train Accuracy')\n",
    "plt.plot(para_depth, test_accuracy, linestyle='--', label='Test Accuracy')\n",
    "plt.xlabel('max depth'); plt.ylabel('accuracy')\n",
    "plt.legend()"
   ]
  },
  {
   "cell_type": "markdown",
   "id": "16fd17ea",
   "metadata": {},
   "source": [
    "최대 깊이 증가함에 따라 train data는 과적합 경향을 보임. 과적합을 최대한 방지하고 test data의 성능을 향상시키기 위해 max_depth는 4로 설정"
   ]
  },
  {
   "cell_type": "markdown",
   "id": "7248da54",
   "metadata": {},
   "source": [
    "### min_samples_split : 분리 노드의 최소 자료수 변경에 따른 모델 성능"
   ]
  },
  {
   "cell_type": "code",
   "execution_count": 110,
   "id": "57f931ed",
   "metadata": {},
   "outputs": [],
   "source": [
    "#train 및 test 정확도 결과 저장용\n",
    "train_accuracy=[]; test_accuracy=[]\n",
    "# min_samples_split : 분할하기 위한 노드의 최소 샘플 수. 10~100\n",
    "para_split=[n_split*10 for n_split in range(1,11)]\n",
    "\n",
    "for v_min_samples_split in para_split :\n",
    "    rf=RandomForestClassifier(min_samples_split=v_min_samples_split, max_depth=4, n_estimators=40)\n",
    "    rf.fit(df_train_x, df_train_y)\n",
    "    train_accuracy.append(rf.score(df_train_x, df_train_y))\n",
    "    test_accuracy.append(rf.score(df_test_x, df_test_y))\n",
    "    \n",
    "# 데이터 테이블로 저장\n",
    "df_accuracy_split=pd.DataFrame()\n",
    "df_accuracy_split['MinSamplesSpilt']=para_split\n",
    "df_accuracy_split['Train Accuracy']=train_accuracy\n",
    "df_accuracy_split['Test Accuracy']=test_accuracy"
   ]
  },
  {
   "cell_type": "code",
   "execution_count": 111,
   "id": "85fe21e8",
   "metadata": {},
   "outputs": [
    {
     "data": {
      "text/html": [
       "<div>\n",
       "<style scoped>\n",
       "    .dataframe tbody tr th:only-of-type {\n",
       "        vertical-align: middle;\n",
       "    }\n",
       "\n",
       "    .dataframe tbody tr th {\n",
       "        vertical-align: top;\n",
       "    }\n",
       "\n",
       "    .dataframe thead th {\n",
       "        text-align: right;\n",
       "    }\n",
       "</style>\n",
       "<table border=\"1\" class=\"dataframe\">\n",
       "  <thead>\n",
       "    <tr style=\"text-align: right;\">\n",
       "      <th></th>\n",
       "      <th>MinSamplesSpilt</th>\n",
       "      <th>Train Accuracy</th>\n",
       "      <th>Test Accuracy</th>\n",
       "    </tr>\n",
       "  </thead>\n",
       "  <tbody>\n",
       "    <tr>\n",
       "      <th>0</th>\n",
       "      <td>10</td>\n",
       "      <td>0.990</td>\n",
       "      <td>0.922</td>\n",
       "    </tr>\n",
       "    <tr>\n",
       "      <th>1</th>\n",
       "      <td>20</td>\n",
       "      <td>0.984</td>\n",
       "      <td>0.914</td>\n",
       "    </tr>\n",
       "    <tr>\n",
       "      <th>2</th>\n",
       "      <td>30</td>\n",
       "      <td>0.979</td>\n",
       "      <td>0.938</td>\n",
       "    </tr>\n",
       "    <tr>\n",
       "      <th>3</th>\n",
       "      <td>40</td>\n",
       "      <td>0.974</td>\n",
       "      <td>0.922</td>\n",
       "    </tr>\n",
       "    <tr>\n",
       "      <th>4</th>\n",
       "      <td>50</td>\n",
       "      <td>0.958</td>\n",
       "      <td>0.898</td>\n",
       "    </tr>\n",
       "    <tr>\n",
       "      <th>5</th>\n",
       "      <td>60</td>\n",
       "      <td>0.969</td>\n",
       "      <td>0.898</td>\n",
       "    </tr>\n",
       "    <tr>\n",
       "      <th>6</th>\n",
       "      <td>70</td>\n",
       "      <td>0.943</td>\n",
       "      <td>0.883</td>\n",
       "    </tr>\n",
       "    <tr>\n",
       "      <th>7</th>\n",
       "      <td>80</td>\n",
       "      <td>0.943</td>\n",
       "      <td>0.906</td>\n",
       "    </tr>\n",
       "    <tr>\n",
       "      <th>8</th>\n",
       "      <td>90</td>\n",
       "      <td>0.938</td>\n",
       "      <td>0.906</td>\n",
       "    </tr>\n",
       "    <tr>\n",
       "      <th>9</th>\n",
       "      <td>100</td>\n",
       "      <td>0.943</td>\n",
       "      <td>0.914</td>\n",
       "    </tr>\n",
       "  </tbody>\n",
       "</table>\n",
       "</div>"
      ],
      "text/plain": [
       "   MinSamplesSpilt  Train Accuracy  Test Accuracy\n",
       "0               10           0.990          0.922\n",
       "1               20           0.984          0.914\n",
       "2               30           0.979          0.938\n",
       "3               40           0.974          0.922\n",
       "4               50           0.958          0.898\n",
       "5               60           0.969          0.898\n",
       "6               70           0.943          0.883\n",
       "7               80           0.943          0.906\n",
       "8               90           0.938          0.906\n",
       "9              100           0.943          0.914"
      ]
     },
     "execution_count": 111,
     "metadata": {},
     "output_type": "execute_result"
    }
   ],
   "source": [
    "# 모델 정확도 확인\n",
    "df_accuracy_split.round(3)"
   ]
  },
  {
   "cell_type": "code",
   "execution_count": 113,
   "id": "be91de94",
   "metadata": {},
   "outputs": [
    {
     "data": {
      "text/plain": [
       "<matplotlib.legend.Legend at 0x7f80aec516a0>"
      ]
     },
     "execution_count": 113,
     "metadata": {},
     "output_type": "execute_result"
    },
    {
     "data": {
      "image/png": "[encoded data removed]",
      "text/plain": [
       "<Figure size 640x480 with 1 Axes>"
      ]
     },
     "metadata": {},
     "output_type": "display_data"
    }
   ],
   "source": [
    "# 모델 정확도 그래프 확인\n",
    "plt.plot(para_split, train_accuracy, linestyle='-', label='Train Accuracy')\n",
    "plt.plot(para_split, test_accuracy, linestyle='--', label='Test Accuracy')\n",
    "plt.xlabel('min samples split'); plt.ylabel('accuracy')\n",
    "plt.legend()"
   ]
  },
  {
   "cell_type": "markdown",
   "id": "d6944ce7",
   "metadata": {},
   "source": [
    "train data는 총 192개. \n",
    "test data는 30 이후로 성능이 저하되며 train data는 정확도가 지속적으로 감소하는 추세를 보임.\n",
    "train data의 총 개수가 192개 임을 감안하여 과대적합을 방지하기 위해 min_samples_split는 40개로 설정"
   ]
  },
  {
   "cell_type": "markdown",
   "id": "95ca702a",
   "metadata": {},
   "source": [
    "### min_samples_leaf : 잎사귀 노드의 최소 자료수 변경에 따른 모델 성능"
   ]
  },
  {
   "cell_type": "code",
   "execution_count": 132,
   "id": "72bc4b57",
   "metadata": {},
   "outputs": [],
   "source": [
    "#train 및 test 정확도 결과 저장용\n",
    "train_accuracy=[]; test_accuracy=[]\n",
    "# min_samples_leaf : 잎사귀 노드 최소 자료 수 5~50\n",
    "para_leaf=[n_leaf*5 for n_leaf in range(1,11)]\n",
    "\n",
    "for v_min_samples_leaf in para_leaf :\n",
    "    rf=RandomForestClassifier(min_samples_leaf=v_min_samples_leaf, min_samples_split=40, max_depth=4, n_estimators=40)\n",
    "    rf.fit(df_train_x, df_train_y)\n",
    "    train_accuracy.append(rf.score(df_train_x, df_train_y))\n",
    "    test_accuracy.append(rf.score(df_test_x, df_test_y))\n",
    "    \n",
    "# 데이터 테이블로 저장\n",
    "df_accuracy_leaf=pd.DataFrame()\n",
    "df_accuracy_leaf['MinSamplesLeaf']=para_leaf\n",
    "df_accuracy_leaf['Train Accuracy']=train_accuracy\n",
    "df_accuracy_leaf['Test Accuracy']=test_accuracy"
   ]
  },
  {
   "cell_type": "code",
   "execution_count": 133,
   "id": "83bc0978",
   "metadata": {},
   "outputs": [
    {
     "data": {
      "text/html": [
       "<div>\n",
       "<style scoped>\n",
       "    .dataframe tbody tr th:only-of-type {\n",
       "        vertical-align: middle;\n",
       "    }\n",
       "\n",
       "    .dataframe tbody tr th {\n",
       "        vertical-align: top;\n",
       "    }\n",
       "\n",
       "    .dataframe thead th {\n",
       "        text-align: right;\n",
       "    }\n",
       "</style>\n",
       "<table border=\"1\" class=\"dataframe\">\n",
       "  <thead>\n",
       "    <tr style=\"text-align: right;\">\n",
       "      <th></th>\n",
       "      <th>MinSamplesLeaf</th>\n",
       "      <th>Train Accuracy</th>\n",
       "      <th>Test Accuracy</th>\n",
       "    </tr>\n",
       "  </thead>\n",
       "  <tbody>\n",
       "    <tr>\n",
       "      <th>0</th>\n",
       "      <td>5</td>\n",
       "      <td>0.953</td>\n",
       "      <td>0.898</td>\n",
       "    </tr>\n",
       "    <tr>\n",
       "      <th>1</th>\n",
       "      <td>10</td>\n",
       "      <td>0.958</td>\n",
       "      <td>0.930</td>\n",
       "    </tr>\n",
       "    <tr>\n",
       "      <th>2</th>\n",
       "      <td>15</td>\n",
       "      <td>0.958</td>\n",
       "      <td>0.922</td>\n",
       "    </tr>\n",
       "    <tr>\n",
       "      <th>3</th>\n",
       "      <td>20</td>\n",
       "      <td>0.943</td>\n",
       "      <td>0.922</td>\n",
       "    </tr>\n",
       "    <tr>\n",
       "      <th>4</th>\n",
       "      <td>25</td>\n",
       "      <td>0.948</td>\n",
       "      <td>0.891</td>\n",
       "    </tr>\n",
       "    <tr>\n",
       "      <th>5</th>\n",
       "      <td>30</td>\n",
       "      <td>0.948</td>\n",
       "      <td>0.898</td>\n",
       "    </tr>\n",
       "    <tr>\n",
       "      <th>6</th>\n",
       "      <td>35</td>\n",
       "      <td>0.938</td>\n",
       "      <td>0.906</td>\n",
       "    </tr>\n",
       "    <tr>\n",
       "      <th>7</th>\n",
       "      <td>40</td>\n",
       "      <td>0.958</td>\n",
       "      <td>0.930</td>\n",
       "    </tr>\n",
       "    <tr>\n",
       "      <th>8</th>\n",
       "      <td>45</td>\n",
       "      <td>0.953</td>\n",
       "      <td>0.930</td>\n",
       "    </tr>\n",
       "    <tr>\n",
       "      <th>9</th>\n",
       "      <td>50</td>\n",
       "      <td>0.932</td>\n",
       "      <td>0.922</td>\n",
       "    </tr>\n",
       "  </tbody>\n",
       "</table>\n",
       "</div>"
      ],
      "text/plain": [
       "   MinSamplesLeaf  Train Accuracy  Test Accuracy\n",
       "0               5           0.953          0.898\n",
       "1              10           0.958          0.930\n",
       "2              15           0.958          0.922\n",
       "3              20           0.943          0.922\n",
       "4              25           0.948          0.891\n",
       "5              30           0.948          0.898\n",
       "6              35           0.938          0.906\n",
       "7              40           0.958          0.930\n",
       "8              45           0.953          0.930\n",
       "9              50           0.932          0.922"
      ]
     },
     "execution_count": 133,
     "metadata": {},
     "output_type": "execute_result"
    }
   ],
   "source": [
    "# 모델 정확도 확인\n",
    "df_accuracy_leaf.round(3)"
   ]
  },
  {
   "cell_type": "code",
   "execution_count": 134,
   "id": "9f3d2cff",
   "metadata": {},
   "outputs": [
    {
     "data": {
      "text/plain": [
       "<matplotlib.legend.Legend at 0x7f80aea15e50>"
      ]
     },
     "execution_count": 134,
     "metadata": {},
     "output_type": "execute_result"
    },
    {
     "data": {
      "image/png": "[encoded data removed]",
      "text/plain": [
       "<Figure size 640x480 with 1 Axes>"
      ]
     },
     "metadata": {},
     "output_type": "display_data"
    }
   ],
   "source": [
    "# 모델 정확도 그래프 확인\n",
    "plt.plot(para_leaf, train_accuracy, linestyle='-', label='Train Accuracy')\n",
    "plt.plot(para_leaf, test_accuracy, linestyle='--', label='Test Accuracy')\n",
    "plt.xlabel('min samples leaf'); plt.ylabel('accuracy')\n",
    "plt.legend()"
   ]
  },
  {
   "cell_type": "markdown",
   "id": "27c814e6",
   "metadata": {},
   "source": [
    "train data는 총 192개. \n",
    "잎사귀 노드의 최소 자료수가 증가하면서 train data의 성능은 전반적으로 감소하는 추세를 보이며 test data는 불규칙적인 모습을 보임\n",
    "min_samples_split는 과대적합을 최대한 방지하기 위해 35개로 설정"
   ]
  },
  {
   "cell_type": "markdown",
   "id": "e7be1f29",
   "metadata": {},
   "source": [
    "## 최종 모델"
   ]
  },
  {
   "cell_type": "code",
   "execution_count": 137,
   "id": "a82a0b28",
   "metadata": {},
   "outputs": [
    {
     "data": {
      "text/html": [
       "<style>#sk-container-id-9 {color: black;background-color: white;}#sk-container-id-9 pre{padding: 0;}#sk-container-id-9 div.sk-toggleable {background-color: white;}#sk-container-id-9 label.sk-toggleable__label {cursor: pointer;display: block;width: 100%;margin-bottom: 0;padding: 0.3em;box-sizing: border-box;text-align: center;}#sk-container-id-9 label.sk-toggleable__label-arrow:before {content: \"▸\";float: left;margin-right: 0.25em;color: #696969;}#sk-container-id-9 label.sk-toggleable__label-arrow:hover:before {color: black;}#sk-container-id-9 div.sk-estimator:hover label.sk-toggleable__label-arrow:before {color: black;}#sk-container-id-9 div.sk-toggleable__content {max-height: 0;max-width: 0;overflow: hidden;text-align: left;background-color: #f0f8ff;}#sk-container-id-9 div.sk-toggleable__content pre {margin: 0.2em;color: black;border-radius: 0.25em;background-color: #f0f8ff;}#sk-container-id-9 input.sk-toggleable__control:checked~div.sk-toggleable__content {max-height: 200px;max-width: 100%;overflow: auto;}#sk-container-id-9 input.sk-toggleable__control:checked~label.sk-toggleable__label-arrow:before {content: \"▾\";}#sk-container-id-9 div.sk-estimator input.sk-toggleable__control:checked~label.sk-toggleable__label {background-color: #d4ebff;}#sk-container-id-9 div.sk-label input.sk-toggleable__control:checked~label.sk-toggleable__label {background-color: #d4ebff;}#sk-container-id-9 input.sk-hidden--visually {border: 0;clip: rect(1px 1px 1px 1px);clip: rect(1px, 1px, 1px, 1px);height: 1px;margin: -1px;overflow: hidden;padding: 0;position: absolute;width: 1px;}#sk-container-id-9 div.sk-estimator {font-family: monospace;background-color: #f0f8ff;border: 1px dotted black;border-radius: 0.25em;box-sizing: border-box;margin-bottom: 0.5em;}#sk-container-id-9 div.sk-estimator:hover {background-color: #d4ebff;}#sk-container-id-9 div.sk-parallel-item::after {content: \"\";width: 100%;border-bottom: 1px solid gray;flex-grow: 1;}#sk-container-id-9 div.sk-label:hover label.sk-toggleable__label {background-color: #d4ebff;}#sk-container-id-9 div.sk-serial::before {content: \"\";position: absolute;border-left: 1px solid gray;box-sizing: border-box;top: 0;bottom: 0;left: 50%;z-index: 0;}#sk-container-id-9 div.sk-serial {display: flex;flex-direction: column;align-items: center;background-color: white;padding-right: 0.2em;padding-left: 0.2em;position: relative;}#sk-container-id-9 div.sk-item {position: relative;z-index: 1;}#sk-container-id-9 div.sk-parallel {display: flex;align-items: stretch;justify-content: center;background-color: white;position: relative;}#sk-container-id-9 div.sk-item::before, #sk-container-id-9 div.sk-parallel-item::before {content: \"\";position: absolute;border-left: 1px solid gray;box-sizing: border-box;top: 0;bottom: 0;left: 50%;z-index: -1;}#sk-container-id-9 div.sk-parallel-item {display: flex;flex-direction: column;z-index: 1;position: relative;background-color: white;}#sk-container-id-9 div.sk-parallel-item:first-child::after {align-self: flex-end;width: 50%;}#sk-container-id-9 div.sk-parallel-item:last-child::after {align-self: flex-start;width: 50%;}#sk-container-id-9 div.sk-parallel-item:only-child::after {width: 0;}#sk-container-id-9 div.sk-dashed-wrapped {border: 1px dashed gray;margin: 0 0.4em 0.5em 0.4em;box-sizing: border-box;padding-bottom: 0.4em;background-color: white;}#sk-container-id-9 div.sk-label label {font-family: monospace;font-weight: bold;display: inline-block;line-height: 1.2em;}#sk-container-id-9 div.sk-label-container {text-align: center;}#sk-container-id-9 div.sk-container {/* jupyter's `normalize.less` sets `[hidden] { display: none; }` but bootstrap.min.css set `[hidden] { display: none !important; }` so we also need the `!important` here to be able to override the default hidden behavior on the sphinx rendered scikit-learn.org. See: https://github.com/scikit-learn/scikit-learn/issues/21755 */display: inline-block !important;position: relative;}#sk-container-id-9 div.sk-text-repr-fallback {display: none;}</style><div id=\"sk-container-id-9\" class=\"sk-top-container\"><div class=\"sk-text-repr-fallback\"><pre>RandomForestClassifier(max_depth=4, min_samples_leaf=35, min_samples_split=40,\n",
       "                       n_estimators=40)</pre><b>In a Jupyter environment, please rerun this cell to show the HTML representation or trust the notebook. <br />On GitHub, the HTML representation is unable to render, please try loading this page with nbviewer.org.</b></div><div class=\"sk-container\" hidden><div class=\"sk-item\"><div class=\"sk-estimator sk-toggleable\"><input class=\"sk-toggleable__control sk-hidden--visually\" id=\"sk-estimator-id-9\" type=\"checkbox\" checked><label for=\"sk-estimator-id-9\" class=\"sk-toggleable__label sk-toggleable__label-arrow\">RandomForestClassifier</label><div class=\"sk-toggleable__content\"><pre>RandomForestClassifier(max_depth=4, min_samples_leaf=35, min_samples_split=40,\n",
       "                       n_estimators=40)</pre></div></div></div></div></div>"
      ],
      "text/plain": [
       "RandomForestClassifier(max_depth=4, min_samples_leaf=35, min_samples_split=40,\n",
       "                       n_estimators=40)"
      ]
     },
     "execution_count": 137,
     "metadata": {},
     "output_type": "execute_result"
    }
   ],
   "source": [
    "rf_final=RandomForestClassifier(min_samples_leaf=35, min_samples_split=40, max_depth=4, n_estimators=40)\n",
    "rf_final.fit(df_train_x, df_train_y)"
   ]
  },
  {
   "cell_type": "markdown",
   "id": "f3f8d192",
   "metadata": {},
   "source": [
    "### 최종 모델 성능 평가"
   ]
  },
  {
   "cell_type": "code",
   "execution_count": 138,
   "id": "9ad9586c",
   "metadata": {},
   "outputs": [
    {
     "name": "stdout",
     "output_type": "stream",
     "text": [
      "Train Data Accuracy : 0.958\n",
      "Test Data Accuracy : 0.922\n"
     ]
    }
   ],
   "source": [
    "# 모델 정확도\n",
    "print(\"Train Data Accuracy :\", rf_final.score(df_train_x, df_train_y).round(3))\n",
    "print(\"Test Data Accuracy :\", rf_final.score(df_test_x, df_test_y).round(3))"
   ]
  },
  {
   "cell_type": "markdown",
   "id": "e7923ab2",
   "metadata": {},
   "source": [
    "최종 모델은 train data에서 95.8%의 정확도를 보이며, test data에서는 92.2%의 정확도를 보인다. 따라서 성능은 조금 감소하였지만 train data와 test data간 accuracy 차이가 약 3.5%에 불과해 과대적합 문제를 해결하였다."
   ]
  },
  {
   "cell_type": "markdown",
   "id": "52d1ed5f",
   "metadata": {},
   "source": [
    "### 최종 모델을 이용한 분류 예측"
   ]
  },
  {
   "cell_type": "code",
   "execution_count": 139,
   "id": "465aceab",
   "metadata": {},
   "outputs": [
    {
     "name": "stdout",
     "output_type": "stream",
     "text": [
      "Confusion Matrix :\n",
      "[[38  8]\n",
      " [ 2 80]]\n"
     ]
    }
   ],
   "source": [
    "# 목표범수 예측\n",
    "y_pred=rf_final.predict(df_test_x)\n",
    "\n",
    "# Confusion matrix\n",
    "print(\"Confusion Matrix :\\n{}\".format(confusion_matrix(df_test_y, y_pred)))"
   ]
  },
  {
   "attachments": {
    "%EA%B7%B8%EB%A6%BC2.png": {
     "image/png": "[encoded data removed]"
    }
   },
   "cell_type": "markdown",
   "id": "9d0c6bec",
   "metadata": {},
   "source": [
    "[Confusion Matrix]\n",
    "![%EA%B7%B8%EB%A6%BC2.png](attachment:%EA%B7%B8%EB%A6%BC2.png)"
   ]
  },
  {
   "cell_type": "markdown",
   "id": "4336c946",
   "metadata": {},
   "source": [
    "이 때, 0은 양성 data, 1은 음성 data를 의미함"
   ]
  },
  {
   "cell_type": "markdown",
   "id": "0a58ac37",
   "metadata": {},
   "source": [
    "### 설명변수 중요도"
   ]
  },
  {
   "cell_type": "code",
   "execution_count": 141,
   "id": "f3677799",
   "metadata": {},
   "outputs": [
    {
     "data": {
      "text/html": [
       "<div>\n",
       "<style scoped>\n",
       "    .dataframe tbody tr th:only-of-type {\n",
       "        vertical-align: middle;\n",
       "    }\n",
       "\n",
       "    .dataframe tbody tr th {\n",
       "        vertical-align: top;\n",
       "    }\n",
       "\n",
       "    .dataframe thead th {\n",
       "        text-align: right;\n",
       "    }\n",
       "</style>\n",
       "<table border=\"1\" class=\"dataframe\">\n",
       "  <thead>\n",
       "    <tr style=\"text-align: right;\">\n",
       "      <th></th>\n",
       "      <th>Feature</th>\n",
       "      <th>Importance</th>\n",
       "    </tr>\n",
       "  </thead>\n",
       "  <tbody>\n",
       "    <tr>\n",
       "      <th>27</th>\n",
       "      <td>worst_concave_points</td>\n",
       "      <td>0.173</td>\n",
       "    </tr>\n",
       "    <tr>\n",
       "      <th>20</th>\n",
       "      <td>worst_radius</td>\n",
       "      <td>0.149</td>\n",
       "    </tr>\n",
       "    <tr>\n",
       "      <th>23</th>\n",
       "      <td>worst_area</td>\n",
       "      <td>0.129</td>\n",
       "    </tr>\n",
       "    <tr>\n",
       "      <th>6</th>\n",
       "      <td>mean_concavity</td>\n",
       "      <td>0.125</td>\n",
       "    </tr>\n",
       "    <tr>\n",
       "      <th>22</th>\n",
       "      <td>worst_perimeter</td>\n",
       "      <td>0.100</td>\n",
       "    </tr>\n",
       "    <tr>\n",
       "      <th>7</th>\n",
       "      <td>mean_concave_points</td>\n",
       "      <td>0.075</td>\n",
       "    </tr>\n",
       "    <tr>\n",
       "      <th>5</th>\n",
       "      <td>mean_compactness</td>\n",
       "      <td>0.051</td>\n",
       "    </tr>\n",
       "    <tr>\n",
       "      <th>2</th>\n",
       "      <td>mean_perimeter</td>\n",
       "      <td>0.050</td>\n",
       "    </tr>\n",
       "    <tr>\n",
       "      <th>10</th>\n",
       "      <td>radius_error</td>\n",
       "      <td>0.027</td>\n",
       "    </tr>\n",
       "    <tr>\n",
       "      <th>13</th>\n",
       "      <td>area_error</td>\n",
       "      <td>0.026</td>\n",
       "    </tr>\n",
       "    <tr>\n",
       "      <th>3</th>\n",
       "      <td>mean_area</td>\n",
       "      <td>0.025</td>\n",
       "    </tr>\n",
       "    <tr>\n",
       "      <th>26</th>\n",
       "      <td>worst_concavity</td>\n",
       "      <td>0.024</td>\n",
       "    </tr>\n",
       "    <tr>\n",
       "      <th>16</th>\n",
       "      <td>concavity_error</td>\n",
       "      <td>0.023</td>\n",
       "    </tr>\n",
       "    <tr>\n",
       "      <th>1</th>\n",
       "      <td>mean_texture</td>\n",
       "      <td>0.021</td>\n",
       "    </tr>\n",
       "    <tr>\n",
       "      <th>21</th>\n",
       "      <td>worst_texture</td>\n",
       "      <td>0.001</td>\n",
       "    </tr>\n",
       "  </tbody>\n",
       "</table>\n",
       "</div>"
      ],
      "text/plain": [
       "                 Feature  Importance\n",
       "27  worst_concave_points       0.173\n",
       "20          worst_radius       0.149\n",
       "23            worst_area       0.129\n",
       "6         mean_concavity       0.125\n",
       "22       worst_perimeter       0.100\n",
       "7    mean_concave_points       0.075\n",
       "5       mean_compactness       0.051\n",
       "2         mean_perimeter       0.050\n",
       "10          radius_error       0.027\n",
       "13            area_error       0.026\n",
       "3              mean_area       0.025\n",
       "26       worst_concavity       0.024\n",
       "16       concavity_error       0.023\n",
       "1           mean_texture       0.021\n",
       "21         worst_texture       0.001"
      ]
     },
     "execution_count": 141,
     "metadata": {},
     "output_type": "execute_result"
    }
   ],
   "source": [
    "# tree.feature_importances_로 설명변수 중요도 확인 및 테이블 저장\n",
    "df_importance=pd.DataFrame()\n",
    "df_importance['Feature']=v_feature_name\n",
    "df_importance['Importance']=rf_final.feature_importances_\n",
    "\n",
    "# 설명변수 중요도 테이블 출력\n",
    "df_importance.sort_values(\"Importance\", ascending=False, inplace=True)\n",
    "df_importance[:15].round(3)"
   ]
  },
  {
   "cell_type": "markdown",
   "id": "4db6db4f",
   "metadata": {},
   "source": [
    "이외 변수들은 영향이 너무 미미하므로 출력하지 않음."
   ]
  },
  {
   "cell_type": "markdown",
   "id": "43149d5a",
   "metadata": {},
   "source": [
    "최종 모델 확인 결과, 유방암 데이터 세트에서 음성/양성을 판단함에 있어서 mean_concave_points, worst_radius, worst_area, mean_concavity, worst_perimeter 5가지 변수가 주요 영향을 미친다는 것을 알 수 있다. 따라서 전반적으로 종양의 형상과 오목한 점의 개수와 오목한 정도가 중요한 것으로 보인다. \n",
    "\n",
    "랜덤 포레스트를 활용하여 결과를 분류하였기 때문에 트리 구조 확인은 어려우나,\n",
    "confusion matrix에서 양성을 음성으로 판단하는 경우와 음성을 양성으로 판단하는 경우는 매우 치명적이며 이 경우가 대략 7.8%인 것으로 보아 더 많은 데이터 확보 후 모델 개선이 필요해보인다. 하지만 의사결정나무 하나만을 이용해서 결과를 분류했을 때 보다는 더 높은 효율을 보였다.  "
   ]
  },
  {
   "cell_type": "code",
   "execution_count": null,
   "id": "14a88202",
   "metadata": {},
   "outputs": [],
   "source": []
  }
 ],
 "metadata": {
  "kernelspec": {
   "display_name": "Python 3 (ipykernel)",
   "language": "python",
   "name": "python3"
  },
  "language_info": {
   "codemirror_mode": {
    "name": "ipython",
    "version": 3
   },
   "file_extension": ".py",
   "mimetype": "text/x-python",
   "name": "python",
   "nbconvert_exporter": "python",
   "pygments_lexer": "ipython3",
   "version": "3.9.13"
  }
 },
 "nbformat": 4,
 "nbformat_minor": 5
}
