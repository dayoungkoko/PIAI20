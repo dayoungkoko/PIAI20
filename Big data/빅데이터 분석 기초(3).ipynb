{
 "cells": [
  {
   "cell_type": "code",
   "execution_count": 305,
   "id": "040898e9",
   "metadata": {},
   "outputs": [],
   "source": [
    "import pandas as pd\n",
    "import numpy as np\n",
    "import matplotlib\n",
    "import matplotlib.pyplot as plt\n",
    "import seaborn as sns"
   ]
  },
  {
   "cell_type": "code",
   "execution_count": 306,
   "id": "31409455",
   "metadata": {},
   "outputs": [],
   "source": [
    "from scipy import stats\n",
    "from statsmodels.stats.proportion import proportions_ztest"
   ]
  },
  {
   "cell_type": "code",
   "execution_count": 307,
   "id": "364ecea9",
   "metadata": {},
   "outputs": [],
   "source": [
    "# 실습1 p.265 <정규성 검정>"
   ]
  },
  {
   "cell_type": "code",
   "execution_count": 308,
   "id": "acfe9671",
   "metadata": {
    "scrolled": true
   },
   "outputs": [],
   "source": [
    "df=pd.read_csv(\"C:/python/1 Big Data 분석 기초/2sample_t_test.csv\")"
   ]
  },
  {
   "cell_type": "code",
   "execution_count": 309,
   "id": "e7c66f39",
   "metadata": {},
   "outputs": [
    {
     "data": {
      "text/html": [
       "<div>\n",
       "<style scoped>\n",
       "    .dataframe tbody tr th:only-of-type {\n",
       "        vertical-align: middle;\n",
       "    }\n",
       "\n",
       "    .dataframe tbody tr th {\n",
       "        vertical-align: top;\n",
       "    }\n",
       "\n",
       "    .dataframe thead th {\n",
       "        text-align: right;\n",
       "    }\n",
       "</style>\n",
       "<table border=\"1\" class=\"dataframe\">\n",
       "  <thead>\n",
       "    <tr style=\"text-align: right;\">\n",
       "      <th></th>\n",
       "      <th>Mat_A</th>\n",
       "      <th>Mat_B</th>\n",
       "      <th>Total</th>\n",
       "      <th>Sub</th>\n",
       "    </tr>\n",
       "  </thead>\n",
       "  <tbody>\n",
       "    <tr>\n",
       "      <th>0</th>\n",
       "      <td>73.4</td>\n",
       "      <td>68.7</td>\n",
       "      <td>73.4</td>\n",
       "      <td>1</td>\n",
       "    </tr>\n",
       "    <tr>\n",
       "      <th>1</th>\n",
       "      <td>77.0</td>\n",
       "      <td>71.4</td>\n",
       "      <td>77.0</td>\n",
       "      <td>1</td>\n",
       "    </tr>\n",
       "    <tr>\n",
       "      <th>2</th>\n",
       "      <td>73.7</td>\n",
       "      <td>69.8</td>\n",
       "      <td>73.7</td>\n",
       "      <td>1</td>\n",
       "    </tr>\n",
       "    <tr>\n",
       "      <th>3</th>\n",
       "      <td>73.3</td>\n",
       "      <td>75.3</td>\n",
       "      <td>73.3</td>\n",
       "      <td>1</td>\n",
       "    </tr>\n",
       "    <tr>\n",
       "      <th>4</th>\n",
       "      <td>73.1</td>\n",
       "      <td>71.3</td>\n",
       "      <td>73.1</td>\n",
       "      <td>1</td>\n",
       "    </tr>\n",
       "    <tr>\n",
       "      <th>5</th>\n",
       "      <td>71.5</td>\n",
       "      <td>72.7</td>\n",
       "      <td>71.5</td>\n",
       "      <td>1</td>\n",
       "    </tr>\n",
       "    <tr>\n",
       "      <th>6</th>\n",
       "      <td>74.5</td>\n",
       "      <td>66.9</td>\n",
       "      <td>74.5</td>\n",
       "      <td>1</td>\n",
       "    </tr>\n",
       "    <tr>\n",
       "      <th>7</th>\n",
       "      <td>77.5</td>\n",
       "      <td>70.2</td>\n",
       "      <td>77.5</td>\n",
       "      <td>1</td>\n",
       "    </tr>\n",
       "    <tr>\n",
       "      <th>8</th>\n",
       "      <td>76.4</td>\n",
       "      <td>74.4</td>\n",
       "      <td>76.4</td>\n",
       "      <td>1</td>\n",
       "    </tr>\n",
       "    <tr>\n",
       "      <th>9</th>\n",
       "      <td>77.7</td>\n",
       "      <td>70.1</td>\n",
       "      <td>77.7</td>\n",
       "      <td>1</td>\n",
       "    </tr>\n",
       "    <tr>\n",
       "      <th>10</th>\n",
       "      <td>NaN</td>\n",
       "      <td>NaN</td>\n",
       "      <td>68.7</td>\n",
       "      <td>2</td>\n",
       "    </tr>\n",
       "    <tr>\n",
       "      <th>11</th>\n",
       "      <td>NaN</td>\n",
       "      <td>NaN</td>\n",
       "      <td>71.4</td>\n",
       "      <td>2</td>\n",
       "    </tr>\n",
       "    <tr>\n",
       "      <th>12</th>\n",
       "      <td>NaN</td>\n",
       "      <td>NaN</td>\n",
       "      <td>69.8</td>\n",
       "      <td>2</td>\n",
       "    </tr>\n",
       "    <tr>\n",
       "      <th>13</th>\n",
       "      <td>NaN</td>\n",
       "      <td>NaN</td>\n",
       "      <td>75.3</td>\n",
       "      <td>2</td>\n",
       "    </tr>\n",
       "    <tr>\n",
       "      <th>14</th>\n",
       "      <td>NaN</td>\n",
       "      <td>NaN</td>\n",
       "      <td>71.3</td>\n",
       "      <td>2</td>\n",
       "    </tr>\n",
       "    <tr>\n",
       "      <th>15</th>\n",
       "      <td>NaN</td>\n",
       "      <td>NaN</td>\n",
       "      <td>72.7</td>\n",
       "      <td>2</td>\n",
       "    </tr>\n",
       "    <tr>\n",
       "      <th>16</th>\n",
       "      <td>NaN</td>\n",
       "      <td>NaN</td>\n",
       "      <td>66.9</td>\n",
       "      <td>2</td>\n",
       "    </tr>\n",
       "    <tr>\n",
       "      <th>17</th>\n",
       "      <td>NaN</td>\n",
       "      <td>NaN</td>\n",
       "      <td>70.2</td>\n",
       "      <td>2</td>\n",
       "    </tr>\n",
       "    <tr>\n",
       "      <th>18</th>\n",
       "      <td>NaN</td>\n",
       "      <td>NaN</td>\n",
       "      <td>74.4</td>\n",
       "      <td>2</td>\n",
       "    </tr>\n",
       "    <tr>\n",
       "      <th>19</th>\n",
       "      <td>NaN</td>\n",
       "      <td>NaN</td>\n",
       "      <td>70.1</td>\n",
       "      <td>2</td>\n",
       "    </tr>\n",
       "  </tbody>\n",
       "</table>\n",
       "</div>"
      ],
      "text/plain": [
       "    Mat_A  Mat_B  Total  Sub\n",
       "0    73.4   68.7   73.4    1\n",
       "1    77.0   71.4   77.0    1\n",
       "2    73.7   69.8   73.7    1\n",
       "3    73.3   75.3   73.3    1\n",
       "4    73.1   71.3   73.1    1\n",
       "5    71.5   72.7   71.5    1\n",
       "6    74.5   66.9   74.5    1\n",
       "7    77.5   70.2   77.5    1\n",
       "8    76.4   74.4   76.4    1\n",
       "9    77.7   70.1   77.7    1\n",
       "10    NaN    NaN   68.7    2\n",
       "11    NaN    NaN   71.4    2\n",
       "12    NaN    NaN   69.8    2\n",
       "13    NaN    NaN   75.3    2\n",
       "14    NaN    NaN   71.3    2\n",
       "15    NaN    NaN   72.7    2\n",
       "16    NaN    NaN   66.9    2\n",
       "17    NaN    NaN   70.2    2\n",
       "18    NaN    NaN   74.4    2\n",
       "19    NaN    NaN   70.1    2"
      ]
     },
     "execution_count": 309,
     "metadata": {},
     "output_type": "execute_result"
    }
   ],
   "source": [
    "df"
   ]
  },
  {
   "cell_type": "code",
   "execution_count": 310,
   "id": "44df03b2",
   "metadata": {},
   "outputs": [],
   "source": [
    "data1=df['Mat_A'].loc[0:9] # 10~19행은 결측치이므로 제거하고 판단"
   ]
  },
  {
   "cell_type": "code",
   "execution_count": 311,
   "id": "b93d3af4",
   "metadata": {},
   "outputs": [
    {
     "data": {
      "text/plain": [
       "0    73.4\n",
       "1    77.0\n",
       "2    73.7\n",
       "3    73.3\n",
       "4    73.1\n",
       "5    71.5\n",
       "6    74.5\n",
       "7    77.5\n",
       "8    76.4\n",
       "9    77.7\n",
       "Name: Mat_A, dtype: float64"
      ]
     },
     "execution_count": 311,
     "metadata": {},
     "output_type": "execute_result"
    }
   ],
   "source": [
    "data1"
   ]
  },
  {
   "cell_type": "code",
   "execution_count": 312,
   "id": "f437cb64",
   "metadata": {
    "scrolled": true
   },
   "outputs": [
    {
     "name": "stdout",
     "output_type": "stream",
     "text": [
      "Shapiro-Wilk Test : statistic=0.9062638878822327, p-value=0.25630074739456177\n"
     ]
    }
   ],
   "source": [
    "# Mat_A의 정규성 검정\n",
    "stats.shapiro(data1)\n",
    "statistic, p=stats.shapiro(data1)\n",
    "print(\"Shapiro-Wilk Test : statistic={}, p-value={}\".format(statistic,p))"
   ]
  },
  {
   "cell_type": "code",
   "execution_count": 313,
   "id": "a29711f6",
   "metadata": {},
   "outputs": [],
   "source": [
    "# 정규성 검정 결과(95% 신뢰수준 사용시) p-value가 0.05보다 크면 정규, 0.05보다 작으면 비정규로 판단\n",
    "# 따라서 변수, Mat_A는 p-value 0.256으로 정규분포를 따른다"
   ]
  },
  {
   "cell_type": "code",
   "execution_count": 314,
   "id": "ba07b7c5",
   "metadata": {},
   "outputs": [],
   "source": [
    "data2=df['Mat_B'].loc[0:9] # 10~19행은 결측치이므로 제거하고 판단"
   ]
  },
  {
   "cell_type": "code",
   "execution_count": 315,
   "id": "0dbb3037",
   "metadata": {},
   "outputs": [
    {
     "data": {
      "text/plain": [
       "0    68.7\n",
       "1    71.4\n",
       "2    69.8\n",
       "3    75.3\n",
       "4    71.3\n",
       "5    72.7\n",
       "6    66.9\n",
       "7    70.2\n",
       "8    74.4\n",
       "9    70.1\n",
       "Name: Mat_B, dtype: float64"
      ]
     },
     "execution_count": 315,
     "metadata": {},
     "output_type": "execute_result"
    }
   ],
   "source": [
    "data2"
   ]
  },
  {
   "cell_type": "code",
   "execution_count": 316,
   "id": "7c3cf4ce",
   "metadata": {},
   "outputs": [
    {
     "name": "stdout",
     "output_type": "stream",
     "text": [
      "Shapiro-Wilk Test : statistic=0.9729756116867065, p-value=0.9169799089431763\n"
     ]
    }
   ],
   "source": [
    "# Mat_B의 정규성 검정\n",
    "stats.shapiro(data2)\n",
    "statistic2, p2=stats.shapiro(data2)\n",
    "print(\"Shapiro-Wilk Test : statistic={}, p-value={}\".format(statistic2,p2))"
   ]
  },
  {
   "cell_type": "code",
   "execution_count": 317,
   "id": "c92d6c19",
   "metadata": {},
   "outputs": [],
   "source": [
    "# 정규성 검정 결과(95% 신뢰수준 사용시) p-value가 0.05보다 크면 정규, 0.05보다 작으면 비정규로 판단\n",
    "# 따라서 변수, Mat_B는 p-value 0.916으로 정규분포를 따른다"
   ]
  },
  {
   "cell_type": "code",
   "execution_count": null,
   "id": "aea504eb",
   "metadata": {},
   "outputs": [],
   "source": []
  },
  {
   "cell_type": "code",
   "execution_count": 318,
   "id": "21b8a1f3",
   "metadata": {},
   "outputs": [
    {
     "data": {
      "text/html": [
       "<div>\n",
       "<style scoped>\n",
       "    .dataframe tbody tr th:only-of-type {\n",
       "        vertical-align: middle;\n",
       "    }\n",
       "\n",
       "    .dataframe tbody tr th {\n",
       "        vertical-align: top;\n",
       "    }\n",
       "\n",
       "    .dataframe thead th {\n",
       "        text-align: right;\n",
       "    }\n",
       "</style>\n",
       "<table border=\"1\" class=\"dataframe\">\n",
       "  <thead>\n",
       "    <tr style=\"text-align: right;\">\n",
       "      <th></th>\n",
       "      <th>sample</th>\n",
       "    </tr>\n",
       "  </thead>\n",
       "  <tbody>\n",
       "    <tr>\n",
       "      <th>0</th>\n",
       "      <td>18</td>\n",
       "    </tr>\n",
       "    <tr>\n",
       "      <th>1</th>\n",
       "      <td>18</td>\n",
       "    </tr>\n",
       "    <tr>\n",
       "      <th>2</th>\n",
       "      <td>20</td>\n",
       "    </tr>\n",
       "    <tr>\n",
       "      <th>3</th>\n",
       "      <td>21</td>\n",
       "    </tr>\n",
       "    <tr>\n",
       "      <th>4</th>\n",
       "      <td>20</td>\n",
       "    </tr>\n",
       "  </tbody>\n",
       "</table>\n",
       "</div>"
      ],
      "text/plain": [
       "   sample\n",
       "0      18\n",
       "1      18\n",
       "2      20\n",
       "3      21\n",
       "4      20"
      ]
     },
     "execution_count": 318,
     "metadata": {},
     "output_type": "execute_result"
    }
   ],
   "source": [
    "# 실습2 p.268 <모평균 구간추정>\n",
    "df2=pd.DataFrame({'sample':[18,18,20,21,20,23,19,18,17,21,22,20,20,210,20,19,19,18,17,19]})\n",
    "df2.head()"
   ]
  },
  {
   "cell_type": "code",
   "execution_count": 319,
   "id": "dc237f81",
   "metadata": {},
   "outputs": [
    {
     "name": "stdout",
     "output_type": "stream",
     "text": [
      "신뢰구간 : ([27.28],[30.62])\n"
     ]
    },
    {
     "name": "stderr",
     "output_type": "stream",
     "text": [
      "C:\\Users\\user\\anaconda3\\lib\\site-packages\\numpy\\core\\fromnumeric.py:3438: FutureWarning: In a future version, DataFrame.mean(axis=None) will return a scalar mean over the entire DataFrame. To retain the old behavior, use 'frame.mean(axis=0)' or just 'frame.mean()'\n",
      "  return mean(axis=axis, dtype=dtype, out=out, **kwargs)\n"
     ]
    }
   ],
   "source": [
    "lower,upper=stats.norm.interval(0.95, loc=np.mean(df2), scale=3.8/np.sqrt(20))\n",
    "print(\"신뢰구간 : ({0},{1})\".format(lower.round(2), upper.round(2)))"
   ]
  },
  {
   "cell_type": "code",
   "execution_count": 320,
   "id": "f495b06a",
   "metadata": {},
   "outputs": [],
   "source": [
    "# 신품종 배추의 평균 무게에 대한 95% 신뢰구간은 (27.28, 30.62)이다. "
   ]
  },
  {
   "cell_type": "code",
   "execution_count": null,
   "id": "7fa52336",
   "metadata": {},
   "outputs": [],
   "source": []
  },
  {
   "cell_type": "code",
   "execution_count": 321,
   "id": "3384008d",
   "metadata": {
    "scrolled": true
   },
   "outputs": [
    {
     "data": {
      "text/html": [
       "<div>\n",
       "<style scoped>\n",
       "    .dataframe tbody tr th:only-of-type {\n",
       "        vertical-align: middle;\n",
       "    }\n",
       "\n",
       "    .dataframe tbody tr th {\n",
       "        vertical-align: top;\n",
       "    }\n",
       "\n",
       "    .dataframe thead th {\n",
       "        text-align: right;\n",
       "    }\n",
       "</style>\n",
       "<table border=\"1\" class=\"dataframe\">\n",
       "  <thead>\n",
       "    <tr style=\"text-align: right;\">\n",
       "      <th></th>\n",
       "      <th>sample</th>\n",
       "    </tr>\n",
       "  </thead>\n",
       "  <tbody>\n",
       "    <tr>\n",
       "      <th>0</th>\n",
       "      <td>73</td>\n",
       "    </tr>\n",
       "    <tr>\n",
       "      <th>1</th>\n",
       "      <td>71</td>\n",
       "    </tr>\n",
       "    <tr>\n",
       "      <th>2</th>\n",
       "      <td>74</td>\n",
       "    </tr>\n",
       "    <tr>\n",
       "      <th>3</th>\n",
       "      <td>69</td>\n",
       "    </tr>\n",
       "    <tr>\n",
       "      <th>4</th>\n",
       "      <td>70</td>\n",
       "    </tr>\n",
       "  </tbody>\n",
       "</table>\n",
       "</div>"
      ],
      "text/plain": [
       "   sample\n",
       "0      73\n",
       "1      71\n",
       "2      74\n",
       "3      69\n",
       "4      70"
      ]
     },
     "execution_count": 321,
     "metadata": {},
     "output_type": "execute_result"
    }
   ],
   "source": [
    "# 실습3 p.271 <모평균 신뢰구간 추정 - 모표준편차를 모르는 경우>\n",
    "df=pd.DataFrame({'sample': [73, 71, 74, 69, 70, 73, 70, 68, 75, 72, 70, 72, 73, 70, 70, 72, 71, 70, 75, 72]})\n",
    "df.head()"
   ]
  },
  {
   "cell_type": "code",
   "execution_count": 322,
   "id": "0c49a565",
   "metadata": {},
   "outputs": [
    {
     "name": "stdout",
     "output_type": "stream",
     "text": [
      "신뢰구간 : ([70.6], [72.4])\n"
     ]
    },
    {
     "name": "stderr",
     "output_type": "stream",
     "text": [
      "C:\\Users\\user\\anaconda3\\lib\\site-packages\\numpy\\core\\fromnumeric.py:3438: FutureWarning: In a future version, DataFrame.mean(axis=None) will return a scalar mean over the entire DataFrame. To retain the old behavior, use 'frame.mean(axis=0)' or just 'frame.mean()'\n",
      "  return mean(axis=axis, dtype=dtype, out=out, **kwargs)\n"
     ]
    }
   ],
   "source": [
    "lower, upper = stats.t.interval(0.95, len(df)-1, loc=np.mean(df), scale=stats.sem(df))\n",
    "print(\"신뢰구간 : ({0}, {1})\".format(lower.round(2), upper.round(2)))"
   ]
  },
  {
   "cell_type": "code",
   "execution_count": 323,
   "id": "2140a9e8",
   "metadata": {},
   "outputs": [],
   "source": [
    "# 시험 생산된 강종의 모평균 값 95% 신뢰구간은 (70.6, 72.4)이다. "
   ]
  },
  {
   "cell_type": "code",
   "execution_count": 324,
   "id": "bbe36570",
   "metadata": {},
   "outputs": [],
   "source": [
    "# 제품 개발자는 새로 개발된 강종의 평균 인장강도를 70kg/mm^2로 기대하고 있는데, 모평균값의 95% 신뢰구간은 (70.6, 72.4)이므로 기대에 미칠 수 있다. "
   ]
  },
  {
   "cell_type": "code",
   "execution_count": null,
   "id": "88d9c0f7",
   "metadata": {},
   "outputs": [],
   "source": []
  },
  {
   "cell_type": "code",
   "execution_count": 325,
   "id": "808de82f",
   "metadata": {},
   "outputs": [
    {
     "data": {
      "text/plain": [
       "<AxesSubplot:>"
      ]
     },
     "execution_count": 325,
     "metadata": {},
     "output_type": "execute_result"
    },
    {
     "data": {
      "image/png": "[encoded data removed]",
      "text/plain": [
       "<Figure size 432x288 with 1 Axes>"
      ]
     },
     "metadata": {
      "needs_background": "light"
     },
     "output_type": "display_data"
    }
   ],
   "source": [
    "# 실습4 p.296 <1-Sample t-test>\n",
    "# 귀무가설 : mu=76.7 (만족도를 변화시키지 못했다)\n",
    "# 대립가설 : mu!=76.7 (만족도를 변화시켰다)\n",
    "# 유의수준 : a=0.05\n",
    "df=pd.DataFrame({'sample': [85.0, 79.0, 79.1, 79.9, 81.6, 78.6, 85.4, 83.4, 78.1, 79.2]})\n",
    "df.boxplot(['sample'])"
   ]
  },
  {
   "cell_type": "code",
   "execution_count": 326,
   "id": "0faa9f05",
   "metadata": {},
   "outputs": [],
   "source": [
    "t_result=stats.ttest_1samp(df, 78.0)\n",
    "t,p=t_result.statistic.round(3), t_result.pvalue.round(3)"
   ]
  },
  {
   "cell_type": "code",
   "execution_count": 327,
   "id": "2e30c0a8",
   "metadata": {},
   "outputs": [
    {
     "name": "stdout",
     "output_type": "stream",
     "text": [
      "1-Sample t-test\n",
      "t 통계량 : [3.379]\n",
      "p-value : [0.008]\n"
     ]
    }
   ],
   "source": [
    "print(\"1-Sample t-test\")\n",
    "print(\"t 통계량 : {}\".format(t))\n",
    "print(\"p-value : {}\".format(p))"
   ]
  },
  {
   "cell_type": "code",
   "execution_count": 328,
   "id": "8ea8d42d",
   "metadata": {},
   "outputs": [],
   "source": [
    "# 유의수준 5%에서 검정결과 p값이 0.008이므로 0.05보다 작다. 따라서 대립가설을 채택하므로 개선활동이 만족도를 변화시켰다. "
   ]
  },
  {
   "cell_type": "code",
   "execution_count": null,
   "id": "cb2e1020",
   "metadata": {},
   "outputs": [],
   "source": []
  },
  {
   "cell_type": "code",
   "execution_count": 329,
   "id": "0b447811",
   "metadata": {},
   "outputs": [
    {
     "data": {
      "text/plain": [
       "<AxesSubplot:>"
      ]
     },
     "execution_count": 329,
     "metadata": {},
     "output_type": "execute_result"
    },
    {
     "data": {
      "image/png": "[encoded data removed]",
      "text/plain": [
       "<Figure size 432x288 with 1 Axes>"
      ]
     },
     "metadata": {
      "needs_background": "light"
     },
     "output_type": "display_data"
    }
   ],
   "source": [
    "# 실습5 p.299 <두 집단 간 평균이 같은지 비교>\n",
    "# 귀무가설 : 공급자 간에 모평균 차이가 없다\n",
    "# 대립가설 : 공급자 간에 모평균 차이가 있다.\n",
    "# 유의수준 a=0.05\n",
    "df=pd.DataFrame({'A':[1.883, 1.715, 1.799, 1.768, 1.711, 1.832, 1.427, 1.344], 'B':[1.435,1.572,1.486,1.511,1.457,1.548,1.404,1.883]})\n",
    "df.boxplot(['A','B'])"
   ]
  },
  {
   "cell_type": "code",
   "execution_count": 330,
   "id": "c8248cbc",
   "metadata": {},
   "outputs": [],
   "source": [
    "# box plot 분석 결과 A공급자의 제품 두께가 전반적으로 더 두껍다는 것을 알 수 있다."
   ]
  },
  {
   "cell_type": "code",
   "execution_count": 331,
   "id": "42cbca49",
   "metadata": {},
   "outputs": [
    {
     "name": "stdout",
     "output_type": "stream",
     "text": [
      "Statistic=0.8425756096839905, p-value=0.08004552870988846\n"
     ]
    }
   ],
   "source": [
    "# A,B 정규성 검정\n",
    "statistic, p=stats.shapiro(df['A'])\n",
    "print(\"Statistic={}, p-value={}\".format(statistic,p))"
   ]
  },
  {
   "cell_type": "code",
   "execution_count": 332,
   "id": "6c2eae7b",
   "metadata": {},
   "outputs": [],
   "source": [
    "# p-value가 0.08로 0.05보다 크므로 귀무가설 채택. 따라서 A는 정규성이 있다. "
   ]
  },
  {
   "cell_type": "code",
   "execution_count": 333,
   "id": "c2c4fc2f",
   "metadata": {},
   "outputs": [
    {
     "name": "stdout",
     "output_type": "stream",
     "text": [
      "Statistic=0.7734811902046204, p-value=0.014793740585446358\n"
     ]
    }
   ],
   "source": [
    "statistic, p=stats.shapiro(df['B'])\n",
    "print(\"Statistic={}, p-value={}\".format(statistic,p))"
   ]
  },
  {
   "cell_type": "code",
   "execution_count": 335,
   "id": "2e715cc4",
   "metadata": {},
   "outputs": [],
   "source": [
    "# p-value가 0.01로 0.05보다 작으므로 귀무가설 기각. 따라서 B는 정규성이 없다. "
   ]
  },
  {
   "cell_type": "code",
   "execution_count": 336,
   "id": "be6ffcae",
   "metadata": {},
   "outputs": [
    {
     "data": {
      "text/plain": [
       "LeveneResult(statistic=0.4408416728536036, pvalue=0.5175025061092301)"
      ]
     },
     "execution_count": 336,
     "metadata": {},
     "output_type": "execute_result"
    }
   ],
   "source": [
    "# 등분산성 검정 : B가 정규성이 없으므로 Levene test 이용\n",
    "stats.levene(df['A'], df['B'])"
   ]
  },
  {
   "cell_type": "code",
   "execution_count": 337,
   "id": "373c2e64",
   "metadata": {},
   "outputs": [],
   "source": [
    "# p-value가 0.5로 0.05보다 크므로 등분산성 있다."
   ]
  },
  {
   "cell_type": "code",
   "execution_count": 338,
   "id": "29bd49e3",
   "metadata": {},
   "outputs": [],
   "source": [
    "t_result=stats.ttest_ind(df['A'], df['B'])"
   ]
  },
  {
   "cell_type": "code",
   "execution_count": 339,
   "id": "77fe0836",
   "metadata": {},
   "outputs": [],
   "source": [
    "t,p=t_result.statistic.round(3), t_result.pvalue.round(3)"
   ]
  },
  {
   "cell_type": "code",
   "execution_count": 340,
   "id": "7a859790",
   "metadata": {},
   "outputs": [
    {
     "name": "stdout",
     "output_type": "stream",
     "text": [
      "2-Sample t-test\n",
      "t: 1.7\n",
      "p: 0.111\n"
     ]
    }
   ],
   "source": [
    "print(\"2-Sample t-test\")\n",
    "print(\"t: {}\".format(t))\n",
    "print(\"p: {}\".format(p))"
   ]
  },
  {
   "cell_type": "code",
   "execution_count": 341,
   "id": "dd0bccc6",
   "metadata": {},
   "outputs": [],
   "source": [
    "# 유의수준 5%에서 검정결과 p값이 0.111이므로 0.05보다 크다. 따라서 귀무가설을 채택하며 공급자간에 모평균에 차이가 있다고 할 수 없다. "
   ]
  },
  {
   "cell_type": "code",
   "execution_count": null,
   "id": "f600b9bd",
   "metadata": {},
   "outputs": [],
   "source": []
  },
  {
   "cell_type": "code",
   "execution_count": 342,
   "id": "69b0197e",
   "metadata": {},
   "outputs": [],
   "source": [
    "# 실습6 p.302 <paired t-test>\n",
    "# 귀무가설 : 회사원들의 성적은 학원가기 전후에 대해 차이가 없다.\n",
    "# 대립가설 : 회사원들의 성적은 학원가기 전후에 차이가 있다. \n",
    "df1=pd.DataFrame({'before':[720, 589, 780, 648, 720, 589, 780, 648, 780, 648]})\n",
    "df2=pd.DataFrame({'after' : [710, 580, 787, 712, 750, 600, 782, 670, 790, 680]})"
   ]
  },
  {
   "cell_type": "code",
   "execution_count": 343,
   "id": "77a829b1",
   "metadata": {},
   "outputs": [],
   "source": [
    "t_result=stats.ttest_rel(df1, df2)\n",
    "t,p=t_result.statistic.round(3), t_result.pvalue.round(3)"
   ]
  },
  {
   "cell_type": "code",
   "execution_count": 344,
   "id": "1ad8fa0f",
   "metadata": {},
   "outputs": [
    {
     "name": "stdout",
     "output_type": "stream",
     "text": [
      "Paired t-test\n",
      "t: [-2.266]\n",
      "p: [0.05]\n"
     ]
    }
   ],
   "source": [
    "print(\"Paired t-test\")\n",
    "print(\"t: {}\".format(t))\n",
    "print(\"p: {}\".format(p))"
   ]
  },
  {
   "cell_type": "code",
   "execution_count": 345,
   "id": "78cc8ec9",
   "metadata": {},
   "outputs": [],
   "source": [
    "# 검정 결과 p값이 0.05이므로 대립가설을 채택. 따라서 회사원들의 성적은 학원가기 전후에 차이가 있다."
   ]
  },
  {
   "cell_type": "code",
   "execution_count": null,
   "id": "2b25410b",
   "metadata": {},
   "outputs": [],
   "source": []
  },
  {
   "cell_type": "code",
   "execution_count": 346,
   "id": "a12da92a",
   "metadata": {},
   "outputs": [],
   "source": [
    "# 실습7 p.307 <1 proportion test>\n",
    "# 귀무가설 : p=0.5\n",
    "# 대립가설 : p!=0.5\n",
    "# 유의수준 a=0.05\n",
    "\n",
    "# 변수 선언\n",
    "count=40\n",
    "n_obs=100\n",
    "value=0.5\n",
    "\n",
    "stat,pval=proportions_ztest(count,n_obs,value)"
   ]
  },
  {
   "cell_type": "code",
   "execution_count": 347,
   "id": "f7c3eac8",
   "metadata": {},
   "outputs": [
    {
     "name": "stdout",
     "output_type": "stream",
     "text": [
      "1 Proportion test\n",
      "z: -2.041\n",
      "p: 0.041\n"
     ]
    }
   ],
   "source": [
    "print(\"1 Proportion test\")\n",
    "print('z: {0:0.3f}'.format(stat))\n",
    "print('p: {0:0.3f}'.format(pval))"
   ]
  },
  {
   "cell_type": "code",
   "execution_count": 349,
   "id": "b54d2e4b",
   "metadata": {},
   "outputs": [],
   "source": [
    "# 결과적으로 p-value가 0.041이다. 따라서 0.05보다 작기 때문에 귀무가설을 기각하고 대립가설을 채택한다.\n",
    "# 따라서 이 동전은 정상이 아니다."
   ]
  },
  {
   "cell_type": "code",
   "execution_count": null,
   "id": "f14cf180",
   "metadata": {},
   "outputs": [],
   "source": []
  },
  {
   "cell_type": "code",
   "execution_count": 350,
   "id": "982b5696",
   "metadata": {},
   "outputs": [],
   "source": [
    "# 실습8 p.310 <2 proportion test>\n",
    "# 귀무가설 : pA=pB\n",
    "# 대립가설 : pA!=pB\n",
    "# 유의수준 a=0.05\n",
    "\n",
    "count=np.array([14,5])\n",
    "nobs=np.array([1200,1200])\n",
    "\n",
    "stat,pval=proportions_ztest(count, nobs)"
   ]
  },
  {
   "cell_type": "code",
   "execution_count": 351,
   "id": "c755f533",
   "metadata": {},
   "outputs": [
    {
     "name": "stdout",
     "output_type": "stream",
     "text": [
      "2 Proportion Test\n",
      "z: 2.073\n",
      "p: 0.038\n"
     ]
    }
   ],
   "source": [
    "print(\"2 Proportion Test\")\n",
    "print(\"z: {0:0.3f}\".format(stat))\n",
    "print(\"p: {0:0.3f}\".format(pval))"
   ]
  },
  {
   "cell_type": "code",
   "execution_count": 352,
   "id": "ab3eb83d",
   "metadata": {},
   "outputs": [],
   "source": [
    "# 따라서 p-value가 0.038로 0.05보다 작으므로 귀무가설 기각하고 대립가설을 채택한다.\n",
    "# 결과적으로 두 공정을 불량률은 다르다."
   ]
  },
  {
   "cell_type": "code",
   "execution_count": null,
   "id": "49469baf",
   "metadata": {},
   "outputs": [],
   "source": []
  },
  {
   "cell_type": "code",
   "execution_count": 356,
   "id": "b53760e1",
   "metadata": {},
   "outputs": [
    {
     "data": {
      "text/html": [
       "<div>\n",
       "<style scoped>\n",
       "    .dataframe tbody tr th:only-of-type {\n",
       "        vertical-align: middle;\n",
       "    }\n",
       "\n",
       "    .dataframe tbody tr th {\n",
       "        vertical-align: top;\n",
       "    }\n",
       "\n",
       "    .dataframe thead th {\n",
       "        text-align: right;\n",
       "    }\n",
       "</style>\n",
       "<table border=\"1\" class=\"dataframe\">\n",
       "  <thead>\n",
       "    <tr style=\"text-align: right;\">\n",
       "      <th></th>\n",
       "      <th>A</th>\n",
       "      <th>B</th>\n",
       "      <th>C</th>\n",
       "      <th>D</th>\n",
       "      <th>E</th>\n",
       "      <th>F</th>\n",
       "    </tr>\n",
       "  </thead>\n",
       "  <tbody>\n",
       "    <tr>\n",
       "      <th>0</th>\n",
       "      <td>18</td>\n",
       "      <td>8</td>\n",
       "      <td>4</td>\n",
       "      <td>4</td>\n",
       "      <td>3</td>\n",
       "      <td>3</td>\n",
       "    </tr>\n",
       "    <tr>\n",
       "      <th>1</th>\n",
       "      <td>1</td>\n",
       "      <td>2</td>\n",
       "      <td>1</td>\n",
       "      <td>1</td>\n",
       "      <td>1</td>\n",
       "      <td>25</td>\n",
       "    </tr>\n",
       "    <tr>\n",
       "      <th>2</th>\n",
       "      <td>8</td>\n",
       "      <td>14</td>\n",
       "      <td>3</td>\n",
       "      <td>2</td>\n",
       "      <td>3</td>\n",
       "      <td>8</td>\n",
       "    </tr>\n",
       "    <tr>\n",
       "      <th>3</th>\n",
       "      <td>7</td>\n",
       "      <td>5</td>\n",
       "      <td>4</td>\n",
       "      <td>3</td>\n",
       "      <td>1</td>\n",
       "      <td>10</td>\n",
       "    </tr>\n",
       "    <tr>\n",
       "      <th>4</th>\n",
       "      <td>10</td>\n",
       "      <td>5</td>\n",
       "      <td>9</td>\n",
       "      <td>2</td>\n",
       "      <td>1</td>\n",
       "      <td>2</td>\n",
       "    </tr>\n",
       "  </tbody>\n",
       "</table>\n",
       "</div>"
      ],
      "text/plain": [
       "    A   B  C  D  E   F\n",
       "0  18   8  4  4  3   3\n",
       "1   1   2  1  1  1  25\n",
       "2   8  14  3  2  3   8\n",
       "3   7   5  4  3  1  10\n",
       "4  10   5  9  2  1   2"
      ]
     },
     "execution_count": 356,
     "metadata": {},
     "output_type": "execute_result"
    }
   ],
   "source": [
    "# 실습9 p.319 <카이제곱 검정>\n",
    "df=pd.DataFrame({'A':[18,1,8,7,10,9,10], 'B':[8,2,14,5,5,9,4], 'C':[4,1,3,4,9,5,4], 'D':[4,1,2,3,2,7,3], 'E':[3,1,3,1,1,1,1],'F':[3,25,8,10,2,1,7]})\n",
    "df.head()"
   ]
  },
  {
   "cell_type": "code",
   "execution_count": 357,
   "id": "90271097",
   "metadata": {},
   "outputs": [],
   "source": [
    "chi, pval, dof, expected=stats.chi2_contingency(df)"
   ]
  },
  {
   "cell_type": "code",
   "execution_count": 358,
   "id": "3f3c03f8",
   "metadata": {},
   "outputs": [
    {
     "name": "stdout",
     "output_type": "stream",
     "text": [
      "chi-square test\n",
      "chisq : 98.274\n",
      "p: 0.000\n",
      "degree of freedom : 30\n",
      "expected value :\n",
      "[[11.004  8.21   5.24   3.843  1.921  9.782]\n",
      " [ 8.528  6.362  4.061  2.978  1.489  7.581]\n",
      " [10.454  7.799  4.978  3.651  1.825  9.293]\n",
      " [ 8.253  6.157  3.93   2.882  1.441  7.336]\n",
      " [ 7.978  5.952  3.799  2.786  1.393  7.092]\n",
      " [ 8.803  6.568  4.192  3.074  1.537  7.825]\n",
      " [ 7.978  5.952  3.799  2.786  1.393  7.092]]\n"
     ]
    }
   ],
   "source": [
    "print('chi-square test')\n",
    "print('chisq : {0:0.3f}'.format(chi))\n",
    "print('p: {0:0.3f}'.format(pval))\n",
    "print('degree of freedom : {}'.format(dof))\n",
    "print('expected value :\\n{}'.format(expected.round(3)))"
   ]
  },
  {
   "cell_type": "code",
   "execution_count": 359,
   "id": "35c95a8d",
   "metadata": {},
   "outputs": [],
   "source": [
    "# 따라서 p-value가 0.05보다 작으므로 결과적으로 각 제품에 대해 이미지에 대해 차이가 있다."
   ]
  },
  {
   "cell_type": "code",
   "execution_count": null,
   "id": "11773ae9",
   "metadata": {},
   "outputs": [],
   "source": []
  },
  {
   "cell_type": "code",
   "execution_count": 360,
   "id": "24fcf2a6",
   "metadata": {},
   "outputs": [
    {
     "data": {
      "text/html": [
       "<div>\n",
       "<style scoped>\n",
       "    .dataframe tbody tr th:only-of-type {\n",
       "        vertical-align: middle;\n",
       "    }\n",
       "\n",
       "    .dataframe tbody tr th {\n",
       "        vertical-align: top;\n",
       "    }\n",
       "\n",
       "    .dataframe thead th {\n",
       "        text-align: right;\n",
       "    }\n",
       "</style>\n",
       "<table border=\"1\" class=\"dataframe\">\n",
       "  <thead>\n",
       "    <tr style=\"text-align: right;\">\n",
       "      <th></th>\n",
       "      <th>time</th>\n",
       "      <th>charge</th>\n",
       "      <th>gangjong</th>\n",
       "      <th>type</th>\n",
       "    </tr>\n",
       "  </thead>\n",
       "  <tbody>\n",
       "    <tr>\n",
       "      <th>0</th>\n",
       "      <td>32.2</td>\n",
       "      <td>A</td>\n",
       "      <td>a</td>\n",
       "      <td>a</td>\n",
       "    </tr>\n",
       "    <tr>\n",
       "      <th>1</th>\n",
       "      <td>30.4</td>\n",
       "      <td>B</td>\n",
       "      <td>a</td>\n",
       "      <td>a</td>\n",
       "    </tr>\n",
       "    <tr>\n",
       "      <th>2</th>\n",
       "      <td>33.6</td>\n",
       "      <td>C</td>\n",
       "      <td>a</td>\n",
       "      <td>a</td>\n",
       "    </tr>\n",
       "    <tr>\n",
       "      <th>3</th>\n",
       "      <td>36.4</td>\n",
       "      <td>D</td>\n",
       "      <td>a</td>\n",
       "      <td>a</td>\n",
       "    </tr>\n",
       "    <tr>\n",
       "      <th>4</th>\n",
       "      <td>33.9</td>\n",
       "      <td>E</td>\n",
       "      <td>a</td>\n",
       "      <td>a</td>\n",
       "    </tr>\n",
       "    <tr>\n",
       "      <th>5</th>\n",
       "      <td>34.9</td>\n",
       "      <td>F</td>\n",
       "      <td>a</td>\n",
       "      <td>a</td>\n",
       "    </tr>\n",
       "    <tr>\n",
       "      <th>6</th>\n",
       "      <td>33.1</td>\n",
       "      <td>A</td>\n",
       "      <td>b</td>\n",
       "      <td>a</td>\n",
       "    </tr>\n",
       "    <tr>\n",
       "      <th>7</th>\n",
       "      <td>29.9</td>\n",
       "      <td>B</td>\n",
       "      <td>b</td>\n",
       "      <td>a</td>\n",
       "    </tr>\n",
       "    <tr>\n",
       "      <th>8</th>\n",
       "      <td>31.7</td>\n",
       "      <td>C</td>\n",
       "      <td>b</td>\n",
       "      <td>a</td>\n",
       "    </tr>\n",
       "    <tr>\n",
       "      <th>9</th>\n",
       "      <td>27.5</td>\n",
       "      <td>D</td>\n",
       "      <td>b</td>\n",
       "      <td>a</td>\n",
       "    </tr>\n",
       "    <tr>\n",
       "      <th>10</th>\n",
       "      <td>34.0</td>\n",
       "      <td>E</td>\n",
       "      <td>b</td>\n",
       "      <td>a</td>\n",
       "    </tr>\n",
       "    <tr>\n",
       "      <th>11</th>\n",
       "      <td>30.7</td>\n",
       "      <td>F</td>\n",
       "      <td>b</td>\n",
       "      <td>a</td>\n",
       "    </tr>\n",
       "    <tr>\n",
       "      <th>12</th>\n",
       "      <td>32.6</td>\n",
       "      <td>A</td>\n",
       "      <td>c</td>\n",
       "      <td>b</td>\n",
       "    </tr>\n",
       "    <tr>\n",
       "      <th>13</th>\n",
       "      <td>32.7</td>\n",
       "      <td>B</td>\n",
       "      <td>c</td>\n",
       "      <td>b</td>\n",
       "    </tr>\n",
       "    <tr>\n",
       "      <th>14</th>\n",
       "      <td>29.3</td>\n",
       "      <td>C</td>\n",
       "      <td>c</td>\n",
       "      <td>b</td>\n",
       "    </tr>\n",
       "    <tr>\n",
       "      <th>15</th>\n",
       "      <td>25.9</td>\n",
       "      <td>D</td>\n",
       "      <td>c</td>\n",
       "      <td>b</td>\n",
       "    </tr>\n",
       "    <tr>\n",
       "      <th>16</th>\n",
       "      <td>31.1</td>\n",
       "      <td>E</td>\n",
       "      <td>c</td>\n",
       "      <td>b</td>\n",
       "    </tr>\n",
       "    <tr>\n",
       "      <th>17</th>\n",
       "      <td>23.8</td>\n",
       "      <td>F</td>\n",
       "      <td>c</td>\n",
       "      <td>b</td>\n",
       "    </tr>\n",
       "    <tr>\n",
       "      <th>18</th>\n",
       "      <td>26.7</td>\n",
       "      <td>A</td>\n",
       "      <td>d</td>\n",
       "      <td>b</td>\n",
       "    </tr>\n",
       "    <tr>\n",
       "      <th>19</th>\n",
       "      <td>28.5</td>\n",
       "      <td>B</td>\n",
       "      <td>d</td>\n",
       "      <td>b</td>\n",
       "    </tr>\n",
       "    <tr>\n",
       "      <th>20</th>\n",
       "      <td>30.9</td>\n",
       "      <td>C</td>\n",
       "      <td>d</td>\n",
       "      <td>b</td>\n",
       "    </tr>\n",
       "    <tr>\n",
       "      <th>21</th>\n",
       "      <td>26.2</td>\n",
       "      <td>D</td>\n",
       "      <td>d</td>\n",
       "      <td>b</td>\n",
       "    </tr>\n",
       "    <tr>\n",
       "      <th>22</th>\n",
       "      <td>32.3</td>\n",
       "      <td>E</td>\n",
       "      <td>d</td>\n",
       "      <td>b</td>\n",
       "    </tr>\n",
       "    <tr>\n",
       "      <th>23</th>\n",
       "      <td>23.7</td>\n",
       "      <td>F</td>\n",
       "      <td>d</td>\n",
       "      <td>b</td>\n",
       "    </tr>\n",
       "  </tbody>\n",
       "</table>\n",
       "</div>"
      ],
      "text/plain": [
       "    time charge gangjong type\n",
       "0   32.2      A        a    a\n",
       "1   30.4      B        a    a\n",
       "2   33.6      C        a    a\n",
       "3   36.4      D        a    a\n",
       "4   33.9      E        a    a\n",
       "5   34.9      F        a    a\n",
       "6   33.1      A        b    a\n",
       "7   29.9      B        b    a\n",
       "8   31.7      C        b    a\n",
       "9   27.5      D        b    a\n",
       "10  34.0      E        b    a\n",
       "11  30.7      F        b    a\n",
       "12  32.6      A        c    b\n",
       "13  32.7      B        c    b\n",
       "14  29.3      C        c    b\n",
       "15  25.9      D        c    b\n",
       "16  31.1      E        c    b\n",
       "17  23.8      F        c    b\n",
       "18  26.7      A        d    b\n",
       "19  28.5      B        d    b\n",
       "20  30.9      C        d    b\n",
       "21  26.2      D        d    b\n",
       "22  32.3      E        d    b\n",
       "23  23.7      F        d    b"
      ]
     },
     "execution_count": 360,
     "metadata": {},
     "output_type": "execute_result"
    }
   ],
   "source": [
    "# 실습10 p.325 <ANOVA>\n",
    "df=pd.read_csv(\"C:/python/1 Big Data 분석 기초/ANOVA.csv\")\n",
    "df"
   ]
  },
  {
   "cell_type": "code",
   "execution_count": 361,
   "id": "4a96b647",
   "metadata": {
    "scrolled": false
   },
   "outputs": [
    {
     "data": {
      "text/plain": [
       "gangjong  type\n",
       "a         a       6\n",
       "b         a       6\n",
       "c         b       6\n",
       "d         b       6\n",
       "Name: time, dtype: int64"
      ]
     },
     "execution_count": 361,
     "metadata": {},
     "output_type": "execute_result"
    }
   ],
   "source": [
    "df.groupby(['gangjong','type'])['time'].size()"
   ]
  },
  {
   "cell_type": "code",
   "execution_count": 362,
   "id": "0d96643a",
   "metadata": {},
   "outputs": [],
   "source": [
    "# ANOVA.csv 데이터는 강종별과 type에 따라 (a,a), (b,a), (c,b), (d,b)로 구분할 수 있음"
   ]
  },
  {
   "cell_type": "code",
   "execution_count": 363,
   "id": "c5a80c86",
   "metadata": {},
   "outputs": [],
   "source": [
    "# gangjong이 a, type이 a인 2차정련시간 저장\n",
    "da = df[df['gangjong']=='a']['time']"
   ]
  },
  {
   "cell_type": "code",
   "execution_count": 364,
   "id": "fb4e5551",
   "metadata": {},
   "outputs": [
    {
     "data": {
      "text/plain": [
       "0    32.2\n",
       "1    30.4\n",
       "2    33.6\n",
       "3    36.4\n",
       "4    33.9\n",
       "5    34.9\n",
       "Name: time, dtype: float64"
      ]
     },
     "execution_count": 364,
     "metadata": {},
     "output_type": "execute_result"
    }
   ],
   "source": [
    "da"
   ]
  },
  {
   "cell_type": "code",
   "execution_count": 365,
   "id": "8368c7a5",
   "metadata": {},
   "outputs": [],
   "source": [
    "# gangjong이 b, type이 a인 data의 2차 정련시간 저장\n",
    "db = df[df['gangjong']=='b']['time']"
   ]
  },
  {
   "cell_type": "code",
   "execution_count": 366,
   "id": "fd57c5fb",
   "metadata": {
    "scrolled": true
   },
   "outputs": [],
   "source": [
    "db.reset_index(drop=True, inplace=True)"
   ]
  },
  {
   "cell_type": "code",
   "execution_count": 367,
   "id": "6e92a6c6",
   "metadata": {},
   "outputs": [],
   "source": [
    "# gangjong이 c, type이 b인 data의 2차 정련시간 저장\n",
    "dc=df[df['gangjong']=='c']['time']\n",
    "dc.reset_index(drop=True, inplace=True)"
   ]
  },
  {
   "cell_type": "code",
   "execution_count": 368,
   "id": "8f9c5a8b",
   "metadata": {},
   "outputs": [],
   "source": [
    "# gangjong이 d, type이 b인 data의 2차 정련시간 저장\n",
    "dd=df[df['gangjong']=='d']['time']\n",
    "dd.reset_index(drop=True, inplace=True)"
   ]
  },
  {
   "cell_type": "code",
   "execution_count": 373,
   "id": "7500e5ca",
   "metadata": {},
   "outputs": [],
   "source": [
    "df1=pd.DataFrame()\n",
    "df1['A']=da\n",
    "df1['B']=db\n",
    "df1['C']=dc\n",
    "df1['D']=dd"
   ]
  },
  {
   "cell_type": "code",
   "execution_count": 375,
   "id": "3f1e2841",
   "metadata": {
    "scrolled": true
   },
   "outputs": [
    {
     "data": {
      "text/html": [
       "<div>\n",
       "<style scoped>\n",
       "    .dataframe tbody tr th:only-of-type {\n",
       "        vertical-align: middle;\n",
       "    }\n",
       "\n",
       "    .dataframe tbody tr th {\n",
       "        vertical-align: top;\n",
       "    }\n",
       "\n",
       "    .dataframe thead th {\n",
       "        text-align: right;\n",
       "    }\n",
       "</style>\n",
       "<table border=\"1\" class=\"dataframe\">\n",
       "  <thead>\n",
       "    <tr style=\"text-align: right;\">\n",
       "      <th></th>\n",
       "      <th>A</th>\n",
       "      <th>B</th>\n",
       "      <th>C</th>\n",
       "      <th>D</th>\n",
       "    </tr>\n",
       "  </thead>\n",
       "  <tbody>\n",
       "    <tr>\n",
       "      <th>0</th>\n",
       "      <td>32.2</td>\n",
       "      <td>33.1</td>\n",
       "      <td>32.6</td>\n",
       "      <td>26.7</td>\n",
       "    </tr>\n",
       "    <tr>\n",
       "      <th>1</th>\n",
       "      <td>30.4</td>\n",
       "      <td>29.9</td>\n",
       "      <td>32.7</td>\n",
       "      <td>28.5</td>\n",
       "    </tr>\n",
       "    <tr>\n",
       "      <th>2</th>\n",
       "      <td>33.6</td>\n",
       "      <td>31.7</td>\n",
       "      <td>29.3</td>\n",
       "      <td>30.9</td>\n",
       "    </tr>\n",
       "    <tr>\n",
       "      <th>3</th>\n",
       "      <td>36.4</td>\n",
       "      <td>27.5</td>\n",
       "      <td>25.9</td>\n",
       "      <td>26.2</td>\n",
       "    </tr>\n",
       "    <tr>\n",
       "      <th>4</th>\n",
       "      <td>33.9</td>\n",
       "      <td>34.0</td>\n",
       "      <td>31.1</td>\n",
       "      <td>32.3</td>\n",
       "    </tr>\n",
       "    <tr>\n",
       "      <th>5</th>\n",
       "      <td>34.9</td>\n",
       "      <td>30.7</td>\n",
       "      <td>23.8</td>\n",
       "      <td>23.7</td>\n",
       "    </tr>\n",
       "  </tbody>\n",
       "</table>\n",
       "</div>"
      ],
      "text/plain": [
       "      A     B     C     D\n",
       "0  32.2  33.1  32.6  26.7\n",
       "1  30.4  29.9  32.7  28.5\n",
       "2  33.6  31.7  29.3  30.9\n",
       "3  36.4  27.5  25.9  26.2\n",
       "4  33.9  34.0  31.1  32.3\n",
       "5  34.9  30.7  23.8  23.7"
      ]
     },
     "execution_count": 375,
     "metadata": {},
     "output_type": "execute_result"
    }
   ],
   "source": [
    "# 강종별과 type에 따른 2차 정련 시간 데이터프레임 생성\n",
    "# column A,B,C,D는 각각 (gangjong, type)에서 (a,a), (b,a), (c,b), (d,b)를 나타냄\n",
    "df1\n",
    "# 가설 설정\n",
    "# 귀무가설 : 강종별과 type에 따라 2차 정련 시간에 차이가 없다.\n",
    "# 대립가설 : 강종별과 type에 따라 2차 정련 시간에 적어도 하나의 차이가 있다. "
   ]
  },
  {
   "cell_type": "code",
   "execution_count": 376,
   "id": "ff9a65fe",
   "metadata": {},
   "outputs": [
    {
     "data": {
      "text/plain": [
       "<AxesSubplot:>"
      ]
     },
     "execution_count": 376,
     "metadata": {},
     "output_type": "execute_result"
    },
    {
     "data": {
      "image/png": "[encoded data removed]",
      "text/plain": [
       "<Figure size 432x288 with 1 Axes>"
      ]
     },
     "metadata": {
      "needs_background": "light"
     },
     "output_type": "display_data"
    }
   ],
   "source": [
    "df1.boxplot(['A','B','C','D'])"
   ]
  },
  {
   "cell_type": "code",
   "execution_count": 377,
   "id": "98cd3d30",
   "metadata": {},
   "outputs": [
    {
     "name": "stdout",
     "output_type": "stream",
     "text": [
      "statistic=0.9879404902458191, p-value=0.9835584163665771\n"
     ]
    }
   ],
   "source": [
    "# A,B,C,D 정규성 검정 : Shapiro-Wilk Test\n",
    "statistic, p=stats.shapiro(df1['A'])\n",
    "print(\"statistic={}, p-value={}\".format(statistic, p))"
   ]
  },
  {
   "cell_type": "code",
   "execution_count": 378,
   "id": "515ab9a7",
   "metadata": {},
   "outputs": [],
   "source": [
    "# 따라서 A는 p-value가 0.98이므로 정규성이 있다. "
   ]
  },
  {
   "cell_type": "code",
   "execution_count": 379,
   "id": "a5973ead",
   "metadata": {},
   "outputs": [
    {
     "name": "stdout",
     "output_type": "stream",
     "text": [
      "statistic=0.9769707918167114, p-value=0.9355478286743164\n"
     ]
    }
   ],
   "source": [
    "statistic, p=stats.shapiro(df1['B'])\n",
    "print(\"statistic={}, p-value={}\".format(statistic, p))"
   ]
  },
  {
   "cell_type": "code",
   "execution_count": 380,
   "id": "7ed0c496",
   "metadata": {},
   "outputs": [],
   "source": [
    "# 따라서 B는 p-value가 0.93이므로 정규성이 있다. "
   ]
  },
  {
   "cell_type": "code",
   "execution_count": 381,
   "id": "56e17f4d",
   "metadata": {},
   "outputs": [
    {
     "name": "stdout",
     "output_type": "stream",
     "text": [
      "statistic=0.8929418921470642, p-value=0.33389002084732056\n"
     ]
    }
   ],
   "source": [
    "statistic, p=stats.shapiro(df1['C'])\n",
    "print(\"statistic={}, p-value={}\".format(statistic, p))"
   ]
  },
  {
   "cell_type": "code",
   "execution_count": 382,
   "id": "acb2302b",
   "metadata": {},
   "outputs": [],
   "source": [
    "# 따라서 C는 p-value가 0.33이므로 정규성이 있다. "
   ]
  },
  {
   "cell_type": "code",
   "execution_count": 383,
   "id": "35db73f6",
   "metadata": {},
   "outputs": [
    {
     "name": "stdout",
     "output_type": "stream",
     "text": [
      "statistic=0.9713903665542603, p-value=0.9016408920288086\n"
     ]
    }
   ],
   "source": [
    "statistic, p=stats.shapiro(df1['D'])\n",
    "print(\"statistic={}, p-value={}\".format(statistic, p))"
   ]
  },
  {
   "cell_type": "code",
   "execution_count": 384,
   "id": "02848229",
   "metadata": {},
   "outputs": [],
   "source": [
    "# 따라서 D는 p-value가 0.9이므로 정규성이 있다. "
   ]
  },
  {
   "cell_type": "code",
   "execution_count": 385,
   "id": "50baa61b",
   "metadata": {},
   "outputs": [
    {
     "data": {
      "text/plain": [
       "BartlettResult(statistic=1.8729084232387967, pvalue=0.5991991808067023)"
      ]
     },
     "execution_count": 385,
     "metadata": {},
     "output_type": "execute_result"
    }
   ],
   "source": [
    "# 등분산성 검정 : Bartlett test (모두 다 정규성이 있으니까.)\n",
    "stats.bartlett(df1['A'], df1['B'], df1['C'], df1['D'])"
   ]
  },
  {
   "cell_type": "code",
   "execution_count": 386,
   "id": "3fbea7b1",
   "metadata": {},
   "outputs": [],
   "source": [
    "# 따라서 A,B,C,D는 p-value가 0.6이므로 등분산성이 있다. "
   ]
  },
  {
   "cell_type": "code",
   "execution_count": 387,
   "id": "865021af",
   "metadata": {},
   "outputs": [],
   "source": [
    "# ANOVA 실행\n",
    "f_result=stats.f_oneway(df1['A'], df1['B'], df1['C'], df1['D'])\n",
    "f,p=f_result.statistic.round(3), f_result.pvalue.round(3)"
   ]
  },
  {
   "cell_type": "code",
   "execution_count": 388,
   "id": "2c8e0c8a",
   "metadata": {},
   "outputs": [
    {
     "name": "stdout",
     "output_type": "stream",
     "text": [
      "One-way\n",
      "F 통계량 : 4.172\n",
      "p-value : 0.019\n"
     ]
    }
   ],
   "source": [
    "print(\"One-way\")\n",
    "print(\"F 통계량 : {}\".format(f))\n",
    "print(\"p-value : {}\".format(p))"
   ]
  },
  {
   "cell_type": "code",
   "execution_count": 389,
   "id": "9ddfb4c2",
   "metadata": {},
   "outputs": [],
   "source": [
    "# 결과적으로 p-value는 0.019이므로 0.05보다 작아서 귀무가설은 기각되고 대립가설이 채택된다.\n",
    "# 따라서 강종별과 type에 따라 2차 정련 시간에는 적어도 하나의 차이가 있다. "
   ]
  },
  {
   "cell_type": "code",
   "execution_count": null,
   "id": "936db9ed",
   "metadata": {},
   "outputs": [],
   "source": []
  },
  {
   "cell_type": "code",
   "execution_count": 390,
   "id": "e2e7a5d3",
   "metadata": {},
   "outputs": [],
   "source": [
    "# 실습 11 p.330 <상관분석>"
   ]
  },
  {
   "cell_type": "code",
   "execution_count": 391,
   "id": "0fb723d3",
   "metadata": {},
   "outputs": [],
   "source": [
    "# 초코칩의 강도와 재료 반죽 온도 간에 관계를 분석하기 위한 상관 분석\n",
    "df1=[37.6, 38.6, 37.2, 36.4, 38.6, 39, 37.2, 36.1, 35.9, 37.1, 36.9, 37.5, 36.3, 38.1, 39, 36.9, 36.8, 37.6, 33, 33.5]\n",
    "df2=[14, 15, 14, 16, 17, 14, 17, 16, 15, 16, 14, 16, 18, 13, 15, 17, 14, 16, 20, 21]"
   ]
  },
  {
   "cell_type": "code",
   "execution_count": 392,
   "id": "7526702e",
   "metadata": {},
   "outputs": [],
   "source": [
    "corr, pval=stats.pearsonr(df1, df2)"
   ]
  },
  {
   "cell_type": "code",
   "execution_count": 393,
   "id": "b0dfd1ba",
   "metadata": {},
   "outputs": [
    {
     "name": "stdout",
     "output_type": "stream",
     "text": [
      "Correlation Analysis\n",
      "corr : -0.723\n",
      "p-value : 0.000\n"
     ]
    }
   ],
   "source": [
    "print(\"Correlation Analysis\")\n",
    "print(\"corr : {0:0.3f}\".format(corr))\n",
    "print(\"p-value : {0:0.3f}\".format(pval))"
   ]
  },
  {
   "cell_type": "code",
   "execution_count": 395,
   "id": "e719fbc3",
   "metadata": {},
   "outputs": [],
   "source": [
    "# 결과적으로 상관계수가 -0.723이므로 '강한 음의 상관관계'를 보인다."
   ]
  },
  {
   "cell_type": "code",
   "execution_count": null,
   "id": "95c2c1f3",
   "metadata": {},
   "outputs": [],
   "source": []
  }
 ],
 "metadata": {
  "kernelspec": {
   "display_name": "Python 3 (ipykernel)",
   "language": "python",
   "name": "python3"
  },
  "language_info": {
   "codemirror_mode": {
    "name": "ipython",
    "version": 3
   },
   "file_extension": ".py",
   "mimetype": "text/x-python",
   "name": "python",
   "nbconvert_exporter": "python",
   "pygments_lexer": "ipython3",
   "version": "3.9.12"
  }
 },
 "nbformat": 4,
 "nbformat_minor": 5
}
