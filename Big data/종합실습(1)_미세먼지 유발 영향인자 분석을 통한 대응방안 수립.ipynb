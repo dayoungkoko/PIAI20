{
 "cells": [
  {
   "cell_type": "code",
   "execution_count": 1,
   "id": "cc7edf79",
   "metadata": {
    "ExecuteTime": {
     "end_time": "2022-11-07T22:39:39.090206Z",
     "start_time": "2022-11-07T22:39:34.383075Z"
    }
   },
   "outputs": [],
   "source": [
    "import pandas as pd\n",
    "import numpy as np\n",
    "\n",
    "import matplotlib.pyplot as plt\n",
    "import matplotlib\n",
    "import seaborn as sns\n",
    "from sklearn.model_selection import train_test_split\n",
    "from sklearn.preprocessing import StandardScaler\n",
    "\n",
    "import statsmodels.formula.api as smf\n",
    "from statsmodels.api import qqplot, add_constant \n",
    "from statsmodels.stats.outliers_influence import variance_inflation_factor\n",
    "from sklearn.tree import DecisionTreeRegressor\n",
    "from sklearn.ensemble import RandomForestRegressor\n",
    "from sklearn.ensemble import GradientBoostingRegressor\n",
    "from sklearn.linear_model import Ridge, Lasso, ElasticNet\n",
    "\n",
    "from sklearn.tree import export_graphviz\n",
    "import graphviz\n",
    "from sklearn.metrics import mean_squared_error\n",
    "from sklearn.metrics import mean_absolute_error\n",
    "from statsmodels.tools.eval_measures import rmse\n",
    "from sklearn.metrics import r2_score\n",
    "from scipy import stats\n",
    "\n",
    "import warnings\n",
    "warnings.filterwarnings(action='ignore')"
   ]
  },
  {
   "cell_type": "code",
   "execution_count": 2,
   "id": "7d722f00",
   "metadata": {
    "ExecuteTime": {
     "end_time": "2022-11-07T22:39:41.105305Z",
     "start_time": "2022-11-07T22:39:41.091327Z"
    }
   },
   "outputs": [],
   "source": [
    "# 유니코드 깨짐현상 해결\n",
    "matplotlib.rcParams['axes.unicode_minus'] = False\n",
    "\n",
    "# 나눔고딕 폰트 적용\n",
    "matplotlib.rcParams['font.family'] = 'NanumGothic'"
   ]
  },
  {
   "cell_type": "code",
   "execution_count": 3,
   "id": "c8d7e9ac",
   "metadata": {
    "ExecuteTime": {
     "end_time": "2022-11-07T22:39:42.938533Z",
     "start_time": "2022-11-07T22:39:42.921452Z"
    }
   },
   "outputs": [],
   "source": [
    "# RMSE : root mean squared error 함수\n",
    "def root_mean_squared_error(y_true, y_pred) :\n",
    "    return np.sqrt(mean_squared_error(y_true, y_pred))\n",
    "\n",
    "# MAPE : mean absolute percentage error 함수\n",
    "def mean_absolute_percentage_error(y_true, y_pred) :\n",
    "    return np.mean(np.abs((y_true - y_pred)/y_true))*100"
   ]
  },
  {
   "cell_type": "markdown",
   "id": "486ebd1a",
   "metadata": {},
   "source": [
    "# 데이터 처리"
   ]
  },
  {
   "cell_type": "code",
   "execution_count": 4,
   "id": "f188028a",
   "metadata": {
    "ExecuteTime": {
     "end_time": "2022-11-07T22:39:44.189458Z",
     "start_time": "2022-11-07T22:39:44.146573Z"
    },
    "scrolled": true
   },
   "outputs": [
    {
     "data": {
      "text/html": [
       "<div>\n",
       "<style scoped>\n",
       "    .dataframe tbody tr th:only-of-type {\n",
       "        vertical-align: middle;\n",
       "    }\n",
       "\n",
       "    .dataframe tbody tr th {\n",
       "        vertical-align: top;\n",
       "    }\n",
       "\n",
       "    .dataframe thead th {\n",
       "        text-align: right;\n",
       "    }\n",
       "</style>\n",
       "<table border=\"1\" class=\"dataframe\">\n",
       "  <thead>\n",
       "    <tr style=\"text-align: right;\">\n",
       "      <th></th>\n",
       "      <th>MeasDate</th>\n",
       "      <th>PM10</th>\n",
       "      <th>O3</th>\n",
       "      <th>NO2</th>\n",
       "      <th>CO</th>\n",
       "      <th>SO2</th>\n",
       "      <th>TEMP</th>\n",
       "      <th>RAIN</th>\n",
       "      <th>WIND</th>\n",
       "      <th>WIND_DIR</th>\n",
       "      <th>HUMIDITY</th>\n",
       "      <th>ATM_PRESS</th>\n",
       "      <th>SNOW</th>\n",
       "      <th>CLOUD</th>\n",
       "    </tr>\n",
       "  </thead>\n",
       "  <tbody>\n",
       "    <tr>\n",
       "      <th>0</th>\n",
       "      <td>2019-07-01</td>\n",
       "      <td>29.0</td>\n",
       "      <td>0.054</td>\n",
       "      <td>0.021</td>\n",
       "      <td>0.5</td>\n",
       "      <td>0.003</td>\n",
       "      <td>24.03</td>\n",
       "      <td>0.0</td>\n",
       "      <td>2.30</td>\n",
       "      <td>249</td>\n",
       "      <td>63.2</td>\n",
       "      <td>995.1</td>\n",
       "      <td>0.0</td>\n",
       "      <td>5.70</td>\n",
       "    </tr>\n",
       "    <tr>\n",
       "      <th>1</th>\n",
       "      <td>2019-07-02</td>\n",
       "      <td>26.0</td>\n",
       "      <td>0.053</td>\n",
       "      <td>0.020</td>\n",
       "      <td>0.5</td>\n",
       "      <td>0.003</td>\n",
       "      <td>24.29</td>\n",
       "      <td>0.0</td>\n",
       "      <td>2.26</td>\n",
       "      <td>265</td>\n",
       "      <td>63.2</td>\n",
       "      <td>998.6</td>\n",
       "      <td>0.0</td>\n",
       "      <td>3.83</td>\n",
       "    </tr>\n",
       "    <tr>\n",
       "      <th>2</th>\n",
       "      <td>2019-07-03</td>\n",
       "      <td>30.0</td>\n",
       "      <td>0.042</td>\n",
       "      <td>0.023</td>\n",
       "      <td>0.4</td>\n",
       "      <td>0.003</td>\n",
       "      <td>24.18</td>\n",
       "      <td>0.0</td>\n",
       "      <td>1.79</td>\n",
       "      <td>280</td>\n",
       "      <td>65.3</td>\n",
       "      <td>998.3</td>\n",
       "      <td>0.0</td>\n",
       "      <td>6.29</td>\n",
       "    </tr>\n",
       "    <tr>\n",
       "      <th>3</th>\n",
       "      <td>2019-07-04</td>\n",
       "      <td>28.0</td>\n",
       "      <td>0.034</td>\n",
       "      <td>0.026</td>\n",
       "      <td>0.4</td>\n",
       "      <td>0.003</td>\n",
       "      <td>25.35</td>\n",
       "      <td>0.0</td>\n",
       "      <td>2.04</td>\n",
       "      <td>263</td>\n",
       "      <td>58.6</td>\n",
       "      <td>996.6</td>\n",
       "      <td>0.0</td>\n",
       "      <td>2.54</td>\n",
       "    </tr>\n",
       "    <tr>\n",
       "      <th>4</th>\n",
       "      <td>2019-07-05</td>\n",
       "      <td>29.0</td>\n",
       "      <td>0.045</td>\n",
       "      <td>0.035</td>\n",
       "      <td>0.5</td>\n",
       "      <td>0.003</td>\n",
       "      <td>27.30</td>\n",
       "      <td>0.0</td>\n",
       "      <td>1.45</td>\n",
       "      <td>175</td>\n",
       "      <td>45.5</td>\n",
       "      <td>993.5</td>\n",
       "      <td>0.0</td>\n",
       "      <td>3.92</td>\n",
       "    </tr>\n",
       "  </tbody>\n",
       "</table>\n",
       "</div>"
      ],
      "text/plain": [
       "     MeasDate  PM10     O3    NO2   CO    SO2   TEMP  RAIN  WIND  WIND_DIR  \\\n",
       "0  2019-07-01  29.0  0.054  0.021  0.5  0.003  24.03   0.0  2.30       249   \n",
       "1  2019-07-02  26.0  0.053  0.020  0.5  0.003  24.29   0.0  2.26       265   \n",
       "2  2019-07-03  30.0  0.042  0.023  0.4  0.003  24.18   0.0  1.79       280   \n",
       "3  2019-07-04  28.0  0.034  0.026  0.4  0.003  25.35   0.0  2.04       263   \n",
       "4  2019-07-05  29.0  0.045  0.035  0.5  0.003  27.30   0.0  1.45       175   \n",
       "\n",
       "   HUMIDITY  ATM_PRESS  SNOW  CLOUD  \n",
       "0      63.2      995.1   0.0   5.70  \n",
       "1      63.2      998.6   0.0   3.83  \n",
       "2      65.3      998.3   0.0   6.29  \n",
       "3      58.6      996.6   0.0   2.54  \n",
       "4      45.5      993.5   0.0   3.92  "
      ]
     },
     "execution_count": 4,
     "metadata": {},
     "output_type": "execute_result"
    }
   ],
   "source": [
    "df_raw=pd.read_csv(\"C:/python/2. Big Data 분석/AIR_POLLUTION.csv\")\n",
    "df_raw.head()"
   ]
  },
  {
   "cell_type": "markdown",
   "id": "6f1032fb",
   "metadata": {},
   "source": [
    "**변수 설명**\n",
    "* MeasDate : 측정일자\n",
    "* **PM10** : 미세먼지10㎍/㎥ 농도 (**목표변수**)\n",
    "* O3 : 오존 농도\n",
    "* NO2 : 이산화질소 농도\n",
    "* CO : 일산화탄소 농도\n",
    "* SO2 : 아황산가스 농도\n",
    "* TEMP : 기온(ºC)\n",
    "* RAIN : 강수량(mm)\n",
    "* WIND : 풍속(m/s)\n",
    "* WIND_DIR : 풍향(16방위)\n",
    "* HUMIDITY : 습도(%)\n",
    "* ATM_PRESS : 현지기압(hPa)\n",
    "* SNOW : 적설(cm)\n",
    "* CLOUD : 전운량(10분위)"
   ]
  },
  {
   "cell_type": "code",
   "execution_count": 5,
   "id": "c2f2b125",
   "metadata": {
    "ExecuteTime": {
     "end_time": "2022-11-07T21:48:12.992011Z",
     "start_time": "2022-11-07T21:48:12.985031Z"
    }
   },
   "outputs": [
    {
     "data": {
      "text/plain": [
       "(366, 14)"
      ]
     },
     "execution_count": 5,
     "metadata": {},
     "output_type": "execute_result"
    }
   ],
   "source": [
    "df_raw.shape"
   ]
  },
  {
   "cell_type": "code",
   "execution_count": 6,
   "id": "5e2d6641",
   "metadata": {
    "ExecuteTime": {
     "end_time": "2022-11-07T21:48:13.832227Z",
     "start_time": "2022-11-07T21:48:13.795326Z"
    }
   },
   "outputs": [
    {
     "name": "stdout",
     "output_type": "stream",
     "text": [
      "<class 'pandas.core.frame.DataFrame'>\n",
      "RangeIndex: 366 entries, 0 to 365\n",
      "Data columns (total 14 columns):\n",
      " #   Column     Non-Null Count  Dtype  \n",
      "---  ------     --------------  -----  \n",
      " 0   MeasDate   366 non-null    object \n",
      " 1   PM10       365 non-null    float64\n",
      " 2   O3         365 non-null    float64\n",
      " 3   NO2        365 non-null    float64\n",
      " 4   CO         311 non-null    float64\n",
      " 5   SO2        365 non-null    float64\n",
      " 6   TEMP       366 non-null    float64\n",
      " 7   RAIN       366 non-null    float64\n",
      " 8   WIND       366 non-null    float64\n",
      " 9   WIND_DIR   366 non-null    int64  \n",
      " 10  HUMIDITY   366 non-null    float64\n",
      " 11  ATM_PRESS  366 non-null    float64\n",
      " 12  SNOW       366 non-null    float64\n",
      " 13  CLOUD      366 non-null    float64\n",
      "dtypes: float64(12), int64(1), object(1)\n",
      "memory usage: 40.2+ KB\n"
     ]
    }
   ],
   "source": [
    "df_raw.info()"
   ]
  },
  {
   "cell_type": "markdown",
   "id": "ff99fb4b",
   "metadata": {},
   "source": [
    "MeasDate 날짜형 데이터이므로 데이터 타입 변경"
   ]
  },
  {
   "cell_type": "code",
   "execution_count": 7,
   "id": "55048a73",
   "metadata": {
    "ExecuteTime": {
     "end_time": "2022-11-07T21:48:20.659176Z",
     "start_time": "2022-11-07T21:48:20.649200Z"
    }
   },
   "outputs": [],
   "source": [
    "df_raw['MeasDate']=pd.to_datetime(df_raw['MeasDate'])"
   ]
  },
  {
   "cell_type": "code",
   "execution_count": 8,
   "id": "7799525f",
   "metadata": {
    "ExecuteTime": {
     "end_time": "2022-11-07T21:48:21.017546Z",
     "start_time": "2022-11-07T21:48:20.994571Z"
    },
    "scrolled": true
   },
   "outputs": [
    {
     "name": "stdout",
     "output_type": "stream",
     "text": [
      "<class 'pandas.core.frame.DataFrame'>\n",
      "RangeIndex: 366 entries, 0 to 365\n",
      "Data columns (total 14 columns):\n",
      " #   Column     Non-Null Count  Dtype         \n",
      "---  ------     --------------  -----         \n",
      " 0   MeasDate   366 non-null    datetime64[ns]\n",
      " 1   PM10       365 non-null    float64       \n",
      " 2   O3         365 non-null    float64       \n",
      " 3   NO2        365 non-null    float64       \n",
      " 4   CO         311 non-null    float64       \n",
      " 5   SO2        365 non-null    float64       \n",
      " 6   TEMP       366 non-null    float64       \n",
      " 7   RAIN       366 non-null    float64       \n",
      " 8   WIND       366 non-null    float64       \n",
      " 9   WIND_DIR   366 non-null    int64         \n",
      " 10  HUMIDITY   366 non-null    float64       \n",
      " 11  ATM_PRESS  366 non-null    float64       \n",
      " 12  SNOW       366 non-null    float64       \n",
      " 13  CLOUD      366 non-null    float64       \n",
      "dtypes: datetime64[ns](1), float64(12), int64(1)\n",
      "memory usage: 40.2 KB\n"
     ]
    }
   ],
   "source": [
    "df_raw.info()"
   ]
  },
  {
   "cell_type": "code",
   "execution_count": 9,
   "id": "2a5bddd0",
   "metadata": {
    "ExecuteTime": {
     "end_time": "2022-11-07T21:48:21.505228Z",
     "start_time": "2022-11-07T21:48:21.447383Z"
    },
    "scrolled": false
   },
   "outputs": [
    {
     "data": {
      "text/html": [
       "<div>\n",
       "<style scoped>\n",
       "    .dataframe tbody tr th:only-of-type {\n",
       "        vertical-align: middle;\n",
       "    }\n",
       "\n",
       "    .dataframe tbody tr th {\n",
       "        vertical-align: top;\n",
       "    }\n",
       "\n",
       "    .dataframe thead th {\n",
       "        text-align: right;\n",
       "    }\n",
       "</style>\n",
       "<table border=\"1\" class=\"dataframe\">\n",
       "  <thead>\n",
       "    <tr style=\"text-align: right;\">\n",
       "      <th></th>\n",
       "      <th>PM10</th>\n",
       "      <th>O3</th>\n",
       "      <th>NO2</th>\n",
       "      <th>CO</th>\n",
       "      <th>SO2</th>\n",
       "      <th>TEMP</th>\n",
       "      <th>RAIN</th>\n",
       "      <th>WIND</th>\n",
       "      <th>WIND_DIR</th>\n",
       "      <th>HUMIDITY</th>\n",
       "      <th>ATM_PRESS</th>\n",
       "      <th>SNOW</th>\n",
       "      <th>CLOUD</th>\n",
       "    </tr>\n",
       "  </thead>\n",
       "  <tbody>\n",
       "    <tr>\n",
       "      <th>count</th>\n",
       "      <td>365.000000</td>\n",
       "      <td>365.000000</td>\n",
       "      <td>365.000000</td>\n",
       "      <td>311.000000</td>\n",
       "      <td>365.000000</td>\n",
       "      <td>366.000000</td>\n",
       "      <td>366.000000</td>\n",
       "      <td>366.000000</td>\n",
       "      <td>366.000000</td>\n",
       "      <td>366.000000</td>\n",
       "      <td>366.000000</td>\n",
       "      <td>366.000000</td>\n",
       "      <td>366.000000</td>\n",
       "    </tr>\n",
       "    <tr>\n",
       "      <th>mean</th>\n",
       "      <td>33.421918</td>\n",
       "      <td>0.023600</td>\n",
       "      <td>0.026814</td>\n",
       "      <td>0.517042</td>\n",
       "      <td>0.003033</td>\n",
       "      <td>13.863798</td>\n",
       "      <td>0.381639</td>\n",
       "      <td>2.225301</td>\n",
       "      <td>209.450820</td>\n",
       "      <td>60.295082</td>\n",
       "      <td>1005.848907</td>\n",
       "      <td>0.022951</td>\n",
       "      <td>5.064016</td>\n",
       "    </tr>\n",
       "    <tr>\n",
       "      <th>std</th>\n",
       "      <td>15.937983</td>\n",
       "      <td>0.011896</td>\n",
       "      <td>0.010271</td>\n",
       "      <td>0.152820</td>\n",
       "      <td>0.000632</td>\n",
       "      <td>9.830280</td>\n",
       "      <td>1.122127</td>\n",
       "      <td>0.723171</td>\n",
       "      <td>70.735018</td>\n",
       "      <td>14.534983</td>\n",
       "      <td>8.126823</td>\n",
       "      <td>0.222361</td>\n",
       "      <td>2.986119</td>\n",
       "    </tr>\n",
       "    <tr>\n",
       "      <th>min</th>\n",
       "      <td>5.000000</td>\n",
       "      <td>0.002000</td>\n",
       "      <td>0.008000</td>\n",
       "      <td>0.300000</td>\n",
       "      <td>0.002000</td>\n",
       "      <td>-7.950000</td>\n",
       "      <td>0.000000</td>\n",
       "      <td>0.940000</td>\n",
       "      <td>50.000000</td>\n",
       "      <td>17.900000</td>\n",
       "      <td>983.800000</td>\n",
       "      <td>0.000000</td>\n",
       "      <td>0.000000</td>\n",
       "    </tr>\n",
       "    <tr>\n",
       "      <th>25%</th>\n",
       "      <td>22.000000</td>\n",
       "      <td>0.014000</td>\n",
       "      <td>0.019000</td>\n",
       "      <td>0.400000</td>\n",
       "      <td>0.003000</td>\n",
       "      <td>5.492500</td>\n",
       "      <td>0.000000</td>\n",
       "      <td>1.722500</td>\n",
       "      <td>160.250000</td>\n",
       "      <td>49.650000</td>\n",
       "      <td>999.400000</td>\n",
       "      <td>0.000000</td>\n",
       "      <td>2.510000</td>\n",
       "    </tr>\n",
       "    <tr>\n",
       "      <th>50%</th>\n",
       "      <td>31.000000</td>\n",
       "      <td>0.023000</td>\n",
       "      <td>0.025000</td>\n",
       "      <td>0.500000</td>\n",
       "      <td>0.003000</td>\n",
       "      <td>14.000000</td>\n",
       "      <td>0.000000</td>\n",
       "      <td>2.095000</td>\n",
       "      <td>221.000000</td>\n",
       "      <td>61.050000</td>\n",
       "      <td>1006.450000</td>\n",
       "      <td>0.000000</td>\n",
       "      <td>5.310000</td>\n",
       "    </tr>\n",
       "    <tr>\n",
       "      <th>75%</th>\n",
       "      <td>42.000000</td>\n",
       "      <td>0.032000</td>\n",
       "      <td>0.034000</td>\n",
       "      <td>0.600000</td>\n",
       "      <td>0.003000</td>\n",
       "      <td>23.070000</td>\n",
       "      <td>0.115000</td>\n",
       "      <td>2.620000</td>\n",
       "      <td>266.000000</td>\n",
       "      <td>69.950000</td>\n",
       "      <td>1011.575000</td>\n",
       "      <td>0.000000</td>\n",
       "      <td>7.570000</td>\n",
       "    </tr>\n",
       "    <tr>\n",
       "      <th>max</th>\n",
       "      <td>101.000000</td>\n",
       "      <td>0.062000</td>\n",
       "      <td>0.059000</td>\n",
       "      <td>1.000000</td>\n",
       "      <td>0.005000</td>\n",
       "      <td>31.720000</td>\n",
       "      <td>11.800000</td>\n",
       "      <td>5.880000</td>\n",
       "      <td>351.000000</td>\n",
       "      <td>95.000000</td>\n",
       "      <td>1025.500000</td>\n",
       "      <td>3.200000</td>\n",
       "      <td>10.000000</td>\n",
       "    </tr>\n",
       "  </tbody>\n",
       "</table>\n",
       "</div>"
      ],
      "text/plain": [
       "             PM10          O3         NO2          CO         SO2        TEMP  \\\n",
       "count  365.000000  365.000000  365.000000  311.000000  365.000000  366.000000   \n",
       "mean    33.421918    0.023600    0.026814    0.517042    0.003033   13.863798   \n",
       "std     15.937983    0.011896    0.010271    0.152820    0.000632    9.830280   \n",
       "min      5.000000    0.002000    0.008000    0.300000    0.002000   -7.950000   \n",
       "25%     22.000000    0.014000    0.019000    0.400000    0.003000    5.492500   \n",
       "50%     31.000000    0.023000    0.025000    0.500000    0.003000   14.000000   \n",
       "75%     42.000000    0.032000    0.034000    0.600000    0.003000   23.070000   \n",
       "max    101.000000    0.062000    0.059000    1.000000    0.005000   31.720000   \n",
       "\n",
       "             RAIN        WIND    WIND_DIR    HUMIDITY    ATM_PRESS  \\\n",
       "count  366.000000  366.000000  366.000000  366.000000   366.000000   \n",
       "mean     0.381639    2.225301  209.450820   60.295082  1005.848907   \n",
       "std      1.122127    0.723171   70.735018   14.534983     8.126823   \n",
       "min      0.000000    0.940000   50.000000   17.900000   983.800000   \n",
       "25%      0.000000    1.722500  160.250000   49.650000   999.400000   \n",
       "50%      0.000000    2.095000  221.000000   61.050000  1006.450000   \n",
       "75%      0.115000    2.620000  266.000000   69.950000  1011.575000   \n",
       "max     11.800000    5.880000  351.000000   95.000000  1025.500000   \n",
       "\n",
       "             SNOW       CLOUD  \n",
       "count  366.000000  366.000000  \n",
       "mean     0.022951    5.064016  \n",
       "std      0.222361    2.986119  \n",
       "min      0.000000    0.000000  \n",
       "25%      0.000000    2.510000  \n",
       "50%      0.000000    5.310000  \n",
       "75%      0.000000    7.570000  \n",
       "max      3.200000   10.000000  "
      ]
     },
     "execution_count": 9,
     "metadata": {},
     "output_type": "execute_result"
    }
   ],
   "source": [
    "df_raw.describe()"
   ]
  },
  {
   "cell_type": "markdown",
   "id": "98f50dd1",
   "metadata": {},
   "source": [
    "기술통계량 확인 결과 총 366개의 데이터에서 일부 변수 결측치 확인"
   ]
  },
  {
   "cell_type": "markdown",
   "id": "6a3d1530",
   "metadata": {
    "ExecuteTime": {
     "end_time": "2022-11-06T10:25:18.953431Z",
     "start_time": "2022-11-06T10:25:18.939469Z"
    }
   },
   "source": [
    "## 결측치 처리"
   ]
  },
  {
   "cell_type": "code",
   "execution_count": 10,
   "id": "dfc2a6c0",
   "metadata": {
    "ExecuteTime": {
     "end_time": "2022-11-07T21:48:23.462903Z",
     "start_time": "2022-11-07T21:48:23.445489Z"
    },
    "scrolled": false
   },
   "outputs": [
    {
     "data": {
      "text/plain": [
       "MeasDate      0\n",
       "PM10          1\n",
       "O3            1\n",
       "NO2           1\n",
       "CO           55\n",
       "SO2           1\n",
       "TEMP          0\n",
       "RAIN          0\n",
       "WIND          0\n",
       "WIND_DIR      0\n",
       "HUMIDITY      0\n",
       "ATM_PRESS     0\n",
       "SNOW          0\n",
       "CLOUD         0\n",
       "dtype: int64"
      ]
     },
     "execution_count": 10,
     "metadata": {},
     "output_type": "execute_result"
    }
   ],
   "source": [
    "df_raw.isnull().sum()"
   ]
  },
  {
   "cell_type": "markdown",
   "id": "914bfdf6",
   "metadata": {},
   "source": [
    "목표변수 PM10이 결측치인 행은 제거해야 함"
   ]
  },
  {
   "cell_type": "code",
   "execution_count": 11,
   "id": "29f57234",
   "metadata": {
    "ExecuteTime": {
     "end_time": "2022-11-07T21:48:24.012139Z",
     "start_time": "2022-11-07T21:48:23.980311Z"
    }
   },
   "outputs": [
    {
     "data": {
      "text/html": [
       "<div>\n",
       "<style scoped>\n",
       "    .dataframe tbody tr th:only-of-type {\n",
       "        vertical-align: middle;\n",
       "    }\n",
       "\n",
       "    .dataframe tbody tr th {\n",
       "        vertical-align: top;\n",
       "    }\n",
       "\n",
       "    .dataframe thead th {\n",
       "        text-align: right;\n",
       "    }\n",
       "</style>\n",
       "<table border=\"1\" class=\"dataframe\">\n",
       "  <thead>\n",
       "    <tr style=\"text-align: right;\">\n",
       "      <th></th>\n",
       "      <th>MeasDate</th>\n",
       "      <th>PM10</th>\n",
       "      <th>O3</th>\n",
       "      <th>NO2</th>\n",
       "      <th>CO</th>\n",
       "      <th>SO2</th>\n",
       "      <th>TEMP</th>\n",
       "      <th>RAIN</th>\n",
       "      <th>WIND</th>\n",
       "      <th>WIND_DIR</th>\n",
       "      <th>HUMIDITY</th>\n",
       "      <th>ATM_PRESS</th>\n",
       "      <th>SNOW</th>\n",
       "      <th>CLOUD</th>\n",
       "    </tr>\n",
       "  </thead>\n",
       "  <tbody>\n",
       "    <tr>\n",
       "      <th>328</th>\n",
       "      <td>2020-05-24</td>\n",
       "      <td>NaN</td>\n",
       "      <td>NaN</td>\n",
       "      <td>NaN</td>\n",
       "      <td>NaN</td>\n",
       "      <td>NaN</td>\n",
       "      <td>17.48</td>\n",
       "      <td>1.45</td>\n",
       "      <td>2.85</td>\n",
       "      <td>257</td>\n",
       "      <td>83.3</td>\n",
       "      <td>999.4</td>\n",
       "      <td>0.0</td>\n",
       "      <td>8.21</td>\n",
       "    </tr>\n",
       "  </tbody>\n",
       "</table>\n",
       "</div>"
      ],
      "text/plain": [
       "      MeasDate  PM10  O3  NO2  CO  SO2   TEMP  RAIN  WIND  WIND_DIR  HUMIDITY  \\\n",
       "328 2020-05-24   NaN NaN  NaN NaN  NaN  17.48  1.45  2.85       257      83.3   \n",
       "\n",
       "     ATM_PRESS  SNOW  CLOUD  \n",
       "328      999.4   0.0   8.21  "
      ]
     },
     "execution_count": 11,
     "metadata": {},
     "output_type": "execute_result"
    }
   ],
   "source": [
    "df_raw[df_raw['PM10'].isnull()]"
   ]
  },
  {
   "cell_type": "code",
   "execution_count": 12,
   "id": "892c0532",
   "metadata": {
    "ExecuteTime": {
     "end_time": "2022-11-07T21:48:24.218578Z",
     "start_time": "2022-11-07T21:48:24.207439Z"
    }
   },
   "outputs": [],
   "source": [
    "df = df_raw.drop(index=df_raw[df_raw['PM10'].isna()].index)\n",
    "df.reset_index(drop=True, inplace=True)"
   ]
  },
  {
   "cell_type": "code",
   "execution_count": 13,
   "id": "7be5da93",
   "metadata": {
    "ExecuteTime": {
     "end_time": "2022-11-07T21:48:24.439465Z",
     "start_time": "2022-11-07T21:48:24.423864Z"
    },
    "scrolled": true
   },
   "outputs": [
    {
     "data": {
      "text/plain": [
       "MeasDate      0\n",
       "PM10          0\n",
       "O3            0\n",
       "NO2           0\n",
       "CO           54\n",
       "SO2           0\n",
       "TEMP          0\n",
       "RAIN          0\n",
       "WIND          0\n",
       "WIND_DIR      0\n",
       "HUMIDITY      0\n",
       "ATM_PRESS     0\n",
       "SNOW          0\n",
       "CLOUD         0\n",
       "dtype: int64"
      ]
     },
     "execution_count": 13,
     "metadata": {},
     "output_type": "execute_result"
    }
   ],
   "source": [
    "df.isnull().sum()"
   ]
  },
  {
   "cell_type": "markdown",
   "id": "5aec99cb",
   "metadata": {},
   "source": [
    "PM10 결측치 제거 이후, 변수 'CO'에 대하여 결측치 54개 확인"
   ]
  },
  {
   "cell_type": "code",
   "execution_count": 14,
   "id": "5e6a442c",
   "metadata": {
    "ExecuteTime": {
     "end_time": "2022-11-07T21:48:24.896060Z",
     "start_time": "2022-11-07T21:48:24.844198Z"
    }
   },
   "outputs": [
    {
     "data": {
      "text/html": [
       "<div>\n",
       "<style scoped>\n",
       "    .dataframe tbody tr th:only-of-type {\n",
       "        vertical-align: middle;\n",
       "    }\n",
       "\n",
       "    .dataframe tbody tr th {\n",
       "        vertical-align: top;\n",
       "    }\n",
       "\n",
       "    .dataframe thead th {\n",
       "        text-align: right;\n",
       "    }\n",
       "</style>\n",
       "<table border=\"1\" class=\"dataframe\">\n",
       "  <thead>\n",
       "    <tr style=\"text-align: right;\">\n",
       "      <th></th>\n",
       "      <th>MeasDate</th>\n",
       "      <th>PM10</th>\n",
       "      <th>O3</th>\n",
       "      <th>NO2</th>\n",
       "      <th>CO</th>\n",
       "      <th>SO2</th>\n",
       "      <th>TEMP</th>\n",
       "      <th>RAIN</th>\n",
       "      <th>WIND</th>\n",
       "      <th>WIND_DIR</th>\n",
       "      <th>HUMIDITY</th>\n",
       "      <th>ATM_PRESS</th>\n",
       "      <th>SNOW</th>\n",
       "      <th>CLOUD</th>\n",
       "    </tr>\n",
       "  </thead>\n",
       "  <tbody>\n",
       "    <tr>\n",
       "      <th>25</th>\n",
       "      <td>2019-07-26</td>\n",
       "      <td>22.0</td>\n",
       "      <td>0.021</td>\n",
       "      <td>0.027</td>\n",
       "      <td>NaN</td>\n",
       "      <td>0.002</td>\n",
       "      <td>25.06</td>\n",
       "      <td>3.00</td>\n",
       "      <td>1.72</td>\n",
       "      <td>187</td>\n",
       "      <td>94.9</td>\n",
       "      <td>993.9</td>\n",
       "      <td>0.0</td>\n",
       "      <td>9.88</td>\n",
       "    </tr>\n",
       "    <tr>\n",
       "      <th>26</th>\n",
       "      <td>2019-07-27</td>\n",
       "      <td>20.0</td>\n",
       "      <td>0.028</td>\n",
       "      <td>0.025</td>\n",
       "      <td>NaN</td>\n",
       "      <td>0.003</td>\n",
       "      <td>28.10</td>\n",
       "      <td>0.10</td>\n",
       "      <td>1.15</td>\n",
       "      <td>151</td>\n",
       "      <td>78.6</td>\n",
       "      <td>995.6</td>\n",
       "      <td>0.0</td>\n",
       "      <td>8.21</td>\n",
       "    </tr>\n",
       "    <tr>\n",
       "      <th>27</th>\n",
       "      <td>2019-07-28</td>\n",
       "      <td>16.0</td>\n",
       "      <td>0.018</td>\n",
       "      <td>0.019</td>\n",
       "      <td>NaN</td>\n",
       "      <td>0.002</td>\n",
       "      <td>26.31</td>\n",
       "      <td>1.28</td>\n",
       "      <td>2.00</td>\n",
       "      <td>179</td>\n",
       "      <td>87.1</td>\n",
       "      <td>998.0</td>\n",
       "      <td>0.0</td>\n",
       "      <td>9.88</td>\n",
       "    </tr>\n",
       "    <tr>\n",
       "      <th>28</th>\n",
       "      <td>2019-07-29</td>\n",
       "      <td>16.0</td>\n",
       "      <td>0.007</td>\n",
       "      <td>0.017</td>\n",
       "      <td>NaN</td>\n",
       "      <td>0.002</td>\n",
       "      <td>27.42</td>\n",
       "      <td>0.17</td>\n",
       "      <td>2.66</td>\n",
       "      <td>197</td>\n",
       "      <td>75.0</td>\n",
       "      <td>999.3</td>\n",
       "      <td>0.0</td>\n",
       "      <td>8.13</td>\n",
       "    </tr>\n",
       "    <tr>\n",
       "      <th>29</th>\n",
       "      <td>2019-07-30</td>\n",
       "      <td>22.0</td>\n",
       "      <td>0.010</td>\n",
       "      <td>0.019</td>\n",
       "      <td>NaN</td>\n",
       "      <td>0.002</td>\n",
       "      <td>28.04</td>\n",
       "      <td>0.17</td>\n",
       "      <td>3.45</td>\n",
       "      <td>203</td>\n",
       "      <td>75.3</td>\n",
       "      <td>997.2</td>\n",
       "      <td>0.0</td>\n",
       "      <td>8.33</td>\n",
       "    </tr>\n",
       "    <tr>\n",
       "      <th>30</th>\n",
       "      <td>2019-07-31</td>\n",
       "      <td>20.0</td>\n",
       "      <td>0.016</td>\n",
       "      <td>0.025</td>\n",
       "      <td>NaN</td>\n",
       "      <td>0.002</td>\n",
       "      <td>25.87</td>\n",
       "      <td>3.11</td>\n",
       "      <td>2.30</td>\n",
       "      <td>195</td>\n",
       "      <td>91.3</td>\n",
       "      <td>998.9</td>\n",
       "      <td>0.0</td>\n",
       "      <td>9.58</td>\n",
       "    </tr>\n",
       "    <tr>\n",
       "      <th>31</th>\n",
       "      <td>2019-08-01</td>\n",
       "      <td>15.0</td>\n",
       "      <td>0.014</td>\n",
       "      <td>0.020</td>\n",
       "      <td>NaN</td>\n",
       "      <td>0.002</td>\n",
       "      <td>26.41</td>\n",
       "      <td>2.25</td>\n",
       "      <td>1.70</td>\n",
       "      <td>237</td>\n",
       "      <td>85.8</td>\n",
       "      <td>1001.8</td>\n",
       "      <td>0.0</td>\n",
       "      <td>7.42</td>\n",
       "    </tr>\n",
       "    <tr>\n",
       "      <th>32</th>\n",
       "      <td>2019-08-02</td>\n",
       "      <td>19.0</td>\n",
       "      <td>0.020</td>\n",
       "      <td>0.020</td>\n",
       "      <td>NaN</td>\n",
       "      <td>0.002</td>\n",
       "      <td>28.38</td>\n",
       "      <td>0.00</td>\n",
       "      <td>1.26</td>\n",
       "      <td>185</td>\n",
       "      <td>74.8</td>\n",
       "      <td>1001.9</td>\n",
       "      <td>0.0</td>\n",
       "      <td>4.04</td>\n",
       "    </tr>\n",
       "    <tr>\n",
       "      <th>33</th>\n",
       "      <td>2019-08-03</td>\n",
       "      <td>21.0</td>\n",
       "      <td>0.033</td>\n",
       "      <td>0.029</td>\n",
       "      <td>NaN</td>\n",
       "      <td>0.002</td>\n",
       "      <td>29.40</td>\n",
       "      <td>1.00</td>\n",
       "      <td>1.36</td>\n",
       "      <td>152</td>\n",
       "      <td>70.6</td>\n",
       "      <td>1001.1</td>\n",
       "      <td>0.0</td>\n",
       "      <td>4.29</td>\n",
       "    </tr>\n",
       "    <tr>\n",
       "      <th>34</th>\n",
       "      <td>2019-08-04</td>\n",
       "      <td>29.0</td>\n",
       "      <td>0.042</td>\n",
       "      <td>0.030</td>\n",
       "      <td>NaN</td>\n",
       "      <td>0.003</td>\n",
       "      <td>28.46</td>\n",
       "      <td>2.87</td>\n",
       "      <td>1.21</td>\n",
       "      <td>165</td>\n",
       "      <td>73.4</td>\n",
       "      <td>1001.0</td>\n",
       "      <td>0.0</td>\n",
       "      <td>5.50</td>\n",
       "    </tr>\n",
       "    <tr>\n",
       "      <th>35</th>\n",
       "      <td>2019-08-05</td>\n",
       "      <td>40.0</td>\n",
       "      <td>0.034</td>\n",
       "      <td>0.025</td>\n",
       "      <td>NaN</td>\n",
       "      <td>0.003</td>\n",
       "      <td>30.31</td>\n",
       "      <td>0.00</td>\n",
       "      <td>1.14</td>\n",
       "      <td>164</td>\n",
       "      <td>67.3</td>\n",
       "      <td>999.8</td>\n",
       "      <td>0.0</td>\n",
       "      <td>2.58</td>\n",
       "    </tr>\n",
       "    <tr>\n",
       "      <th>36</th>\n",
       "      <td>2019-08-06</td>\n",
       "      <td>26.0</td>\n",
       "      <td>0.027</td>\n",
       "      <td>0.024</td>\n",
       "      <td>NaN</td>\n",
       "      <td>0.003</td>\n",
       "      <td>31.72</td>\n",
       "      <td>0.00</td>\n",
       "      <td>1.55</td>\n",
       "      <td>67</td>\n",
       "      <td>52.0</td>\n",
       "      <td>997.2</td>\n",
       "      <td>0.0</td>\n",
       "      <td>6.54</td>\n",
       "    </tr>\n",
       "    <tr>\n",
       "      <th>37</th>\n",
       "      <td>2019-08-07</td>\n",
       "      <td>20.0</td>\n",
       "      <td>0.012</td>\n",
       "      <td>0.026</td>\n",
       "      <td>NaN</td>\n",
       "      <td>0.003</td>\n",
       "      <td>26.98</td>\n",
       "      <td>0.67</td>\n",
       "      <td>1.18</td>\n",
       "      <td>225</td>\n",
       "      <td>76.1</td>\n",
       "      <td>995.4</td>\n",
       "      <td>0.0</td>\n",
       "      <td>8.21</td>\n",
       "    </tr>\n",
       "    <tr>\n",
       "      <th>38</th>\n",
       "      <td>2019-08-08</td>\n",
       "      <td>44.0</td>\n",
       "      <td>0.034</td>\n",
       "      <td>0.021</td>\n",
       "      <td>NaN</td>\n",
       "      <td>0.003</td>\n",
       "      <td>28.82</td>\n",
       "      <td>0.00</td>\n",
       "      <td>1.57</td>\n",
       "      <td>230</td>\n",
       "      <td>72.0</td>\n",
       "      <td>998.2</td>\n",
       "      <td>0.0</td>\n",
       "      <td>6.63</td>\n",
       "    </tr>\n",
       "    <tr>\n",
       "      <th>39</th>\n",
       "      <td>2019-08-09</td>\n",
       "      <td>27.0</td>\n",
       "      <td>0.019</td>\n",
       "      <td>0.024</td>\n",
       "      <td>NaN</td>\n",
       "      <td>0.003</td>\n",
       "      <td>29.81</td>\n",
       "      <td>0.00</td>\n",
       "      <td>1.31</td>\n",
       "      <td>195</td>\n",
       "      <td>68.5</td>\n",
       "      <td>997.7</td>\n",
       "      <td>0.0</td>\n",
       "      <td>5.54</td>\n",
       "    </tr>\n",
       "    <tr>\n",
       "      <th>40</th>\n",
       "      <td>2019-08-10</td>\n",
       "      <td>21.0</td>\n",
       "      <td>0.027</td>\n",
       "      <td>0.024</td>\n",
       "      <td>NaN</td>\n",
       "      <td>0.003</td>\n",
       "      <td>31.40</td>\n",
       "      <td>0.00</td>\n",
       "      <td>1.55</td>\n",
       "      <td>95</td>\n",
       "      <td>59.4</td>\n",
       "      <td>996.1</td>\n",
       "      <td>0.0</td>\n",
       "      <td>5.46</td>\n",
       "    </tr>\n",
       "    <tr>\n",
       "      <th>41</th>\n",
       "      <td>2019-08-11</td>\n",
       "      <td>16.0</td>\n",
       "      <td>0.022</td>\n",
       "      <td>0.016</td>\n",
       "      <td>NaN</td>\n",
       "      <td>0.003</td>\n",
       "      <td>30.70</td>\n",
       "      <td>0.68</td>\n",
       "      <td>2.48</td>\n",
       "      <td>97</td>\n",
       "      <td>51.3</td>\n",
       "      <td>992.6</td>\n",
       "      <td>0.0</td>\n",
       "      <td>6.54</td>\n",
       "    </tr>\n",
       "    <tr>\n",
       "      <th>42</th>\n",
       "      <td>2019-08-12</td>\n",
       "      <td>21.0</td>\n",
       "      <td>0.008</td>\n",
       "      <td>0.027</td>\n",
       "      <td>NaN</td>\n",
       "      <td>0.003</td>\n",
       "      <td>26.53</td>\n",
       "      <td>2.70</td>\n",
       "      <td>1.28</td>\n",
       "      <td>90</td>\n",
       "      <td>91.0</td>\n",
       "      <td>990.6</td>\n",
       "      <td>0.0</td>\n",
       "      <td>9.83</td>\n",
       "    </tr>\n",
       "    <tr>\n",
       "      <th>43</th>\n",
       "      <td>2019-08-13</td>\n",
       "      <td>27.0</td>\n",
       "      <td>0.029</td>\n",
       "      <td>0.027</td>\n",
       "      <td>NaN</td>\n",
       "      <td>0.003</td>\n",
       "      <td>29.18</td>\n",
       "      <td>6.40</td>\n",
       "      <td>1.38</td>\n",
       "      <td>205</td>\n",
       "      <td>76.3</td>\n",
       "      <td>992.6</td>\n",
       "      <td>0.0</td>\n",
       "      <td>7.21</td>\n",
       "    </tr>\n",
       "    <tr>\n",
       "      <th>44</th>\n",
       "      <td>2019-08-14</td>\n",
       "      <td>18.0</td>\n",
       "      <td>0.014</td>\n",
       "      <td>0.027</td>\n",
       "      <td>NaN</td>\n",
       "      <td>0.003</td>\n",
       "      <td>30.28</td>\n",
       "      <td>0.00</td>\n",
       "      <td>1.53</td>\n",
       "      <td>109</td>\n",
       "      <td>66.2</td>\n",
       "      <td>990.7</td>\n",
       "      <td>0.0</td>\n",
       "      <td>4.13</td>\n",
       "    </tr>\n",
       "    <tr>\n",
       "      <th>45</th>\n",
       "      <td>2019-08-15</td>\n",
       "      <td>8.0</td>\n",
       "      <td>0.010</td>\n",
       "      <td>0.015</td>\n",
       "      <td>NaN</td>\n",
       "      <td>0.002</td>\n",
       "      <td>26.31</td>\n",
       "      <td>1.62</td>\n",
       "      <td>1.33</td>\n",
       "      <td>99</td>\n",
       "      <td>79.2</td>\n",
       "      <td>984.2</td>\n",
       "      <td>0.0</td>\n",
       "      <td>9.08</td>\n",
       "    </tr>\n",
       "    <tr>\n",
       "      <th>46</th>\n",
       "      <td>2019-08-16</td>\n",
       "      <td>18.0</td>\n",
       "      <td>0.028</td>\n",
       "      <td>0.019</td>\n",
       "      <td>NaN</td>\n",
       "      <td>0.003</td>\n",
       "      <td>25.81</td>\n",
       "      <td>0.03</td>\n",
       "      <td>2.21</td>\n",
       "      <td>228</td>\n",
       "      <td>76.8</td>\n",
       "      <td>984.9</td>\n",
       "      <td>0.0</td>\n",
       "      <td>6.33</td>\n",
       "    </tr>\n",
       "    <tr>\n",
       "      <th>47</th>\n",
       "      <td>2019-08-17</td>\n",
       "      <td>29.0</td>\n",
       "      <td>0.061</td>\n",
       "      <td>0.016</td>\n",
       "      <td>NaN</td>\n",
       "      <td>0.003</td>\n",
       "      <td>26.03</td>\n",
       "      <td>0.00</td>\n",
       "      <td>2.64</td>\n",
       "      <td>253</td>\n",
       "      <td>70.0</td>\n",
       "      <td>991.1</td>\n",
       "      <td>0.0</td>\n",
       "      <td>5.33</td>\n",
       "    </tr>\n",
       "    <tr>\n",
       "      <th>48</th>\n",
       "      <td>2019-08-18</td>\n",
       "      <td>20.0</td>\n",
       "      <td>0.053</td>\n",
       "      <td>0.015</td>\n",
       "      <td>NaN</td>\n",
       "      <td>0.003</td>\n",
       "      <td>25.63</td>\n",
       "      <td>0.00</td>\n",
       "      <td>1.64</td>\n",
       "      <td>245</td>\n",
       "      <td>65.1</td>\n",
       "      <td>996.5</td>\n",
       "      <td>0.0</td>\n",
       "      <td>4.50</td>\n",
       "    </tr>\n",
       "    <tr>\n",
       "      <th>49</th>\n",
       "      <td>2019-08-19</td>\n",
       "      <td>23.0</td>\n",
       "      <td>0.043</td>\n",
       "      <td>0.026</td>\n",
       "      <td>NaN</td>\n",
       "      <td>0.003</td>\n",
       "      <td>26.15</td>\n",
       "      <td>0.00</td>\n",
       "      <td>1.05</td>\n",
       "      <td>124</td>\n",
       "      <td>62.0</td>\n",
       "      <td>999.6</td>\n",
       "      <td>0.0</td>\n",
       "      <td>4.79</td>\n",
       "    </tr>\n",
       "    <tr>\n",
       "      <th>50</th>\n",
       "      <td>2019-08-20</td>\n",
       "      <td>28.0</td>\n",
       "      <td>0.040</td>\n",
       "      <td>0.030</td>\n",
       "      <td>NaN</td>\n",
       "      <td>0.003</td>\n",
       "      <td>27.95</td>\n",
       "      <td>0.00</td>\n",
       "      <td>1.34</td>\n",
       "      <td>115</td>\n",
       "      <td>56.6</td>\n",
       "      <td>1000.0</td>\n",
       "      <td>0.0</td>\n",
       "      <td>2.96</td>\n",
       "    </tr>\n",
       "    <tr>\n",
       "      <th>51</th>\n",
       "      <td>2019-08-21</td>\n",
       "      <td>33.0</td>\n",
       "      <td>0.036</td>\n",
       "      <td>0.028</td>\n",
       "      <td>NaN</td>\n",
       "      <td>0.003</td>\n",
       "      <td>27.17</td>\n",
       "      <td>0.22</td>\n",
       "      <td>1.29</td>\n",
       "      <td>177</td>\n",
       "      <td>64.7</td>\n",
       "      <td>998.7</td>\n",
       "      <td>0.0</td>\n",
       "      <td>7.88</td>\n",
       "    </tr>\n",
       "    <tr>\n",
       "      <th>52</th>\n",
       "      <td>2019-08-22</td>\n",
       "      <td>38.0</td>\n",
       "      <td>0.039</td>\n",
       "      <td>0.023</td>\n",
       "      <td>NaN</td>\n",
       "      <td>0.003</td>\n",
       "      <td>26.76</td>\n",
       "      <td>0.00</td>\n",
       "      <td>1.65</td>\n",
       "      <td>174</td>\n",
       "      <td>67.5</td>\n",
       "      <td>996.6</td>\n",
       "      <td>0.0</td>\n",
       "      <td>5.38</td>\n",
       "    </tr>\n",
       "    <tr>\n",
       "      <th>53</th>\n",
       "      <td>2019-08-23</td>\n",
       "      <td>29.0</td>\n",
       "      <td>0.044</td>\n",
       "      <td>0.017</td>\n",
       "      <td>NaN</td>\n",
       "      <td>0.003</td>\n",
       "      <td>26.35</td>\n",
       "      <td>0.00</td>\n",
       "      <td>2.13</td>\n",
       "      <td>278</td>\n",
       "      <td>58.6</td>\n",
       "      <td>998.2</td>\n",
       "      <td>0.0</td>\n",
       "      <td>5.08</td>\n",
       "    </tr>\n",
       "    <tr>\n",
       "      <th>54</th>\n",
       "      <td>2019-08-24</td>\n",
       "      <td>22.0</td>\n",
       "      <td>0.030</td>\n",
       "      <td>0.023</td>\n",
       "      <td>NaN</td>\n",
       "      <td>0.003</td>\n",
       "      <td>23.96</td>\n",
       "      <td>0.00</td>\n",
       "      <td>1.42</td>\n",
       "      <td>207</td>\n",
       "      <td>60.4</td>\n",
       "      <td>1000.5</td>\n",
       "      <td>0.0</td>\n",
       "      <td>6.21</td>\n",
       "    </tr>\n",
       "    <tr>\n",
       "      <th>55</th>\n",
       "      <td>2019-08-25</td>\n",
       "      <td>18.0</td>\n",
       "      <td>0.035</td>\n",
       "      <td>0.020</td>\n",
       "      <td>NaN</td>\n",
       "      <td>0.003</td>\n",
       "      <td>24.70</td>\n",
       "      <td>0.00</td>\n",
       "      <td>1.63</td>\n",
       "      <td>165</td>\n",
       "      <td>67.3</td>\n",
       "      <td>1002.6</td>\n",
       "      <td>0.0</td>\n",
       "      <td>3.58</td>\n",
       "    </tr>\n",
       "    <tr>\n",
       "      <th>56</th>\n",
       "      <td>2019-08-26</td>\n",
       "      <td>26.0</td>\n",
       "      <td>0.040</td>\n",
       "      <td>0.029</td>\n",
       "      <td>NaN</td>\n",
       "      <td>0.003</td>\n",
       "      <td>26.28</td>\n",
       "      <td>0.00</td>\n",
       "      <td>1.29</td>\n",
       "      <td>149</td>\n",
       "      <td>63.9</td>\n",
       "      <td>1002.2</td>\n",
       "      <td>0.0</td>\n",
       "      <td>5.71</td>\n",
       "    </tr>\n",
       "    <tr>\n",
       "      <th>57</th>\n",
       "      <td>2019-08-27</td>\n",
       "      <td>26.0</td>\n",
       "      <td>0.042</td>\n",
       "      <td>0.027</td>\n",
       "      <td>NaN</td>\n",
       "      <td>0.003</td>\n",
       "      <td>25.73</td>\n",
       "      <td>2.86</td>\n",
       "      <td>0.94</td>\n",
       "      <td>210</td>\n",
       "      <td>70.8</td>\n",
       "      <td>998.0</td>\n",
       "      <td>0.0</td>\n",
       "      <td>8.08</td>\n",
       "    </tr>\n",
       "    <tr>\n",
       "      <th>58</th>\n",
       "      <td>2019-08-28</td>\n",
       "      <td>26.0</td>\n",
       "      <td>0.045</td>\n",
       "      <td>0.020</td>\n",
       "      <td>NaN</td>\n",
       "      <td>0.003</td>\n",
       "      <td>26.00</td>\n",
       "      <td>0.00</td>\n",
       "      <td>2.03</td>\n",
       "      <td>218</td>\n",
       "      <td>66.6</td>\n",
       "      <td>996.6</td>\n",
       "      <td>0.0</td>\n",
       "      <td>5.50</td>\n",
       "    </tr>\n",
       "    <tr>\n",
       "      <th>59</th>\n",
       "      <td>2019-08-29</td>\n",
       "      <td>27.0</td>\n",
       "      <td>0.032</td>\n",
       "      <td>0.033</td>\n",
       "      <td>NaN</td>\n",
       "      <td>0.003</td>\n",
       "      <td>23.59</td>\n",
       "      <td>6.15</td>\n",
       "      <td>2.14</td>\n",
       "      <td>127</td>\n",
       "      <td>77.6</td>\n",
       "      <td>995.9</td>\n",
       "      <td>0.0</td>\n",
       "      <td>5.92</td>\n",
       "    </tr>\n",
       "    <tr>\n",
       "      <th>60</th>\n",
       "      <td>2019-08-30</td>\n",
       "      <td>19.0</td>\n",
       "      <td>0.030</td>\n",
       "      <td>0.020</td>\n",
       "      <td>NaN</td>\n",
       "      <td>0.003</td>\n",
       "      <td>22.62</td>\n",
       "      <td>0.05</td>\n",
       "      <td>2.38</td>\n",
       "      <td>215</td>\n",
       "      <td>65.3</td>\n",
       "      <td>998.4</td>\n",
       "      <td>0.0</td>\n",
       "      <td>4.67</td>\n",
       "    </tr>\n",
       "    <tr>\n",
       "      <th>61</th>\n",
       "      <td>2019-08-31</td>\n",
       "      <td>18.0</td>\n",
       "      <td>0.034</td>\n",
       "      <td>0.019</td>\n",
       "      <td>NaN</td>\n",
       "      <td>0.003</td>\n",
       "      <td>23.40</td>\n",
       "      <td>0.00</td>\n",
       "      <td>1.91</td>\n",
       "      <td>240</td>\n",
       "      <td>64.5</td>\n",
       "      <td>1003.0</td>\n",
       "      <td>0.0</td>\n",
       "      <td>2.42</td>\n",
       "    </tr>\n",
       "    <tr>\n",
       "      <th>62</th>\n",
       "      <td>2019-09-01</td>\n",
       "      <td>18.0</td>\n",
       "      <td>0.029</td>\n",
       "      <td>0.024</td>\n",
       "      <td>NaN</td>\n",
       "      <td>0.003</td>\n",
       "      <td>23.63</td>\n",
       "      <td>0.00</td>\n",
       "      <td>1.40</td>\n",
       "      <td>255</td>\n",
       "      <td>64.4</td>\n",
       "      <td>1006.7</td>\n",
       "      <td>0.0</td>\n",
       "      <td>5.50</td>\n",
       "    </tr>\n",
       "    <tr>\n",
       "      <th>63</th>\n",
       "      <td>2019-09-02</td>\n",
       "      <td>25.0</td>\n",
       "      <td>0.031</td>\n",
       "      <td>0.030</td>\n",
       "      <td>NaN</td>\n",
       "      <td>0.003</td>\n",
       "      <td>24.35</td>\n",
       "      <td>0.00</td>\n",
       "      <td>1.51</td>\n",
       "      <td>268</td>\n",
       "      <td>57.0</td>\n",
       "      <td>1006.6</td>\n",
       "      <td>0.0</td>\n",
       "      <td>7.46</td>\n",
       "    </tr>\n",
       "    <tr>\n",
       "      <th>64</th>\n",
       "      <td>2019-09-03</td>\n",
       "      <td>20.0</td>\n",
       "      <td>0.017</td>\n",
       "      <td>0.033</td>\n",
       "      <td>NaN</td>\n",
       "      <td>0.003</td>\n",
       "      <td>24.17</td>\n",
       "      <td>0.00</td>\n",
       "      <td>2.27</td>\n",
       "      <td>255</td>\n",
       "      <td>66.7</td>\n",
       "      <td>1005.4</td>\n",
       "      <td>0.0</td>\n",
       "      <td>9.17</td>\n",
       "    </tr>\n",
       "    <tr>\n",
       "      <th>65</th>\n",
       "      <td>2019-09-04</td>\n",
       "      <td>8.0</td>\n",
       "      <td>0.015</td>\n",
       "      <td>0.027</td>\n",
       "      <td>NaN</td>\n",
       "      <td>0.002</td>\n",
       "      <td>22.79</td>\n",
       "      <td>1.51</td>\n",
       "      <td>2.51</td>\n",
       "      <td>351</td>\n",
       "      <td>88.0</td>\n",
       "      <td>1003.2</td>\n",
       "      <td>0.0</td>\n",
       "      <td>9.17</td>\n",
       "    </tr>\n",
       "    <tr>\n",
       "      <th>66</th>\n",
       "      <td>2019-09-05</td>\n",
       "      <td>10.0</td>\n",
       "      <td>0.006</td>\n",
       "      <td>0.027</td>\n",
       "      <td>NaN</td>\n",
       "      <td>0.003</td>\n",
       "      <td>23.10</td>\n",
       "      <td>3.03</td>\n",
       "      <td>2.01</td>\n",
       "      <td>288</td>\n",
       "      <td>91.7</td>\n",
       "      <td>1002.0</td>\n",
       "      <td>0.0</td>\n",
       "      <td>9.25</td>\n",
       "    </tr>\n",
       "    <tr>\n",
       "      <th>67</th>\n",
       "      <td>2019-09-06</td>\n",
       "      <td>15.0</td>\n",
       "      <td>0.009</td>\n",
       "      <td>0.027</td>\n",
       "      <td>NaN</td>\n",
       "      <td>0.003</td>\n",
       "      <td>25.04</td>\n",
       "      <td>0.34</td>\n",
       "      <td>2.10</td>\n",
       "      <td>344</td>\n",
       "      <td>80.4</td>\n",
       "      <td>999.6</td>\n",
       "      <td>0.0</td>\n",
       "      <td>9.79</td>\n",
       "    </tr>\n",
       "    <tr>\n",
       "      <th>68</th>\n",
       "      <td>2019-09-07</td>\n",
       "      <td>12.0</td>\n",
       "      <td>0.015</td>\n",
       "      <td>0.013</td>\n",
       "      <td>NaN</td>\n",
       "      <td>0.003</td>\n",
       "      <td>25.67</td>\n",
       "      <td>0.13</td>\n",
       "      <td>5.88</td>\n",
       "      <td>200</td>\n",
       "      <td>73.8</td>\n",
       "      <td>987.8</td>\n",
       "      <td>0.0</td>\n",
       "      <td>9.96</td>\n",
       "    </tr>\n",
       "    <tr>\n",
       "      <th>69</th>\n",
       "      <td>2019-09-08</td>\n",
       "      <td>34.0</td>\n",
       "      <td>0.035</td>\n",
       "      <td>0.016</td>\n",
       "      <td>NaN</td>\n",
       "      <td>0.003</td>\n",
       "      <td>24.67</td>\n",
       "      <td>0.05</td>\n",
       "      <td>2.08</td>\n",
       "      <td>193</td>\n",
       "      <td>77.1</td>\n",
       "      <td>997.9</td>\n",
       "      <td>0.0</td>\n",
       "      <td>9.25</td>\n",
       "    </tr>\n",
       "    <tr>\n",
       "      <th>70</th>\n",
       "      <td>2019-09-09</td>\n",
       "      <td>35.0</td>\n",
       "      <td>0.012</td>\n",
       "      <td>0.038</td>\n",
       "      <td>NaN</td>\n",
       "      <td>0.003</td>\n",
       "      <td>24.92</td>\n",
       "      <td>0.00</td>\n",
       "      <td>1.91</td>\n",
       "      <td>262</td>\n",
       "      <td>74.8</td>\n",
       "      <td>1000.5</td>\n",
       "      <td>0.0</td>\n",
       "      <td>9.25</td>\n",
       "    </tr>\n",
       "    <tr>\n",
       "      <th>71</th>\n",
       "      <td>2019-09-10</td>\n",
       "      <td>14.0</td>\n",
       "      <td>0.016</td>\n",
       "      <td>0.033</td>\n",
       "      <td>NaN</td>\n",
       "      <td>0.002</td>\n",
       "      <td>23.88</td>\n",
       "      <td>2.98</td>\n",
       "      <td>2.39</td>\n",
       "      <td>271</td>\n",
       "      <td>91.7</td>\n",
       "      <td>1001.7</td>\n",
       "      <td>0.0</td>\n",
       "      <td>9.88</td>\n",
       "    </tr>\n",
       "    <tr>\n",
       "      <th>72</th>\n",
       "      <td>2019-09-11</td>\n",
       "      <td>7.0</td>\n",
       "      <td>0.032</td>\n",
       "      <td>0.020</td>\n",
       "      <td>NaN</td>\n",
       "      <td>0.002</td>\n",
       "      <td>24.38</td>\n",
       "      <td>1.03</td>\n",
       "      <td>3.07</td>\n",
       "      <td>330</td>\n",
       "      <td>73.6</td>\n",
       "      <td>1004.2</td>\n",
       "      <td>0.0</td>\n",
       "      <td>8.29</td>\n",
       "    </tr>\n",
       "    <tr>\n",
       "      <th>73</th>\n",
       "      <td>2019-09-12</td>\n",
       "      <td>15.0</td>\n",
       "      <td>0.018</td>\n",
       "      <td>0.019</td>\n",
       "      <td>NaN</td>\n",
       "      <td>0.002</td>\n",
       "      <td>21.28</td>\n",
       "      <td>0.35</td>\n",
       "      <td>2.74</td>\n",
       "      <td>243</td>\n",
       "      <td>69.0</td>\n",
       "      <td>1006.7</td>\n",
       "      <td>0.0</td>\n",
       "      <td>9.79</td>\n",
       "    </tr>\n",
       "    <tr>\n",
       "      <th>74</th>\n",
       "      <td>2019-09-13</td>\n",
       "      <td>20.0</td>\n",
       "      <td>0.026</td>\n",
       "      <td>0.021</td>\n",
       "      <td>NaN</td>\n",
       "      <td>0.002</td>\n",
       "      <td>22.98</td>\n",
       "      <td>0.05</td>\n",
       "      <td>1.64</td>\n",
       "      <td>239</td>\n",
       "      <td>62.4</td>\n",
       "      <td>1003.9</td>\n",
       "      <td>0.0</td>\n",
       "      <td>4.54</td>\n",
       "    </tr>\n",
       "    <tr>\n",
       "      <th>75</th>\n",
       "      <td>2019-09-14</td>\n",
       "      <td>19.0</td>\n",
       "      <td>0.013</td>\n",
       "      <td>0.030</td>\n",
       "      <td>NaN</td>\n",
       "      <td>0.003</td>\n",
       "      <td>22.45</td>\n",
       "      <td>0.06</td>\n",
       "      <td>1.24</td>\n",
       "      <td>205</td>\n",
       "      <td>77.8</td>\n",
       "      <td>1001.6</td>\n",
       "      <td>0.0</td>\n",
       "      <td>8.63</td>\n",
       "    </tr>\n",
       "    <tr>\n",
       "      <th>76</th>\n",
       "      <td>2019-09-15</td>\n",
       "      <td>14.0</td>\n",
       "      <td>0.029</td>\n",
       "      <td>0.014</td>\n",
       "      <td>NaN</td>\n",
       "      <td>0.002</td>\n",
       "      <td>24.09</td>\n",
       "      <td>0.00</td>\n",
       "      <td>1.69</td>\n",
       "      <td>299</td>\n",
       "      <td>72.0</td>\n",
       "      <td>1000.8</td>\n",
       "      <td>0.0</td>\n",
       "      <td>5.08</td>\n",
       "    </tr>\n",
       "    <tr>\n",
       "      <th>77</th>\n",
       "      <td>2019-09-16</td>\n",
       "      <td>14.0</td>\n",
       "      <td>0.024</td>\n",
       "      <td>0.022</td>\n",
       "      <td>NaN</td>\n",
       "      <td>0.003</td>\n",
       "      <td>24.58</td>\n",
       "      <td>0.00</td>\n",
       "      <td>2.14</td>\n",
       "      <td>333</td>\n",
       "      <td>55.0</td>\n",
       "      <td>1000.9</td>\n",
       "      <td>0.0</td>\n",
       "      <td>4.29</td>\n",
       "    </tr>\n",
       "    <tr>\n",
       "      <th>78</th>\n",
       "      <td>2019-09-17</td>\n",
       "      <td>17.0</td>\n",
       "      <td>0.034</td>\n",
       "      <td>0.029</td>\n",
       "      <td>NaN</td>\n",
       "      <td>0.003</td>\n",
       "      <td>23.41</td>\n",
       "      <td>0.00</td>\n",
       "      <td>2.10</td>\n",
       "      <td>280</td>\n",
       "      <td>40.0</td>\n",
       "      <td>1004.6</td>\n",
       "      <td>0.0</td>\n",
       "      <td>5.75</td>\n",
       "    </tr>\n",
       "  </tbody>\n",
       "</table>\n",
       "</div>"
      ],
      "text/plain": [
       "     MeasDate  PM10     O3    NO2  CO    SO2   TEMP  RAIN  WIND  WIND_DIR  \\\n",
       "25 2019-07-26  22.0  0.021  0.027 NaN  0.002  25.06  3.00  1.72       187   \n",
       "26 2019-07-27  20.0  0.028  0.025 NaN  0.003  28.10  0.10  1.15       151   \n",
       "27 2019-07-28  16.0  0.018  0.019 NaN  0.002  26.31  1.28  2.00       179   \n",
       "28 2019-07-29  16.0  0.007  0.017 NaN  0.002  27.42  0.17  2.66       197   \n",
       "29 2019-07-30  22.0  0.010  0.019 NaN  0.002  28.04  0.17  3.45       203   \n",
       "30 2019-07-31  20.0  0.016  0.025 NaN  0.002  25.87  3.11  2.30       195   \n",
       "31 2019-08-01  15.0  0.014  0.020 NaN  0.002  26.41  2.25  1.70       237   \n",
       "32 2019-08-02  19.0  0.020  0.020 NaN  0.002  28.38  0.00  1.26       185   \n",
       "33 2019-08-03  21.0  0.033  0.029 NaN  0.002  29.40  1.00  1.36       152   \n",
       "34 2019-08-04  29.0  0.042  0.030 NaN  0.003  28.46  2.87  1.21       165   \n",
       "35 2019-08-05  40.0  0.034  0.025 NaN  0.003  30.31  0.00  1.14       164   \n",
       "36 2019-08-06  26.0  0.027  0.024 NaN  0.003  31.72  0.00  1.55        67   \n",
       "37 2019-08-07  20.0  0.012  0.026 NaN  0.003  26.98  0.67  1.18       225   \n",
       "38 2019-08-08  44.0  0.034  0.021 NaN  0.003  28.82  0.00  1.57       230   \n",
       "39 2019-08-09  27.0  0.019  0.024 NaN  0.003  29.81  0.00  1.31       195   \n",
       "40 2019-08-10  21.0  0.027  0.024 NaN  0.003  31.40  0.00  1.55        95   \n",
       "41 2019-08-11  16.0  0.022  0.016 NaN  0.003  30.70  0.68  2.48        97   \n",
       "42 2019-08-12  21.0  0.008  0.027 NaN  0.003  26.53  2.70  1.28        90   \n",
       "43 2019-08-13  27.0  0.029  0.027 NaN  0.003  29.18  6.40  1.38       205   \n",
       "44 2019-08-14  18.0  0.014  0.027 NaN  0.003  30.28  0.00  1.53       109   \n",
       "45 2019-08-15   8.0  0.010  0.015 NaN  0.002  26.31  1.62  1.33        99   \n",
       "46 2019-08-16  18.0  0.028  0.019 NaN  0.003  25.81  0.03  2.21       228   \n",
       "47 2019-08-17  29.0  0.061  0.016 NaN  0.003  26.03  0.00  2.64       253   \n",
       "48 2019-08-18  20.0  0.053  0.015 NaN  0.003  25.63  0.00  1.64       245   \n",
       "49 2019-08-19  23.0  0.043  0.026 NaN  0.003  26.15  0.00  1.05       124   \n",
       "50 2019-08-20  28.0  0.040  0.030 NaN  0.003  27.95  0.00  1.34       115   \n",
       "51 2019-08-21  33.0  0.036  0.028 NaN  0.003  27.17  0.22  1.29       177   \n",
       "52 2019-08-22  38.0  0.039  0.023 NaN  0.003  26.76  0.00  1.65       174   \n",
       "53 2019-08-23  29.0  0.044  0.017 NaN  0.003  26.35  0.00  2.13       278   \n",
       "54 2019-08-24  22.0  0.030  0.023 NaN  0.003  23.96  0.00  1.42       207   \n",
       "55 2019-08-25  18.0  0.035  0.020 NaN  0.003  24.70  0.00  1.63       165   \n",
       "56 2019-08-26  26.0  0.040  0.029 NaN  0.003  26.28  0.00  1.29       149   \n",
       "57 2019-08-27  26.0  0.042  0.027 NaN  0.003  25.73  2.86  0.94       210   \n",
       "58 2019-08-28  26.0  0.045  0.020 NaN  0.003  26.00  0.00  2.03       218   \n",
       "59 2019-08-29  27.0  0.032  0.033 NaN  0.003  23.59  6.15  2.14       127   \n",
       "60 2019-08-30  19.0  0.030  0.020 NaN  0.003  22.62  0.05  2.38       215   \n",
       "61 2019-08-31  18.0  0.034  0.019 NaN  0.003  23.40  0.00  1.91       240   \n",
       "62 2019-09-01  18.0  0.029  0.024 NaN  0.003  23.63  0.00  1.40       255   \n",
       "63 2019-09-02  25.0  0.031  0.030 NaN  0.003  24.35  0.00  1.51       268   \n",
       "64 2019-09-03  20.0  0.017  0.033 NaN  0.003  24.17  0.00  2.27       255   \n",
       "65 2019-09-04   8.0  0.015  0.027 NaN  0.002  22.79  1.51  2.51       351   \n",
       "66 2019-09-05  10.0  0.006  0.027 NaN  0.003  23.10  3.03  2.01       288   \n",
       "67 2019-09-06  15.0  0.009  0.027 NaN  0.003  25.04  0.34  2.10       344   \n",
       "68 2019-09-07  12.0  0.015  0.013 NaN  0.003  25.67  0.13  5.88       200   \n",
       "69 2019-09-08  34.0  0.035  0.016 NaN  0.003  24.67  0.05  2.08       193   \n",
       "70 2019-09-09  35.0  0.012  0.038 NaN  0.003  24.92  0.00  1.91       262   \n",
       "71 2019-09-10  14.0  0.016  0.033 NaN  0.002  23.88  2.98  2.39       271   \n",
       "72 2019-09-11   7.0  0.032  0.020 NaN  0.002  24.38  1.03  3.07       330   \n",
       "73 2019-09-12  15.0  0.018  0.019 NaN  0.002  21.28  0.35  2.74       243   \n",
       "74 2019-09-13  20.0  0.026  0.021 NaN  0.002  22.98  0.05  1.64       239   \n",
       "75 2019-09-14  19.0  0.013  0.030 NaN  0.003  22.45  0.06  1.24       205   \n",
       "76 2019-09-15  14.0  0.029  0.014 NaN  0.002  24.09  0.00  1.69       299   \n",
       "77 2019-09-16  14.0  0.024  0.022 NaN  0.003  24.58  0.00  2.14       333   \n",
       "78 2019-09-17  17.0  0.034  0.029 NaN  0.003  23.41  0.00  2.10       280   \n",
       "\n",
       "    HUMIDITY  ATM_PRESS  SNOW  CLOUD  \n",
       "25      94.9      993.9   0.0   9.88  \n",
       "26      78.6      995.6   0.0   8.21  \n",
       "27      87.1      998.0   0.0   9.88  \n",
       "28      75.0      999.3   0.0   8.13  \n",
       "29      75.3      997.2   0.0   8.33  \n",
       "30      91.3      998.9   0.0   9.58  \n",
       "31      85.8     1001.8   0.0   7.42  \n",
       "32      74.8     1001.9   0.0   4.04  \n",
       "33      70.6     1001.1   0.0   4.29  \n",
       "34      73.4     1001.0   0.0   5.50  \n",
       "35      67.3      999.8   0.0   2.58  \n",
       "36      52.0      997.2   0.0   6.54  \n",
       "37      76.1      995.4   0.0   8.21  \n",
       "38      72.0      998.2   0.0   6.63  \n",
       "39      68.5      997.7   0.0   5.54  \n",
       "40      59.4      996.1   0.0   5.46  \n",
       "41      51.3      992.6   0.0   6.54  \n",
       "42      91.0      990.6   0.0   9.83  \n",
       "43      76.3      992.6   0.0   7.21  \n",
       "44      66.2      990.7   0.0   4.13  \n",
       "45      79.2      984.2   0.0   9.08  \n",
       "46      76.8      984.9   0.0   6.33  \n",
       "47      70.0      991.1   0.0   5.33  \n",
       "48      65.1      996.5   0.0   4.50  \n",
       "49      62.0      999.6   0.0   4.79  \n",
       "50      56.6     1000.0   0.0   2.96  \n",
       "51      64.7      998.7   0.0   7.88  \n",
       "52      67.5      996.6   0.0   5.38  \n",
       "53      58.6      998.2   0.0   5.08  \n",
       "54      60.4     1000.5   0.0   6.21  \n",
       "55      67.3     1002.6   0.0   3.58  \n",
       "56      63.9     1002.2   0.0   5.71  \n",
       "57      70.8      998.0   0.0   8.08  \n",
       "58      66.6      996.6   0.0   5.50  \n",
       "59      77.6      995.9   0.0   5.92  \n",
       "60      65.3      998.4   0.0   4.67  \n",
       "61      64.5     1003.0   0.0   2.42  \n",
       "62      64.4     1006.7   0.0   5.50  \n",
       "63      57.0     1006.6   0.0   7.46  \n",
       "64      66.7     1005.4   0.0   9.17  \n",
       "65      88.0     1003.2   0.0   9.17  \n",
       "66      91.7     1002.0   0.0   9.25  \n",
       "67      80.4      999.6   0.0   9.79  \n",
       "68      73.8      987.8   0.0   9.96  \n",
       "69      77.1      997.9   0.0   9.25  \n",
       "70      74.8     1000.5   0.0   9.25  \n",
       "71      91.7     1001.7   0.0   9.88  \n",
       "72      73.6     1004.2   0.0   8.29  \n",
       "73      69.0     1006.7   0.0   9.79  \n",
       "74      62.4     1003.9   0.0   4.54  \n",
       "75      77.8     1001.6   0.0   8.63  \n",
       "76      72.0     1000.8   0.0   5.08  \n",
       "77      55.0     1000.9   0.0   4.29  \n",
       "78      40.0     1004.6   0.0   5.75  "
      ]
     },
     "execution_count": 14,
     "metadata": {},
     "output_type": "execute_result"
    }
   ],
   "source": [
    "df[df['CO'].isnull()]"
   ]
  },
  {
   "cell_type": "code",
   "execution_count": 15,
   "id": "a47ecd87",
   "metadata": {
    "ExecuteTime": {
     "end_time": "2022-11-07T21:48:27.193548Z",
     "start_time": "2022-11-07T21:48:25.107486Z"
    },
    "scrolled": true
   },
   "outputs": [
    {
     "data": {
      "text/plain": [
       "(array([30., 90., 90.,  0., 43., 26.,  0., 22.,  8.,  2.]),\n",
       " array([0.3 , 0.37, 0.44, 0.51, 0.58, 0.65, 0.72, 0.79, 0.86, 0.93, 1.  ]),\n",
       " <BarContainer object of 10 artists>)"
      ]
     },
     "execution_count": 15,
     "metadata": {},
     "output_type": "execute_result"
    },
    {
     "data": {
      "image/png": "[encoded data removed]",
      "text/plain": [
       "<Figure size 432x288 with 1 Axes>"
      ]
     },
     "metadata": {
      "needs_background": "light"
     },
     "output_type": "display_data"
    }
   ],
   "source": [
    "plt.hist(df['CO'])"
   ]
  },
  {
   "cell_type": "markdown",
   "id": "b0ae6839",
   "metadata": {},
   "source": [
    "CO 결측치가 발생한 곳은 2019년 7월부터 2019년 9월까지 데이터이며\n",
    "CO 데이터 분포가 불균형적으로 나타난다."
   ]
  },
  {
   "cell_type": "markdown",
   "id": "3dd4bf57",
   "metadata": {},
   "source": [
    "일반적으로 여름철보다 겨울철 도시가스의 사용이 증가하며 도시가스의 주성분인 메탄가스의 사용량이 증가한다. 이 때 메탄가스가 연소되면서 CO가 발생하고 따라서 CO의 배출량은 다른 계절보다 겨울철에 증가하는 양상을 보인다."
   ]
  },
  {
   "cell_type": "markdown",
   "id": "28fa68ec",
   "metadata": {},
   "source": [
    "CO 변화 양상을 확인하기 위하여 'MeasdDate'에서 월 데이터를 추출해 변수 'Month'생성"
   ]
  },
  {
   "cell_type": "code",
   "execution_count": 16,
   "id": "e6f489ec",
   "metadata": {
    "ExecuteTime": {
     "end_time": "2022-11-07T21:48:36.196412Z",
     "start_time": "2022-11-07T21:48:27.195545Z"
    },
    "scrolled": false
   },
   "outputs": [],
   "source": [
    "df['Month']=1\n",
    "for i in range(0,len(df)) : \n",
    "    df['Month'][i]=df['MeasDate'][i].month"
   ]
  },
  {
   "cell_type": "code",
   "execution_count": 17,
   "id": "35a99757",
   "metadata": {
    "ExecuteTime": {
     "end_time": "2022-11-07T21:48:36.226631Z",
     "start_time": "2022-11-07T21:48:36.198658Z"
    }
   },
   "outputs": [
    {
     "data": {
      "text/html": [
       "<div>\n",
       "<style scoped>\n",
       "    .dataframe tbody tr th:only-of-type {\n",
       "        vertical-align: middle;\n",
       "    }\n",
       "\n",
       "    .dataframe tbody tr th {\n",
       "        vertical-align: top;\n",
       "    }\n",
       "\n",
       "    .dataframe thead th {\n",
       "        text-align: right;\n",
       "    }\n",
       "</style>\n",
       "<table border=\"1\" class=\"dataframe\">\n",
       "  <thead>\n",
       "    <tr style=\"text-align: right;\">\n",
       "      <th></th>\n",
       "      <th>MeasDate</th>\n",
       "      <th>PM10</th>\n",
       "      <th>O3</th>\n",
       "      <th>NO2</th>\n",
       "      <th>CO</th>\n",
       "      <th>SO2</th>\n",
       "      <th>TEMP</th>\n",
       "      <th>RAIN</th>\n",
       "      <th>WIND</th>\n",
       "      <th>WIND_DIR</th>\n",
       "      <th>HUMIDITY</th>\n",
       "      <th>ATM_PRESS</th>\n",
       "      <th>SNOW</th>\n",
       "      <th>CLOUD</th>\n",
       "      <th>Month</th>\n",
       "    </tr>\n",
       "  </thead>\n",
       "  <tbody>\n",
       "    <tr>\n",
       "      <th>0</th>\n",
       "      <td>2019-07-01</td>\n",
       "      <td>29.0</td>\n",
       "      <td>0.054</td>\n",
       "      <td>0.021</td>\n",
       "      <td>0.5</td>\n",
       "      <td>0.003</td>\n",
       "      <td>24.03</td>\n",
       "      <td>0.0</td>\n",
       "      <td>2.30</td>\n",
       "      <td>249</td>\n",
       "      <td>63.2</td>\n",
       "      <td>995.1</td>\n",
       "      <td>0.0</td>\n",
       "      <td>5.70</td>\n",
       "      <td>7</td>\n",
       "    </tr>\n",
       "    <tr>\n",
       "      <th>1</th>\n",
       "      <td>2019-07-02</td>\n",
       "      <td>26.0</td>\n",
       "      <td>0.053</td>\n",
       "      <td>0.020</td>\n",
       "      <td>0.5</td>\n",
       "      <td>0.003</td>\n",
       "      <td>24.29</td>\n",
       "      <td>0.0</td>\n",
       "      <td>2.26</td>\n",
       "      <td>265</td>\n",
       "      <td>63.2</td>\n",
       "      <td>998.6</td>\n",
       "      <td>0.0</td>\n",
       "      <td>3.83</td>\n",
       "      <td>7</td>\n",
       "    </tr>\n",
       "    <tr>\n",
       "      <th>2</th>\n",
       "      <td>2019-07-03</td>\n",
       "      <td>30.0</td>\n",
       "      <td>0.042</td>\n",
       "      <td>0.023</td>\n",
       "      <td>0.4</td>\n",
       "      <td>0.003</td>\n",
       "      <td>24.18</td>\n",
       "      <td>0.0</td>\n",
       "      <td>1.79</td>\n",
       "      <td>280</td>\n",
       "      <td>65.3</td>\n",
       "      <td>998.3</td>\n",
       "      <td>0.0</td>\n",
       "      <td>6.29</td>\n",
       "      <td>7</td>\n",
       "    </tr>\n",
       "    <tr>\n",
       "      <th>3</th>\n",
       "      <td>2019-07-04</td>\n",
       "      <td>28.0</td>\n",
       "      <td>0.034</td>\n",
       "      <td>0.026</td>\n",
       "      <td>0.4</td>\n",
       "      <td>0.003</td>\n",
       "      <td>25.35</td>\n",
       "      <td>0.0</td>\n",
       "      <td>2.04</td>\n",
       "      <td>263</td>\n",
       "      <td>58.6</td>\n",
       "      <td>996.6</td>\n",
       "      <td>0.0</td>\n",
       "      <td>2.54</td>\n",
       "      <td>7</td>\n",
       "    </tr>\n",
       "    <tr>\n",
       "      <th>4</th>\n",
       "      <td>2019-07-05</td>\n",
       "      <td>29.0</td>\n",
       "      <td>0.045</td>\n",
       "      <td>0.035</td>\n",
       "      <td>0.5</td>\n",
       "      <td>0.003</td>\n",
       "      <td>27.30</td>\n",
       "      <td>0.0</td>\n",
       "      <td>1.45</td>\n",
       "      <td>175</td>\n",
       "      <td>45.5</td>\n",
       "      <td>993.5</td>\n",
       "      <td>0.0</td>\n",
       "      <td>3.92</td>\n",
       "      <td>7</td>\n",
       "    </tr>\n",
       "  </tbody>\n",
       "</table>\n",
       "</div>"
      ],
      "text/plain": [
       "    MeasDate  PM10     O3    NO2   CO    SO2   TEMP  RAIN  WIND  WIND_DIR  \\\n",
       "0 2019-07-01  29.0  0.054  0.021  0.5  0.003  24.03   0.0  2.30       249   \n",
       "1 2019-07-02  26.0  0.053  0.020  0.5  0.003  24.29   0.0  2.26       265   \n",
       "2 2019-07-03  30.0  0.042  0.023  0.4  0.003  24.18   0.0  1.79       280   \n",
       "3 2019-07-04  28.0  0.034  0.026  0.4  0.003  25.35   0.0  2.04       263   \n",
       "4 2019-07-05  29.0  0.045  0.035  0.5  0.003  27.30   0.0  1.45       175   \n",
       "\n",
       "   HUMIDITY  ATM_PRESS  SNOW  CLOUD  Month  \n",
       "0      63.2      995.1   0.0   5.70      7  \n",
       "1      63.2      998.6   0.0   3.83      7  \n",
       "2      65.3      998.3   0.0   6.29      7  \n",
       "3      58.6      996.6   0.0   2.54      7  \n",
       "4      45.5      993.5   0.0   3.92      7  "
      ]
     },
     "execution_count": 17,
     "metadata": {},
     "output_type": "execute_result"
    }
   ],
   "source": [
    "df.head()"
   ]
  },
  {
   "cell_type": "code",
   "execution_count": 18,
   "id": "d3f616c8",
   "metadata": {
    "ExecuteTime": {
     "end_time": "2022-11-07T21:48:36.242628Z",
     "start_time": "2022-11-07T21:48:36.229624Z"
    },
    "scrolled": true
   },
   "outputs": [
    {
     "data": {
      "text/plain": [
       "Month\n",
       "1     0.655\n",
       "2     0.576\n",
       "3     0.487\n",
       "4     0.413\n",
       "5     0.440\n",
       "6     0.443\n",
       "7     0.424\n",
       "8       NaN\n",
       "9     0.446\n",
       "10    0.471\n",
       "11    0.617\n",
       "12    0.655\n",
       "Name: CO, dtype: float64"
      ]
     },
     "execution_count": 18,
     "metadata": {},
     "output_type": "execute_result"
    }
   ],
   "source": [
    "df.groupby(by=['Month'])['CO'].mean().round(3)"
   ]
  },
  {
   "cell_type": "code",
   "execution_count": 19,
   "id": "14dc1a1d",
   "metadata": {
    "ExecuteTime": {
     "end_time": "2022-11-07T21:48:38.280294Z",
     "start_time": "2022-11-07T21:48:37.897400Z"
    },
    "scrolled": true
   },
   "outputs": [
    {
     "data": {
      "text/plain": [
       "<AxesSubplot:xlabel='Month', ylabel='CO'>"
      ]
     },
     "execution_count": 19,
     "metadata": {},
     "output_type": "execute_result"
    },
    {
     "data": {
      "image/png": "[encoded data removed]",
      "text/plain": [
       "<Figure size 432x288 with 1 Axes>"
      ]
     },
     "metadata": {
      "needs_background": "light"
     },
     "output_type": "display_data"
    }
   ],
   "source": [
    "sns.lineplot(data=df, x='Month', y='CO')"
   ]
  },
  {
   "cell_type": "markdown",
   "id": "40d89519",
   "metadata": {},
   "source": [
    "확인 결과 11월부터 2월까지의 CO 배출량이 다른 월보다 대략 1.5배 증가한다.\n",
    "따라서 7월부터 9월까지의 CO 결측치를 3월부터 10월까지 CO 배출량 평균으로 대체한다."
   ]
  },
  {
   "cell_type": "code",
   "execution_count": 20,
   "id": "9796dbc6",
   "metadata": {
    "ExecuteTime": {
     "end_time": "2022-11-07T21:48:39.169032Z",
     "start_time": "2022-11-07T21:48:39.159022Z"
    }
   },
   "outputs": [],
   "source": [
    "nan=df[(df['Month']>2) & (df['Month']<11)]['CO'].mean()\n",
    "df['CO'].fillna(nan, inplace=True)"
   ]
  },
  {
   "cell_type": "code",
   "execution_count": 21,
   "id": "1a9fa693",
   "metadata": {
    "ExecuteTime": {
     "end_time": "2022-11-07T21:48:39.717891Z",
     "start_time": "2022-11-07T21:48:39.699740Z"
    }
   },
   "outputs": [
    {
     "data": {
      "text/plain": [
       "MeasDate     0\n",
       "PM10         0\n",
       "O3           0\n",
       "NO2          0\n",
       "CO           0\n",
       "SO2          0\n",
       "TEMP         0\n",
       "RAIN         0\n",
       "WIND         0\n",
       "WIND_DIR     0\n",
       "HUMIDITY     0\n",
       "ATM_PRESS    0\n",
       "SNOW         0\n",
       "CLOUD        0\n",
       "Month        0\n",
       "dtype: int64"
      ]
     },
     "execution_count": 21,
     "metadata": {},
     "output_type": "execute_result"
    }
   ],
   "source": [
    "df.isnull().sum()"
   ]
  },
  {
   "cell_type": "markdown",
   "id": "af19ad7c",
   "metadata": {},
   "source": [
    "결측치 처리 완료."
   ]
  },
  {
   "cell_type": "code",
   "execution_count": 22,
   "id": "8ad13d4e",
   "metadata": {
    "ExecuteTime": {
     "end_time": "2022-11-07T21:48:40.428845Z",
     "start_time": "2022-11-07T21:48:40.418748Z"
    }
   },
   "outputs": [],
   "source": [
    "# 결측치 처리 완료"
   ]
  },
  {
   "cell_type": "markdown",
   "id": "2de45f60",
   "metadata": {},
   "source": [
    "## 이상치 처리"
   ]
  },
  {
   "cell_type": "code",
   "execution_count": 23,
   "id": "6ab59014",
   "metadata": {
    "ExecuteTime": {
     "end_time": "2022-11-07T21:48:41.184934Z",
     "start_time": "2022-11-07T21:48:41.129013Z"
    },
    "scrolled": true
   },
   "outputs": [
    {
     "data": {
      "text/html": [
       "<div>\n",
       "<style scoped>\n",
       "    .dataframe tbody tr th:only-of-type {\n",
       "        vertical-align: middle;\n",
       "    }\n",
       "\n",
       "    .dataframe tbody tr th {\n",
       "        vertical-align: top;\n",
       "    }\n",
       "\n",
       "    .dataframe thead th {\n",
       "        text-align: right;\n",
       "    }\n",
       "</style>\n",
       "<table border=\"1\" class=\"dataframe\">\n",
       "  <thead>\n",
       "    <tr style=\"text-align: right;\">\n",
       "      <th></th>\n",
       "      <th>PM10</th>\n",
       "      <th>O3</th>\n",
       "      <th>NO2</th>\n",
       "      <th>CO</th>\n",
       "      <th>SO2</th>\n",
       "      <th>TEMP</th>\n",
       "      <th>RAIN</th>\n",
       "      <th>WIND</th>\n",
       "      <th>WIND_DIR</th>\n",
       "      <th>HUMIDITY</th>\n",
       "      <th>ATM_PRESS</th>\n",
       "      <th>SNOW</th>\n",
       "      <th>CLOUD</th>\n",
       "      <th>Month</th>\n",
       "    </tr>\n",
       "  </thead>\n",
       "  <tbody>\n",
       "    <tr>\n",
       "      <th>count</th>\n",
       "      <td>365.000000</td>\n",
       "      <td>365.000000</td>\n",
       "      <td>365.000000</td>\n",
       "      <td>365.000000</td>\n",
       "      <td>365.000000</td>\n",
       "      <td>365.000000</td>\n",
       "      <td>365.000000</td>\n",
       "      <td>365.000000</td>\n",
       "      <td>365.000000</td>\n",
       "      <td>365.000000</td>\n",
       "      <td>365.000000</td>\n",
       "      <td>365.000000</td>\n",
       "      <td>365.000000</td>\n",
       "      <td>365.000000</td>\n",
       "    </tr>\n",
       "    <tr>\n",
       "      <th>mean</th>\n",
       "      <td>33.421918</td>\n",
       "      <td>0.023600</td>\n",
       "      <td>0.026814</td>\n",
       "      <td>0.506734</td>\n",
       "      <td>0.003033</td>\n",
       "      <td>13.853890</td>\n",
       "      <td>0.378712</td>\n",
       "      <td>2.223589</td>\n",
       "      <td>209.320548</td>\n",
       "      <td>60.232055</td>\n",
       "      <td>1005.866575</td>\n",
       "      <td>0.023014</td>\n",
       "      <td>5.055397</td>\n",
       "      <td>6.517808</td>\n",
       "    </tr>\n",
       "    <tr>\n",
       "      <th>std</th>\n",
       "      <td>15.937983</td>\n",
       "      <td>0.011896</td>\n",
       "      <td>0.010271</td>\n",
       "      <td>0.143188</td>\n",
       "      <td>0.000632</td>\n",
       "      <td>9.841944</td>\n",
       "      <td>1.122268</td>\n",
       "      <td>0.723421</td>\n",
       "      <td>70.788136</td>\n",
       "      <td>14.504766</td>\n",
       "      <td>8.130936</td>\n",
       "      <td>0.222663</td>\n",
       "      <td>2.985655</td>\n",
       "      <td>3.459790</td>\n",
       "    </tr>\n",
       "    <tr>\n",
       "      <th>min</th>\n",
       "      <td>5.000000</td>\n",
       "      <td>0.002000</td>\n",
       "      <td>0.008000</td>\n",
       "      <td>0.300000</td>\n",
       "      <td>0.002000</td>\n",
       "      <td>-7.950000</td>\n",
       "      <td>0.000000</td>\n",
       "      <td>0.940000</td>\n",
       "      <td>50.000000</td>\n",
       "      <td>17.900000</td>\n",
       "      <td>983.800000</td>\n",
       "      <td>0.000000</td>\n",
       "      <td>0.000000</td>\n",
       "      <td>1.000000</td>\n",
       "    </tr>\n",
       "    <tr>\n",
       "      <th>25%</th>\n",
       "      <td>22.000000</td>\n",
       "      <td>0.014000</td>\n",
       "      <td>0.019000</td>\n",
       "      <td>0.400000</td>\n",
       "      <td>0.003000</td>\n",
       "      <td>5.480000</td>\n",
       "      <td>0.000000</td>\n",
       "      <td>1.720000</td>\n",
       "      <td>160.000000</td>\n",
       "      <td>49.600000</td>\n",
       "      <td>999.400000</td>\n",
       "      <td>0.000000</td>\n",
       "      <td>2.500000</td>\n",
       "      <td>4.000000</td>\n",
       "    </tr>\n",
       "    <tr>\n",
       "      <th>50%</th>\n",
       "      <td>31.000000</td>\n",
       "      <td>0.023000</td>\n",
       "      <td>0.025000</td>\n",
       "      <td>0.500000</td>\n",
       "      <td>0.003000</td>\n",
       "      <td>13.870000</td>\n",
       "      <td>0.000000</td>\n",
       "      <td>2.090000</td>\n",
       "      <td>221.000000</td>\n",
       "      <td>61.000000</td>\n",
       "      <td>1006.500000</td>\n",
       "      <td>0.000000</td>\n",
       "      <td>5.290000</td>\n",
       "      <td>7.000000</td>\n",
       "    </tr>\n",
       "    <tr>\n",
       "      <th>75%</th>\n",
       "      <td>42.000000</td>\n",
       "      <td>0.032000</td>\n",
       "      <td>0.034000</td>\n",
       "      <td>0.600000</td>\n",
       "      <td>0.003000</td>\n",
       "      <td>23.100000</td>\n",
       "      <td>0.100000</td>\n",
       "      <td>2.620000</td>\n",
       "      <td>266.000000</td>\n",
       "      <td>69.800000</td>\n",
       "      <td>1011.600000</td>\n",
       "      <td>0.000000</td>\n",
       "      <td>7.540000</td>\n",
       "      <td>10.000000</td>\n",
       "    </tr>\n",
       "    <tr>\n",
       "      <th>max</th>\n",
       "      <td>101.000000</td>\n",
       "      <td>0.062000</td>\n",
       "      <td>0.059000</td>\n",
       "      <td>1.000000</td>\n",
       "      <td>0.005000</td>\n",
       "      <td>31.720000</td>\n",
       "      <td>11.800000</td>\n",
       "      <td>5.880000</td>\n",
       "      <td>351.000000</td>\n",
       "      <td>95.000000</td>\n",
       "      <td>1025.500000</td>\n",
       "      <td>3.200000</td>\n",
       "      <td>10.000000</td>\n",
       "      <td>12.000000</td>\n",
       "    </tr>\n",
       "  </tbody>\n",
       "</table>\n",
       "</div>"
      ],
      "text/plain": [
       "             PM10          O3         NO2          CO         SO2        TEMP  \\\n",
       "count  365.000000  365.000000  365.000000  365.000000  365.000000  365.000000   \n",
       "mean    33.421918    0.023600    0.026814    0.506734    0.003033   13.853890   \n",
       "std     15.937983    0.011896    0.010271    0.143188    0.000632    9.841944   \n",
       "min      5.000000    0.002000    0.008000    0.300000    0.002000   -7.950000   \n",
       "25%     22.000000    0.014000    0.019000    0.400000    0.003000    5.480000   \n",
       "50%     31.000000    0.023000    0.025000    0.500000    0.003000   13.870000   \n",
       "75%     42.000000    0.032000    0.034000    0.600000    0.003000   23.100000   \n",
       "max    101.000000    0.062000    0.059000    1.000000    0.005000   31.720000   \n",
       "\n",
       "             RAIN        WIND    WIND_DIR    HUMIDITY    ATM_PRESS  \\\n",
       "count  365.000000  365.000000  365.000000  365.000000   365.000000   \n",
       "mean     0.378712    2.223589  209.320548   60.232055  1005.866575   \n",
       "std      1.122268    0.723421   70.788136   14.504766     8.130936   \n",
       "min      0.000000    0.940000   50.000000   17.900000   983.800000   \n",
       "25%      0.000000    1.720000  160.000000   49.600000   999.400000   \n",
       "50%      0.000000    2.090000  221.000000   61.000000  1006.500000   \n",
       "75%      0.100000    2.620000  266.000000   69.800000  1011.600000   \n",
       "max     11.800000    5.880000  351.000000   95.000000  1025.500000   \n",
       "\n",
       "             SNOW       CLOUD       Month  \n",
       "count  365.000000  365.000000  365.000000  \n",
       "mean     0.023014    5.055397    6.517808  \n",
       "std      0.222663    2.985655    3.459790  \n",
       "min      0.000000    0.000000    1.000000  \n",
       "25%      0.000000    2.500000    4.000000  \n",
       "50%      0.000000    5.290000    7.000000  \n",
       "75%      0.000000    7.540000   10.000000  \n",
       "max      3.200000   10.000000   12.000000  "
      ]
     },
     "execution_count": 23,
     "metadata": {},
     "output_type": "execute_result"
    }
   ],
   "source": [
    "df.describe()"
   ]
  },
  {
   "cell_type": "markdown",
   "id": "04f6457c",
   "metadata": {},
   "source": [
    "기술통계량 확인 결과 'SNOW'같은 일부 변수에서 이상치가 있을 수 있음을 확인"
   ]
  },
  {
   "cell_type": "markdown",
   "id": "e28754bf",
   "metadata": {},
   "source": [
    "boxplot과 histogram을 그려 데이터 분포 확인 및 이상치 확인 진행"
   ]
  },
  {
   "cell_type": "code",
   "execution_count": 24,
   "id": "cd67e02c",
   "metadata": {
    "ExecuteTime": {
     "end_time": "2022-11-07T21:48:42.197771Z",
     "start_time": "2022-11-07T21:48:42.185651Z"
    }
   },
   "outputs": [],
   "source": [
    "def outlier(data,var) :\n",
    "    data[[var]].boxplot()\n",
    "    data[[var]].hist()"
   ]
  },
  {
   "cell_type": "code",
   "execution_count": 25,
   "id": "0cf038fa",
   "metadata": {
    "ExecuteTime": {
     "end_time": "2022-11-07T21:48:42.784263Z",
     "start_time": "2022-11-07T21:48:42.509124Z"
    },
    "scrolled": false
   },
   "outputs": [
    {
     "data": {
      "image/png": "[encoded data removed]",
      "text/plain": [
       "<Figure size 432x288 with 1 Axes>"
      ]
     },
     "metadata": {
      "needs_background": "light"
     },
     "output_type": "display_data"
    },
    {
     "data": {
      "image/png": "[encoded data removed]",
      "text/plain": [
       "<Figure size 432x288 with 1 Axes>"
      ]
     },
     "metadata": {
      "needs_background": "light"
     },
     "output_type": "display_data"
    }
   ],
   "source": [
    "outlier(df, 'PM10')"
   ]
  },
  {
   "cell_type": "markdown",
   "id": "7d529d0e",
   "metadata": {},
   "source": [
    "**PM10**은 boxplot에서 일부 이상치 처럼 보이는 데이터가 있으나, 히스토그램에서 별도의 데이터 섬이 관찰되지 않았고 목표변수임을 고려하여 이상치를 제거하지 않았다. 또한 대략 30을 중심으로 몰려있는 분포 양상을 보인다."
   ]
  },
  {
   "cell_type": "code",
   "execution_count": 26,
   "id": "724b85d6",
   "metadata": {
    "ExecuteTime": {
     "end_time": "2022-11-07T21:48:43.290151Z",
     "start_time": "2022-11-07T21:48:43.051387Z"
    }
   },
   "outputs": [
    {
     "data": {
      "image/png": "[encoded data removed]",
      "text/plain": [
       "<Figure size 432x288 with 1 Axes>"
      ]
     },
     "metadata": {
      "needs_background": "light"
     },
     "output_type": "display_data"
    },
    {
     "data": {
      "image/png": "[encoded data removed]",
      "text/plain": [
       "<Figure size 432x288 with 1 Axes>"
      ]
     },
     "metadata": {
      "needs_background": "light"
     },
     "output_type": "display_data"
    }
   ],
   "source": [
    "outlier(df, 'O3')"
   ]
  },
  {
   "cell_type": "markdown",
   "id": "c5aac65a",
   "metadata": {
    "ExecuteTime": {
     "end_time": "2022-11-06T10:25:26.751340Z",
     "start_time": "2022-11-06T10:25:26.751340Z"
    }
   },
   "source": [
    "**O3**는 boxplot에서 이상치로 보이는 값은 있으나 미미하며, 데이터 섬이 나타나는 현상은 없기 때문에 이상치 제거하지 않고 진행. 대략 0.015에서 0.025를 중심으로 분포되어 있는 양상을 보인다."
   ]
  },
  {
   "cell_type": "code",
   "execution_count": 27,
   "id": "3a9425a2",
   "metadata": {
    "ExecuteTime": {
     "end_time": "2022-11-07T21:48:43.888136Z",
     "start_time": "2022-11-07T21:48:43.627832Z"
    }
   },
   "outputs": [
    {
     "data": {
      "image/png": "[encoded data removed]",
      "text/plain": [
       "<Figure size 432x288 with 1 Axes>"
      ]
     },
     "metadata": {
      "needs_background": "light"
     },
     "output_type": "display_data"
    },
    {
     "data": {
      "image/png": "[encoded data removed]",
      "text/plain": [
       "<Figure size 432x288 with 1 Axes>"
      ]
     },
     "metadata": {
      "needs_background": "light"
     },
     "output_type": "display_data"
    }
   ],
   "source": [
    "outlier(df, 'NO2')"
   ]
  },
  {
   "cell_type": "markdown",
   "id": "2c18aabf",
   "metadata": {},
   "source": [
    "**NO2**도 boxplot에서 이상치로 보이는 값은 있으나 미미하며, 데이터 섬이 나타나지 않았으므로 이상치 제거하지 않고 진행. O3와 마찬가지로 대략 0.015에서 0.025를 중심으로 분포되어 있는 양상을 보인다."
   ]
  },
  {
   "cell_type": "code",
   "execution_count": 28,
   "id": "fd4ddb02",
   "metadata": {
    "ExecuteTime": {
     "end_time": "2022-11-07T21:48:44.331338Z",
     "start_time": "2022-11-07T21:48:44.084000Z"
    }
   },
   "outputs": [
    {
     "data": {
      "image/png": "[encoded data removed]",
      "text/plain": [
       "<Figure size 432x288 with 1 Axes>"
      ]
     },
     "metadata": {
      "needs_background": "light"
     },
     "output_type": "display_data"
    },
    {
     "data": {
      "image/png": "[encoded data removed]",
      "text/plain": [
       "<Figure size 432x288 with 1 Axes>"
      ]
     },
     "metadata": {
      "needs_background": "light"
     },
     "output_type": "display_data"
    }
   ],
   "source": [
    "outlier(df, 'CO')"
   ]
  },
  {
   "cell_type": "markdown",
   "id": "964c29f6",
   "metadata": {},
   "source": [
    "**CO**는 boxplot과 histogram에서 이상치로 보여지는 값들이 있으나 위 결측치 제거 당시 계절에 따라 CO 배출량에 큰 차이가 나타남을 고려하여 이상치가 아니라 판단하였다. "
   ]
  },
  {
   "cell_type": "code",
   "execution_count": 29,
   "id": "3a754f81",
   "metadata": {
    "ExecuteTime": {
     "end_time": "2022-11-07T21:48:44.738598Z",
     "start_time": "2022-11-07T21:48:44.485239Z"
    },
    "scrolled": false
   },
   "outputs": [
    {
     "data": {
      "image/png": "[encoded data removed]",
      "text/plain": [
       "<Figure size 432x288 with 1 Axes>"
      ]
     },
     "metadata": {
      "needs_background": "light"
     },
     "output_type": "display_data"
    },
    {
     "data": {
      "image/png": "[encoded data removed]",
      "text/plain": [
       "<Figure size 432x288 with 1 Axes>"
      ]
     },
     "metadata": {
      "needs_background": "light"
     },
     "output_type": "display_data"
    }
   ],
   "source": [
    "outlier(df, 'SO2')"
   ]
  },
  {
   "cell_type": "markdown",
   "id": "4da91416",
   "metadata": {},
   "source": [
    "**SO2**는 대표적인 대기오염물질로 지역마다 계절마다 발생량에 큰 차이를 보인다. 또한 그래프 상에서는 차이가 많은 것으로 나타나지만, x축과 y축 값의 범위가 0.0005 단위로 미미하여 이상치라고 판단하지 않고 진행하였다. "
   ]
  },
  {
   "cell_type": "code",
   "execution_count": 30,
   "id": "6b24cbd6",
   "metadata": {
    "ExecuteTime": {
     "end_time": "2022-11-07T21:48:45.084396Z",
     "start_time": "2022-11-07T21:48:44.846532Z"
    }
   },
   "outputs": [
    {
     "data": {
      "image/png": "[encoded data removed]",
      "text/plain": [
       "<Figure size 432x288 with 1 Axes>"
      ]
     },
     "metadata": {
      "needs_background": "light"
     },
     "output_type": "display_data"
    },
    {
     "data": {
      "image/png": "[encoded data removed]",
      "text/plain": [
       "<Figure size 432x288 with 1 Axes>"
      ]
     },
     "metadata": {
      "needs_background": "light"
     },
     "output_type": "display_data"
    }
   ],
   "source": [
    "outlier(df, 'TEMP')"
   ]
  },
  {
   "cell_type": "markdown",
   "id": "d7faffff",
   "metadata": {},
   "source": [
    "**TEMP**는 별도의 이상치를 발견할 수 없었으며, 우리나라의 사계절 특성상 0도부터 30도까지 골고루 분포하고 있음을 확인하였다."
   ]
  },
  {
   "cell_type": "code",
   "execution_count": 31,
   "id": "0ff8e431",
   "metadata": {
    "ExecuteTime": {
     "end_time": "2022-11-07T21:48:45.463871Z",
     "start_time": "2022-11-07T21:48:45.242851Z"
    }
   },
   "outputs": [
    {
     "data": {
      "image/png": "[encoded data removed]",
      "text/plain": [
       "<Figure size 432x288 with 1 Axes>"
      ]
     },
     "metadata": {
      "needs_background": "light"
     },
     "output_type": "display_data"
    },
    {
     "data": {
      "image/png": "[encoded data removed]",
      "text/plain": [
       "<Figure size 432x288 with 1 Axes>"
      ]
     },
     "metadata": {
      "needs_background": "light"
     },
     "output_type": "display_data"
    }
   ],
   "source": [
    "outlier(df, 'RAIN')"
   ]
  },
  {
   "cell_type": "markdown",
   "id": "d84078e1",
   "metadata": {},
   "source": [
    "**RAIN**은 강수량 데이터로 그래프 상에서는 매우 불균형하게 분포되어 있는 것으로 확인된다. 그러나 우리나라는 계절별, 연도별, 강수량의 편차가 심한 곳으로 대부분 강수량이 여름에 집중됨을 고려하여 이상치라 판단하지 않았다."
   ]
  },
  {
   "cell_type": "code",
   "execution_count": 32,
   "id": "73e20c30",
   "metadata": {
    "ExecuteTime": {
     "end_time": "2022-11-07T21:48:45.936650Z",
     "start_time": "2022-11-07T21:48:45.632462Z"
    }
   },
   "outputs": [
    {
     "data": {
      "image/png": "[encoded data removed]",
      "text/plain": [
       "<Figure size 432x288 with 1 Axes>"
      ]
     },
     "metadata": {
      "needs_background": "light"
     },
     "output_type": "display_data"
    },
    {
     "data": {
      "image/png": "[encoded data removed]",
      "text/plain": [
       "<Figure size 432x288 with 1 Axes>"
      ]
     },
     "metadata": {
      "needs_background": "light"
     },
     "output_type": "display_data"
    }
   ],
   "source": [
    "outlier(df, 'WIND')"
   ]
  },
  {
   "cell_type": "markdown",
   "id": "fcc008ec",
   "metadata": {},
   "source": [
    "**WIND**역시 그래프 상에서는 일부 이상치로 보일 수 있는 데이터가 있으나 풍속이 기상정보임을 고려하여 발생할 수 있는 데이터로 판단. 제거하지 않고 진행하였다."
   ]
  },
  {
   "cell_type": "code",
   "execution_count": 33,
   "id": "a765dc65",
   "metadata": {
    "ExecuteTime": {
     "end_time": "2022-11-07T21:48:46.253354Z",
     "start_time": "2022-11-07T21:48:46.014547Z"
    }
   },
   "outputs": [
    {
     "data": {
      "image/png": "[encoded data removed]",
      "text/plain": [
       "<Figure size 432x288 with 1 Axes>"
      ]
     },
     "metadata": {
      "needs_background": "light"
     },
     "output_type": "display_data"
    },
    {
     "data": {
      "image/png": "[encoded data removed]",
      "text/plain": [
       "<Figure size 432x288 with 1 Axes>"
      ]
     },
     "metadata": {
      "needs_background": "light"
     },
     "output_type": "display_data"
    }
   ],
   "source": [
    "outlier(df, 'WIND_DIR')"
   ]
  },
  {
   "cell_type": "markdown",
   "id": "153ae1f5",
   "metadata": {},
   "source": [
    "**WIND_DIR**은 풍향(16방위)를 나타내는 데이터로 0~360º를 의미한다. 가장 많이 분포하고 있는 250º에서 300º 사이의 구간으로, 서풍이 가장 많이 불고 있음을 의미한다. 우리나라는 편서풍 지대에 위치하고 있기 때문에 위의 분포와 같이 나타남을 확인하였다. 별도의 이상치는 확인할 수 없었다."
   ]
  },
  {
   "cell_type": "code",
   "execution_count": 34,
   "id": "fc5ebae4",
   "metadata": {
    "ExecuteTime": {
     "end_time": "2022-11-07T21:48:46.674922Z",
     "start_time": "2022-11-07T21:48:46.436559Z"
    }
   },
   "outputs": [
    {
     "data": {
      "image/png": "[encoded data removed]",
      "text/plain": [
       "<Figure size 432x288 with 1 Axes>"
      ]
     },
     "metadata": {
      "needs_background": "light"
     },
     "output_type": "display_data"
    },
    {
     "data": {
      "image/png": "[encoded data removed]",
      "text/plain": [
       "<Figure size 432x288 with 1 Axes>"
      ]
     },
     "metadata": {
      "needs_background": "light"
     },
     "output_type": "display_data"
    }
   ],
   "source": [
    "outlier(df, 'HUMIDITY')"
   ]
  },
  {
   "cell_type": "markdown",
   "id": "f92eb7de",
   "metadata": {},
   "source": [
    "**HUMIDITY**에서는 boxplot과 histogram에서 모두 큰 이상치를 발견할 수 없었으며 대략 50~70 부근을 중심적으로 분포되어 있는 양상을 보인다."
   ]
  },
  {
   "cell_type": "code",
   "execution_count": 35,
   "id": "2dbdd39b",
   "metadata": {
    "ExecuteTime": {
     "end_time": "2022-11-07T21:48:47.129706Z",
     "start_time": "2022-11-07T21:48:46.855654Z"
    }
   },
   "outputs": [
    {
     "data": {
      "image/png": "[encoded data removed]",
      "text/plain": [
       "<Figure size 432x288 with 1 Axes>"
      ]
     },
     "metadata": {
      "needs_background": "light"
     },
     "output_type": "display_data"
    },
    {
     "data": {
      "image/png": "[encoded data removed]",
      "text/plain": [
       "<Figure size 432x288 with 1 Axes>"
      ]
     },
     "metadata": {
      "needs_background": "light"
     },
     "output_type": "display_data"
    }
   ],
   "source": [
    "outlier(df, 'ATM_PRESS')"
   ]
  },
  {
   "cell_type": "markdown",
   "id": "744a7c83",
   "metadata": {},
   "source": [
    "**ATM_PRESS** 역시 boxplot과 histogram에서 모두 이상치를 발견할 수 없으며 대략 1000hPa ~ 1010hPa을 중심으로 분포되고 있는 양상을 보인다."
   ]
  },
  {
   "cell_type": "code",
   "execution_count": 36,
   "id": "e60aed5c",
   "metadata": {
    "ExecuteTime": {
     "end_time": "2022-11-07T21:48:47.477927Z",
     "start_time": "2022-11-07T21:48:47.240562Z"
    }
   },
   "outputs": [
    {
     "data": {
      "image/png": "[encoded data removed]",
      "text/plain": [
       "<Figure size 432x288 with 1 Axes>"
      ]
     },
     "metadata": {
      "needs_background": "light"
     },
     "output_type": "display_data"
    },
    {
     "data": {
      "image/png": "[encoded data removed]",
      "text/plain": [
       "<Figure size 432x288 with 1 Axes>"
      ]
     },
     "metadata": {
      "needs_background": "light"
     },
     "output_type": "display_data"
    }
   ],
   "source": [
    "outlier(df, 'SNOW')"
   ]
  },
  {
   "cell_type": "code",
   "execution_count": 37,
   "id": "8f3cabe3",
   "metadata": {
    "ExecuteTime": {
     "end_time": "2022-11-07T21:48:47.508846Z",
     "start_time": "2022-11-07T21:48:47.479923Z"
    },
    "scrolled": true
   },
   "outputs": [
    {
     "data": {
      "text/html": [
       "<div>\n",
       "<style scoped>\n",
       "    .dataframe tbody tr th:only-of-type {\n",
       "        vertical-align: middle;\n",
       "    }\n",
       "\n",
       "    .dataframe tbody tr th {\n",
       "        vertical-align: top;\n",
       "    }\n",
       "\n",
       "    .dataframe thead th {\n",
       "        text-align: right;\n",
       "    }\n",
       "</style>\n",
       "<table border=\"1\" class=\"dataframe\">\n",
       "  <thead>\n",
       "    <tr style=\"text-align: right;\">\n",
       "      <th></th>\n",
       "      <th>MeasDate</th>\n",
       "      <th>PM10</th>\n",
       "      <th>O3</th>\n",
       "      <th>NO2</th>\n",
       "      <th>CO</th>\n",
       "      <th>SO2</th>\n",
       "      <th>TEMP</th>\n",
       "      <th>RAIN</th>\n",
       "      <th>WIND</th>\n",
       "      <th>WIND_DIR</th>\n",
       "      <th>HUMIDITY</th>\n",
       "      <th>ATM_PRESS</th>\n",
       "      <th>SNOW</th>\n",
       "      <th>CLOUD</th>\n",
       "      <th>Month</th>\n",
       "    </tr>\n",
       "  </thead>\n",
       "  <tbody>\n",
       "    <tr>\n",
       "      <th>218</th>\n",
       "      <td>2020-02-04</td>\n",
       "      <td>23.0</td>\n",
       "      <td>0.019</td>\n",
       "      <td>0.024</td>\n",
       "      <td>0.5</td>\n",
       "      <td>0.003</td>\n",
       "      <td>-1.42</td>\n",
       "      <td>0.57</td>\n",
       "      <td>2.86</td>\n",
       "      <td>226</td>\n",
       "      <td>52.3</td>\n",
       "      <td>1015.8</td>\n",
       "      <td>0.6</td>\n",
       "      <td>4.08</td>\n",
       "      <td>2</td>\n",
       "    </tr>\n",
       "    <tr>\n",
       "      <th>230</th>\n",
       "      <td>2020-02-16</td>\n",
       "      <td>25.0</td>\n",
       "      <td>0.025</td>\n",
       "      <td>0.012</td>\n",
       "      <td>0.5</td>\n",
       "      <td>0.002</td>\n",
       "      <td>-0.57</td>\n",
       "      <td>1.89</td>\n",
       "      <td>3.94</td>\n",
       "      <td>270</td>\n",
       "      <td>82.7</td>\n",
       "      <td>1002.4</td>\n",
       "      <td>2.1</td>\n",
       "      <td>9.21</td>\n",
       "      <td>2</td>\n",
       "    </tr>\n",
       "    <tr>\n",
       "      <th>231</th>\n",
       "      <td>2020-02-17</td>\n",
       "      <td>38.0</td>\n",
       "      <td>0.027</td>\n",
       "      <td>0.011</td>\n",
       "      <td>0.4</td>\n",
       "      <td>0.002</td>\n",
       "      <td>-5.64</td>\n",
       "      <td>0.17</td>\n",
       "      <td>3.43</td>\n",
       "      <td>303</td>\n",
       "      <td>66.5</td>\n",
       "      <td>1006.7</td>\n",
       "      <td>3.2</td>\n",
       "      <td>7.58</td>\n",
       "      <td>2</td>\n",
       "    </tr>\n",
       "    <tr>\n",
       "      <th>232</th>\n",
       "      <td>2020-02-18</td>\n",
       "      <td>22.0</td>\n",
       "      <td>0.021</td>\n",
       "      <td>0.020</td>\n",
       "      <td>0.4</td>\n",
       "      <td>0.003</td>\n",
       "      <td>-4.28</td>\n",
       "      <td>0.00</td>\n",
       "      <td>2.33</td>\n",
       "      <td>284</td>\n",
       "      <td>44.3</td>\n",
       "      <td>1016.0</td>\n",
       "      <td>1.7</td>\n",
       "      <td>0.00</td>\n",
       "      <td>2</td>\n",
       "    </tr>\n",
       "  </tbody>\n",
       "</table>\n",
       "</div>"
      ],
      "text/plain": [
       "      MeasDate  PM10     O3    NO2   CO    SO2  TEMP  RAIN  WIND  WIND_DIR  \\\n",
       "218 2020-02-04  23.0  0.019  0.024  0.5  0.003 -1.42  0.57  2.86       226   \n",
       "230 2020-02-16  25.0  0.025  0.012  0.5  0.002 -0.57  1.89  3.94       270   \n",
       "231 2020-02-17  38.0  0.027  0.011  0.4  0.002 -5.64  0.17  3.43       303   \n",
       "232 2020-02-18  22.0  0.021  0.020  0.4  0.003 -4.28  0.00  2.33       284   \n",
       "\n",
       "     HUMIDITY  ATM_PRESS  SNOW  CLOUD  Month  \n",
       "218      52.3     1015.8   0.6   4.08      2  \n",
       "230      82.7     1002.4   2.1   9.21      2  \n",
       "231      66.5     1006.7   3.2   7.58      2  \n",
       "232      44.3     1016.0   1.7   0.00      2  "
      ]
     },
     "execution_count": 37,
     "metadata": {},
     "output_type": "execute_result"
    }
   ],
   "source": [
    "df[df['SNOW']>0.5]"
   ]
  },
  {
   "cell_type": "markdown",
   "id": "a183ecaf",
   "metadata": {},
   "source": [
    "**SNOW**는 대부분 0에 가까우나 max값과의 차이가 많이 나 기술통계량 확인 당시 이상치가 있을 것이라 판단한 데이터였다. 그러나 값이 큰 데이터가 2월에 위치하고 있음을 고려하면 겨울철에 눈이 많이 내린 날 측정된 데이터라고 판단될 수 있다. 따라서 이상치라 판단하지 않고 진행하였다."
   ]
  },
  {
   "cell_type": "code",
   "execution_count": 38,
   "id": "2898c064",
   "metadata": {
    "ExecuteTime": {
     "end_time": "2022-11-07T21:48:48.187623Z",
     "start_time": "2022-11-07T21:48:47.958194Z"
    },
    "scrolled": false
   },
   "outputs": [
    {
     "data": {
      "image/png": "[encoded data removed]",
      "text/plain": [
       "<Figure size 432x288 with 1 Axes>"
      ]
     },
     "metadata": {
      "needs_background": "light"
     },
     "output_type": "display_data"
    },
    {
     "data": {
      "image/png": "[encoded data removed]",
      "text/plain": [
       "<Figure size 432x288 with 1 Axes>"
      ]
     },
     "metadata": {
      "needs_background": "light"
     },
     "output_type": "display_data"
    }
   ],
   "source": [
    "outlier(df, 'CLOUD')"
   ]
  },
  {
   "cell_type": "markdown",
   "id": "603b4fea",
   "metadata": {},
   "source": [
    "**CLOUD**는 boxplot과 histogram 모두에서 이상치로 보이는 데이터가 존재하지 않으며 0분위부터 10분위까지 골고루 분포하고 있음을 확인하였다. "
   ]
  },
  {
   "cell_type": "markdown",
   "id": "b2a7d2dd",
   "metadata": {},
   "source": [
    "## 데이터 구성"
   ]
  },
  {
   "cell_type": "markdown",
   "id": "d41b4345",
   "metadata": {},
   "source": [
    "'MeasDate'과 'Month' 데이터는 참고자료로 사용할 수는 있으나 여름에는 기온이 올라가는 등 다른 데이터를 통해서도 충분히 유추할 수 있기 때문에 모델을 구성하는데 핵심인자로 적절치 않아 제거한다."
   ]
  },
  {
   "cell_type": "code",
   "execution_count": 39,
   "id": "d6681de7",
   "metadata": {
    "ExecuteTime": {
     "end_time": "2022-11-07T21:50:06.730975Z",
     "start_time": "2022-11-07T21:50:06.713026Z"
    }
   },
   "outputs": [],
   "source": [
    "df.drop(['MeasDate'], axis=1, inplace=True)"
   ]
  },
  {
   "cell_type": "code",
   "execution_count": 40,
   "id": "143f1c90",
   "metadata": {
    "ExecuteTime": {
     "end_time": "2022-11-07T21:50:06.981342Z",
     "start_time": "2022-11-07T21:50:06.975357Z"
    }
   },
   "outputs": [],
   "source": [
    "df.drop(['Month'], axis=1, inplace=True)"
   ]
  },
  {
   "cell_type": "code",
   "execution_count": 41,
   "id": "883a4f48",
   "metadata": {
    "ExecuteTime": {
     "end_time": "2022-11-07T21:50:07.278989Z",
     "start_time": "2022-11-07T21:50:07.255054Z"
    },
    "scrolled": false
   },
   "outputs": [
    {
     "data": {
      "text/html": [
       "<div>\n",
       "<style scoped>\n",
       "    .dataframe tbody tr th:only-of-type {\n",
       "        vertical-align: middle;\n",
       "    }\n",
       "\n",
       "    .dataframe tbody tr th {\n",
       "        vertical-align: top;\n",
       "    }\n",
       "\n",
       "    .dataframe thead th {\n",
       "        text-align: right;\n",
       "    }\n",
       "</style>\n",
       "<table border=\"1\" class=\"dataframe\">\n",
       "  <thead>\n",
       "    <tr style=\"text-align: right;\">\n",
       "      <th></th>\n",
       "      <th>PM10</th>\n",
       "      <th>O3</th>\n",
       "      <th>NO2</th>\n",
       "      <th>CO</th>\n",
       "      <th>SO2</th>\n",
       "      <th>TEMP</th>\n",
       "      <th>RAIN</th>\n",
       "      <th>WIND</th>\n",
       "      <th>WIND_DIR</th>\n",
       "      <th>HUMIDITY</th>\n",
       "      <th>ATM_PRESS</th>\n",
       "      <th>SNOW</th>\n",
       "      <th>CLOUD</th>\n",
       "    </tr>\n",
       "  </thead>\n",
       "  <tbody>\n",
       "    <tr>\n",
       "      <th>0</th>\n",
       "      <td>29.0</td>\n",
       "      <td>0.054</td>\n",
       "      <td>0.021</td>\n",
       "      <td>0.5</td>\n",
       "      <td>0.003</td>\n",
       "      <td>24.03</td>\n",
       "      <td>0.0</td>\n",
       "      <td>2.30</td>\n",
       "      <td>249</td>\n",
       "      <td>63.2</td>\n",
       "      <td>995.1</td>\n",
       "      <td>0.0</td>\n",
       "      <td>5.70</td>\n",
       "    </tr>\n",
       "    <tr>\n",
       "      <th>1</th>\n",
       "      <td>26.0</td>\n",
       "      <td>0.053</td>\n",
       "      <td>0.020</td>\n",
       "      <td>0.5</td>\n",
       "      <td>0.003</td>\n",
       "      <td>24.29</td>\n",
       "      <td>0.0</td>\n",
       "      <td>2.26</td>\n",
       "      <td>265</td>\n",
       "      <td>63.2</td>\n",
       "      <td>998.6</td>\n",
       "      <td>0.0</td>\n",
       "      <td>3.83</td>\n",
       "    </tr>\n",
       "    <tr>\n",
       "      <th>2</th>\n",
       "      <td>30.0</td>\n",
       "      <td>0.042</td>\n",
       "      <td>0.023</td>\n",
       "      <td>0.4</td>\n",
       "      <td>0.003</td>\n",
       "      <td>24.18</td>\n",
       "      <td>0.0</td>\n",
       "      <td>1.79</td>\n",
       "      <td>280</td>\n",
       "      <td>65.3</td>\n",
       "      <td>998.3</td>\n",
       "      <td>0.0</td>\n",
       "      <td>6.29</td>\n",
       "    </tr>\n",
       "    <tr>\n",
       "      <th>3</th>\n",
       "      <td>28.0</td>\n",
       "      <td>0.034</td>\n",
       "      <td>0.026</td>\n",
       "      <td>0.4</td>\n",
       "      <td>0.003</td>\n",
       "      <td>25.35</td>\n",
       "      <td>0.0</td>\n",
       "      <td>2.04</td>\n",
       "      <td>263</td>\n",
       "      <td>58.6</td>\n",
       "      <td>996.6</td>\n",
       "      <td>0.0</td>\n",
       "      <td>2.54</td>\n",
       "    </tr>\n",
       "    <tr>\n",
       "      <th>4</th>\n",
       "      <td>29.0</td>\n",
       "      <td>0.045</td>\n",
       "      <td>0.035</td>\n",
       "      <td>0.5</td>\n",
       "      <td>0.003</td>\n",
       "      <td>27.30</td>\n",
       "      <td>0.0</td>\n",
       "      <td>1.45</td>\n",
       "      <td>175</td>\n",
       "      <td>45.5</td>\n",
       "      <td>993.5</td>\n",
       "      <td>0.0</td>\n",
       "      <td>3.92</td>\n",
       "    </tr>\n",
       "  </tbody>\n",
       "</table>\n",
       "</div>"
      ],
      "text/plain": [
       "   PM10     O3    NO2   CO    SO2   TEMP  RAIN  WIND  WIND_DIR  HUMIDITY  \\\n",
       "0  29.0  0.054  0.021  0.5  0.003  24.03   0.0  2.30       249      63.2   \n",
       "1  26.0  0.053  0.020  0.5  0.003  24.29   0.0  2.26       265      63.2   \n",
       "2  30.0  0.042  0.023  0.4  0.003  24.18   0.0  1.79       280      65.3   \n",
       "3  28.0  0.034  0.026  0.4  0.003  25.35   0.0  2.04       263      58.6   \n",
       "4  29.0  0.045  0.035  0.5  0.003  27.30   0.0  1.45       175      45.5   \n",
       "\n",
       "   ATM_PRESS  SNOW  CLOUD  \n",
       "0      995.1   0.0   5.70  \n",
       "1      998.6   0.0   3.83  \n",
       "2      998.3   0.0   6.29  \n",
       "3      996.6   0.0   2.54  \n",
       "4      993.5   0.0   3.92  "
      ]
     },
     "execution_count": 41,
     "metadata": {},
     "output_type": "execute_result"
    }
   ],
   "source": [
    "df.head()"
   ]
  },
  {
   "cell_type": "markdown",
   "id": "0ef5d76d",
   "metadata": {},
   "source": [
    "## 변수 간 상관관계 파악"
   ]
  },
  {
   "cell_type": "markdown",
   "id": "6a32c57f",
   "metadata": {},
   "source": [
    "### 대기오염 물질과 PM10 간의 산점도 그래프"
   ]
  },
  {
   "cell_type": "code",
   "execution_count": 42,
   "id": "54d3fcea",
   "metadata": {
    "ExecuteTime": {
     "end_time": "2022-11-07T21:50:11.956515Z",
     "start_time": "2022-11-07T21:50:11.462605Z"
    },
    "scrolled": true
   },
   "outputs": [
    {
     "data": {
      "text/plain": [
       "<seaborn.axisgrid.PairGrid at 0x211d0a08730>"
      ]
     },
     "execution_count": 42,
     "metadata": {},
     "output_type": "execute_result"
    },
    {
     "data": {
      "image/png": "[encoded data removed]",
      "text/plain": [
       "<Figure size 720x180 with 4 Axes>"
      ]
     },
     "metadata": {
      "needs_background": "light"
     },
     "output_type": "display_data"
    }
   ],
   "source": [
    "sns.pairplot(df, y_vars='PM10', x_vars=['O3', 'NO2', 'CO', 'SO2'])"
   ]
  },
  {
   "cell_type": "code",
   "execution_count": 47,
   "id": "c2f8bae0",
   "metadata": {
    "ExecuteTime": {
     "end_time": "2022-11-07T21:52:24.192571Z",
     "start_time": "2022-11-07T21:52:24.168636Z"
    },
    "scrolled": false
   },
   "outputs": [
    {
     "data": {
      "text/html": [
       "<div>\n",
       "<style scoped>\n",
       "    .dataframe tbody tr th:only-of-type {\n",
       "        vertical-align: middle;\n",
       "    }\n",
       "\n",
       "    .dataframe tbody tr th {\n",
       "        vertical-align: top;\n",
       "    }\n",
       "\n",
       "    .dataframe thead th {\n",
       "        text-align: right;\n",
       "    }\n",
       "</style>\n",
       "<table border=\"1\" class=\"dataframe\">\n",
       "  <thead>\n",
       "    <tr style=\"text-align: right;\">\n",
       "      <th></th>\n",
       "      <th>PM10</th>\n",
       "      <th>O3</th>\n",
       "      <th>NO2</th>\n",
       "      <th>CO</th>\n",
       "      <th>SO2</th>\n",
       "    </tr>\n",
       "  </thead>\n",
       "  <tbody>\n",
       "    <tr>\n",
       "      <th>PM10</th>\n",
       "      <td>1.000</td>\n",
       "      <td>-0.052</td>\n",
       "      <td>0.396</td>\n",
       "      <td>0.593</td>\n",
       "      <td>0.429</td>\n",
       "    </tr>\n",
       "    <tr>\n",
       "      <th>O3</th>\n",
       "      <td>-0.052</td>\n",
       "      <td>1.000</td>\n",
       "      <td>-0.592</td>\n",
       "      <td>-0.520</td>\n",
       "      <td>-0.234</td>\n",
       "    </tr>\n",
       "    <tr>\n",
       "      <th>NO2</th>\n",
       "      <td>0.396</td>\n",
       "      <td>-0.592</td>\n",
       "      <td>1.000</td>\n",
       "      <td>0.797</td>\n",
       "      <td>0.563</td>\n",
       "    </tr>\n",
       "    <tr>\n",
       "      <th>CO</th>\n",
       "      <td>0.593</td>\n",
       "      <td>-0.520</td>\n",
       "      <td>0.797</td>\n",
       "      <td>1.000</td>\n",
       "      <td>0.586</td>\n",
       "    </tr>\n",
       "    <tr>\n",
       "      <th>SO2</th>\n",
       "      <td>0.429</td>\n",
       "      <td>-0.234</td>\n",
       "      <td>0.563</td>\n",
       "      <td>0.586</td>\n",
       "      <td>1.000</td>\n",
       "    </tr>\n",
       "  </tbody>\n",
       "</table>\n",
       "</div>"
      ],
      "text/plain": [
       "       PM10     O3    NO2     CO    SO2\n",
       "PM10  1.000 -0.052  0.396  0.593  0.429\n",
       "O3   -0.052  1.000 -0.592 -0.520 -0.234\n",
       "NO2   0.396 -0.592  1.000  0.797  0.563\n",
       "CO    0.593 -0.520  0.797  1.000  0.586\n",
       "SO2   0.429 -0.234  0.563  0.586  1.000"
      ]
     },
     "execution_count": 47,
     "metadata": {},
     "output_type": "execute_result"
    }
   ],
   "source": [
    "df1=df[['PM10', 'O3', 'NO2', 'CO', 'SO2']]\n",
    "df1.corr().round(3)"
   ]
  },
  {
   "cell_type": "markdown",
   "id": "e48ef8f7",
   "metadata": {},
   "source": [
    "### 기상 데이터와 PM10 간의 산점도 그래프"
   ]
  },
  {
   "cell_type": "code",
   "execution_count": 115,
   "id": "824a3d30",
   "metadata": {
    "ExecuteTime": {
     "end_time": "2022-11-06T11:40:57.705492Z",
     "start_time": "2022-11-06T11:40:56.775696Z"
    },
    "scrolled": false
   },
   "outputs": [
    {
     "data": {
      "text/plain": [
       "<seaborn.axisgrid.PairGrid at 0x29e9ef1ae80>"
      ]
     },
     "execution_count": 115,
     "metadata": {},
     "output_type": "execute_result"
    },
    {
     "data": {
      "image/png": "[encoded data removed]",
      "text/plain": [
       "<Figure size 1440x180 with 8 Axes>"
      ]
     },
     "metadata": {
      "needs_background": "light"
     },
     "output_type": "display_data"
    }
   ],
   "source": [
    "sns.pairplot(df, y_vars='PM10', x_vars=['TEMP', 'RAIN', 'WIND', 'WIND_DIR', 'HUMIDITY', 'ATM_PRESS', 'SNOW', 'CLOUD'])"
   ]
  },
  {
   "cell_type": "markdown",
   "id": "a8ac2e26",
   "metadata": {},
   "source": [
    "### 전체 변수 간 상관계수 확인"
   ]
  },
  {
   "cell_type": "code",
   "execution_count": 116,
   "id": "9b95e33f",
   "metadata": {
    "ExecuteTime": {
     "end_time": "2022-11-06T11:40:59.486670Z",
     "start_time": "2022-11-06T11:40:59.450792Z"
    },
    "scrolled": false
   },
   "outputs": [
    {
     "data": {
      "text/html": [
       "<div>\n",
       "<style scoped>\n",
       "    .dataframe tbody tr th:only-of-type {\n",
       "        vertical-align: middle;\n",
       "    }\n",
       "\n",
       "    .dataframe tbody tr th {\n",
       "        vertical-align: top;\n",
       "    }\n",
       "\n",
       "    .dataframe thead th {\n",
       "        text-align: right;\n",
       "    }\n",
       "</style>\n",
       "<table border=\"1\" class=\"dataframe\">\n",
       "  <thead>\n",
       "    <tr style=\"text-align: right;\">\n",
       "      <th></th>\n",
       "      <th>PM10</th>\n",
       "      <th>O3</th>\n",
       "      <th>NO2</th>\n",
       "      <th>CO</th>\n",
       "      <th>SO2</th>\n",
       "      <th>TEMP</th>\n",
       "      <th>RAIN</th>\n",
       "      <th>WIND</th>\n",
       "      <th>WIND_DIR</th>\n",
       "      <th>HUMIDITY</th>\n",
       "      <th>ATM_PRESS</th>\n",
       "      <th>SNOW</th>\n",
       "      <th>CLOUD</th>\n",
       "    </tr>\n",
       "  </thead>\n",
       "  <tbody>\n",
       "    <tr>\n",
       "      <th>PM10</th>\n",
       "      <td>1.000</td>\n",
       "      <td>-0.052</td>\n",
       "      <td>0.396</td>\n",
       "      <td>0.593</td>\n",
       "      <td>0.429</td>\n",
       "      <td>-0.310</td>\n",
       "      <td>-0.121</td>\n",
       "      <td>-0.100</td>\n",
       "      <td>0.020</td>\n",
       "      <td>-0.150</td>\n",
       "      <td>0.253</td>\n",
       "      <td>-0.020</td>\n",
       "      <td>-0.172</td>\n",
       "    </tr>\n",
       "    <tr>\n",
       "      <th>O3</th>\n",
       "      <td>-0.052</td>\n",
       "      <td>1.000</td>\n",
       "      <td>-0.592</td>\n",
       "      <td>-0.520</td>\n",
       "      <td>-0.234</td>\n",
       "      <td>0.516</td>\n",
       "      <td>-0.104</td>\n",
       "      <td>0.165</td>\n",
       "      <td>0.269</td>\n",
       "      <td>-0.038</td>\n",
       "      <td>-0.534</td>\n",
       "      <td>0.004</td>\n",
       "      <td>-0.119</td>\n",
       "    </tr>\n",
       "    <tr>\n",
       "      <th>NO2</th>\n",
       "      <td>0.396</td>\n",
       "      <td>-0.592</td>\n",
       "      <td>1.000</td>\n",
       "      <td>0.797</td>\n",
       "      <td>0.563</td>\n",
       "      <td>-0.237</td>\n",
       "      <td>0.029</td>\n",
       "      <td>-0.537</td>\n",
       "      <td>-0.408</td>\n",
       "      <td>-0.066</td>\n",
       "      <td>0.420</td>\n",
       "      <td>-0.121</td>\n",
       "      <td>0.017</td>\n",
       "    </tr>\n",
       "    <tr>\n",
       "      <th>CO</th>\n",
       "      <td>0.593</td>\n",
       "      <td>-0.520</td>\n",
       "      <td>0.797</td>\n",
       "      <td>1.000</td>\n",
       "      <td>0.586</td>\n",
       "      <td>-0.425</td>\n",
       "      <td>0.007</td>\n",
       "      <td>-0.372</td>\n",
       "      <td>-0.312</td>\n",
       "      <td>0.002</td>\n",
       "      <td>0.444</td>\n",
       "      <td>-0.048</td>\n",
       "      <td>-0.006</td>\n",
       "    </tr>\n",
       "    <tr>\n",
       "      <th>SO2</th>\n",
       "      <td>0.429</td>\n",
       "      <td>-0.234</td>\n",
       "      <td>0.563</td>\n",
       "      <td>0.586</td>\n",
       "      <td>1.000</td>\n",
       "      <td>-0.274</td>\n",
       "      <td>-0.129</td>\n",
       "      <td>-0.253</td>\n",
       "      <td>-0.093</td>\n",
       "      <td>-0.302</td>\n",
       "      <td>0.334</td>\n",
       "      <td>-0.103</td>\n",
       "      <td>-0.191</td>\n",
       "    </tr>\n",
       "    <tr>\n",
       "      <th>TEMP</th>\n",
       "      <td>-0.310</td>\n",
       "      <td>0.516</td>\n",
       "      <td>-0.237</td>\n",
       "      <td>-0.425</td>\n",
       "      <td>-0.274</td>\n",
       "      <td>1.000</td>\n",
       "      <td>0.077</td>\n",
       "      <td>-0.216</td>\n",
       "      <td>-0.050</td>\n",
       "      <td>0.404</td>\n",
       "      <td>-0.792</td>\n",
       "      <td>-0.185</td>\n",
       "      <td>0.342</td>\n",
       "    </tr>\n",
       "    <tr>\n",
       "      <th>RAIN</th>\n",
       "      <td>-0.121</td>\n",
       "      <td>-0.104</td>\n",
       "      <td>0.029</td>\n",
       "      <td>0.007</td>\n",
       "      <td>-0.129</td>\n",
       "      <td>0.077</td>\n",
       "      <td>1.000</td>\n",
       "      <td>0.126</td>\n",
       "      <td>-0.183</td>\n",
       "      <td>0.397</td>\n",
       "      <td>-0.236</td>\n",
       "      <td>0.019</td>\n",
       "      <td>0.358</td>\n",
       "    </tr>\n",
       "    <tr>\n",
       "      <th>WIND</th>\n",
       "      <td>-0.100</td>\n",
       "      <td>0.165</td>\n",
       "      <td>-0.537</td>\n",
       "      <td>-0.372</td>\n",
       "      <td>-0.253</td>\n",
       "      <td>-0.216</td>\n",
       "      <td>0.126</td>\n",
       "      <td>1.000</td>\n",
       "      <td>0.235</td>\n",
       "      <td>-0.084</td>\n",
       "      <td>-0.054</td>\n",
       "      <td>0.146</td>\n",
       "      <td>0.017</td>\n",
       "    </tr>\n",
       "    <tr>\n",
       "      <th>WIND_DIR</th>\n",
       "      <td>0.020</td>\n",
       "      <td>0.269</td>\n",
       "      <td>-0.408</td>\n",
       "      <td>-0.312</td>\n",
       "      <td>-0.093</td>\n",
       "      <td>-0.050</td>\n",
       "      <td>-0.183</td>\n",
       "      <td>0.235</td>\n",
       "      <td>1.000</td>\n",
       "      <td>-0.099</td>\n",
       "      <td>0.068</td>\n",
       "      <td>0.108</td>\n",
       "      <td>-0.297</td>\n",
       "    </tr>\n",
       "    <tr>\n",
       "      <th>HUMIDITY</th>\n",
       "      <td>-0.150</td>\n",
       "      <td>-0.038</td>\n",
       "      <td>-0.066</td>\n",
       "      <td>0.002</td>\n",
       "      <td>-0.302</td>\n",
       "      <td>0.404</td>\n",
       "      <td>0.397</td>\n",
       "      <td>-0.084</td>\n",
       "      <td>-0.099</td>\n",
       "      <td>1.000</td>\n",
       "      <td>-0.510</td>\n",
       "      <td>0.022</td>\n",
       "      <td>0.628</td>\n",
       "    </tr>\n",
       "    <tr>\n",
       "      <th>ATM_PRESS</th>\n",
       "      <td>0.253</td>\n",
       "      <td>-0.534</td>\n",
       "      <td>0.420</td>\n",
       "      <td>0.444</td>\n",
       "      <td>0.334</td>\n",
       "      <td>-0.792</td>\n",
       "      <td>-0.236</td>\n",
       "      <td>-0.054</td>\n",
       "      <td>0.068</td>\n",
       "      <td>-0.510</td>\n",
       "      <td>1.000</td>\n",
       "      <td>0.040</td>\n",
       "      <td>-0.430</td>\n",
       "    </tr>\n",
       "    <tr>\n",
       "      <th>SNOW</th>\n",
       "      <td>-0.020</td>\n",
       "      <td>0.004</td>\n",
       "      <td>-0.121</td>\n",
       "      <td>-0.048</td>\n",
       "      <td>-0.103</td>\n",
       "      <td>-0.185</td>\n",
       "      <td>0.019</td>\n",
       "      <td>0.146</td>\n",
       "      <td>0.108</td>\n",
       "      <td>0.022</td>\n",
       "      <td>0.040</td>\n",
       "      <td>1.000</td>\n",
       "      <td>0.021</td>\n",
       "    </tr>\n",
       "    <tr>\n",
       "      <th>CLOUD</th>\n",
       "      <td>-0.172</td>\n",
       "      <td>-0.119</td>\n",
       "      <td>0.017</td>\n",
       "      <td>-0.006</td>\n",
       "      <td>-0.191</td>\n",
       "      <td>0.342</td>\n",
       "      <td>0.358</td>\n",
       "      <td>0.017</td>\n",
       "      <td>-0.297</td>\n",
       "      <td>0.628</td>\n",
       "      <td>-0.430</td>\n",
       "      <td>0.021</td>\n",
       "      <td>1.000</td>\n",
       "    </tr>\n",
       "  </tbody>\n",
       "</table>\n",
       "</div>"
      ],
      "text/plain": [
       "            PM10     O3    NO2     CO    SO2   TEMP   RAIN   WIND  WIND_DIR  \\\n",
       "PM10       1.000 -0.052  0.396  0.593  0.429 -0.310 -0.121 -0.100     0.020   \n",
       "O3        -0.052  1.000 -0.592 -0.520 -0.234  0.516 -0.104  0.165     0.269   \n",
       "NO2        0.396 -0.592  1.000  0.797  0.563 -0.237  0.029 -0.537    -0.408   \n",
       "CO         0.593 -0.520  0.797  1.000  0.586 -0.425  0.007 -0.372    -0.312   \n",
       "SO2        0.429 -0.234  0.563  0.586  1.000 -0.274 -0.129 -0.253    -0.093   \n",
       "TEMP      -0.310  0.516 -0.237 -0.425 -0.274  1.000  0.077 -0.216    -0.050   \n",
       "RAIN      -0.121 -0.104  0.029  0.007 -0.129  0.077  1.000  0.126    -0.183   \n",
       "WIND      -0.100  0.165 -0.537 -0.372 -0.253 -0.216  0.126  1.000     0.235   \n",
       "WIND_DIR   0.020  0.269 -0.408 -0.312 -0.093 -0.050 -0.183  0.235     1.000   \n",
       "HUMIDITY  -0.150 -0.038 -0.066  0.002 -0.302  0.404  0.397 -0.084    -0.099   \n",
       "ATM_PRESS  0.253 -0.534  0.420  0.444  0.334 -0.792 -0.236 -0.054     0.068   \n",
       "SNOW      -0.020  0.004 -0.121 -0.048 -0.103 -0.185  0.019  0.146     0.108   \n",
       "CLOUD     -0.172 -0.119  0.017 -0.006 -0.191  0.342  0.358  0.017    -0.297   \n",
       "\n",
       "           HUMIDITY  ATM_PRESS   SNOW  CLOUD  \n",
       "PM10         -0.150      0.253 -0.020 -0.172  \n",
       "O3           -0.038     -0.534  0.004 -0.119  \n",
       "NO2          -0.066      0.420 -0.121  0.017  \n",
       "CO            0.002      0.444 -0.048 -0.006  \n",
       "SO2          -0.302      0.334 -0.103 -0.191  \n",
       "TEMP          0.404     -0.792 -0.185  0.342  \n",
       "RAIN          0.397     -0.236  0.019  0.358  \n",
       "WIND         -0.084     -0.054  0.146  0.017  \n",
       "WIND_DIR     -0.099      0.068  0.108 -0.297  \n",
       "HUMIDITY      1.000     -0.510  0.022  0.628  \n",
       "ATM_PRESS    -0.510      1.000  0.040 -0.430  \n",
       "SNOW          0.022      0.040  1.000  0.021  \n",
       "CLOUD         0.628     -0.430  0.021  1.000  "
      ]
     },
     "execution_count": 116,
     "metadata": {},
     "output_type": "execute_result"
    }
   ],
   "source": [
    "df.corr().round(3)"
   ]
  },
  {
   "cell_type": "code",
   "execution_count": 48,
   "id": "fe4a2238",
   "metadata": {
    "ExecuteTime": {
     "end_time": "2022-11-07T21:53:01.166901Z",
     "start_time": "2022-11-07T21:53:01.154627Z"
    }
   },
   "outputs": [],
   "source": [
    "df1=df[['O3', 'TEMP']]"
   ]
  },
  {
   "cell_type": "code",
   "execution_count": 51,
   "id": "22db2c10",
   "metadata": {
    "ExecuteTime": {
     "end_time": "2022-11-07T21:53:41.415630Z",
     "start_time": "2022-11-07T21:53:41.223144Z"
    }
   },
   "outputs": [
    {
     "data": {
      "text/plain": [
       "<seaborn.axisgrid.PairGrid at 0x211d0aa4850>"
      ]
     },
     "execution_count": 51,
     "metadata": {},
     "output_type": "execute_result"
    },
    {
     "data": {
      "image/png": "[encoded data removed]",
      "text/plain": [
       "<Figure size 180x180 with 1 Axes>"
      ]
     },
     "metadata": {
      "needs_background": "light"
     },
     "output_type": "display_data"
    }
   ],
   "source": [
    "sns.pairplot(df1, y_vars='TEMP', x_vars='O3')"
   ]
  },
  {
   "cell_type": "code",
   "execution_count": 52,
   "id": "a7a1c72f",
   "metadata": {
    "ExecuteTime": {
     "end_time": "2022-11-07T21:54:24.228733Z",
     "start_time": "2022-11-07T21:54:24.048864Z"
    }
   },
   "outputs": [
    {
     "data": {
      "text/plain": [
       "<seaborn.axisgrid.PairGrid at 0x211d0584f40>"
      ]
     },
     "execution_count": 52,
     "metadata": {},
     "output_type": "execute_result"
    },
    {
     "data": {
      "image/png": "[encoded data removed]",
      "text/plain": [
       "<Figure size 180x180 with 1 Axes>"
      ]
     },
     "metadata": {
      "needs_background": "light"
     },
     "output_type": "display_data"
    }
   ],
   "source": [
    "df1=df[['WIND_DIR', 'NO2']]\n",
    "sns.pairplot(df1, y_vars='NO2', x_vars='WIND_DIR')"
   ]
  },
  {
   "cell_type": "markdown",
   "id": "22b66590",
   "metadata": {},
   "source": [
    "목표변수 **PM10**과 가장 높은 상관관계를 보이고 있는 것은 CO, NO2, SO2로 주로 대기오염 물질에 해당한다. 따라서 미세먼지와 대기오염이 선형적인 관계성이 있다고 파악된다. 그러나 대기오염물질 CO, NO2, SO2와 O3 간의 상관관계까지 높게 나타남으로 네 물질 간의 연관성이 있는지 파악할 필요성이 있다. 또한 O3는 TEMP(기온)과 높은 상관관계를 보이며 대체로 여름철에 오존 농도가 증가한다는 사실과 연관이 있어 보인다. \n",
    "\n",
    "기온과 기압은 큰 음의 상관관계를 가지고 있으나 이는 기상현상 상 자연스러운 것으로 보인다. 또한 풍속, 풍향과 NO2사이에 상관관계가 있다고 판단되어 바람의 영향으로 NO2와 미세먼지의 농도까지 어떤 변화가 있는지 알아볼 필요성이 있다. 습도와 전운량 사이에도 상관관계가 있는 것으로 보이나 이는 기상현상 상 자연스러운 것으로 파악된다. "
   ]
  },
  {
   "cell_type": "markdown",
   "id": "41f3c316",
   "metadata": {},
   "source": [
    "## 핵심인자 도출"
   ]
  },
  {
   "cell_type": "markdown",
   "id": "07eb7a17",
   "metadata": {},
   "source": [
    "### 다중선형회귀분석"
   ]
  },
  {
   "cell_type": "markdown",
   "id": "6262b8a0",
   "metadata": {},
   "source": [
    "표준화 회귀계수를 이용하여 변수 간 중요도를 파악한다."
   ]
  },
  {
   "cell_type": "code",
   "execution_count": 119,
   "id": "93b1c05e",
   "metadata": {
    "ExecuteTime": {
     "end_time": "2022-11-06T11:41:52.056017Z",
     "start_time": "2022-11-06T11:41:52.029127Z"
    }
   },
   "outputs": [
    {
     "data": {
      "text/html": [
       "<div>\n",
       "<style scoped>\n",
       "    .dataframe tbody tr th:only-of-type {\n",
       "        vertical-align: middle;\n",
       "    }\n",
       "\n",
       "    .dataframe tbody tr th {\n",
       "        vertical-align: top;\n",
       "    }\n",
       "\n",
       "    .dataframe thead th {\n",
       "        text-align: right;\n",
       "    }\n",
       "</style>\n",
       "<table border=\"1\" class=\"dataframe\">\n",
       "  <thead>\n",
       "    <tr style=\"text-align: right;\">\n",
       "      <th></th>\n",
       "      <th>PM10</th>\n",
       "      <th>O3</th>\n",
       "      <th>NO2</th>\n",
       "      <th>CO</th>\n",
       "      <th>SO2</th>\n",
       "      <th>TEMP</th>\n",
       "      <th>RAIN</th>\n",
       "      <th>WIND</th>\n",
       "      <th>WIND_DIR</th>\n",
       "      <th>HUMIDITY</th>\n",
       "      <th>ATM_PRESS</th>\n",
       "      <th>SNOW</th>\n",
       "      <th>CLOUD</th>\n",
       "    </tr>\n",
       "  </thead>\n",
       "  <tbody>\n",
       "    <tr>\n",
       "      <th>0</th>\n",
       "      <td>-0.277826</td>\n",
       "      <td>2.558984</td>\n",
       "      <td>-0.566824</td>\n",
       "      <td>-0.047093</td>\n",
       "      <td>-0.052053</td>\n",
       "      <td>1.035373</td>\n",
       "      <td>-0.337916</td>\n",
       "      <td>0.105769</td>\n",
       "      <td>0.561308</td>\n",
       "      <td>0.204900</td>\n",
       "      <td>-1.325967</td>\n",
       "      <td>-0.103499</td>\n",
       "      <td>0.216196</td>\n",
       "    </tr>\n",
       "    <tr>\n",
       "      <th>1</th>\n",
       "      <td>-0.466314</td>\n",
       "      <td>2.474806</td>\n",
       "      <td>-0.664322</td>\n",
       "      <td>-0.047093</td>\n",
       "      <td>-0.052053</td>\n",
       "      <td>1.061826</td>\n",
       "      <td>-0.337916</td>\n",
       "      <td>0.050401</td>\n",
       "      <td>0.787644</td>\n",
       "      <td>0.204900</td>\n",
       "      <td>-0.894922</td>\n",
       "      <td>-0.103499</td>\n",
       "      <td>-0.410992</td>\n",
       "    </tr>\n",
       "    <tr>\n",
       "      <th>2</th>\n",
       "      <td>-0.214997</td>\n",
       "      <td>1.548858</td>\n",
       "      <td>-0.371828</td>\n",
       "      <td>-0.746434</td>\n",
       "      <td>-0.052053</td>\n",
       "      <td>1.050634</td>\n",
       "      <td>-0.337916</td>\n",
       "      <td>-0.600182</td>\n",
       "      <td>0.999835</td>\n",
       "      <td>0.349878</td>\n",
       "      <td>-0.931868</td>\n",
       "      <td>-0.103499</td>\n",
       "      <td>0.414079</td>\n",
       "    </tr>\n",
       "    <tr>\n",
       "      <th>3</th>\n",
       "      <td>-0.340655</td>\n",
       "      <td>0.875442</td>\n",
       "      <td>-0.079334</td>\n",
       "      <td>-0.746434</td>\n",
       "      <td>-0.052053</td>\n",
       "      <td>1.169676</td>\n",
       "      <td>-0.337916</td>\n",
       "      <td>-0.254127</td>\n",
       "      <td>0.759352</td>\n",
       "      <td>-0.112673</td>\n",
       "      <td>-1.141233</td>\n",
       "      <td>-0.103499</td>\n",
       "      <td>-0.843651</td>\n",
       "    </tr>\n",
       "    <tr>\n",
       "      <th>4</th>\n",
       "      <td>-0.277826</td>\n",
       "      <td>1.801390</td>\n",
       "      <td>0.798148</td>\n",
       "      <td>-0.047093</td>\n",
       "      <td>-0.052053</td>\n",
       "      <td>1.368080</td>\n",
       "      <td>-0.337916</td>\n",
       "      <td>-1.070816</td>\n",
       "      <td>-0.485500</td>\n",
       "      <td>-1.017064</td>\n",
       "      <td>-1.523017</td>\n",
       "      <td>-0.103499</td>\n",
       "      <td>-0.380806</td>\n",
       "    </tr>\n",
       "  </tbody>\n",
       "</table>\n",
       "</div>"
      ],
      "text/plain": [
       "       PM10        O3       NO2        CO       SO2      TEMP      RAIN  \\\n",
       "0 -0.277826  2.558984 -0.566824 -0.047093 -0.052053  1.035373 -0.337916   \n",
       "1 -0.466314  2.474806 -0.664322 -0.047093 -0.052053  1.061826 -0.337916   \n",
       "2 -0.214997  1.548858 -0.371828 -0.746434 -0.052053  1.050634 -0.337916   \n",
       "3 -0.340655  0.875442 -0.079334 -0.746434 -0.052053  1.169676 -0.337916   \n",
       "4 -0.277826  1.801390  0.798148 -0.047093 -0.052053  1.368080 -0.337916   \n",
       "\n",
       "       WIND  WIND_DIR  HUMIDITY  ATM_PRESS      SNOW     CLOUD  \n",
       "0  0.105769  0.561308  0.204900  -1.325967 -0.103499  0.216196  \n",
       "1  0.050401  0.787644  0.204900  -0.894922 -0.103499 -0.410992  \n",
       "2 -0.600182  0.999835  0.349878  -0.931868 -0.103499  0.414079  \n",
       "3 -0.254127  0.759352 -0.112673  -1.141233 -0.103499 -0.843651  \n",
       "4 -1.070816 -0.485500 -1.017064  -1.523017 -0.103499 -0.380806  "
      ]
     },
     "execution_count": 119,
     "metadata": {},
     "output_type": "execute_result"
    }
   ],
   "source": [
    "# 데이터 스케일링\n",
    "scaler=StandardScaler()\n",
    "numeric_scaled = scaler.fit_transform(df)\n",
    "df_scaled=pd.DataFrame(numeric_scaled, columns=df.columns)\n",
    "df_scaled.head()"
   ]
  },
  {
   "cell_type": "markdown",
   "id": "c5bf7e1b",
   "metadata": {},
   "source": [
    "train data (0.7) : test data (0.3)으로 회귀모델 생성"
   ]
  },
  {
   "cell_type": "code",
   "execution_count": 123,
   "id": "4d48bc0a",
   "metadata": {
    "ExecuteTime": {
     "end_time": "2022-11-06T11:51:40.464248Z",
     "start_time": "2022-11-06T11:51:40.409386Z"
    }
   },
   "outputs": [
    {
     "name": "stdout",
     "output_type": "stream",
     "text": [
      "                            OLS Regression Results                            \n",
      "==============================================================================\n",
      "Dep. Variable:                   PM10   R-squared:                       0.549\n",
      "Model:                            OLS   Adj. R-squared:                  0.526\n",
      "Method:                 Least Squares   F-statistic:                     24.51\n",
      "Date:                Sun, 06 Nov 2022   Prob (F-statistic):           1.97e-35\n",
      "Time:                        20:51:40   Log-Likelihood:                -249.08\n",
      "No. Observations:                 255   AIC:                             524.2\n",
      "Df Residuals:                     242   BIC:                             570.2\n",
      "Df Model:                          12                                         \n",
      "Covariance Type:            nonrobust                                         \n",
      "==============================================================================\n",
      "                 coef    std err          t      P>|t|      [0.025      0.975]\n",
      "------------------------------------------------------------------------------\n",
      "Intercept     -0.0180      0.042     -0.430      0.668      -0.100       0.064\n",
      "O3             0.3654      0.072      5.085      0.000       0.224       0.507\n",
      "NO2            0.3372      0.100      3.362      0.001       0.140       0.535\n",
      "CO             0.5804      0.089      6.554      0.000       0.406       0.755\n",
      "SO2            0.0211      0.060      0.354      0.724      -0.096       0.138\n",
      "TEMP          -0.3050      0.096     -3.188      0.002      -0.493      -0.117\n",
      "RAIN          -0.0557      0.043     -1.296      0.196      -0.140       0.029\n",
      "WIND           0.1079      0.055      1.950      0.052      -0.001       0.217\n",
      "WIND_DIR       0.1513      0.052      2.917      0.004       0.049       0.253\n",
      "HUMIDITY      -0.0060      0.067     -0.090      0.929      -0.137       0.125\n",
      "ATM_PRESS     -0.2480      0.088     -2.818      0.005      -0.421      -0.075\n",
      "SNOW          -0.0242      0.037     -0.647      0.518      -0.098       0.049\n",
      "CLOUD         -0.0840      0.060     -1.406      0.161      -0.202       0.034\n",
      "==============================================================================\n",
      "Omnibus:                       69.637   Durbin-Watson:                   2.054\n",
      "Prob(Omnibus):                  0.000   Jarque-Bera (JB):              191.542\n",
      "Skew:                           1.211   Prob(JB):                     2.55e-42\n",
      "Kurtosis:                       6.488   Cond. No.                         6.69\n",
      "==============================================================================\n",
      "\n",
      "Notes:\n",
      "[1] Standard Errors assume that the covariance matrix of the errors is correctly specified.\n"
     ]
    }
   ],
   "source": [
    "# train/test data 분리\n",
    "df_train, df_test = train_test_split(df_scaled, test_size=0.3)\n",
    "# 회귀모델 생성\n",
    "reg_model = smf.ols(\n",
    "    formula=\n",
    "    'PM10 ~ O3+NO2+CO+SO2+TEMP+RAIN+WIND+WIND_DIR+HUMIDITY+ATM_PRESS+SNOW+CLOUD',\n",
    "    data=df_train)\n",
    "reg_result = reg_model.fit()\n",
    "print(reg_result.summary())"
   ]
  },
  {
   "cell_type": "code",
   "execution_count": 124,
   "id": "88a004c4",
   "metadata": {
    "ExecuteTime": {
     "end_time": "2022-11-06T11:51:45.703144Z",
     "start_time": "2022-11-06T11:51:45.538311Z"
    }
   },
   "outputs": [
    {
     "data": {
      "text/plain": [
       "<AxesSubplot:>"
      ]
     },
     "execution_count": 124,
     "metadata": {},
     "output_type": "execute_result"
    },
    {
     "data": {
      "image/png": "[encoded data removed]",
      "text/plain": [
       "<Figure size 432x288 with 1 Axes>"
      ]
     },
     "metadata": {
      "needs_background": "light"
     },
     "output_type": "display_data"
    }
   ],
   "source": [
    "# 설명변수 중요도 그래프\n",
    "df_coef=pd.DataFrame({\"Coef\" : reg_result.params.values[1:]},\n",
    "                    index=['O3', 'NO2', 'CO', 'SO2', 'TEMP', 'RAIN', 'WIND', 'WIND_DIR', 'HUMIDITY', 'ATM_PRESS', 'SNOW', 'CLOUD'])\n",
    "df_coef.plot.barh(y='Coef')"
   ]
  },
  {
   "cell_type": "markdown",
   "id": "85cb6c33",
   "metadata": {},
   "source": [
    "따라서, 다중선형회귀분석에서 표준화 상관계수 분석 결과 CO, NO2, O3가 가장 중요한 인자로 도출되었으며 그 외에도 TEMP, WIND, WIND_DIR, ATM_PRESS, CLOUD가 영향인자로 도출되었다. "
   ]
  },
  {
   "cell_type": "markdown",
   "id": "cc8e8b8d",
   "metadata": {},
   "source": [
    " "
   ]
  },
  {
   "cell_type": "markdown",
   "id": "7bdd026f",
   "metadata": {},
   "source": [
    "### 의사결정나무"
   ]
  },
  {
   "cell_type": "code",
   "execution_count": 125,
   "id": "f7782c28",
   "metadata": {
    "ExecuteTime": {
     "end_time": "2022-11-06T12:21:50.766261Z",
     "start_time": "2022-11-06T12:21:50.747310Z"
    }
   },
   "outputs": [],
   "source": [
    "# 데이터 분할\n",
    "df_y=df['PM10']\n",
    "df_x=df.drop('PM10', axis=1, inplace=False)"
   ]
  },
  {
   "cell_type": "markdown",
   "id": "5a5bad28",
   "metadata": {},
   "source": [
    "train data (0.7) : test data (0.3)으로 의사결정나무 모델 생성"
   ]
  },
  {
   "cell_type": "code",
   "execution_count": 126,
   "id": "beb44be1",
   "metadata": {
    "ExecuteTime": {
     "end_time": "2022-11-06T12:23:00.441476Z",
     "start_time": "2022-11-06T12:23:00.431465Z"
    }
   },
   "outputs": [
    {
     "name": "stdout",
     "output_type": "stream",
     "text": [
      "(255, 12)\n",
      "(110, 12)\n"
     ]
    }
   ],
   "source": [
    "df_train_x, df_test_x, df_train_y, df_test_y=train_test_split(df_x, df_y, test_size=0.3)\n",
    "print(df_train_x.shape)\n",
    "print(df_test_x.shape)"
   ]
  },
  {
   "cell_type": "code",
   "execution_count": 127,
   "id": "27b7642d",
   "metadata": {
    "ExecuteTime": {
     "end_time": "2022-11-06T12:24:03.512716Z",
     "start_time": "2022-11-06T12:24:03.479093Z"
    }
   },
   "outputs": [
    {
     "data": {
      "text/plain": [
       "DecisionTreeRegressor()"
      ]
     },
     "execution_count": 127,
     "metadata": {},
     "output_type": "execute_result"
    }
   ],
   "source": [
    "tree=DecisionTreeRegressor()\n",
    "tree.fit(df_train_x, df_train_y)"
   ]
  },
  {
   "cell_type": "markdown",
   "id": "1aa4c231",
   "metadata": {},
   "source": [
    "변수 중요도 출력"
   ]
  },
  {
   "cell_type": "code",
   "execution_count": 130,
   "id": "3d1c762e",
   "metadata": {
    "ExecuteTime": {
     "end_time": "2022-11-06T12:25:26.942899Z",
     "start_time": "2022-11-06T12:25:26.919916Z"
    }
   },
   "outputs": [
    {
     "data": {
      "text/html": [
       "<div>\n",
       "<style scoped>\n",
       "    .dataframe tbody tr th:only-of-type {\n",
       "        vertical-align: middle;\n",
       "    }\n",
       "\n",
       "    .dataframe tbody tr th {\n",
       "        vertical-align: top;\n",
       "    }\n",
       "\n",
       "    .dataframe thead th {\n",
       "        text-align: right;\n",
       "    }\n",
       "</style>\n",
       "<table border=\"1\" class=\"dataframe\">\n",
       "  <thead>\n",
       "    <tr style=\"text-align: right;\">\n",
       "      <th></th>\n",
       "      <th>Feature</th>\n",
       "      <th>Importance</th>\n",
       "    </tr>\n",
       "  </thead>\n",
       "  <tbody>\n",
       "    <tr>\n",
       "      <th>2</th>\n",
       "      <td>CO</td>\n",
       "      <td>0.413</td>\n",
       "    </tr>\n",
       "    <tr>\n",
       "      <th>7</th>\n",
       "      <td>WIND_DIR</td>\n",
       "      <td>0.119</td>\n",
       "    </tr>\n",
       "    <tr>\n",
       "      <th>0</th>\n",
       "      <td>O3</td>\n",
       "      <td>0.113</td>\n",
       "    </tr>\n",
       "    <tr>\n",
       "      <th>4</th>\n",
       "      <td>TEMP</td>\n",
       "      <td>0.093</td>\n",
       "    </tr>\n",
       "    <tr>\n",
       "      <th>6</th>\n",
       "      <td>WIND</td>\n",
       "      <td>0.070</td>\n",
       "    </tr>\n",
       "    <tr>\n",
       "      <th>9</th>\n",
       "      <td>ATM_PRESS</td>\n",
       "      <td>0.055</td>\n",
       "    </tr>\n",
       "    <tr>\n",
       "      <th>1</th>\n",
       "      <td>NO2</td>\n",
       "      <td>0.053</td>\n",
       "    </tr>\n",
       "    <tr>\n",
       "      <th>8</th>\n",
       "      <td>HUMIDITY</td>\n",
       "      <td>0.034</td>\n",
       "    </tr>\n",
       "    <tr>\n",
       "      <th>3</th>\n",
       "      <td>SO2</td>\n",
       "      <td>0.024</td>\n",
       "    </tr>\n",
       "    <tr>\n",
       "      <th>11</th>\n",
       "      <td>CLOUD</td>\n",
       "      <td>0.020</td>\n",
       "    </tr>\n",
       "    <tr>\n",
       "      <th>5</th>\n",
       "      <td>RAIN</td>\n",
       "      <td>0.006</td>\n",
       "    </tr>\n",
       "    <tr>\n",
       "      <th>10</th>\n",
       "      <td>SNOW</td>\n",
       "      <td>0.000</td>\n",
       "    </tr>\n",
       "  </tbody>\n",
       "</table>\n",
       "</div>"
      ],
      "text/plain": [
       "      Feature  Importance\n",
       "2          CO       0.413\n",
       "7    WIND_DIR       0.119\n",
       "0          O3       0.113\n",
       "4        TEMP       0.093\n",
       "6        WIND       0.070\n",
       "9   ATM_PRESS       0.055\n",
       "1         NO2       0.053\n",
       "8    HUMIDITY       0.034\n",
       "3         SO2       0.024\n",
       "11      CLOUD       0.020\n",
       "5        RAIN       0.006\n",
       "10       SNOW       0.000"
      ]
     },
     "execution_count": 130,
     "metadata": {},
     "output_type": "execute_result"
    }
   ],
   "source": [
    "v_feature_name=df_x.columns\n",
    "\n",
    "df_importance=pd.DataFrame()\n",
    "df_importance['Feature']=v_feature_name\n",
    "df_importance['Importance']=tree.feature_importances_\n",
    "\n",
    "df_importance.sort_values('Importance', ascending=False, inplace=True)\n",
    "df_importance.round(3)"
   ]
  },
  {
   "cell_type": "code",
   "execution_count": 131,
   "id": "a8fc3bb7",
   "metadata": {
    "ExecuteTime": {
     "end_time": "2022-11-06T12:26:21.126095Z",
     "start_time": "2022-11-06T12:26:20.888341Z"
    }
   },
   "outputs": [
    {
     "data": {
      "text/plain": [
       "Text(0, 0.5, '변수')"
      ]
     },
     "execution_count": 131,
     "metadata": {},
     "output_type": "execute_result"
    },
    {
     "data": {
      "image/png": "[encoded data removed]",
      "text/plain": [
       "<Figure size 432x288 with 1 Axes>"
      ]
     },
     "metadata": {
      "needs_background": "light"
     },
     "output_type": "display_data"
    }
   ],
   "source": [
    "df_importance.sort_values('Importance', ascending=True, inplace=True)\n",
    "coordinates=range(len(df_importance))\n",
    "plt.barh(y=coordinates, width=df_importance['Importance'])\n",
    "plt.yticks(coordinates, df_importance['Feature'])\n",
    "plt.xlabel('변수 중요도')\n",
    "plt.ylabel('변수')"
   ]
  },
  {
   "cell_type": "markdown",
   "id": "515d127d",
   "metadata": {},
   "source": [
    "의사결정나무 분석 결과, 'CO'가 가장 중요하며, WIND_DIR, 'O3', 'TEMP', 'WIND', 'ATM_PRESS', 'NO2' 등 순으로 중요하다.\n",
    "일산화탄소량이 미세먼지에 가장 많은 영향을 미치나 풍향, 풍속, 기온 기압 등 대기오염 물질을 운반하는 기상 관련 정보 역시 미세먼지 영향인자로 도출되었음을 확인할 수 있다. "
   ]
  },
  {
   "cell_type": "markdown",
   "id": "0573a3ab",
   "metadata": {},
   "source": [
    " "
   ]
  },
  {
   "cell_type": "markdown",
   "id": "1442ba69",
   "metadata": {},
   "source": [
    "### 랜덤포레스트"
   ]
  },
  {
   "cell_type": "code",
   "execution_count": 133,
   "id": "5e94feeb",
   "metadata": {
    "ExecuteTime": {
     "end_time": "2022-11-06T12:29:42.671805Z",
     "start_time": "2022-11-06T12:29:42.451886Z"
    }
   },
   "outputs": [
    {
     "data": {
      "text/plain": [
       "RandomForestRegressor()"
      ]
     },
     "execution_count": 133,
     "metadata": {},
     "output_type": "execute_result"
    }
   ],
   "source": [
    "rf=RandomForestRegressor()\n",
    "rf.fit(df_train_x, df_train_y)"
   ]
  },
  {
   "cell_type": "code",
   "execution_count": 134,
   "id": "edbe4754",
   "metadata": {
    "ExecuteTime": {
     "end_time": "2022-11-06T12:30:13.945814Z",
     "start_time": "2022-11-06T12:30:13.896926Z"
    }
   },
   "outputs": [
    {
     "data": {
      "text/html": [
       "<div>\n",
       "<style scoped>\n",
       "    .dataframe tbody tr th:only-of-type {\n",
       "        vertical-align: middle;\n",
       "    }\n",
       "\n",
       "    .dataframe tbody tr th {\n",
       "        vertical-align: top;\n",
       "    }\n",
       "\n",
       "    .dataframe thead th {\n",
       "        text-align: right;\n",
       "    }\n",
       "</style>\n",
       "<table border=\"1\" class=\"dataframe\">\n",
       "  <thead>\n",
       "    <tr style=\"text-align: right;\">\n",
       "      <th></th>\n",
       "      <th>Feature</th>\n",
       "      <th>Importance</th>\n",
       "    </tr>\n",
       "  </thead>\n",
       "  <tbody>\n",
       "    <tr>\n",
       "      <th>2</th>\n",
       "      <td>CO</td>\n",
       "      <td>0.375</td>\n",
       "    </tr>\n",
       "    <tr>\n",
       "      <th>0</th>\n",
       "      <td>O3</td>\n",
       "      <td>0.110</td>\n",
       "    </tr>\n",
       "    <tr>\n",
       "      <th>6</th>\n",
       "      <td>WIND</td>\n",
       "      <td>0.100</td>\n",
       "    </tr>\n",
       "    <tr>\n",
       "      <th>7</th>\n",
       "      <td>WIND_DIR</td>\n",
       "      <td>0.085</td>\n",
       "    </tr>\n",
       "    <tr>\n",
       "      <th>4</th>\n",
       "      <td>TEMP</td>\n",
       "      <td>0.084</td>\n",
       "    </tr>\n",
       "    <tr>\n",
       "      <th>1</th>\n",
       "      <td>NO2</td>\n",
       "      <td>0.059</td>\n",
       "    </tr>\n",
       "    <tr>\n",
       "      <th>8</th>\n",
       "      <td>HUMIDITY</td>\n",
       "      <td>0.052</td>\n",
       "    </tr>\n",
       "    <tr>\n",
       "      <th>11</th>\n",
       "      <td>CLOUD</td>\n",
       "      <td>0.050</td>\n",
       "    </tr>\n",
       "    <tr>\n",
       "      <th>9</th>\n",
       "      <td>ATM_PRESS</td>\n",
       "      <td>0.043</td>\n",
       "    </tr>\n",
       "    <tr>\n",
       "      <th>5</th>\n",
       "      <td>RAIN</td>\n",
       "      <td>0.026</td>\n",
       "    </tr>\n",
       "    <tr>\n",
       "      <th>3</th>\n",
       "      <td>SO2</td>\n",
       "      <td>0.016</td>\n",
       "    </tr>\n",
       "    <tr>\n",
       "      <th>10</th>\n",
       "      <td>SNOW</td>\n",
       "      <td>0.001</td>\n",
       "    </tr>\n",
       "  </tbody>\n",
       "</table>\n",
       "</div>"
      ],
      "text/plain": [
       "      Feature  Importance\n",
       "2          CO       0.375\n",
       "0          O3       0.110\n",
       "6        WIND       0.100\n",
       "7    WIND_DIR       0.085\n",
       "4        TEMP       0.084\n",
       "1         NO2       0.059\n",
       "8    HUMIDITY       0.052\n",
       "11      CLOUD       0.050\n",
       "9   ATM_PRESS       0.043\n",
       "5        RAIN       0.026\n",
       "3         SO2       0.016\n",
       "10       SNOW       0.001"
      ]
     },
     "execution_count": 134,
     "metadata": {},
     "output_type": "execute_result"
    }
   ],
   "source": [
    "v_feature_name=df_x.columns\n",
    "\n",
    "df_importance=pd.DataFrame()\n",
    "df_importance['Feature']=v_feature_name\n",
    "df_importance['Importance']=rf.feature_importances_\n",
    "\n",
    "df_importance.sort_values('Importance', ascending=False, inplace=True)\n",
    "df_importance.round(3)"
   ]
  },
  {
   "cell_type": "code",
   "execution_count": 135,
   "id": "f6fc67c5",
   "metadata": {
    "ExecuteTime": {
     "end_time": "2022-11-06T12:30:20.525104Z",
     "start_time": "2022-11-06T12:30:20.332759Z"
    }
   },
   "outputs": [
    {
     "data": {
      "text/plain": [
       "Text(0, 0.5, '변수')"
      ]
     },
     "execution_count": 135,
     "metadata": {},
     "output_type": "execute_result"
    },
    {
     "data": {
      "image/png": "[encoded data removed]",
      "text/plain": [
       "<Figure size 432x288 with 1 Axes>"
      ]
     },
     "metadata": {
      "needs_background": "light"
     },
     "output_type": "display_data"
    }
   ],
   "source": [
    "df_importance.sort_values('Importance', ascending=True, inplace=True)\n",
    "coordinates=range(len(df_importance))\n",
    "plt.barh(y=coordinates, width=df_importance['Importance'])\n",
    "plt.yticks(coordinates, df_importance['Feature'])\n",
    "plt.xlabel('변수 중요도')\n",
    "plt.ylabel('변수')"
   ]
  },
  {
   "cell_type": "markdown",
   "id": "8cf77f0f",
   "metadata": {},
   "source": [
    "랜덤포레스트 분석 결과 의사결정나무 모델과 유사하게 'CO'와 'O3'인 대기오염물질이 미세먼지 농도에 가장 많은 영향을 미치는 것으로 확인되었다. 그러나 'WIND', 'WIND_DIR', 'TEMP' 등 대기오염물질을 운반하는 기상 관련 데이터 역시 미세먼지 발생에 주요한 영향인자로 작용한다는 것을 확인하였다."
   ]
  },
  {
   "cell_type": "markdown",
   "id": "c3de7e86",
   "metadata": {},
   "source": [
    " \n",
    " "
   ]
  },
  {
   "cell_type": "markdown",
   "id": "e655ce4b",
   "metadata": {},
   "source": [
    "### 그래디언트 부스팅"
   ]
  },
  {
   "cell_type": "code",
   "execution_count": 136,
   "id": "1bde03c9",
   "metadata": {
    "ExecuteTime": {
     "end_time": "2022-11-06T12:34:46.307795Z",
     "start_time": "2022-11-06T12:34:46.204306Z"
    }
   },
   "outputs": [
    {
     "data": {
      "text/plain": [
       "GradientBoostingRegressor()"
      ]
     },
     "execution_count": 136,
     "metadata": {},
     "output_type": "execute_result"
    }
   ],
   "source": [
    "gb=GradientBoostingRegressor()\n",
    "gb.fit(df_train_x, df_train_y)"
   ]
  },
  {
   "cell_type": "code",
   "execution_count": 137,
   "id": "dbffc8ab",
   "metadata": {
    "ExecuteTime": {
     "end_time": "2022-11-06T12:34:54.717282Z",
     "start_time": "2022-11-06T12:34:54.691350Z"
    }
   },
   "outputs": [
    {
     "data": {
      "text/html": [
       "<div>\n",
       "<style scoped>\n",
       "    .dataframe tbody tr th:only-of-type {\n",
       "        vertical-align: middle;\n",
       "    }\n",
       "\n",
       "    .dataframe tbody tr th {\n",
       "        vertical-align: top;\n",
       "    }\n",
       "\n",
       "    .dataframe thead th {\n",
       "        text-align: right;\n",
       "    }\n",
       "</style>\n",
       "<table border=\"1\" class=\"dataframe\">\n",
       "  <thead>\n",
       "    <tr style=\"text-align: right;\">\n",
       "      <th></th>\n",
       "      <th>Feature</th>\n",
       "      <th>Importance</th>\n",
       "    </tr>\n",
       "  </thead>\n",
       "  <tbody>\n",
       "    <tr>\n",
       "      <th>2</th>\n",
       "      <td>CO</td>\n",
       "      <td>0.395</td>\n",
       "    </tr>\n",
       "    <tr>\n",
       "      <th>0</th>\n",
       "      <td>O3</td>\n",
       "      <td>0.131</td>\n",
       "    </tr>\n",
       "    <tr>\n",
       "      <th>4</th>\n",
       "      <td>TEMP</td>\n",
       "      <td>0.119</td>\n",
       "    </tr>\n",
       "    <tr>\n",
       "      <th>7</th>\n",
       "      <td>WIND_DIR</td>\n",
       "      <td>0.083</td>\n",
       "    </tr>\n",
       "    <tr>\n",
       "      <th>6</th>\n",
       "      <td>WIND</td>\n",
       "      <td>0.082</td>\n",
       "    </tr>\n",
       "    <tr>\n",
       "      <th>8</th>\n",
       "      <td>HUMIDITY</td>\n",
       "      <td>0.056</td>\n",
       "    </tr>\n",
       "    <tr>\n",
       "      <th>11</th>\n",
       "      <td>CLOUD</td>\n",
       "      <td>0.046</td>\n",
       "    </tr>\n",
       "    <tr>\n",
       "      <th>9</th>\n",
       "      <td>ATM_PRESS</td>\n",
       "      <td>0.034</td>\n",
       "    </tr>\n",
       "    <tr>\n",
       "      <th>1</th>\n",
       "      <td>NO2</td>\n",
       "      <td>0.031</td>\n",
       "    </tr>\n",
       "    <tr>\n",
       "      <th>5</th>\n",
       "      <td>RAIN</td>\n",
       "      <td>0.021</td>\n",
       "    </tr>\n",
       "    <tr>\n",
       "      <th>3</th>\n",
       "      <td>SO2</td>\n",
       "      <td>0.003</td>\n",
       "    </tr>\n",
       "    <tr>\n",
       "      <th>10</th>\n",
       "      <td>SNOW</td>\n",
       "      <td>0.000</td>\n",
       "    </tr>\n",
       "  </tbody>\n",
       "</table>\n",
       "</div>"
      ],
      "text/plain": [
       "      Feature  Importance\n",
       "2          CO       0.395\n",
       "0          O3       0.131\n",
       "4        TEMP       0.119\n",
       "7    WIND_DIR       0.083\n",
       "6        WIND       0.082\n",
       "8    HUMIDITY       0.056\n",
       "11      CLOUD       0.046\n",
       "9   ATM_PRESS       0.034\n",
       "1         NO2       0.031\n",
       "5        RAIN       0.021\n",
       "3         SO2       0.003\n",
       "10       SNOW       0.000"
      ]
     },
     "execution_count": 137,
     "metadata": {},
     "output_type": "execute_result"
    }
   ],
   "source": [
    "v_feature_name=df_x.columns\n",
    "\n",
    "df_importance=pd.DataFrame()\n",
    "df_importance['Feature']=v_feature_name\n",
    "df_importance['Importance']=gb.feature_importances_\n",
    "\n",
    "df_importance.sort_values('Importance', ascending=False, inplace=True)\n",
    "df_importance.round(3)"
   ]
  },
  {
   "cell_type": "code",
   "execution_count": 138,
   "id": "42acc8b0",
   "metadata": {
    "ExecuteTime": {
     "end_time": "2022-11-06T12:34:59.366818Z",
     "start_time": "2022-11-06T12:34:59.112499Z"
    }
   },
   "outputs": [
    {
     "data": {
      "text/plain": [
       "Text(0, 0.5, '변수')"
      ]
     },
     "execution_count": 138,
     "metadata": {},
     "output_type": "execute_result"
    },
    {
     "data": {
      "image/png": "[encoded data removed]",
      "text/plain": [
       "<Figure size 432x288 with 1 Axes>"
      ]
     },
     "metadata": {
      "needs_background": "light"
     },
     "output_type": "display_data"
    }
   ],
   "source": [
    "df_importance.sort_values('Importance', ascending=True, inplace=True)\n",
    "coordinates=range(len(df_importance))\n",
    "plt.barh(y=coordinates, width=df_importance['Importance'])\n",
    "plt.yticks(coordinates, df_importance['Feature'])\n",
    "plt.xlabel('변수 중요도')\n",
    "plt.ylabel('변수')"
   ]
  },
  {
   "cell_type": "markdown",
   "id": "00b5f7b1",
   "metadata": {},
   "source": [
    "의사결정나무, 랜덤포레스트와 유사하게 'CO'와 'O3'의 대기오염물질이 미세먼지 농도에 큰 영향을 미치는 것으로 확인되었다. 그러나 그 외에도 'TEMP', 'WIND_DIR', 'WIND', 'HUMIDITY' 등 대기오염물질을 운반하는 기상관련 데이터가 미세먼지 농도에 주요 인자로 도출되었음을 알 수 있다."
   ]
  },
  {
   "cell_type": "markdown",
   "id": "e50963ba",
   "metadata": {},
   "source": [
    "  "
   ]
  },
  {
   "cell_type": "markdown",
   "id": "852e110c",
   "metadata": {},
   "source": [
    "## 잠재 영향인자 선정"
   ]
  },
  {
   "cell_type": "markdown",
   "id": "62716040",
   "metadata": {},
   "source": [
    "다중선형회귀분석, 의사결정나무, 랜덤포레스트, 그래디언트 부스팅 모델 분석 결과를 참조하여 아래와 같은 총 7개의 미세먼지 잠재 영향인자를 선정하였다."
   ]
  },
  {
   "cell_type": "markdown",
   "id": "b4b6dbac",
   "metadata": {},
   "source": [
    "* 대기오염물질 : **오존**(O3), **이산화질소**(NO2), **일산화탄소**(CO)\n",
    "* 기상정보 : **기온**(TEMP), **풍속**(WIND), **풍향**(WIND_DIR), **기압**(ATM_PRESS)"
   ]
  },
  {
   "cell_type": "code",
   "execution_count": 141,
   "id": "5c2f324a",
   "metadata": {
    "ExecuteTime": {
     "end_time": "2022-11-06T13:04:22.838373Z",
     "start_time": "2022-11-06T13:04:22.821569Z"
    }
   },
   "outputs": [],
   "source": [
    "df_model=df[['PM10', 'O3', 'NO2', 'CO', 'TEMP', 'WIND', 'WIND_DIR', 'ATM_PRESS']]"
   ]
  },
  {
   "cell_type": "code",
   "execution_count": 142,
   "id": "189bf435",
   "metadata": {
    "ExecuteTime": {
     "end_time": "2022-11-06T13:04:31.773741Z",
     "start_time": "2022-11-06T13:04:31.750784Z"
    }
   },
   "outputs": [
    {
     "data": {
      "text/html": [
       "<div>\n",
       "<style scoped>\n",
       "    .dataframe tbody tr th:only-of-type {\n",
       "        vertical-align: middle;\n",
       "    }\n",
       "\n",
       "    .dataframe tbody tr th {\n",
       "        vertical-align: top;\n",
       "    }\n",
       "\n",
       "    .dataframe thead th {\n",
       "        text-align: right;\n",
       "    }\n",
       "</style>\n",
       "<table border=\"1\" class=\"dataframe\">\n",
       "  <thead>\n",
       "    <tr style=\"text-align: right;\">\n",
       "      <th></th>\n",
       "      <th>PM10</th>\n",
       "      <th>O3</th>\n",
       "      <th>NO2</th>\n",
       "      <th>CO</th>\n",
       "      <th>TEMP</th>\n",
       "      <th>WIND</th>\n",
       "      <th>WIND_DIR</th>\n",
       "      <th>ATM_PRESS</th>\n",
       "    </tr>\n",
       "  </thead>\n",
       "  <tbody>\n",
       "    <tr>\n",
       "      <th>0</th>\n",
       "      <td>29.0</td>\n",
       "      <td>0.054</td>\n",
       "      <td>0.021</td>\n",
       "      <td>0.5</td>\n",
       "      <td>24.03</td>\n",
       "      <td>2.30</td>\n",
       "      <td>249</td>\n",
       "      <td>995.1</td>\n",
       "    </tr>\n",
       "    <tr>\n",
       "      <th>1</th>\n",
       "      <td>26.0</td>\n",
       "      <td>0.053</td>\n",
       "      <td>0.020</td>\n",
       "      <td>0.5</td>\n",
       "      <td>24.29</td>\n",
       "      <td>2.26</td>\n",
       "      <td>265</td>\n",
       "      <td>998.6</td>\n",
       "    </tr>\n",
       "    <tr>\n",
       "      <th>2</th>\n",
       "      <td>30.0</td>\n",
       "      <td>0.042</td>\n",
       "      <td>0.023</td>\n",
       "      <td>0.4</td>\n",
       "      <td>24.18</td>\n",
       "      <td>1.79</td>\n",
       "      <td>280</td>\n",
       "      <td>998.3</td>\n",
       "    </tr>\n",
       "    <tr>\n",
       "      <th>3</th>\n",
       "      <td>28.0</td>\n",
       "      <td>0.034</td>\n",
       "      <td>0.026</td>\n",
       "      <td>0.4</td>\n",
       "      <td>25.35</td>\n",
       "      <td>2.04</td>\n",
       "      <td>263</td>\n",
       "      <td>996.6</td>\n",
       "    </tr>\n",
       "    <tr>\n",
       "      <th>4</th>\n",
       "      <td>29.0</td>\n",
       "      <td>0.045</td>\n",
       "      <td>0.035</td>\n",
       "      <td>0.5</td>\n",
       "      <td>27.30</td>\n",
       "      <td>1.45</td>\n",
       "      <td>175</td>\n",
       "      <td>993.5</td>\n",
       "    </tr>\n",
       "  </tbody>\n",
       "</table>\n",
       "</div>"
      ],
      "text/plain": [
       "   PM10     O3    NO2   CO   TEMP  WIND  WIND_DIR  ATM_PRESS\n",
       "0  29.0  0.054  0.021  0.5  24.03  2.30       249      995.1\n",
       "1  26.0  0.053  0.020  0.5  24.29  2.26       265      998.6\n",
       "2  30.0  0.042  0.023  0.4  24.18  1.79       280      998.3\n",
       "3  28.0  0.034  0.026  0.4  25.35  2.04       263      996.6\n",
       "4  29.0  0.045  0.035  0.5  27.30  1.45       175      993.5"
      ]
     },
     "execution_count": 142,
     "metadata": {},
     "output_type": "execute_result"
    }
   ],
   "source": [
    "df_model.head()"
   ]
  },
  {
   "cell_type": "markdown",
   "id": "a0dace3e",
   "metadata": {},
   "source": [
    " "
   ]
  },
  {
   "cell_type": "markdown",
   "id": "458ba26c",
   "metadata": {},
   "source": [
    " "
   ]
  },
  {
   "cell_type": "markdown",
   "id": "21c00580",
   "metadata": {},
   "source": [
    "  "
   ]
  },
  {
   "cell_type": "markdown",
   "id": "67a785b1",
   "metadata": {},
   "source": [
    "  "
   ]
  },
  {
   "cell_type": "markdown",
   "id": "bd12eb19",
   "metadata": {},
   "source": [
    "# 모델링"
   ]
  },
  {
   "cell_type": "markdown",
   "id": "8b46b627",
   "metadata": {},
   "source": [
    "## 다중선형회귀분석"
   ]
  },
  {
   "cell_type": "markdown",
   "id": "b581acd8",
   "metadata": {},
   "source": [
    "### 데이터 분할"
   ]
  },
  {
   "cell_type": "markdown",
   "id": "e514f493",
   "metadata": {},
   "source": [
    "train data(0,7) : test data(0.3)으로 다중선형회귀분석 진행"
   ]
  },
  {
   "cell_type": "code",
   "execution_count": 143,
   "id": "0cf287ac",
   "metadata": {
    "ExecuteTime": {
     "end_time": "2022-11-06T13:06:47.821731Z",
     "start_time": "2022-11-06T13:06:47.811006Z"
    },
    "scrolled": true
   },
   "outputs": [
    {
     "name": "stdout",
     "output_type": "stream",
     "text": [
      "train data size : (255, 8)\n",
      "test data size : (110, 8)\n"
     ]
    }
   ],
   "source": [
    "df_train, df_test=train_test_split(df_model, test_size=0.3)\n",
    "print(\"train data size : {}\".format(df_train.shape))\n",
    "print(\"test data size : {}\".format(df_test.shape))"
   ]
  },
  {
   "cell_type": "markdown",
   "id": "69949d93",
   "metadata": {},
   "source": [
    "전체 데이터 중 train data 255개, test data 110개."
   ]
  },
  {
   "cell_type": "markdown",
   "id": "94efaf19",
   "metadata": {},
   "source": [
    "### 회귀분석 모델 생성"
   ]
  },
  {
   "cell_type": "code",
   "execution_count": 144,
   "id": "eedef53e",
   "metadata": {
    "ExecuteTime": {
     "end_time": "2022-11-06T13:08:22.836829Z",
     "start_time": "2022-11-06T13:08:22.795323Z"
    }
   },
   "outputs": [
    {
     "name": "stdout",
     "output_type": "stream",
     "text": [
      "                            OLS Regression Results                            \n",
      "==============================================================================\n",
      "Dep. Variable:                   PM10   R-squared:                       0.597\n",
      "Model:                            OLS   Adj. R-squared:                  0.585\n",
      "Method:                 Least Squares   F-statistic:                     52.22\n",
      "Date:                Sun, 06 Nov 2022   Prob (F-statistic):           2.87e-45\n",
      "Time:                        22:08:22   Log-Likelihood:                -946.16\n",
      "No. Observations:                 255   AIC:                             1908.\n",
      "Df Residuals:                     247   BIC:                             1937.\n",
      "Df Model:                           7                                         \n",
      "Covariance Type:            nonrobust                                         \n",
      "==============================================================================\n",
      "                 coef    std err          t      P>|t|      [0.025      0.975]\n",
      "------------------------------------------------------------------------------\n",
      "Intercept    159.8397    158.500      1.008      0.314    -152.345     472.024\n",
      "O3           567.4198     73.004      7.772      0.000     423.630     711.210\n",
      "NO2          408.9589    133.932      3.053      0.003     145.165     672.753\n",
      "CO            77.0697      8.629      8.931      0.000      60.074      94.066\n",
      "TEMP          -0.3940      0.140     -2.818      0.005      -0.669      -0.119\n",
      "WIND           2.4423      1.257      1.942      0.053      -0.034       4.919\n",
      "WIND_DIR       0.0341      0.010      3.276      0.001       0.014       0.055\n",
      "ATM_PRESS     -0.1963      0.156     -1.255      0.211      -0.504       0.112\n",
      "==============================================================================\n",
      "Omnibus:                       40.593   Durbin-Watson:                   2.005\n",
      "Prob(Omnibus):                  0.000   Jarque-Bera (JB):               66.430\n",
      "Skew:                           0.898   Prob(JB):                     3.76e-15\n",
      "Kurtosis:                       4.740   Cond. No.                     2.83e+05\n",
      "==============================================================================\n",
      "\n",
      "Notes:\n",
      "[1] Standard Errors assume that the covariance matrix of the errors is correctly specified.\n",
      "[2] The condition number is large, 2.83e+05. This might indicate that there are\n",
      "strong multicollinearity or other numerical problems.\n"
     ]
    }
   ],
   "source": [
    "reg_model=smf.ols(formula='PM10 ~ O3 + NO2 + CO + TEMP + WIND + WIND_DIR + ATM_PRESS', data=df_train)\n",
    "reg_result=reg_model.fit()\n",
    "print(reg_result.summary())"
   ]
  },
  {
   "cell_type": "markdown",
   "id": "290740a5",
   "metadata": {},
   "source": [
    "1차적으로 선형회귀분석 모델 결과, \n",
    "* **회귀계수의 유의성(t검정)** : 'WIND'와 'ATM_PRESS'의 p-value 값이 0.05보다 커서 검정 결과 유의하지 않으나, 잠재인자를 도출하는 과정에서 대기오염물질을 운반하는 요소로 바람이 필수적이라 판단하였기 때문에 'WIND'와 'ATM_PRESS' 변수가 필수적이라 판단하였다. \n",
    "\n",
    "* **회귀모델의 유의성(F검정)** : 2.87e-45로 p-value가 0.05보다 작기 때문에 회귀모델로써 적합하다.\n",
    "\n",
    "* **결정계수(R-squared)** : 모델을 통하여 59.7%를 설명할 수 있다. "
   ]
  },
  {
   "cell_type": "markdown",
   "id": "800027fe",
   "metadata": {},
   "source": [
    "### 변수 간 다중공선성 확인"
   ]
  },
  {
   "cell_type": "code",
   "execution_count": 153,
   "id": "4f1a8ecc",
   "metadata": {
    "ExecuteTime": {
     "end_time": "2022-11-06T13:18:21.373358Z",
     "start_time": "2022-11-06T13:18:21.331961Z"
    }
   },
   "outputs": [
    {
     "data": {
      "text/html": [
       "<div>\n",
       "<style scoped>\n",
       "    .dataframe tbody tr th:only-of-type {\n",
       "        vertical-align: middle;\n",
       "    }\n",
       "\n",
       "    .dataframe tbody tr th {\n",
       "        vertical-align: top;\n",
       "    }\n",
       "\n",
       "    .dataframe thead th {\n",
       "        text-align: right;\n",
       "    }\n",
       "</style>\n",
       "<table border=\"1\" class=\"dataframe\">\n",
       "  <thead>\n",
       "    <tr style=\"text-align: right;\">\n",
       "      <th></th>\n",
       "      <th>variable</th>\n",
       "      <th>VIF</th>\n",
       "    </tr>\n",
       "  </thead>\n",
       "  <tbody>\n",
       "    <tr>\n",
       "      <th>6</th>\n",
       "      <td>WIND_DIR</td>\n",
       "      <td>1.352</td>\n",
       "    </tr>\n",
       "    <tr>\n",
       "      <th>5</th>\n",
       "      <td>WIND</td>\n",
       "      <td>1.788</td>\n",
       "    </tr>\n",
       "    <tr>\n",
       "      <th>1</th>\n",
       "      <td>O3</td>\n",
       "      <td>2.071</td>\n",
       "    </tr>\n",
       "    <tr>\n",
       "      <th>3</th>\n",
       "      <td>CO</td>\n",
       "      <td>3.494</td>\n",
       "    </tr>\n",
       "    <tr>\n",
       "      <th>7</th>\n",
       "      <td>ATM_PRESS</td>\n",
       "      <td>3.689</td>\n",
       "    </tr>\n",
       "    <tr>\n",
       "      <th>4</th>\n",
       "      <td>TEMP</td>\n",
       "      <td>4.341</td>\n",
       "    </tr>\n",
       "    <tr>\n",
       "      <th>2</th>\n",
       "      <td>NO2</td>\n",
       "      <td>4.741</td>\n",
       "    </tr>\n",
       "    <tr>\n",
       "      <th>0</th>\n",
       "      <td>const</td>\n",
       "      <td>57586.506</td>\n",
       "    </tr>\n",
       "  </tbody>\n",
       "</table>\n",
       "</div>"
      ],
      "text/plain": [
       "    variable        VIF\n",
       "6   WIND_DIR      1.352\n",
       "5       WIND      1.788\n",
       "1         O3      2.071\n",
       "3         CO      3.494\n",
       "7  ATM_PRESS      3.689\n",
       "4       TEMP      4.341\n",
       "2        NO2      4.741\n",
       "0      const  57586.506"
      ]
     },
     "execution_count": 153,
     "metadata": {},
     "output_type": "execute_result"
    }
   ],
   "source": [
    "df_train_x=df_model.drop('PM10', axis=1)\n",
    "df_train_x_const=add_constant(df_train_x)\n",
    "df_vif=pd.DataFrame()\n",
    "df_vif['variable']=df_train_x_const.columns\n",
    "df_vif['VIF']=[variance_inflation_factor(df_train_x_const.values, i) for i in range(df_train_x_const.shape[1])]\n",
    "df_vif.sort_values('VIF', inplace=True)\n",
    "df_vif.round(3)"
   ]
  },
  {
   "cell_type": "markdown",
   "id": "a4ab0959",
   "metadata": {},
   "source": [
    "모든 변수들의 VIF가 10미만이므로 다중공선성 문제 해결. 모든 변수들이 유의미함."
   ]
  },
  {
   "cell_type": "markdown",
   "id": "a04616a2",
   "metadata": {},
   "source": [
    "### 잔차의 가정 확인 - 정규성, 독립성, 등분산성"
   ]
  },
  {
   "cell_type": "markdown",
   "id": "21304641",
   "metadata": {},
   "source": [
    "#### 등분산성 확인"
   ]
  },
  {
   "cell_type": "code",
   "execution_count": 154,
   "id": "0a8a92de",
   "metadata": {
    "ExecuteTime": {
     "end_time": "2022-11-06T13:20:00.707426Z",
     "start_time": "2022-11-06T13:20:00.532764Z"
    }
   },
   "outputs": [
    {
     "data": {
      "text/plain": [
       "<matplotlib.lines.Line2D at 0x29e9f1de790>"
      ]
     },
     "execution_count": 154,
     "metadata": {},
     "output_type": "execute_result"
    },
    {
     "data": {
      "image/png": "[encoded data removed]",
      "text/plain": [
       "<Figure size 432x288 with 1 Axes>"
      ]
     },
     "metadata": {
      "needs_background": "light"
     },
     "output_type": "display_data"
    }
   ],
   "source": [
    "plt.scatter(reg_result.fittedvalues, reg_result.resid)\n",
    "plt.xlabel('fitted value')\n",
    "plt.ylabel('residual')\n",
    "plt.axhline(y=0, linestyle='--')"
   ]
  },
  {
   "cell_type": "markdown",
   "id": "6bdc7ae3",
   "metadata": {},
   "source": [
    "#### 정규성 확인"
   ]
  },
  {
   "cell_type": "code",
   "execution_count": 155,
   "id": "14a57a87",
   "metadata": {
    "ExecuteTime": {
     "end_time": "2022-11-06T13:20:27.886460Z",
     "start_time": "2022-11-06T13:20:27.633369Z"
    }
   },
   "outputs": [
    {
     "data": {
      "image/png": "[encoded data removed]",
      "text/plain": [
       "<Figure size 432x288 with 1 Axes>"
      ]
     },
     "execution_count": 155,
     "metadata": {},
     "output_type": "execute_result"
    },
    {
     "data": {
      "image/png": "[encoded data removed]",
      "text/plain": [
       "<Figure size 432x288 with 1 Axes>"
      ]
     },
     "metadata": {
      "needs_background": "light"
     },
     "output_type": "display_data"
    }
   ],
   "source": [
    "qqplot(reg_result.resid, line='q')"
   ]
  },
  {
   "cell_type": "markdown",
   "id": "f678fcc0",
   "metadata": {},
   "source": [
    "#### 독립성 확인"
   ]
  },
  {
   "cell_type": "code",
   "execution_count": 156,
   "id": "99844465",
   "metadata": {
    "ExecuteTime": {
     "end_time": "2022-11-06T13:22:33.162805Z",
     "start_time": "2022-11-06T13:22:32.864367Z"
    },
    "scrolled": true
   },
   "outputs": [
    {
     "data": {
      "text/plain": [
       "<matplotlib.legend.Legend at 0x29ea1f6a550>"
      ]
     },
     "execution_count": 156,
     "metadata": {},
     "output_type": "execute_result"
    },
    {
     "data": {
      "image/png": "[encoded data removed]",
      "text/plain": [
       "<Figure size 432x288 with 1 Axes>"
      ]
     },
     "metadata": {
      "needs_background": "light"
     },
     "output_type": "display_data"
    }
   ],
   "source": [
    "plt.scatter(df_train.index, reg_result.resid)\n",
    "plt.xlabel('Data'); plt.ylabel('Residual')\n",
    "plt.axhline(y=0, linestyle='-', label='CL')\n",
    "plt.axhline(y=3*np.std(reg_result.resid), linestyle='--', color='red', label='UCL')\n",
    "plt.axhline(y=-3*np.std(reg_result.resid), linestyle='dashed', color='red', label='LCL')\n",
    "plt.legend()"
   ]
  },
  {
   "cell_type": "markdown",
   "id": "d1a47dd1",
   "metadata": {},
   "source": [
    "잔차의 기본 가정을 완벽하게 맞추지는 못하는 것으로 보이나, 최소한 어느정도는 만족한다고 판단하였다."
   ]
  },
  {
   "cell_type": "markdown",
   "id": "ddcdf1ba",
   "metadata": {},
   "source": [
    "### 성능 평가"
   ]
  },
  {
   "cell_type": "code",
   "execution_count": 159,
   "id": "a5a13fb2",
   "metadata": {
    "ExecuteTime": {
     "end_time": "2022-11-06T13:24:27.763282Z",
     "start_time": "2022-11-06T13:24:27.723872Z"
    }
   },
   "outputs": [
    {
     "name": "stdout",
     "output_type": "stream",
     "text": [
      "train data 결정계수 :  0.5967395628655334\n",
      "test data 결정계수 :  0.31723109297718943\n"
     ]
    }
   ],
   "source": [
    "train_pred=reg_result.predict(df_train)\n",
    "test_pred=reg_result.predict(df_test)\n",
    "print('train data 결정계수 : ', r2_score(df_train['PM10'],train_pred))\n",
    "print('test data 결정계수 : ', r2_score(df_test['PM10'], test_pred))"
   ]
  },
  {
   "cell_type": "markdown",
   "id": "07db3273",
   "metadata": {},
   "source": [
    "train data의 결정계수는 59.6%로 모델 전체를 60% 가량 설명하는 것으로 확인되었으나, test data의 결정계수가 31.7%로 과대적합 되었다."
   ]
  },
  {
   "cell_type": "markdown",
   "id": "cea066f3",
   "metadata": {},
   "source": [
    "과대적합 문제를 해결하기 위해 다중선형 회귀분석을 규제화하여 Ridge 모델, Lasso 모델, ElasticNet 모델을 생성하였다."
   ]
  },
  {
   "cell_type": "markdown",
   "id": "7217f907",
   "metadata": {},
   "source": [
    "## 다중선형회귀분석 - 규제화"
   ]
  },
  {
   "cell_type": "markdown",
   "id": "b8747ffb",
   "metadata": {},
   "source": [
    "### 데이터 분할"
   ]
  },
  {
   "cell_type": "code",
   "execution_count": 164,
   "id": "d9358988",
   "metadata": {
    "ExecuteTime": {
     "end_time": "2022-11-06T13:32:32.217859Z",
     "start_time": "2022-11-06T13:32:32.193921Z"
    }
   },
   "outputs": [
    {
     "name": "stdout",
     "output_type": "stream",
     "text": [
      "train data size : (255, 7)\n",
      "test data size : (110, 7)\n"
     ]
    }
   ],
   "source": [
    "df_model_y=df_model['PM10']\n",
    "df_model_x=df_model.drop('PM10', axis=1, inplace=False)\n",
    "\n",
    "df_train_x, df_test_x, df_train_y, df_test_y = train_test_split(df_model_x, df_model_y, test_size=0.3)\n",
    "\n",
    "print(\"train data size : {}\".format(df_train_x.shape))\n",
    "print(\"test data size : {}\".format(df_test_x.shape))"
   ]
  },
  {
   "cell_type": "markdown",
   "id": "edb2f02b",
   "metadata": {},
   "source": [
    "### Ridge 모델"
   ]
  },
  {
   "cell_type": "code",
   "execution_count": 165,
   "id": "5626a0b1",
   "metadata": {
    "ExecuteTime": {
     "end_time": "2022-11-06T13:33:13.594168Z",
     "start_time": "2022-11-06T13:33:13.557157Z"
    }
   },
   "outputs": [
    {
     "data": {
      "text/plain": [
       "Ridge(alpha=1)"
      ]
     },
     "execution_count": 165,
     "metadata": {},
     "output_type": "execute_result"
    }
   ],
   "source": [
    "ridge=Ridge(alpha=1)\n",
    "ridge.fit(df_train_x, df_train_y)"
   ]
  },
  {
   "cell_type": "code",
   "execution_count": 166,
   "id": "3a2b2b29",
   "metadata": {
    "ExecuteTime": {
     "end_time": "2022-11-06T13:34:00.437431Z",
     "start_time": "2022-11-06T13:34:00.415583Z"
    }
   },
   "outputs": [
    {
     "name": "stdout",
     "output_type": "stream",
     "text": [
      "train data 결정계수 :  0.4270597433108141\n",
      "test data 결정계수 :  0.310602651379722\n"
     ]
    }
   ],
   "source": [
    "train_pred=ridge.predict(df_train_x)\n",
    "test_pred=ridge.predict(df_test_x)\n",
    "print(\"train data 결정계수 : \", r2_score(df_train_y, train_pred))\n",
    "print(\"test data 결정계수 : \", r2_score(df_test_y, test_pred))"
   ]
  },
  {
   "cell_type": "markdown",
   "id": "94bf4ae7",
   "metadata": {},
   "source": [
    "Ridge 모델 회귀분석 결과, train data의 결정계수는 42.7%, test data의 결정계수는 31%로 train data의 성능이 하락되어 과적합 문제를 해결하려 했으나 해결하지 못한 것으로 판단된다."
   ]
  },
  {
   "cell_type": "markdown",
   "id": "5aec61b9",
   "metadata": {},
   "source": [
    "### LASSO 모델"
   ]
  },
  {
   "cell_type": "code",
   "execution_count": 171,
   "id": "b8febb99",
   "metadata": {
    "ExecuteTime": {
     "end_time": "2022-11-06T13:35:40.407427Z",
     "start_time": "2022-11-06T13:35:40.386557Z"
    }
   },
   "outputs": [
    {
     "data": {
      "text/plain": [
       "Lasso(alpha=1)"
      ]
     },
     "execution_count": 171,
     "metadata": {},
     "output_type": "execute_result"
    }
   ],
   "source": [
    "lasso=Lasso(alpha=1)\n",
    "lasso.fit(df_train_x, df_train_y)"
   ]
  },
  {
   "cell_type": "code",
   "execution_count": 172,
   "id": "a2640001",
   "metadata": {
    "ExecuteTime": {
     "end_time": "2022-11-06T13:35:41.224773Z",
     "start_time": "2022-11-06T13:35:41.198292Z"
    }
   },
   "outputs": [
    {
     "name": "stdout",
     "output_type": "stream",
     "text": [
      "train data 결정계수 :  0.1252785571126006\n",
      "test data 결정계수 :  -0.0015506740431465715\n"
     ]
    }
   ],
   "source": [
    "train_pred=lasso.predict(df_train_x)\n",
    "test_pred=lasso.predict(df_test_x)\n",
    "print(\"train data 결정계수 : \", r2_score(df_train_y, train_pred))\n",
    "print(\"test data 결정계수 : \", r2_score(df_test_y, test_pred))"
   ]
  },
  {
   "cell_type": "markdown",
   "id": "55232400",
   "metadata": {},
   "source": [
    "LASSO 모델 회귀분석 결과, train data의 결정계수는 12.5%, test data의 결정계수는 0%로 완전히 잘못된 모델로 판단된다."
   ]
  },
  {
   "cell_type": "markdown",
   "id": "852ce6a7",
   "metadata": {},
   "source": [
    "### ElasticNet 모델"
   ]
  },
  {
   "cell_type": "code",
   "execution_count": 173,
   "id": "6825f453",
   "metadata": {
    "ExecuteTime": {
     "end_time": "2022-11-06T13:36:54.912919Z",
     "start_time": "2022-11-06T13:36:54.899951Z"
    }
   },
   "outputs": [
    {
     "data": {
      "text/plain": [
       "ElasticNet(alpha=1)"
      ]
     },
     "execution_count": 173,
     "metadata": {},
     "output_type": "execute_result"
    }
   ],
   "source": [
    "elastic=ElasticNet(alpha=1, l1_ratio=0.5)\n",
    "elastic.fit(df_train_x, df_train_y)"
   ]
  },
  {
   "cell_type": "code",
   "execution_count": 174,
   "id": "9fba4b52",
   "metadata": {
    "ExecuteTime": {
     "end_time": "2022-11-06T13:37:08.502710Z",
     "start_time": "2022-11-06T13:37:08.483762Z"
    }
   },
   "outputs": [
    {
     "name": "stdout",
     "output_type": "stream",
     "text": [
      "train data 결정계수 :  0.1353815042331733\n",
      "test data 결정계수 :  0.01665215403039111\n"
     ]
    }
   ],
   "source": [
    "train_pred=elastic.predict(df_train_x)\n",
    "test_pred=elastic.predict(df_test_x)\n",
    "print(\"train data 결정계수 : \", r2_score(df_train_y, train_pred))\n",
    "print(\"test data 결정계수 : \", r2_score(df_test_y, test_pred))"
   ]
  },
  {
   "cell_type": "markdown",
   "id": "9b81189a",
   "metadata": {},
   "source": [
    "ElasticNet 모델 회귀분석 결과, train data의 결정계수는 13.5%, test data의 결정계수는 1%로 완전히 잘못된 모델로 판단된다."
   ]
  },
  {
   "cell_type": "markdown",
   "id": "a1fd5caf",
   "metadata": {},
   "source": [
    "다중선형회귀분석 모델, Ridge 모델, LASSO 모델, ElasticNet 모델 분석 결과 처음 다중선형회귀분석 모델이 과대적합 경향을 보이나 가장 적합하다고 판단된다. "
   ]
  },
  {
   "cell_type": "markdown",
   "id": "00e83671",
   "metadata": {},
   "source": [
    "## 의사결정나무"
   ]
  },
  {
   "cell_type": "markdown",
   "id": "60ecb382",
   "metadata": {},
   "source": [
    "위의 분할된 train data와 test data를 그대로 사용한다."
   ]
  },
  {
   "cell_type": "code",
   "execution_count": 175,
   "id": "757e3605",
   "metadata": {
    "ExecuteTime": {
     "end_time": "2022-11-06T13:39:02.210020Z",
     "start_time": "2022-11-06T13:39:02.194065Z"
    },
    "scrolled": true
   },
   "outputs": [
    {
     "name": "stdout",
     "output_type": "stream",
     "text": [
      "train data size : (255, 7)\n",
      "test data size : (110, 7)\n"
     ]
    }
   ],
   "source": [
    "print(\"train data size : {}\".format(df_train_x.shape))\n",
    "print(\"test data size : {}\".format(df_test_x.shape))"
   ]
  },
  {
   "cell_type": "markdown",
   "id": "9eea51b2",
   "metadata": {},
   "source": [
    "### 기본 옵션으로 모델 생성"
   ]
  },
  {
   "cell_type": "markdown",
   "id": "501ca735",
   "metadata": {},
   "source": [
    "hyper parameter 설정 전, 기본 옵션으로 모델 생성 결과"
   ]
  },
  {
   "cell_type": "code",
   "execution_count": 176,
   "id": "85a03db7",
   "metadata": {
    "ExecuteTime": {
     "end_time": "2022-11-06T13:40:08.866471Z",
     "start_time": "2022-11-06T13:40:08.849721Z"
    }
   },
   "outputs": [
    {
     "data": {
      "text/plain": [
       "DecisionTreeRegressor()"
      ]
     },
     "execution_count": 176,
     "metadata": {},
     "output_type": "execute_result"
    }
   ],
   "source": [
    "tree_uncustomized=DecisionTreeRegressor()\n",
    "tree_uncustomized.fit(df_train_x, df_train_y)"
   ]
  },
  {
   "cell_type": "code",
   "execution_count": 177,
   "id": "727b5bf9",
   "metadata": {
    "ExecuteTime": {
     "end_time": "2022-11-06T13:41:03.133861Z",
     "start_time": "2022-11-06T13:41:03.108927Z"
    }
   },
   "outputs": [
    {
     "name": "stdout",
     "output_type": "stream",
     "text": [
      "train data : 1.000\n",
      "test data : 0.059\n"
     ]
    }
   ],
   "source": [
    "print(\"train data : {:.3f}\".format(tree_uncustomized.score(df_train_x, df_train_y)))\n",
    "print(\"test data : {:.3f}\".format(tree_uncustomized.score(df_test_x, df_test_y)))"
   ]
  },
  {
   "cell_type": "markdown",
   "id": "a73604ef",
   "metadata": {},
   "source": [
    "기본옵션으로 의사결정나무 모델 생성 결과, train data 성능은 100%, test data 성능은 5.9%로 과대적합 되었다."
   ]
  },
  {
   "cell_type": "markdown",
   "id": "070ff50f",
   "metadata": {},
   "source": [
    "### 모델 parameter 조정"
   ]
  },
  {
   "cell_type": "markdown",
   "id": "6e112b04",
   "metadata": {},
   "source": [
    "#### min_samples_leaf"
   ]
  },
  {
   "cell_type": "code",
   "execution_count": 178,
   "id": "fe1eeea8",
   "metadata": {
    "ExecuteTime": {
     "end_time": "2022-11-06T13:43:17.467814Z",
     "start_time": "2022-11-06T13:43:17.338224Z"
    }
   },
   "outputs": [],
   "source": [
    "train_score=[]; test_score=[]\n",
    "para_leaf=[n_leaf for n_leaf in range(1,20)]\n",
    "\n",
    "for v_min_samples_leaf in para_leaf :\n",
    "    tree=DecisionTreeRegressor(min_samples_leaf=v_min_samples_leaf)\n",
    "    tree.fit(df_train_x, df_train_y)\n",
    "    train_score.append(tree.score(df_train_x, df_train_y))\n",
    "    test_score.append(tree.score(df_test_x, df_test_y))\n",
    "    \n",
    "df_score_leaf=pd.DataFrame()\n",
    "df_score_leaf['MinSamplesLeaf']=para_leaf\n",
    "df_score_leaf['TrainScore']=train_score\n",
    "df_score_leaf['TestScore']=test_score"
   ]
  },
  {
   "cell_type": "code",
   "execution_count": 179,
   "id": "aed41906",
   "metadata": {
    "ExecuteTime": {
     "end_time": "2022-11-06T13:43:25.888765Z",
     "start_time": "2022-11-06T13:43:25.862928Z"
    }
   },
   "outputs": [
    {
     "data": {
      "text/html": [
       "<div>\n",
       "<style scoped>\n",
       "    .dataframe tbody tr th:only-of-type {\n",
       "        vertical-align: middle;\n",
       "    }\n",
       "\n",
       "    .dataframe tbody tr th {\n",
       "        vertical-align: top;\n",
       "    }\n",
       "\n",
       "    .dataframe thead th {\n",
       "        text-align: right;\n",
       "    }\n",
       "</style>\n",
       "<table border=\"1\" class=\"dataframe\">\n",
       "  <thead>\n",
       "    <tr style=\"text-align: right;\">\n",
       "      <th></th>\n",
       "      <th>MinSamplesLeaf</th>\n",
       "      <th>TrainScore</th>\n",
       "      <th>TestScore</th>\n",
       "    </tr>\n",
       "  </thead>\n",
       "  <tbody>\n",
       "    <tr>\n",
       "      <th>0</th>\n",
       "      <td>1</td>\n",
       "      <td>1.000</td>\n",
       "      <td>0.065</td>\n",
       "    </tr>\n",
       "    <tr>\n",
       "      <th>1</th>\n",
       "      <td>2</td>\n",
       "      <td>0.936</td>\n",
       "      <td>0.124</td>\n",
       "    </tr>\n",
       "    <tr>\n",
       "      <th>2</th>\n",
       "      <td>3</td>\n",
       "      <td>0.856</td>\n",
       "      <td>-0.008</td>\n",
       "    </tr>\n",
       "    <tr>\n",
       "      <th>3</th>\n",
       "      <td>4</td>\n",
       "      <td>0.808</td>\n",
       "      <td>-0.048</td>\n",
       "    </tr>\n",
       "    <tr>\n",
       "      <th>4</th>\n",
       "      <td>5</td>\n",
       "      <td>0.757</td>\n",
       "      <td>0.109</td>\n",
       "    </tr>\n",
       "    <tr>\n",
       "      <th>5</th>\n",
       "      <td>6</td>\n",
       "      <td>0.672</td>\n",
       "      <td>0.290</td>\n",
       "    </tr>\n",
       "    <tr>\n",
       "      <th>6</th>\n",
       "      <td>7</td>\n",
       "      <td>0.657</td>\n",
       "      <td>0.252</td>\n",
       "    </tr>\n",
       "    <tr>\n",
       "      <th>7</th>\n",
       "      <td>8</td>\n",
       "      <td>0.635</td>\n",
       "      <td>0.254</td>\n",
       "    </tr>\n",
       "    <tr>\n",
       "      <th>8</th>\n",
       "      <td>9</td>\n",
       "      <td>0.626</td>\n",
       "      <td>0.263</td>\n",
       "    </tr>\n",
       "    <tr>\n",
       "      <th>9</th>\n",
       "      <td>10</td>\n",
       "      <td>0.620</td>\n",
       "      <td>0.273</td>\n",
       "    </tr>\n",
       "    <tr>\n",
       "      <th>10</th>\n",
       "      <td>11</td>\n",
       "      <td>0.602</td>\n",
       "      <td>0.240</td>\n",
       "    </tr>\n",
       "    <tr>\n",
       "      <th>11</th>\n",
       "      <td>12</td>\n",
       "      <td>0.576</td>\n",
       "      <td>0.313</td>\n",
       "    </tr>\n",
       "    <tr>\n",
       "      <th>12</th>\n",
       "      <td>13</td>\n",
       "      <td>0.549</td>\n",
       "      <td>0.327</td>\n",
       "    </tr>\n",
       "    <tr>\n",
       "      <th>13</th>\n",
       "      <td>14</td>\n",
       "      <td>0.540</td>\n",
       "      <td>0.305</td>\n",
       "    </tr>\n",
       "    <tr>\n",
       "      <th>14</th>\n",
       "      <td>15</td>\n",
       "      <td>0.538</td>\n",
       "      <td>0.306</td>\n",
       "    </tr>\n",
       "    <tr>\n",
       "      <th>15</th>\n",
       "      <td>16</td>\n",
       "      <td>0.523</td>\n",
       "      <td>0.325</td>\n",
       "    </tr>\n",
       "    <tr>\n",
       "      <th>16</th>\n",
       "      <td>17</td>\n",
       "      <td>0.510</td>\n",
       "      <td>0.326</td>\n",
       "    </tr>\n",
       "    <tr>\n",
       "      <th>17</th>\n",
       "      <td>18</td>\n",
       "      <td>0.510</td>\n",
       "      <td>0.326</td>\n",
       "    </tr>\n",
       "    <tr>\n",
       "      <th>18</th>\n",
       "      <td>19</td>\n",
       "      <td>0.533</td>\n",
       "      <td>0.274</td>\n",
       "    </tr>\n",
       "  </tbody>\n",
       "</table>\n",
       "</div>"
      ],
      "text/plain": [
       "    MinSamplesLeaf  TrainScore  TestScore\n",
       "0                1       1.000      0.065\n",
       "1                2       0.936      0.124\n",
       "2                3       0.856     -0.008\n",
       "3                4       0.808     -0.048\n",
       "4                5       0.757      0.109\n",
       "5                6       0.672      0.290\n",
       "6                7       0.657      0.252\n",
       "7                8       0.635      0.254\n",
       "8                9       0.626      0.263\n",
       "9               10       0.620      0.273\n",
       "10              11       0.602      0.240\n",
       "11              12       0.576      0.313\n",
       "12              13       0.549      0.327\n",
       "13              14       0.540      0.305\n",
       "14              15       0.538      0.306\n",
       "15              16       0.523      0.325\n",
       "16              17       0.510      0.326\n",
       "17              18       0.510      0.326\n",
       "18              19       0.533      0.274"
      ]
     },
     "execution_count": 179,
     "metadata": {},
     "output_type": "execute_result"
    }
   ],
   "source": [
    "df_score_leaf.round(3)"
   ]
  },
  {
   "cell_type": "code",
   "execution_count": 181,
   "id": "891f21be",
   "metadata": {
    "ExecuteTime": {
     "end_time": "2022-11-06T13:43:50.447446Z",
     "start_time": "2022-11-06T13:43:50.315743Z"
    }
   },
   "outputs": [
    {
     "data": {
      "text/plain": [
       "<matplotlib.legend.Legend at 0x29ea24ecd30>"
      ]
     },
     "execution_count": 181,
     "metadata": {},
     "output_type": "execute_result"
    },
    {
     "data": {
      "image/png": "[encoded data removed]",
      "text/plain": [
       "<Figure size 432x288 with 1 Axes>"
      ]
     },
     "metadata": {
      "needs_background": "light"
     },
     "output_type": "display_data"
    }
   ],
   "source": [
    "plt.plot(para_leaf, train_score, linestyle='-', label='TrainScore')\n",
    "plt.plot(para_leaf, test_score, linestyle='--', label='TestScore')\n",
    "plt.legend()"
   ]
  },
  {
   "cell_type": "markdown",
   "id": "2184c9bd",
   "metadata": {},
   "source": [
    "잎사귀 노드의 최소 자료수가 증가함에 따라 train data의 성능은 감소되지만 test data의 성능은 증가하다가 30% 선에서 안정된다. 따라서 과대적합 문제를 해결하기 위해 min_samples_leaf는 16으로 선정하였다."
   ]
  },
  {
   "cell_type": "markdown",
   "id": "04b20465",
   "metadata": {},
   "source": [
    "#### min_samples_split"
   ]
  },
  {
   "cell_type": "code",
   "execution_count": 185,
   "id": "f5f4fee7",
   "metadata": {
    "ExecuteTime": {
     "end_time": "2022-11-06T13:45:49.637058Z",
     "start_time": "2022-11-06T13:45:49.516283Z"
    }
   },
   "outputs": [],
   "source": [
    "train_score = []\n",
    "test_score = []\n",
    "para_split = [n_split * 2 for n_split in range(2, 20)]\n",
    "\n",
    "for v_min_samples_split in para_split:\n",
    "    tree = DecisionTreeRegressor(min_samples_leaf=16,\n",
    "                                 min_samples_split=v_min_samples_split)\n",
    "    tree.fit(df_train_x, df_train_y)\n",
    "    train_score.append(tree.score(df_train_x, df_train_y))\n",
    "    test_score.append(tree.score(df_test_x, df_test_y))\n",
    "\n",
    "df_score_split = pd.DataFrame()\n",
    "df_score_split['MinSamplesSplit'] = para_split\n",
    "df_score_split['TrainScore'] = train_score\n",
    "df_score_split['TestScore'] = test_score"
   ]
  },
  {
   "cell_type": "code",
   "execution_count": 186,
   "id": "ad0898f2",
   "metadata": {
    "ExecuteTime": {
     "end_time": "2022-11-06T13:45:49.968512Z",
     "start_time": "2022-11-06T13:45:49.951422Z"
    }
   },
   "outputs": [
    {
     "data": {
      "text/html": [
       "<div>\n",
       "<style scoped>\n",
       "    .dataframe tbody tr th:only-of-type {\n",
       "        vertical-align: middle;\n",
       "    }\n",
       "\n",
       "    .dataframe tbody tr th {\n",
       "        vertical-align: top;\n",
       "    }\n",
       "\n",
       "    .dataframe thead th {\n",
       "        text-align: right;\n",
       "    }\n",
       "</style>\n",
       "<table border=\"1\" class=\"dataframe\">\n",
       "  <thead>\n",
       "    <tr style=\"text-align: right;\">\n",
       "      <th></th>\n",
       "      <th>MinSamplesSplit</th>\n",
       "      <th>TrainScore</th>\n",
       "      <th>TestScore</th>\n",
       "    </tr>\n",
       "  </thead>\n",
       "  <tbody>\n",
       "    <tr>\n",
       "      <th>0</th>\n",
       "      <td>4</td>\n",
       "      <td>0.523</td>\n",
       "      <td>0.325</td>\n",
       "    </tr>\n",
       "    <tr>\n",
       "      <th>1</th>\n",
       "      <td>6</td>\n",
       "      <td>0.523</td>\n",
       "      <td>0.325</td>\n",
       "    </tr>\n",
       "    <tr>\n",
       "      <th>2</th>\n",
       "      <td>8</td>\n",
       "      <td>0.523</td>\n",
       "      <td>0.325</td>\n",
       "    </tr>\n",
       "    <tr>\n",
       "      <th>3</th>\n",
       "      <td>10</td>\n",
       "      <td>0.523</td>\n",
       "      <td>0.325</td>\n",
       "    </tr>\n",
       "    <tr>\n",
       "      <th>4</th>\n",
       "      <td>12</td>\n",
       "      <td>0.523</td>\n",
       "      <td>0.325</td>\n",
       "    </tr>\n",
       "    <tr>\n",
       "      <th>5</th>\n",
       "      <td>14</td>\n",
       "      <td>0.523</td>\n",
       "      <td>0.325</td>\n",
       "    </tr>\n",
       "    <tr>\n",
       "      <th>6</th>\n",
       "      <td>16</td>\n",
       "      <td>0.523</td>\n",
       "      <td>0.325</td>\n",
       "    </tr>\n",
       "    <tr>\n",
       "      <th>7</th>\n",
       "      <td>18</td>\n",
       "      <td>0.523</td>\n",
       "      <td>0.325</td>\n",
       "    </tr>\n",
       "    <tr>\n",
       "      <th>8</th>\n",
       "      <td>20</td>\n",
       "      <td>0.523</td>\n",
       "      <td>0.325</td>\n",
       "    </tr>\n",
       "    <tr>\n",
       "      <th>9</th>\n",
       "      <td>22</td>\n",
       "      <td>0.523</td>\n",
       "      <td>0.325</td>\n",
       "    </tr>\n",
       "    <tr>\n",
       "      <th>10</th>\n",
       "      <td>24</td>\n",
       "      <td>0.523</td>\n",
       "      <td>0.325</td>\n",
       "    </tr>\n",
       "    <tr>\n",
       "      <th>11</th>\n",
       "      <td>26</td>\n",
       "      <td>0.523</td>\n",
       "      <td>0.325</td>\n",
       "    </tr>\n",
       "    <tr>\n",
       "      <th>12</th>\n",
       "      <td>28</td>\n",
       "      <td>0.523</td>\n",
       "      <td>0.325</td>\n",
       "    </tr>\n",
       "    <tr>\n",
       "      <th>13</th>\n",
       "      <td>30</td>\n",
       "      <td>0.523</td>\n",
       "      <td>0.325</td>\n",
       "    </tr>\n",
       "    <tr>\n",
       "      <th>14</th>\n",
       "      <td>32</td>\n",
       "      <td>0.523</td>\n",
       "      <td>0.325</td>\n",
       "    </tr>\n",
       "    <tr>\n",
       "      <th>15</th>\n",
       "      <td>34</td>\n",
       "      <td>0.512</td>\n",
       "      <td>0.319</td>\n",
       "    </tr>\n",
       "    <tr>\n",
       "      <th>16</th>\n",
       "      <td>36</td>\n",
       "      <td>0.512</td>\n",
       "      <td>0.319</td>\n",
       "    </tr>\n",
       "    <tr>\n",
       "      <th>17</th>\n",
       "      <td>38</td>\n",
       "      <td>0.512</td>\n",
       "      <td>0.319</td>\n",
       "    </tr>\n",
       "  </tbody>\n",
       "</table>\n",
       "</div>"
      ],
      "text/plain": [
       "    MinSamplesSplit  TrainScore  TestScore\n",
       "0                 4       0.523      0.325\n",
       "1                 6       0.523      0.325\n",
       "2                 8       0.523      0.325\n",
       "3                10       0.523      0.325\n",
       "4                12       0.523      0.325\n",
       "5                14       0.523      0.325\n",
       "6                16       0.523      0.325\n",
       "7                18       0.523      0.325\n",
       "8                20       0.523      0.325\n",
       "9                22       0.523      0.325\n",
       "10               24       0.523      0.325\n",
       "11               26       0.523      0.325\n",
       "12               28       0.523      0.325\n",
       "13               30       0.523      0.325\n",
       "14               32       0.523      0.325\n",
       "15               34       0.512      0.319\n",
       "16               36       0.512      0.319\n",
       "17               38       0.512      0.319"
      ]
     },
     "execution_count": 186,
     "metadata": {},
     "output_type": "execute_result"
    }
   ],
   "source": [
    "df_score_split.round(3)"
   ]
  },
  {
   "cell_type": "code",
   "execution_count": 187,
   "id": "f66bbb62",
   "metadata": {
    "ExecuteTime": {
     "end_time": "2022-11-06T13:45:50.600772Z",
     "start_time": "2022-11-06T13:45:50.362350Z"
    }
   },
   "outputs": [
    {
     "data": {
      "text/plain": [
       "<matplotlib.legend.Legend at 0x29ea260e730>"
      ]
     },
     "execution_count": 187,
     "metadata": {},
     "output_type": "execute_result"
    },
    {
     "data": {
      "image/png": "[encoded data removed]",
      "text/plain": [
       "<Figure size 432x288 with 1 Axes>"
      ]
     },
     "metadata": {
      "needs_background": "light"
     },
     "output_type": "display_data"
    }
   ],
   "source": [
    "plt.plot(para_split, train_score, linestyle='-', label='TrainScore')\n",
    "plt.plot(para_split, test_score, linestyle='--', label='TestScore')\n",
    "plt.legend()"
   ]
  },
  {
   "cell_type": "markdown",
   "id": "b370325b",
   "metadata": {},
   "source": [
    "분리 노드의 최소 자료수를 지정함에 따라 train data와 test data 모두 성능면에서 큰 차이는 발생하지 않았다.\n",
    "따라서 min_samples_split hyper parameter는 지정하지 않았다."
   ]
  },
  {
   "cell_type": "markdown",
   "id": "5b35d610",
   "metadata": {},
   "source": [
    "#### max_depth"
   ]
  },
  {
   "cell_type": "code",
   "execution_count": 192,
   "id": "4093fe8e",
   "metadata": {
    "ExecuteTime": {
     "end_time": "2022-11-06T13:48:39.361156Z",
     "start_time": "2022-11-06T13:48:39.297167Z"
    }
   },
   "outputs": [],
   "source": [
    "train_score = []\n",
    "test_score = []\n",
    "para_depth = [depth for depth in range(1, 11)]\n",
    "\n",
    "for v_max_depth in para_depth:\n",
    "    tree = DecisionTreeRegressor(min_samples_leaf=16, max_depth=v_max_depth)\n",
    "    tree.fit(df_train_x, df_train_y)\n",
    "    train_score.append(tree.score(df_train_x, df_train_y))\n",
    "    test_score.append(tree.score(df_test_x, df_test_y))\n",
    "\n",
    "df_score_depth = pd.DataFrame()\n",
    "df_score_depth['Depth'] = para_depth\n",
    "df_score_depth['TrainScore'] = train_score\n",
    "df_score_depth['TestScore'] = test_score"
   ]
  },
  {
   "cell_type": "code",
   "execution_count": 193,
   "id": "3a3cff45",
   "metadata": {
    "ExecuteTime": {
     "end_time": "2022-11-06T13:48:40.182581Z",
     "start_time": "2022-11-06T13:48:40.157645Z"
    }
   },
   "outputs": [
    {
     "data": {
      "text/html": [
       "<div>\n",
       "<style scoped>\n",
       "    .dataframe tbody tr th:only-of-type {\n",
       "        vertical-align: middle;\n",
       "    }\n",
       "\n",
       "    .dataframe tbody tr th {\n",
       "        vertical-align: top;\n",
       "    }\n",
       "\n",
       "    .dataframe thead th {\n",
       "        text-align: right;\n",
       "    }\n",
       "</style>\n",
       "<table border=\"1\" class=\"dataframe\">\n",
       "  <thead>\n",
       "    <tr style=\"text-align: right;\">\n",
       "      <th></th>\n",
       "      <th>Depth</th>\n",
       "      <th>TrainScore</th>\n",
       "      <th>TestScore</th>\n",
       "    </tr>\n",
       "  </thead>\n",
       "  <tbody>\n",
       "    <tr>\n",
       "      <th>0</th>\n",
       "      <td>1</td>\n",
       "      <td>0.270</td>\n",
       "      <td>0.238</td>\n",
       "    </tr>\n",
       "    <tr>\n",
       "      <th>1</th>\n",
       "      <td>2</td>\n",
       "      <td>0.370</td>\n",
       "      <td>0.311</td>\n",
       "    </tr>\n",
       "    <tr>\n",
       "      <th>2</th>\n",
       "      <td>3</td>\n",
       "      <td>0.476</td>\n",
       "      <td>0.291</td>\n",
       "    </tr>\n",
       "    <tr>\n",
       "      <th>3</th>\n",
       "      <td>4</td>\n",
       "      <td>0.514</td>\n",
       "      <td>0.303</td>\n",
       "    </tr>\n",
       "    <tr>\n",
       "      <th>4</th>\n",
       "      <td>5</td>\n",
       "      <td>0.523</td>\n",
       "      <td>0.325</td>\n",
       "    </tr>\n",
       "    <tr>\n",
       "      <th>5</th>\n",
       "      <td>6</td>\n",
       "      <td>0.523</td>\n",
       "      <td>0.325</td>\n",
       "    </tr>\n",
       "    <tr>\n",
       "      <th>6</th>\n",
       "      <td>7</td>\n",
       "      <td>0.523</td>\n",
       "      <td>0.325</td>\n",
       "    </tr>\n",
       "    <tr>\n",
       "      <th>7</th>\n",
       "      <td>8</td>\n",
       "      <td>0.523</td>\n",
       "      <td>0.325</td>\n",
       "    </tr>\n",
       "    <tr>\n",
       "      <th>8</th>\n",
       "      <td>9</td>\n",
       "      <td>0.523</td>\n",
       "      <td>0.325</td>\n",
       "    </tr>\n",
       "    <tr>\n",
       "      <th>9</th>\n",
       "      <td>10</td>\n",
       "      <td>0.523</td>\n",
       "      <td>0.325</td>\n",
       "    </tr>\n",
       "  </tbody>\n",
       "</table>\n",
       "</div>"
      ],
      "text/plain": [
       "   Depth  TrainScore  TestScore\n",
       "0      1       0.270      0.238\n",
       "1      2       0.370      0.311\n",
       "2      3       0.476      0.291\n",
       "3      4       0.514      0.303\n",
       "4      5       0.523      0.325\n",
       "5      6       0.523      0.325\n",
       "6      7       0.523      0.325\n",
       "7      8       0.523      0.325\n",
       "8      9       0.523      0.325\n",
       "9     10       0.523      0.325"
      ]
     },
     "execution_count": 193,
     "metadata": {},
     "output_type": "execute_result"
    }
   ],
   "source": [
    "df_score_depth.round(3)"
   ]
  },
  {
   "cell_type": "code",
   "execution_count": 194,
   "id": "8ae421a2",
   "metadata": {
    "ExecuteTime": {
     "end_time": "2022-11-06T13:48:40.781725Z",
     "start_time": "2022-11-06T13:48:40.632402Z"
    }
   },
   "outputs": [
    {
     "data": {
      "text/plain": [
       "<matplotlib.legend.Legend at 0x29ea377bc40>"
      ]
     },
     "execution_count": 194,
     "metadata": {},
     "output_type": "execute_result"
    },
    {
     "data": {
      "image/png": "[encoded data removed]",
      "text/plain": [
       "<Figure size 432x288 with 1 Axes>"
      ]
     },
     "metadata": {
      "needs_background": "light"
     },
     "output_type": "display_data"
    }
   ],
   "source": [
    "plt.plot(para_depth, train_score, linestyle='-', label='TrainScore')\n",
    "plt.plot(para_depth, test_score, linestyle='--', label='TestScore')\n",
    "plt.legend()"
   ]
  },
  {
   "cell_type": "markdown",
   "id": "7439e6c6",
   "metadata": {},
   "source": [
    "최대 깊이가 증가함에 따라 train data는 과적합 되었으며 test data는 성능면에서 증가하다가 5 이후로 안정되었다. 따라서 과대적합 문제를 최대한 해결하기 위하여 max_depth로 5를 선정하였다. "
   ]
  },
  {
   "cell_type": "markdown",
   "id": "b869ce2f",
   "metadata": {},
   "source": [
    "### 최종 모델"
   ]
  },
  {
   "cell_type": "code",
   "execution_count": 196,
   "id": "9b662587",
   "metadata": {
    "ExecuteTime": {
     "end_time": "2022-11-06T13:49:55.709898Z",
     "start_time": "2022-11-06T13:49:55.700921Z"
    }
   },
   "outputs": [
    {
     "data": {
      "text/plain": [
       "DecisionTreeRegressor(max_depth=5, min_samples_leaf=16)"
      ]
     },
     "execution_count": 196,
     "metadata": {},
     "output_type": "execute_result"
    }
   ],
   "source": [
    "tree=DecisionTreeRegressor(min_samples_leaf=16, max_depth=5)\n",
    "tree.fit(df_train_x, df_train_y)"
   ]
  },
  {
   "cell_type": "markdown",
   "id": "7a98dd3d",
   "metadata": {},
   "source": [
    "### 성능 평가"
   ]
  },
  {
   "cell_type": "code",
   "execution_count": 197,
   "id": "0fb93804",
   "metadata": {
    "ExecuteTime": {
     "end_time": "2022-11-06T13:51:22.175908Z",
     "start_time": "2022-11-06T13:51:22.154742Z"
    }
   },
   "outputs": [
    {
     "name": "stdout",
     "output_type": "stream",
     "text": [
      "train data : 0.523\n",
      "test data : 0.325\n"
     ]
    }
   ],
   "source": [
    "print(\"train data : {:.3f}\".format(tree.score(df_train_x, df_train_y)))\n",
    "print(\"test data : {:.3f}\".format(tree.score(df_test_x, df_test_y)))"
   ]
  },
  {
   "cell_type": "markdown",
   "id": "60cb0225",
   "metadata": {},
   "source": [
    "따라서 의사결정나무 모델 최종 분석 결과 train data의 성능은 52.3%, test data의 성능은 32.5%로 여전히 과대적합의 문제는 남아 있으나 처음보다 많이 해결된 것으로 판단된다."
   ]
  },
  {
   "cell_type": "markdown",
   "id": "9fef986d",
   "metadata": {},
   "source": [
    "## 랜덤포레스트"
   ]
  },
  {
   "cell_type": "markdown",
   "id": "0d358bd0",
   "metadata": {},
   "source": [
    "위의 분할된 train data와 test data를 그대로 사용한다."
   ]
  },
  {
   "cell_type": "code",
   "execution_count": 198,
   "id": "7c03cc75",
   "metadata": {
    "ExecuteTime": {
     "end_time": "2022-11-06T13:52:48.320055Z",
     "start_time": "2022-11-06T13:52:48.314073Z"
    }
   },
   "outputs": [
    {
     "name": "stdout",
     "output_type": "stream",
     "text": [
      "train data size : (255, 7)\n",
      "test data size : (110, 7)\n"
     ]
    }
   ],
   "source": [
    "print(\"train data size : {}\".format(df_train_x.shape))\n",
    "print(\"test data size : {}\".format(df_test_x.shape))"
   ]
  },
  {
   "cell_type": "markdown",
   "id": "4fa48d59",
   "metadata": {},
   "source": [
    "### 기본 옵션으로 모델 생성"
   ]
  },
  {
   "cell_type": "code",
   "execution_count": 199,
   "id": "a1882bf4",
   "metadata": {
    "ExecuteTime": {
     "end_time": "2022-11-06T13:54:08.049725Z",
     "start_time": "2022-11-06T13:54:07.800391Z"
    }
   },
   "outputs": [
    {
     "data": {
      "text/plain": [
       "RandomForestRegressor()"
      ]
     },
     "execution_count": 199,
     "metadata": {},
     "output_type": "execute_result"
    }
   ],
   "source": [
    "rf_uncustomized=RandomForestRegressor()\n",
    "rf_uncustomized.fit(df_train_x, df_train_y)"
   ]
  },
  {
   "cell_type": "code",
   "execution_count": 200,
   "id": "a522c1d1",
   "metadata": {
    "ExecuteTime": {
     "end_time": "2022-11-06T13:54:11.255042Z",
     "start_time": "2022-11-06T13:54:11.207169Z"
    }
   },
   "outputs": [
    {
     "name": "stdout",
     "output_type": "stream",
     "text": [
      "train data : 0.927\n",
      "test data : 0.381\n"
     ]
    }
   ],
   "source": [
    "print(\"train data : {:.3f}\".format(rf_uncustomized.score(df_train_x, df_train_y)))\n",
    "print(\"test data : {:.3f}\".format(rf_uncustomized.score(df_test_x, df_test_y)))"
   ]
  },
  {
   "cell_type": "markdown",
   "id": "2f4db173",
   "metadata": {},
   "source": [
    "기본옵션으로 의사결정나무 모델 생성 결과, train data 성능은 92.7%, test data 성능은 38.1%로 과대적합 되었다."
   ]
  },
  {
   "cell_type": "markdown",
   "id": "dae57e5d",
   "metadata": {},
   "source": [
    "### 모델 parameter 조정"
   ]
  },
  {
   "cell_type": "markdown",
   "id": "af710f8c",
   "metadata": {},
   "source": [
    "#### n_estimators "
   ]
  },
  {
   "cell_type": "code",
   "execution_count": 201,
   "id": "0cf146dd",
   "metadata": {
    "ExecuteTime": {
     "end_time": "2022-11-06T13:56:58.257493Z",
     "start_time": "2022-11-06T13:56:57.096980Z"
    }
   },
   "outputs": [],
   "source": [
    "train_score = []\n",
    "test_score = []\n",
    "para_n_tree = [n_tree*10 for n_tree in range(1, 11)]\n",
    "\n",
    "for v_n_estimators in para_n_tree:\n",
    "    rf = RandomForestRegressor(n_estimators=v_n_estimators)\n",
    "    rf.fit(df_train_x, df_train_y)\n",
    "    train_score.append(rf.score(df_train_x, df_train_y))\n",
    "    test_score.append(rf.score(df_test_x, df_test_y))\n",
    "\n",
    "df_score_n = pd.DataFrame()\n",
    "df_score_n['n_estimators'] = para_n_tree\n",
    "df_score_n['TrainScore'] = train_score\n",
    "df_score_n['TestScore'] = test_score"
   ]
  },
  {
   "cell_type": "code",
   "execution_count": 202,
   "id": "c84bdcc7",
   "metadata": {
    "ExecuteTime": {
     "end_time": "2022-11-06T13:57:04.473413Z",
     "start_time": "2022-11-06T13:57:04.454465Z"
    }
   },
   "outputs": [
    {
     "data": {
      "text/html": [
       "<div>\n",
       "<style scoped>\n",
       "    .dataframe tbody tr th:only-of-type {\n",
       "        vertical-align: middle;\n",
       "    }\n",
       "\n",
       "    .dataframe tbody tr th {\n",
       "        vertical-align: top;\n",
       "    }\n",
       "\n",
       "    .dataframe thead th {\n",
       "        text-align: right;\n",
       "    }\n",
       "</style>\n",
       "<table border=\"1\" class=\"dataframe\">\n",
       "  <thead>\n",
       "    <tr style=\"text-align: right;\">\n",
       "      <th></th>\n",
       "      <th>n_estimators</th>\n",
       "      <th>TrainScore</th>\n",
       "      <th>TestScore</th>\n",
       "    </tr>\n",
       "  </thead>\n",
       "  <tbody>\n",
       "    <tr>\n",
       "      <th>0</th>\n",
       "      <td>10</td>\n",
       "      <td>0.913</td>\n",
       "      <td>0.279</td>\n",
       "    </tr>\n",
       "    <tr>\n",
       "      <th>1</th>\n",
       "      <td>20</td>\n",
       "      <td>0.912</td>\n",
       "      <td>0.298</td>\n",
       "    </tr>\n",
       "    <tr>\n",
       "      <th>2</th>\n",
       "      <td>30</td>\n",
       "      <td>0.925</td>\n",
       "      <td>0.363</td>\n",
       "    </tr>\n",
       "    <tr>\n",
       "      <th>3</th>\n",
       "      <td>40</td>\n",
       "      <td>0.924</td>\n",
       "      <td>0.349</td>\n",
       "    </tr>\n",
       "    <tr>\n",
       "      <th>4</th>\n",
       "      <td>50</td>\n",
       "      <td>0.929</td>\n",
       "      <td>0.357</td>\n",
       "    </tr>\n",
       "    <tr>\n",
       "      <th>5</th>\n",
       "      <td>60</td>\n",
       "      <td>0.925</td>\n",
       "      <td>0.383</td>\n",
       "    </tr>\n",
       "    <tr>\n",
       "      <th>6</th>\n",
       "      <td>70</td>\n",
       "      <td>0.927</td>\n",
       "      <td>0.330</td>\n",
       "    </tr>\n",
       "    <tr>\n",
       "      <th>7</th>\n",
       "      <td>80</td>\n",
       "      <td>0.912</td>\n",
       "      <td>0.376</td>\n",
       "    </tr>\n",
       "    <tr>\n",
       "      <th>8</th>\n",
       "      <td>90</td>\n",
       "      <td>0.926</td>\n",
       "      <td>0.354</td>\n",
       "    </tr>\n",
       "    <tr>\n",
       "      <th>9</th>\n",
       "      <td>100</td>\n",
       "      <td>0.927</td>\n",
       "      <td>0.358</td>\n",
       "    </tr>\n",
       "  </tbody>\n",
       "</table>\n",
       "</div>"
      ],
      "text/plain": [
       "   n_estimators  TrainScore  TestScore\n",
       "0            10       0.913      0.279\n",
       "1            20       0.912      0.298\n",
       "2            30       0.925      0.363\n",
       "3            40       0.924      0.349\n",
       "4            50       0.929      0.357\n",
       "5            60       0.925      0.383\n",
       "6            70       0.927      0.330\n",
       "7            80       0.912      0.376\n",
       "8            90       0.926      0.354\n",
       "9           100       0.927      0.358"
      ]
     },
     "execution_count": 202,
     "metadata": {},
     "output_type": "execute_result"
    }
   ],
   "source": [
    "df_score_n.round(3)"
   ]
  },
  {
   "cell_type": "code",
   "execution_count": 203,
   "id": "1f98f3b4",
   "metadata": {
    "ExecuteTime": {
     "end_time": "2022-11-06T13:57:23.661482Z",
     "start_time": "2022-11-06T13:57:23.458925Z"
    }
   },
   "outputs": [
    {
     "data": {
      "text/plain": [
       "<matplotlib.legend.Legend at 0x29ea37f8be0>"
      ]
     },
     "execution_count": 203,
     "metadata": {},
     "output_type": "execute_result"
    },
    {
     "data": {
      "image/png": "[encoded data removed]",
      "text/plain": [
       "<Figure size 432x288 with 1 Axes>"
      ]
     },
     "metadata": {
      "needs_background": "light"
     },
     "output_type": "display_data"
    }
   ],
   "source": [
    "plt.plot(para_n_tree, train_score, linestyle='-', label='TrainScore')\n",
    "plt.plot(para_n_tree, test_score, linestyle='--', label='TestScore')\n",
    "plt.legend()"
   ]
  },
  {
   "cell_type": "markdown",
   "id": "c9bd37a2",
   "metadata": {},
   "source": [
    "트리 수를 증가시켜도 과대적합 문제를 크게 해결하지 못한 것으로 보인다. 그러나 test data의 성능을 최대한 고려하여 n_estimators로 60을 선정하여다. "
   ]
  },
  {
   "cell_type": "markdown",
   "id": "f28e68b1",
   "metadata": {},
   "source": [
    "#### min_samples_leaf"
   ]
  },
  {
   "cell_type": "code",
   "execution_count": 204,
   "id": "7586f913",
   "metadata": {
    "ExecuteTime": {
     "end_time": "2022-11-06T13:59:49.735776Z",
     "start_time": "2022-11-06T13:59:47.910768Z"
    }
   },
   "outputs": [],
   "source": [
    "train_score = []\n",
    "test_score = []\n",
    "para_leaf = [n_leaf for n_leaf in range(1, 21)]\n",
    "\n",
    "for v_min_samples_leaf in para_leaf:\n",
    "    rf = RandomForestRegressor(n_estimators=60, min_samples_leaf=v_min_samples_leaf)\n",
    "    rf.fit(df_train_x, df_train_y)\n",
    "    train_score.append(rf.score(df_train_x, df_train_y))\n",
    "    test_score.append(rf.score(df_test_x, df_test_y))\n",
    "\n",
    "df_score_leaf = pd.DataFrame()\n",
    "df_score_leaf['MinSamplesLeaf'] = para_leaf\n",
    "df_score_leaf['TrainScore'] = train_score\n",
    "df_score_leaf['TestScore'] = test_score"
   ]
  },
  {
   "cell_type": "code",
   "execution_count": 205,
   "id": "d45e48ca",
   "metadata": {
    "ExecuteTime": {
     "end_time": "2022-11-06T14:00:00.388560Z",
     "start_time": "2022-11-06T14:00:00.362499Z"
    }
   },
   "outputs": [
    {
     "data": {
      "text/html": [
       "<div>\n",
       "<style scoped>\n",
       "    .dataframe tbody tr th:only-of-type {\n",
       "        vertical-align: middle;\n",
       "    }\n",
       "\n",
       "    .dataframe tbody tr th {\n",
       "        vertical-align: top;\n",
       "    }\n",
       "\n",
       "    .dataframe thead th {\n",
       "        text-align: right;\n",
       "    }\n",
       "</style>\n",
       "<table border=\"1\" class=\"dataframe\">\n",
       "  <thead>\n",
       "    <tr style=\"text-align: right;\">\n",
       "      <th></th>\n",
       "      <th>MinSamplesLeaf</th>\n",
       "      <th>TrainScore</th>\n",
       "      <th>TestScore</th>\n",
       "    </tr>\n",
       "  </thead>\n",
       "  <tbody>\n",
       "    <tr>\n",
       "      <th>0</th>\n",
       "      <td>1</td>\n",
       "      <td>0.922</td>\n",
       "      <td>0.372</td>\n",
       "    </tr>\n",
       "    <tr>\n",
       "      <th>1</th>\n",
       "      <td>2</td>\n",
       "      <td>0.868</td>\n",
       "      <td>0.388</td>\n",
       "    </tr>\n",
       "    <tr>\n",
       "      <th>2</th>\n",
       "      <td>3</td>\n",
       "      <td>0.817</td>\n",
       "      <td>0.395</td>\n",
       "    </tr>\n",
       "    <tr>\n",
       "      <th>3</th>\n",
       "      <td>4</td>\n",
       "      <td>0.770</td>\n",
       "      <td>0.420</td>\n",
       "    </tr>\n",
       "    <tr>\n",
       "      <th>4</th>\n",
       "      <td>5</td>\n",
       "      <td>0.737</td>\n",
       "      <td>0.421</td>\n",
       "    </tr>\n",
       "    <tr>\n",
       "      <th>5</th>\n",
       "      <td>6</td>\n",
       "      <td>0.704</td>\n",
       "      <td>0.396</td>\n",
       "    </tr>\n",
       "    <tr>\n",
       "      <th>6</th>\n",
       "      <td>7</td>\n",
       "      <td>0.680</td>\n",
       "      <td>0.419</td>\n",
       "    </tr>\n",
       "    <tr>\n",
       "      <th>7</th>\n",
       "      <td>8</td>\n",
       "      <td>0.644</td>\n",
       "      <td>0.398</td>\n",
       "    </tr>\n",
       "    <tr>\n",
       "      <th>8</th>\n",
       "      <td>9</td>\n",
       "      <td>0.625</td>\n",
       "      <td>0.377</td>\n",
       "    </tr>\n",
       "    <tr>\n",
       "      <th>9</th>\n",
       "      <td>10</td>\n",
       "      <td>0.607</td>\n",
       "      <td>0.390</td>\n",
       "    </tr>\n",
       "    <tr>\n",
       "      <th>10</th>\n",
       "      <td>11</td>\n",
       "      <td>0.588</td>\n",
       "      <td>0.368</td>\n",
       "    </tr>\n",
       "    <tr>\n",
       "      <th>11</th>\n",
       "      <td>12</td>\n",
       "      <td>0.575</td>\n",
       "      <td>0.369</td>\n",
       "    </tr>\n",
       "    <tr>\n",
       "      <th>12</th>\n",
       "      <td>13</td>\n",
       "      <td>0.565</td>\n",
       "      <td>0.359</td>\n",
       "    </tr>\n",
       "    <tr>\n",
       "      <th>13</th>\n",
       "      <td>14</td>\n",
       "      <td>0.557</td>\n",
       "      <td>0.362</td>\n",
       "    </tr>\n",
       "    <tr>\n",
       "      <th>14</th>\n",
       "      <td>15</td>\n",
       "      <td>0.544</td>\n",
       "      <td>0.335</td>\n",
       "    </tr>\n",
       "    <tr>\n",
       "      <th>15</th>\n",
       "      <td>16</td>\n",
       "      <td>0.532</td>\n",
       "      <td>0.361</td>\n",
       "    </tr>\n",
       "    <tr>\n",
       "      <th>16</th>\n",
       "      <td>17</td>\n",
       "      <td>0.527</td>\n",
       "      <td>0.362</td>\n",
       "    </tr>\n",
       "    <tr>\n",
       "      <th>17</th>\n",
       "      <td>18</td>\n",
       "      <td>0.512</td>\n",
       "      <td>0.334</td>\n",
       "    </tr>\n",
       "    <tr>\n",
       "      <th>18</th>\n",
       "      <td>19</td>\n",
       "      <td>0.509</td>\n",
       "      <td>0.351</td>\n",
       "    </tr>\n",
       "    <tr>\n",
       "      <th>19</th>\n",
       "      <td>20</td>\n",
       "      <td>0.499</td>\n",
       "      <td>0.340</td>\n",
       "    </tr>\n",
       "  </tbody>\n",
       "</table>\n",
       "</div>"
      ],
      "text/plain": [
       "    MinSamplesLeaf  TrainScore  TestScore\n",
       "0                1       0.922      0.372\n",
       "1                2       0.868      0.388\n",
       "2                3       0.817      0.395\n",
       "3                4       0.770      0.420\n",
       "4                5       0.737      0.421\n",
       "5                6       0.704      0.396\n",
       "6                7       0.680      0.419\n",
       "7                8       0.644      0.398\n",
       "8                9       0.625      0.377\n",
       "9               10       0.607      0.390\n",
       "10              11       0.588      0.368\n",
       "11              12       0.575      0.369\n",
       "12              13       0.565      0.359\n",
       "13              14       0.557      0.362\n",
       "14              15       0.544      0.335\n",
       "15              16       0.532      0.361\n",
       "16              17       0.527      0.362\n",
       "17              18       0.512      0.334\n",
       "18              19       0.509      0.351\n",
       "19              20       0.499      0.340"
      ]
     },
     "execution_count": 205,
     "metadata": {},
     "output_type": "execute_result"
    }
   ],
   "source": [
    "df_score_leaf.round(3)"
   ]
  },
  {
   "cell_type": "code",
   "execution_count": 206,
   "id": "8cfaf6e6",
   "metadata": {
    "ExecuteTime": {
     "end_time": "2022-11-06T14:00:13.130805Z",
     "start_time": "2022-11-06T14:00:12.929272Z"
    }
   },
   "outputs": [
    {
     "data": {
      "text/plain": [
       "<matplotlib.legend.Legend at 0x29ea3867df0>"
      ]
     },
     "execution_count": 206,
     "metadata": {},
     "output_type": "execute_result"
    },
    {
     "data": {
      "image/png": "[encoded data removed]",
      "text/plain": [
       "<Figure size 432x288 with 1 Axes>"
      ]
     },
     "metadata": {
      "needs_background": "light"
     },
     "output_type": "display_data"
    }
   ],
   "source": [
    "plt.plot(para_leaf, train_score, linestyle='-', label='TrainScore')\n",
    "plt.plot(para_leaf, test_score, linestyle='--', label='TestScore')\n",
    "plt.legend()"
   ]
  },
  {
   "cell_type": "markdown",
   "id": "86b1904c",
   "metadata": {},
   "source": [
    "잎사귀 노드의 최소 자료수가 증가함에 따라 train data의 과대적합 문제는 해결되는 것으로 보이나 test data의 성능에는 큰 차이가 없다. 따라서 최대한 정확도 변화를 고려하여 min_samples_leaf로 5를 선정하였다. "
   ]
  },
  {
   "cell_type": "markdown",
   "id": "e24c5cce",
   "metadata": {},
   "source": [
    "#### min_samples_split"
   ]
  },
  {
   "cell_type": "code",
   "execution_count": 208,
   "id": "67b87d3c",
   "metadata": {
    "ExecuteTime": {
     "end_time": "2022-11-06T14:03:15.482073Z",
     "start_time": "2022-11-06T14:03:13.846460Z"
    }
   },
   "outputs": [],
   "source": [
    "train_score = []\n",
    "test_score = []\n",
    "para_split = [n_split for n_split in range(2, 21)]\n",
    "\n",
    "for v_min_samples_split in para_split:\n",
    "    rf = RandomForestRegressor(n_estimators=60, min_samples_leaf=5,\n",
    "                              min_samples_split=v_min_samples_split)\n",
    "    rf.fit(df_train_x, df_train_y)\n",
    "    train_score.append(rf.score(df_train_x, df_train_y))\n",
    "    test_score.append(rf.score(df_test_x, df_test_y))\n",
    "\n",
    "df_score_split = pd.DataFrame()\n",
    "df_score_split['MinSamplesSplit'] = para_split\n",
    "df_score_split['TrainScore'] = train_score\n",
    "df_score_split['TestScore'] = test_score"
   ]
  },
  {
   "cell_type": "code",
   "execution_count": 209,
   "id": "0547846d",
   "metadata": {
    "ExecuteTime": {
     "end_time": "2022-11-06T14:03:22.378979Z",
     "start_time": "2022-11-06T14:03:22.358037Z"
    }
   },
   "outputs": [
    {
     "data": {
      "text/html": [
       "<div>\n",
       "<style scoped>\n",
       "    .dataframe tbody tr th:only-of-type {\n",
       "        vertical-align: middle;\n",
       "    }\n",
       "\n",
       "    .dataframe tbody tr th {\n",
       "        vertical-align: top;\n",
       "    }\n",
       "\n",
       "    .dataframe thead th {\n",
       "        text-align: right;\n",
       "    }\n",
       "</style>\n",
       "<table border=\"1\" class=\"dataframe\">\n",
       "  <thead>\n",
       "    <tr style=\"text-align: right;\">\n",
       "      <th></th>\n",
       "      <th>MinSamplesSplit</th>\n",
       "      <th>TrainScore</th>\n",
       "      <th>TestScore</th>\n",
       "    </tr>\n",
       "  </thead>\n",
       "  <tbody>\n",
       "    <tr>\n",
       "      <th>0</th>\n",
       "      <td>2</td>\n",
       "      <td>0.729</td>\n",
       "      <td>0.413</td>\n",
       "    </tr>\n",
       "    <tr>\n",
       "      <th>1</th>\n",
       "      <td>3</td>\n",
       "      <td>0.722</td>\n",
       "      <td>0.424</td>\n",
       "    </tr>\n",
       "    <tr>\n",
       "      <th>2</th>\n",
       "      <td>4</td>\n",
       "      <td>0.720</td>\n",
       "      <td>0.414</td>\n",
       "    </tr>\n",
       "    <tr>\n",
       "      <th>3</th>\n",
       "      <td>5</td>\n",
       "      <td>0.734</td>\n",
       "      <td>0.410</td>\n",
       "    </tr>\n",
       "    <tr>\n",
       "      <th>4</th>\n",
       "      <td>6</td>\n",
       "      <td>0.729</td>\n",
       "      <td>0.402</td>\n",
       "    </tr>\n",
       "    <tr>\n",
       "      <th>5</th>\n",
       "      <td>7</td>\n",
       "      <td>0.738</td>\n",
       "      <td>0.403</td>\n",
       "    </tr>\n",
       "    <tr>\n",
       "      <th>6</th>\n",
       "      <td>8</td>\n",
       "      <td>0.728</td>\n",
       "      <td>0.432</td>\n",
       "    </tr>\n",
       "    <tr>\n",
       "      <th>7</th>\n",
       "      <td>9</td>\n",
       "      <td>0.731</td>\n",
       "      <td>0.424</td>\n",
       "    </tr>\n",
       "    <tr>\n",
       "      <th>8</th>\n",
       "      <td>10</td>\n",
       "      <td>0.733</td>\n",
       "      <td>0.422</td>\n",
       "    </tr>\n",
       "    <tr>\n",
       "      <th>9</th>\n",
       "      <td>11</td>\n",
       "      <td>0.731</td>\n",
       "      <td>0.422</td>\n",
       "    </tr>\n",
       "    <tr>\n",
       "      <th>10</th>\n",
       "      <td>12</td>\n",
       "      <td>0.720</td>\n",
       "      <td>0.429</td>\n",
       "    </tr>\n",
       "    <tr>\n",
       "      <th>11</th>\n",
       "      <td>13</td>\n",
       "      <td>0.708</td>\n",
       "      <td>0.430</td>\n",
       "    </tr>\n",
       "    <tr>\n",
       "      <th>12</th>\n",
       "      <td>14</td>\n",
       "      <td>0.716</td>\n",
       "      <td>0.416</td>\n",
       "    </tr>\n",
       "    <tr>\n",
       "      <th>13</th>\n",
       "      <td>15</td>\n",
       "      <td>0.693</td>\n",
       "      <td>0.404</td>\n",
       "    </tr>\n",
       "    <tr>\n",
       "      <th>14</th>\n",
       "      <td>16</td>\n",
       "      <td>0.690</td>\n",
       "      <td>0.392</td>\n",
       "    </tr>\n",
       "    <tr>\n",
       "      <th>15</th>\n",
       "      <td>17</td>\n",
       "      <td>0.677</td>\n",
       "      <td>0.396</td>\n",
       "    </tr>\n",
       "    <tr>\n",
       "      <th>16</th>\n",
       "      <td>18</td>\n",
       "      <td>0.669</td>\n",
       "      <td>0.406</td>\n",
       "    </tr>\n",
       "    <tr>\n",
       "      <th>17</th>\n",
       "      <td>19</td>\n",
       "      <td>0.654</td>\n",
       "      <td>0.386</td>\n",
       "    </tr>\n",
       "    <tr>\n",
       "      <th>18</th>\n",
       "      <td>20</td>\n",
       "      <td>0.655</td>\n",
       "      <td>0.387</td>\n",
       "    </tr>\n",
       "  </tbody>\n",
       "</table>\n",
       "</div>"
      ],
      "text/plain": [
       "    MinSamplesSplit  TrainScore  TestScore\n",
       "0                 2       0.729      0.413\n",
       "1                 3       0.722      0.424\n",
       "2                 4       0.720      0.414\n",
       "3                 5       0.734      0.410\n",
       "4                 6       0.729      0.402\n",
       "5                 7       0.738      0.403\n",
       "6                 8       0.728      0.432\n",
       "7                 9       0.731      0.424\n",
       "8                10       0.733      0.422\n",
       "9                11       0.731      0.422\n",
       "10               12       0.720      0.429\n",
       "11               13       0.708      0.430\n",
       "12               14       0.716      0.416\n",
       "13               15       0.693      0.404\n",
       "14               16       0.690      0.392\n",
       "15               17       0.677      0.396\n",
       "16               18       0.669      0.406\n",
       "17               19       0.654      0.386\n",
       "18               20       0.655      0.387"
      ]
     },
     "execution_count": 209,
     "metadata": {},
     "output_type": "execute_result"
    }
   ],
   "source": [
    "df_score_split.round(3)"
   ]
  },
  {
   "cell_type": "code",
   "execution_count": 211,
   "id": "013b0ff9",
   "metadata": {
    "ExecuteTime": {
     "end_time": "2022-11-06T14:03:41.219908Z",
     "start_time": "2022-11-06T14:03:41.029418Z"
    },
    "scrolled": true
   },
   "outputs": [
    {
     "data": {
      "text/plain": [
       "<matplotlib.legend.Legend at 0x29e9e79d700>"
      ]
     },
     "execution_count": 211,
     "metadata": {},
     "output_type": "execute_result"
    },
    {
     "data": {
      "image/png": "[encoded data removed]",
      "text/plain": [
       "<Figure size 432x288 with 1 Axes>"
      ]
     },
     "metadata": {
      "needs_background": "light"
     },
     "output_type": "display_data"
    }
   ],
   "source": [
    "plt.plot(para_split, train_score, linestyle='-', label='TrainScore')\n",
    "plt.plot(para_split, test_score, linestyle='--', label='TestScore')\n",
    "plt.legend()"
   ]
  },
  {
   "cell_type": "markdown",
   "id": "e685e7b6",
   "metadata": {},
   "source": [
    "분리 노드의 최소 자료수가 증가함에 따라 train data의 성능은 감소하나 test data의 정확도에는 큰 변화를 보이지 않는다. 최대한 성능을 고려하여 min_samples_split으로 8을 선정하였다. "
   ]
  },
  {
   "cell_type": "markdown",
   "id": "4c68a414",
   "metadata": {},
   "source": [
    "#### max_depth"
   ]
  },
  {
   "cell_type": "code",
   "execution_count": 213,
   "id": "47edc32a",
   "metadata": {
    "ExecuteTime": {
     "end_time": "2022-11-06T14:06:15.788029Z",
     "start_time": "2022-11-06T14:06:14.912218Z"
    }
   },
   "outputs": [],
   "source": [
    "train_score = []\n",
    "test_score = []\n",
    "para_depth = [depth for depth in range(1, 11)]\n",
    "\n",
    "for v_max_depth in para_depth:\n",
    "    rf = RandomForestRegressor(n_estimators=60, min_samples_leaf=5,\n",
    "                              min_samples_split=8,\n",
    "                              max_depth=v_max_depth)\n",
    "    rf.fit(df_train_x, df_train_y)\n",
    "    train_score.append(rf.score(df_train_x, df_train_y))\n",
    "    test_score.append(rf.score(df_test_x, df_test_y))\n",
    "\n",
    "df_score_depth = pd.DataFrame()\n",
    "df_score_depth['Depth'] = para_depth\n",
    "df_score_depth['TrainScore'] = train_score\n",
    "df_score_depth['TestScore'] = test_score"
   ]
  },
  {
   "cell_type": "code",
   "execution_count": 214,
   "id": "b48383bb",
   "metadata": {
    "ExecuteTime": {
     "end_time": "2022-11-06T14:06:22.348799Z",
     "start_time": "2022-11-06T14:06:22.329850Z"
    }
   },
   "outputs": [
    {
     "data": {
      "text/html": [
       "<div>\n",
       "<style scoped>\n",
       "    .dataframe tbody tr th:only-of-type {\n",
       "        vertical-align: middle;\n",
       "    }\n",
       "\n",
       "    .dataframe tbody tr th {\n",
       "        vertical-align: top;\n",
       "    }\n",
       "\n",
       "    .dataframe thead th {\n",
       "        text-align: right;\n",
       "    }\n",
       "</style>\n",
       "<table border=\"1\" class=\"dataframe\">\n",
       "  <thead>\n",
       "    <tr style=\"text-align: right;\">\n",
       "      <th></th>\n",
       "      <th>Depth</th>\n",
       "      <th>TrainScore</th>\n",
       "      <th>TestScore</th>\n",
       "    </tr>\n",
       "  </thead>\n",
       "  <tbody>\n",
       "    <tr>\n",
       "      <th>0</th>\n",
       "      <td>1</td>\n",
       "      <td>0.324</td>\n",
       "      <td>0.284</td>\n",
       "    </tr>\n",
       "    <tr>\n",
       "      <th>1</th>\n",
       "      <td>2</td>\n",
       "      <td>0.457</td>\n",
       "      <td>0.353</td>\n",
       "    </tr>\n",
       "    <tr>\n",
       "      <th>2</th>\n",
       "      <td>3</td>\n",
       "      <td>0.591</td>\n",
       "      <td>0.395</td>\n",
       "    </tr>\n",
       "    <tr>\n",
       "      <th>3</th>\n",
       "      <td>4</td>\n",
       "      <td>0.651</td>\n",
       "      <td>0.415</td>\n",
       "    </tr>\n",
       "    <tr>\n",
       "      <th>4</th>\n",
       "      <td>5</td>\n",
       "      <td>0.696</td>\n",
       "      <td>0.399</td>\n",
       "    </tr>\n",
       "    <tr>\n",
       "      <th>5</th>\n",
       "      <td>6</td>\n",
       "      <td>0.718</td>\n",
       "      <td>0.393</td>\n",
       "    </tr>\n",
       "    <tr>\n",
       "      <th>6</th>\n",
       "      <td>7</td>\n",
       "      <td>0.725</td>\n",
       "      <td>0.404</td>\n",
       "    </tr>\n",
       "    <tr>\n",
       "      <th>7</th>\n",
       "      <td>8</td>\n",
       "      <td>0.732</td>\n",
       "      <td>0.398</td>\n",
       "    </tr>\n",
       "    <tr>\n",
       "      <th>8</th>\n",
       "      <td>9</td>\n",
       "      <td>0.732</td>\n",
       "      <td>0.426</td>\n",
       "    </tr>\n",
       "    <tr>\n",
       "      <th>9</th>\n",
       "      <td>10</td>\n",
       "      <td>0.735</td>\n",
       "      <td>0.415</td>\n",
       "    </tr>\n",
       "  </tbody>\n",
       "</table>\n",
       "</div>"
      ],
      "text/plain": [
       "   Depth  TrainScore  TestScore\n",
       "0      1       0.324      0.284\n",
       "1      2       0.457      0.353\n",
       "2      3       0.591      0.395\n",
       "3      4       0.651      0.415\n",
       "4      5       0.696      0.399\n",
       "5      6       0.718      0.393\n",
       "6      7       0.725      0.404\n",
       "7      8       0.732      0.398\n",
       "8      9       0.732      0.426\n",
       "9     10       0.735      0.415"
      ]
     },
     "execution_count": 214,
     "metadata": {},
     "output_type": "execute_result"
    }
   ],
   "source": [
    "df_score_depth.round(3)"
   ]
  },
  {
   "cell_type": "code",
   "execution_count": 215,
   "id": "49aed26c",
   "metadata": {
    "ExecuteTime": {
     "end_time": "2022-11-06T14:06:34.404496Z",
     "start_time": "2022-11-06T14:06:34.247822Z"
    }
   },
   "outputs": [
    {
     "data": {
      "text/plain": [
       "<matplotlib.legend.Legend at 0x29e9e5f0f40>"
      ]
     },
     "execution_count": 215,
     "metadata": {},
     "output_type": "execute_result"
    },
    {
     "data": {
      "image/png": "[encoded data removed]",
      "text/plain": [
       "<Figure size 432x288 with 1 Axes>"
      ]
     },
     "metadata": {
      "needs_background": "light"
     },
     "output_type": "display_data"
    }
   ],
   "source": [
    "plt.plot(para_depth, train_score, linestyle='-', label='TrainScore')\n",
    "plt.plot(para_depth, test_score, linestyle='--', label='TestScore')\n",
    "plt.legend()"
   ]
  },
  {
   "cell_type": "markdown",
   "id": "aaa5e31e",
   "metadata": {},
   "source": [
    "최대 깊이가 증가함에 따라 train data는 과적합 되는 경향성을 보이나, test data는 성능이 증가하다가 0.4 부근에서 정체되는 것을 확인하였다. 따라서 max_depth로 9를 선정하였다. "
   ]
  },
  {
   "cell_type": "markdown",
   "id": "ecec99b6",
   "metadata": {},
   "source": [
    "### 최종 모델"
   ]
  },
  {
   "cell_type": "code",
   "execution_count": 218,
   "id": "871b1a42",
   "metadata": {
    "ExecuteTime": {
     "end_time": "2022-11-06T14:08:50.587922Z",
     "start_time": "2022-11-06T14:08:50.488300Z"
    }
   },
   "outputs": [
    {
     "data": {
      "text/plain": [
       "RandomForestRegressor(max_depth=9, min_samples_leaf=5, min_samples_split=8,\n",
       "                      n_estimators=60)"
      ]
     },
     "execution_count": 218,
     "metadata": {},
     "output_type": "execute_result"
    }
   ],
   "source": [
    "rf = RandomForestRegressor(n_estimators=60,\n",
    "                           min_samples_leaf=5,\n",
    "                           min_samples_split=8,\n",
    "                           max_depth=9)\n",
    "rf.fit(df_train_x, df_train_y)"
   ]
  },
  {
   "cell_type": "markdown",
   "id": "2d0ade24",
   "metadata": {},
   "source": [
    "### 성능 평가"
   ]
  },
  {
   "cell_type": "code",
   "execution_count": 219,
   "id": "0359a2d0",
   "metadata": {
    "ExecuteTime": {
     "end_time": "2022-11-06T14:09:21.445392Z",
     "start_time": "2022-11-06T14:09:21.419422Z"
    }
   },
   "outputs": [
    {
     "name": "stdout",
     "output_type": "stream",
     "text": [
      "train data : 0.737\n",
      "test data : 0.424\n"
     ]
    }
   ],
   "source": [
    "print(\"train data : {:.3f}\".format(rf.score(df_train_x, df_train_y)))\n",
    "print(\"test data : {:.3f}\".format(rf.score(df_test_x, df_test_y)))"
   ]
  },
  {
   "cell_type": "markdown",
   "id": "0fc98020",
   "metadata": {},
   "source": [
    "따라서 랜덤포레스트로 최종모델 생성 결과 train data의 성능은 73.7%, test data의 성능은 42.4%로 과대적합 문제를 완벽하게 해결하지는 못했으나 test datad의 성능을 대폭 향상시켰다. "
   ]
  },
  {
   "cell_type": "markdown",
   "id": "3f1caf4f",
   "metadata": {},
   "source": [
    "## 그래디언트 부스팅"
   ]
  },
  {
   "cell_type": "markdown",
   "id": "a87a504b",
   "metadata": {},
   "source": [
    "위의 분할된 train data와 test data를 그대로 사용한다."
   ]
  },
  {
   "cell_type": "code",
   "execution_count": 221,
   "id": "505c15bb",
   "metadata": {
    "ExecuteTime": {
     "end_time": "2022-11-06T14:11:31.874030Z",
     "start_time": "2022-11-06T14:11:31.866052Z"
    }
   },
   "outputs": [
    {
     "name": "stdout",
     "output_type": "stream",
     "text": [
      "train data size : (255, 7)\n",
      "test data size : (110, 7)\n"
     ]
    }
   ],
   "source": [
    "print(\"train data size : {}\".format(df_train_x.shape))\n",
    "print(\"test data size : {}\".format(df_test_x.shape))"
   ]
  },
  {
   "cell_type": "markdown",
   "id": "485dcbed",
   "metadata": {},
   "source": [
    "### 기본 옵션으로 모델 생성"
   ]
  },
  {
   "cell_type": "code",
   "execution_count": 223,
   "id": "7f0f0d0f",
   "metadata": {
    "ExecuteTime": {
     "end_time": "2022-11-06T14:12:10.261213Z",
     "start_time": "2022-11-06T14:12:10.186385Z"
    }
   },
   "outputs": [
    {
     "data": {
      "text/plain": [
       "GradientBoostingRegressor()"
      ]
     },
     "execution_count": 223,
     "metadata": {},
     "output_type": "execute_result"
    }
   ],
   "source": [
    "gb_uncustomized=GradientBoostingRegressor()\n",
    "gb_uncustomized.fit(df_train_x, df_train_y)"
   ]
  },
  {
   "cell_type": "code",
   "execution_count": 224,
   "id": "3433611f",
   "metadata": {
    "ExecuteTime": {
     "end_time": "2022-11-06T14:12:25.730781Z",
     "start_time": "2022-11-06T14:12:25.708830Z"
    }
   },
   "outputs": [
    {
     "name": "stdout",
     "output_type": "stream",
     "text": [
      "train data : 0.915\n",
      "test data : 0.418\n"
     ]
    }
   ],
   "source": [
    "print(\"train data : {:.3f}\".format(gb_uncustomized.score(df_train_x, df_train_y)))\n",
    "print(\"test data : {:.3f}\".format(gb_uncustomized.score(df_test_x, df_test_y)))"
   ]
  },
  {
   "cell_type": "markdown",
   "id": "d5082bc3",
   "metadata": {},
   "source": [
    "기본 옵션으로 그래디언트 부스팅 모델 생성 결과, train data의 성능은 91.5%, test data의 성은 41.8%로 과대적합 되었다."
   ]
  },
  {
   "cell_type": "markdown",
   "id": "e507b22e",
   "metadata": {},
   "source": [
    "### 모델 parameter 조정"
   ]
  },
  {
   "cell_type": "markdown",
   "id": "c08e21ff",
   "metadata": {},
   "source": [
    "#### n_estimators"
   ]
  },
  {
   "cell_type": "code",
   "execution_count": 226,
   "id": "1a425e8d",
   "metadata": {
    "ExecuteTime": {
     "end_time": "2022-11-06T14:14:03.025053Z",
     "start_time": "2022-11-06T14:14:02.686533Z"
    }
   },
   "outputs": [],
   "source": [
    "train_score = []\n",
    "test_score = []\n",
    "para_n_tree = [n_tree*10 for n_tree in range(1, 11)]\n",
    "\n",
    "for v_n_estimators in para_n_tree:\n",
    "    gb = GradientBoostingRegressor(n_estimators=v_n_estimators)\n",
    "    gb.fit(df_train_x, df_train_y)\n",
    "    train_score.append(gb.score(df_train_x, df_train_y))\n",
    "    test_score.append(gb.score(df_test_x, df_test_y))\n",
    "\n",
    "df_score_n = pd.DataFrame()\n",
    "df_score_n['n_estimators'] = para_n_tree\n",
    "df_score_n['TrainScore'] = train_score\n",
    "df_score_n['TestScore'] = test_score"
   ]
  },
  {
   "cell_type": "code",
   "execution_count": 227,
   "id": "afa2a335",
   "metadata": {
    "ExecuteTime": {
     "end_time": "2022-11-06T14:14:14.650960Z",
     "start_time": "2022-11-06T14:14:14.630011Z"
    }
   },
   "outputs": [
    {
     "data": {
      "text/html": [
       "<div>\n",
       "<style scoped>\n",
       "    .dataframe tbody tr th:only-of-type {\n",
       "        vertical-align: middle;\n",
       "    }\n",
       "\n",
       "    .dataframe tbody tr th {\n",
       "        vertical-align: top;\n",
       "    }\n",
       "\n",
       "    .dataframe thead th {\n",
       "        text-align: right;\n",
       "    }\n",
       "</style>\n",
       "<table border=\"1\" class=\"dataframe\">\n",
       "  <thead>\n",
       "    <tr style=\"text-align: right;\">\n",
       "      <th></th>\n",
       "      <th>n_estimators</th>\n",
       "      <th>TrainScore</th>\n",
       "      <th>TestScore</th>\n",
       "    </tr>\n",
       "  </thead>\n",
       "  <tbody>\n",
       "    <tr>\n",
       "      <th>0</th>\n",
       "      <td>10</td>\n",
       "      <td>0.546</td>\n",
       "      <td>0.303</td>\n",
       "    </tr>\n",
       "    <tr>\n",
       "      <th>1</th>\n",
       "      <td>20</td>\n",
       "      <td>0.700</td>\n",
       "      <td>0.371</td>\n",
       "    </tr>\n",
       "    <tr>\n",
       "      <th>2</th>\n",
       "      <td>30</td>\n",
       "      <td>0.769</td>\n",
       "      <td>0.389</td>\n",
       "    </tr>\n",
       "    <tr>\n",
       "      <th>3</th>\n",
       "      <td>40</td>\n",
       "      <td>0.810</td>\n",
       "      <td>0.413</td>\n",
       "    </tr>\n",
       "    <tr>\n",
       "      <th>4</th>\n",
       "      <td>50</td>\n",
       "      <td>0.837</td>\n",
       "      <td>0.410</td>\n",
       "    </tr>\n",
       "    <tr>\n",
       "      <th>5</th>\n",
       "      <td>60</td>\n",
       "      <td>0.859</td>\n",
       "      <td>0.421</td>\n",
       "    </tr>\n",
       "    <tr>\n",
       "      <th>6</th>\n",
       "      <td>70</td>\n",
       "      <td>0.875</td>\n",
       "      <td>0.420</td>\n",
       "    </tr>\n",
       "    <tr>\n",
       "      <th>7</th>\n",
       "      <td>80</td>\n",
       "      <td>0.889</td>\n",
       "      <td>0.413</td>\n",
       "    </tr>\n",
       "    <tr>\n",
       "      <th>8</th>\n",
       "      <td>90</td>\n",
       "      <td>0.904</td>\n",
       "      <td>0.431</td>\n",
       "    </tr>\n",
       "    <tr>\n",
       "      <th>9</th>\n",
       "      <td>100</td>\n",
       "      <td>0.915</td>\n",
       "      <td>0.412</td>\n",
       "    </tr>\n",
       "  </tbody>\n",
       "</table>\n",
       "</div>"
      ],
      "text/plain": [
       "   n_estimators  TrainScore  TestScore\n",
       "0            10       0.546      0.303\n",
       "1            20       0.700      0.371\n",
       "2            30       0.769      0.389\n",
       "3            40       0.810      0.413\n",
       "4            50       0.837      0.410\n",
       "5            60       0.859      0.421\n",
       "6            70       0.875      0.420\n",
       "7            80       0.889      0.413\n",
       "8            90       0.904      0.431\n",
       "9           100       0.915      0.412"
      ]
     },
     "execution_count": 227,
     "metadata": {},
     "output_type": "execute_result"
    }
   ],
   "source": [
    "df_score_n.round(3)"
   ]
  },
  {
   "cell_type": "code",
   "execution_count": 228,
   "id": "053fac95",
   "metadata": {
    "ExecuteTime": {
     "end_time": "2022-11-06T14:14:25.759293Z",
     "start_time": "2022-11-06T14:14:25.630547Z"
    }
   },
   "outputs": [
    {
     "data": {
      "text/plain": [
       "<matplotlib.legend.Legend at 0x29e99ba5eb0>"
      ]
     },
     "execution_count": 228,
     "metadata": {},
     "output_type": "execute_result"
    },
    {
     "data": {
      "image/png": "[encoded data removed]",
      "text/plain": [
       "<Figure size 432x288 with 1 Axes>"
      ]
     },
     "metadata": {
      "needs_background": "light"
     },
     "output_type": "display_data"
    }
   ],
   "source": [
    "plt.plot(para_n_tree, train_score, linestyle='-', label='TrainScore')\n",
    "plt.plot(para_n_tree, test_score, linestyle='--', label='TestScore')\n",
    "plt.legend()"
   ]
  },
  {
   "cell_type": "markdown",
   "id": "c3bfda1d",
   "metadata": {},
   "source": [
    "트리수가 증가함에 따라 train data에 과대적합되는 경향성을 보이며, test data는 성능이 향상되다가 0.42에서 정체되는 것으로 확인된다. 따라서 과대적합 문제를 최대한 해결하고 test data의 성능을 향상시키기 위해서 n_estimators로 60을 선정하였다."
   ]
  },
  {
   "cell_type": "markdown",
   "id": "6ba55ec4",
   "metadata": {},
   "source": [
    "#### min_samples_leaf"
   ]
  },
  {
   "cell_type": "code",
   "execution_count": 229,
   "id": "762ccb83",
   "metadata": {
    "ExecuteTime": {
     "end_time": "2022-11-06T14:15:53.553155Z",
     "start_time": "2022-11-06T14:15:52.863753Z"
    }
   },
   "outputs": [],
   "source": [
    "train_score = []\n",
    "test_score = []\n",
    "para_leaf = [n_leaf for n_leaf in range(1, 21)]\n",
    "\n",
    "for v_min_samples_leaf in para_leaf:\n",
    "    gb = GradientBoostingRegressor(n_estimators=60, min_samples_leaf=v_min_samples_leaf)\n",
    "    gb.fit(df_train_x, df_train_y)\n",
    "    train_score.append(gb.score(df_train_x, df_train_y))\n",
    "    test_score.append(gb.score(df_test_x, df_test_y))\n",
    "\n",
    "df_score_leaf = pd.DataFrame()\n",
    "df_score_leaf['MinSamplesLeaf'] = para_leaf\n",
    "df_score_leaf['TrainScore'] = train_score\n",
    "df_score_leaf['TestScore'] = test_score"
   ]
  },
  {
   "cell_type": "code",
   "execution_count": 230,
   "id": "e5a945fb",
   "metadata": {
    "ExecuteTime": {
     "end_time": "2022-11-06T14:16:02.697060Z",
     "start_time": "2022-11-06T14:16:02.671077Z"
    }
   },
   "outputs": [
    {
     "data": {
      "text/html": [
       "<div>\n",
       "<style scoped>\n",
       "    .dataframe tbody tr th:only-of-type {\n",
       "        vertical-align: middle;\n",
       "    }\n",
       "\n",
       "    .dataframe tbody tr th {\n",
       "        vertical-align: top;\n",
       "    }\n",
       "\n",
       "    .dataframe thead th {\n",
       "        text-align: right;\n",
       "    }\n",
       "</style>\n",
       "<table border=\"1\" class=\"dataframe\">\n",
       "  <thead>\n",
       "    <tr style=\"text-align: right;\">\n",
       "      <th></th>\n",
       "      <th>MinSamplesLeaf</th>\n",
       "      <th>TrainScore</th>\n",
       "      <th>TestScore</th>\n",
       "    </tr>\n",
       "  </thead>\n",
       "  <tbody>\n",
       "    <tr>\n",
       "      <th>0</th>\n",
       "      <td>1</td>\n",
       "      <td>0.859</td>\n",
       "      <td>0.413</td>\n",
       "    </tr>\n",
       "    <tr>\n",
       "      <th>1</th>\n",
       "      <td>2</td>\n",
       "      <td>0.847</td>\n",
       "      <td>0.428</td>\n",
       "    </tr>\n",
       "    <tr>\n",
       "      <th>2</th>\n",
       "      <td>3</td>\n",
       "      <td>0.834</td>\n",
       "      <td>0.445</td>\n",
       "    </tr>\n",
       "    <tr>\n",
       "      <th>3</th>\n",
       "      <td>4</td>\n",
       "      <td>0.845</td>\n",
       "      <td>0.431</td>\n",
       "    </tr>\n",
       "    <tr>\n",
       "      <th>4</th>\n",
       "      <td>5</td>\n",
       "      <td>0.824</td>\n",
       "      <td>0.448</td>\n",
       "    </tr>\n",
       "    <tr>\n",
       "      <th>5</th>\n",
       "      <td>6</td>\n",
       "      <td>0.819</td>\n",
       "      <td>0.443</td>\n",
       "    </tr>\n",
       "    <tr>\n",
       "      <th>6</th>\n",
       "      <td>7</td>\n",
       "      <td>0.810</td>\n",
       "      <td>0.434</td>\n",
       "    </tr>\n",
       "    <tr>\n",
       "      <th>7</th>\n",
       "      <td>8</td>\n",
       "      <td>0.801</td>\n",
       "      <td>0.448</td>\n",
       "    </tr>\n",
       "    <tr>\n",
       "      <th>8</th>\n",
       "      <td>9</td>\n",
       "      <td>0.802</td>\n",
       "      <td>0.436</td>\n",
       "    </tr>\n",
       "    <tr>\n",
       "      <th>9</th>\n",
       "      <td>10</td>\n",
       "      <td>0.801</td>\n",
       "      <td>0.448</td>\n",
       "    </tr>\n",
       "    <tr>\n",
       "      <th>10</th>\n",
       "      <td>11</td>\n",
       "      <td>0.790</td>\n",
       "      <td>0.468</td>\n",
       "    </tr>\n",
       "    <tr>\n",
       "      <th>11</th>\n",
       "      <td>12</td>\n",
       "      <td>0.788</td>\n",
       "      <td>0.452</td>\n",
       "    </tr>\n",
       "    <tr>\n",
       "      <th>12</th>\n",
       "      <td>13</td>\n",
       "      <td>0.771</td>\n",
       "      <td>0.460</td>\n",
       "    </tr>\n",
       "    <tr>\n",
       "      <th>13</th>\n",
       "      <td>14</td>\n",
       "      <td>0.769</td>\n",
       "      <td>0.462</td>\n",
       "    </tr>\n",
       "    <tr>\n",
       "      <th>14</th>\n",
       "      <td>15</td>\n",
       "      <td>0.758</td>\n",
       "      <td>0.464</td>\n",
       "    </tr>\n",
       "    <tr>\n",
       "      <th>15</th>\n",
       "      <td>16</td>\n",
       "      <td>0.748</td>\n",
       "      <td>0.469</td>\n",
       "    </tr>\n",
       "    <tr>\n",
       "      <th>16</th>\n",
       "      <td>17</td>\n",
       "      <td>0.753</td>\n",
       "      <td>0.462</td>\n",
       "    </tr>\n",
       "    <tr>\n",
       "      <th>17</th>\n",
       "      <td>18</td>\n",
       "      <td>0.743</td>\n",
       "      <td>0.480</td>\n",
       "    </tr>\n",
       "    <tr>\n",
       "      <th>18</th>\n",
       "      <td>19</td>\n",
       "      <td>0.735</td>\n",
       "      <td>0.468</td>\n",
       "    </tr>\n",
       "    <tr>\n",
       "      <th>19</th>\n",
       "      <td>20</td>\n",
       "      <td>0.725</td>\n",
       "      <td>0.452</td>\n",
       "    </tr>\n",
       "  </tbody>\n",
       "</table>\n",
       "</div>"
      ],
      "text/plain": [
       "    MinSamplesLeaf  TrainScore  TestScore\n",
       "0                1       0.859      0.413\n",
       "1                2       0.847      0.428\n",
       "2                3       0.834      0.445\n",
       "3                4       0.845      0.431\n",
       "4                5       0.824      0.448\n",
       "5                6       0.819      0.443\n",
       "6                7       0.810      0.434\n",
       "7                8       0.801      0.448\n",
       "8                9       0.802      0.436\n",
       "9               10       0.801      0.448\n",
       "10              11       0.790      0.468\n",
       "11              12       0.788      0.452\n",
       "12              13       0.771      0.460\n",
       "13              14       0.769      0.462\n",
       "14              15       0.758      0.464\n",
       "15              16       0.748      0.469\n",
       "16              17       0.753      0.462\n",
       "17              18       0.743      0.480\n",
       "18              19       0.735      0.468\n",
       "19              20       0.725      0.452"
      ]
     },
     "execution_count": 230,
     "metadata": {},
     "output_type": "execute_result"
    }
   ],
   "source": [
    "df_score_leaf.round(3)"
   ]
  },
  {
   "cell_type": "code",
   "execution_count": 232,
   "id": "33153d27",
   "metadata": {
    "ExecuteTime": {
     "end_time": "2022-11-06T14:16:23.150379Z",
     "start_time": "2022-11-06T14:16:22.978852Z"
    }
   },
   "outputs": [
    {
     "data": {
      "text/plain": [
       "<matplotlib.legend.Legend at 0x29ea544ffd0>"
      ]
     },
     "execution_count": 232,
     "metadata": {},
     "output_type": "execute_result"
    },
    {
     "data": {
      "image/png": "[encoded data removed]",
      "text/plain": [
       "<Figure size 432x288 with 1 Axes>"
      ]
     },
     "metadata": {
      "needs_background": "light"
     },
     "output_type": "display_data"
    }
   ],
   "source": [
    "plt.plot(para_leaf, train_score, linestyle='-', label='TrainScore')\n",
    "plt.plot(para_leaf, test_score, linestyle='--', label='TestScore')\n",
    "plt.legend()"
   ]
  },
  {
   "cell_type": "markdown",
   "id": "0dc778e9",
   "metadata": {},
   "source": [
    "잎사귀 노드의 최소 자료수가 증가함에 따라 train data의 성능은 하락하고 test data의 성능은 조금씩 상승하는 경향을 보인다. 따라서 min_samples_leaf로 18을 선정하였다."
   ]
  },
  {
   "cell_type": "markdown",
   "id": "8f29adc7",
   "metadata": {},
   "source": [
    "#### min_samples_split"
   ]
  },
  {
   "cell_type": "code",
   "execution_count": 233,
   "id": "589801e2",
   "metadata": {
    "ExecuteTime": {
     "end_time": "2022-11-06T14:18:16.527357Z",
     "start_time": "2022-11-06T14:18:15.795659Z"
    }
   },
   "outputs": [],
   "source": [
    "train_score = []\n",
    "test_score = []\n",
    "para_split = [n_split for n_split in range(2, 21)]\n",
    "\n",
    "for v_min_samples_split in para_split:\n",
    "    gb = GradientBoostingRegressor(n_estimators=60, min_samples_leaf=18,\n",
    "                              min_samples_split=v_min_samples_split)\n",
    "    gb.fit(df_train_x, df_train_y)\n",
    "    train_score.append(gb.score(df_train_x, df_train_y))\n",
    "    test_score.append(gb.score(df_test_x, df_test_y))\n",
    "\n",
    "df_score_split = pd.DataFrame()\n",
    "df_score_split['MinSamplesSplit'] = para_split\n",
    "df_score_split['TrainScore'] = train_score\n",
    "df_score_split['TestScore'] = test_score"
   ]
  },
  {
   "cell_type": "code",
   "execution_count": 234,
   "id": "749db6c9",
   "metadata": {
    "ExecuteTime": {
     "end_time": "2022-11-06T14:18:21.816094Z",
     "start_time": "2022-11-06T14:18:21.804249Z"
    }
   },
   "outputs": [
    {
     "data": {
      "text/html": [
       "<div>\n",
       "<style scoped>\n",
       "    .dataframe tbody tr th:only-of-type {\n",
       "        vertical-align: middle;\n",
       "    }\n",
       "\n",
       "    .dataframe tbody tr th {\n",
       "        vertical-align: top;\n",
       "    }\n",
       "\n",
       "    .dataframe thead th {\n",
       "        text-align: right;\n",
       "    }\n",
       "</style>\n",
       "<table border=\"1\" class=\"dataframe\">\n",
       "  <thead>\n",
       "    <tr style=\"text-align: right;\">\n",
       "      <th></th>\n",
       "      <th>MinSamplesSplit</th>\n",
       "      <th>TrainScore</th>\n",
       "      <th>TestScore</th>\n",
       "    </tr>\n",
       "  </thead>\n",
       "  <tbody>\n",
       "    <tr>\n",
       "      <th>0</th>\n",
       "      <td>2</td>\n",
       "      <td>0.743</td>\n",
       "      <td>0.48</td>\n",
       "    </tr>\n",
       "    <tr>\n",
       "      <th>1</th>\n",
       "      <td>3</td>\n",
       "      <td>0.743</td>\n",
       "      <td>0.48</td>\n",
       "    </tr>\n",
       "    <tr>\n",
       "      <th>2</th>\n",
       "      <td>4</td>\n",
       "      <td>0.743</td>\n",
       "      <td>0.48</td>\n",
       "    </tr>\n",
       "    <tr>\n",
       "      <th>3</th>\n",
       "      <td>5</td>\n",
       "      <td>0.743</td>\n",
       "      <td>0.48</td>\n",
       "    </tr>\n",
       "    <tr>\n",
       "      <th>4</th>\n",
       "      <td>6</td>\n",
       "      <td>0.743</td>\n",
       "      <td>0.48</td>\n",
       "    </tr>\n",
       "    <tr>\n",
       "      <th>5</th>\n",
       "      <td>7</td>\n",
       "      <td>0.743</td>\n",
       "      <td>0.48</td>\n",
       "    </tr>\n",
       "    <tr>\n",
       "      <th>6</th>\n",
       "      <td>8</td>\n",
       "      <td>0.743</td>\n",
       "      <td>0.48</td>\n",
       "    </tr>\n",
       "    <tr>\n",
       "      <th>7</th>\n",
       "      <td>9</td>\n",
       "      <td>0.743</td>\n",
       "      <td>0.48</td>\n",
       "    </tr>\n",
       "    <tr>\n",
       "      <th>8</th>\n",
       "      <td>10</td>\n",
       "      <td>0.743</td>\n",
       "      <td>0.48</td>\n",
       "    </tr>\n",
       "    <tr>\n",
       "      <th>9</th>\n",
       "      <td>11</td>\n",
       "      <td>0.743</td>\n",
       "      <td>0.48</td>\n",
       "    </tr>\n",
       "    <tr>\n",
       "      <th>10</th>\n",
       "      <td>12</td>\n",
       "      <td>0.743</td>\n",
       "      <td>0.48</td>\n",
       "    </tr>\n",
       "    <tr>\n",
       "      <th>11</th>\n",
       "      <td>13</td>\n",
       "      <td>0.743</td>\n",
       "      <td>0.48</td>\n",
       "    </tr>\n",
       "    <tr>\n",
       "      <th>12</th>\n",
       "      <td>14</td>\n",
       "      <td>0.743</td>\n",
       "      <td>0.48</td>\n",
       "    </tr>\n",
       "    <tr>\n",
       "      <th>13</th>\n",
       "      <td>15</td>\n",
       "      <td>0.743</td>\n",
       "      <td>0.48</td>\n",
       "    </tr>\n",
       "    <tr>\n",
       "      <th>14</th>\n",
       "      <td>16</td>\n",
       "      <td>0.743</td>\n",
       "      <td>0.48</td>\n",
       "    </tr>\n",
       "    <tr>\n",
       "      <th>15</th>\n",
       "      <td>17</td>\n",
       "      <td>0.743</td>\n",
       "      <td>0.48</td>\n",
       "    </tr>\n",
       "    <tr>\n",
       "      <th>16</th>\n",
       "      <td>18</td>\n",
       "      <td>0.743</td>\n",
       "      <td>0.48</td>\n",
       "    </tr>\n",
       "    <tr>\n",
       "      <th>17</th>\n",
       "      <td>19</td>\n",
       "      <td>0.743</td>\n",
       "      <td>0.48</td>\n",
       "    </tr>\n",
       "    <tr>\n",
       "      <th>18</th>\n",
       "      <td>20</td>\n",
       "      <td>0.743</td>\n",
       "      <td>0.48</td>\n",
       "    </tr>\n",
       "  </tbody>\n",
       "</table>\n",
       "</div>"
      ],
      "text/plain": [
       "    MinSamplesSplit  TrainScore  TestScore\n",
       "0                 2       0.743       0.48\n",
       "1                 3       0.743       0.48\n",
       "2                 4       0.743       0.48\n",
       "3                 5       0.743       0.48\n",
       "4                 6       0.743       0.48\n",
       "5                 7       0.743       0.48\n",
       "6                 8       0.743       0.48\n",
       "7                 9       0.743       0.48\n",
       "8                10       0.743       0.48\n",
       "9                11       0.743       0.48\n",
       "10               12       0.743       0.48\n",
       "11               13       0.743       0.48\n",
       "12               14       0.743       0.48\n",
       "13               15       0.743       0.48\n",
       "14               16       0.743       0.48\n",
       "15               17       0.743       0.48\n",
       "16               18       0.743       0.48\n",
       "17               19       0.743       0.48\n",
       "18               20       0.743       0.48"
      ]
     },
     "execution_count": 234,
     "metadata": {},
     "output_type": "execute_result"
    }
   ],
   "source": [
    "df_score_split.round(3)"
   ]
  },
  {
   "cell_type": "code",
   "execution_count": 235,
   "id": "4f1db865",
   "metadata": {
    "ExecuteTime": {
     "end_time": "2022-11-06T14:18:34.528813Z",
     "start_time": "2022-11-06T14:18:34.360265Z"
    }
   },
   "outputs": [
    {
     "data": {
      "text/plain": [
       "<matplotlib.legend.Legend at 0x29ea54b8f70>"
      ]
     },
     "execution_count": 235,
     "metadata": {},
     "output_type": "execute_result"
    },
    {
     "data": {
      "image/png": "[encoded data removed]",
      "text/plain": [
       "<Figure size 432x288 with 1 Axes>"
      ]
     },
     "metadata": {
      "needs_background": "light"
     },
     "output_type": "display_data"
    }
   ],
   "source": [
    "plt.plot(para_split, train_score, linestyle='-', label='TrainScore')\n",
    "plt.plot(para_split, test_score, linestyle='--', label='TestScore')\n",
    "plt.legend()"
   ]
  },
  {
   "cell_type": "markdown",
   "id": "061f8f79",
   "metadata": {},
   "source": [
    "min_samples_split 값을 변경해도 train data와 test data 모두 성능면에서 큰 변화가 나타나지 않으므로 설정하지 않는다."
   ]
  },
  {
   "cell_type": "markdown",
   "id": "ffe74f85",
   "metadata": {},
   "source": [
    "#### max_depth"
   ]
  },
  {
   "cell_type": "code",
   "execution_count": 236,
   "id": "b0d3f644",
   "metadata": {
    "ExecuteTime": {
     "end_time": "2022-11-06T14:19:51.030904Z",
     "start_time": "2022-11-06T14:19:50.618712Z"
    }
   },
   "outputs": [],
   "source": [
    "train_score = []\n",
    "test_score = []\n",
    "para_depth = [depth for depth in range(1, 11)]\n",
    "\n",
    "for v_max_depth in para_depth:\n",
    "    gb = GradientBoostingRegressor(n_estimators=60,\n",
    "                                   min_samples_leaf=18,\n",
    "                                   max_depth=v_max_depth)\n",
    "    gb.fit(df_train_x, df_train_y)\n",
    "    train_score.append(gb.score(df_train_x, df_train_y))\n",
    "    test_score.append(gb.score(df_test_x, df_test_y))\n",
    "\n",
    "df_score_depth = pd.DataFrame()\n",
    "df_score_depth['Depth'] = para_depth\n",
    "df_score_depth['TrainScore'] = train_score\n",
    "df_score_depth['TestScore'] = test_score"
   ]
  },
  {
   "cell_type": "code",
   "execution_count": 237,
   "id": "70fb1fd1",
   "metadata": {
    "ExecuteTime": {
     "end_time": "2022-11-06T14:20:03.419518Z",
     "start_time": "2022-11-06T14:20:03.399570Z"
    }
   },
   "outputs": [
    {
     "data": {
      "text/html": [
       "<div>\n",
       "<style scoped>\n",
       "    .dataframe tbody tr th:only-of-type {\n",
       "        vertical-align: middle;\n",
       "    }\n",
       "\n",
       "    .dataframe tbody tr th {\n",
       "        vertical-align: top;\n",
       "    }\n",
       "\n",
       "    .dataframe thead th {\n",
       "        text-align: right;\n",
       "    }\n",
       "</style>\n",
       "<table border=\"1\" class=\"dataframe\">\n",
       "  <thead>\n",
       "    <tr style=\"text-align: right;\">\n",
       "      <th></th>\n",
       "      <th>Depth</th>\n",
       "      <th>TrainScore</th>\n",
       "      <th>TestScore</th>\n",
       "    </tr>\n",
       "  </thead>\n",
       "  <tbody>\n",
       "    <tr>\n",
       "      <th>0</th>\n",
       "      <td>1</td>\n",
       "      <td>0.496</td>\n",
       "      <td>0.395</td>\n",
       "    </tr>\n",
       "    <tr>\n",
       "      <th>1</th>\n",
       "      <td>2</td>\n",
       "      <td>0.661</td>\n",
       "      <td>0.478</td>\n",
       "    </tr>\n",
       "    <tr>\n",
       "      <th>2</th>\n",
       "      <td>3</td>\n",
       "      <td>0.743</td>\n",
       "      <td>0.480</td>\n",
       "    </tr>\n",
       "    <tr>\n",
       "      <th>3</th>\n",
       "      <td>4</td>\n",
       "      <td>0.785</td>\n",
       "      <td>0.454</td>\n",
       "    </tr>\n",
       "    <tr>\n",
       "      <th>4</th>\n",
       "      <td>5</td>\n",
       "      <td>0.817</td>\n",
       "      <td>0.437</td>\n",
       "    </tr>\n",
       "    <tr>\n",
       "      <th>5</th>\n",
       "      <td>6</td>\n",
       "      <td>0.825</td>\n",
       "      <td>0.438</td>\n",
       "    </tr>\n",
       "    <tr>\n",
       "      <th>6</th>\n",
       "      <td>7</td>\n",
       "      <td>0.841</td>\n",
       "      <td>0.426</td>\n",
       "    </tr>\n",
       "    <tr>\n",
       "      <th>7</th>\n",
       "      <td>8</td>\n",
       "      <td>0.840</td>\n",
       "      <td>0.435</td>\n",
       "    </tr>\n",
       "    <tr>\n",
       "      <th>8</th>\n",
       "      <td>9</td>\n",
       "      <td>0.841</td>\n",
       "      <td>0.427</td>\n",
       "    </tr>\n",
       "    <tr>\n",
       "      <th>9</th>\n",
       "      <td>10</td>\n",
       "      <td>0.843</td>\n",
       "      <td>0.428</td>\n",
       "    </tr>\n",
       "  </tbody>\n",
       "</table>\n",
       "</div>"
      ],
      "text/plain": [
       "   Depth  TrainScore  TestScore\n",
       "0      1       0.496      0.395\n",
       "1      2       0.661      0.478\n",
       "2      3       0.743      0.480\n",
       "3      4       0.785      0.454\n",
       "4      5       0.817      0.437\n",
       "5      6       0.825      0.438\n",
       "6      7       0.841      0.426\n",
       "7      8       0.840      0.435\n",
       "8      9       0.841      0.427\n",
       "9     10       0.843      0.428"
      ]
     },
     "execution_count": 237,
     "metadata": {},
     "output_type": "execute_result"
    }
   ],
   "source": [
    "df_score_depth.round(3)"
   ]
  },
  {
   "cell_type": "code",
   "execution_count": 239,
   "id": "70624b69",
   "metadata": {
    "ExecuteTime": {
     "end_time": "2022-11-06T14:20:14.962041Z",
     "start_time": "2022-11-06T14:20:14.830414Z"
    }
   },
   "outputs": [
    {
     "data": {
      "text/plain": [
       "<matplotlib.legend.Legend at 0x29ea55a7ee0>"
      ]
     },
     "execution_count": 239,
     "metadata": {},
     "output_type": "execute_result"
    },
    {
     "data": {
      "image/png": "[encoded data removed]",
      "text/plain": [
       "<Figure size 432x288 with 1 Axes>"
      ]
     },
     "metadata": {
      "needs_background": "light"
     },
     "output_type": "display_data"
    }
   ],
   "source": [
    "plt.plot(para_depth, train_score, linestyle='-', label='TrainScore')\n",
    "plt.plot(para_depth, test_score, linestyle='--', label='TestScore')\n",
    "plt.legend()"
   ]
  },
  {
   "cell_type": "markdown",
   "id": "311dfce5",
   "metadata": {},
   "source": [
    "최대 깊이가 증가할수록 train data는 과대적합 되는 경향을 보이며, test data는 성능이 잠시 상승했다가 다시 하락 후 안정세를 보이는 경향이 있다. 따라서 test data의 성능을 고려하고 과대적합을 해결하기 위하여 max_depth는 4로 설정하였다."
   ]
  },
  {
   "cell_type": "markdown",
   "id": "3618282c",
   "metadata": {},
   "source": [
    "#### learning rate"
   ]
  },
  {
   "cell_type": "code",
   "execution_count": 241,
   "id": "a644dcec",
   "metadata": {
    "ExecuteTime": {
     "end_time": "2022-11-06T14:22:53.333815Z",
     "start_time": "2022-11-06T14:22:52.984351Z"
    }
   },
   "outputs": [],
   "source": [
    "train_score = []\n",
    "test_score = []\n",
    "para_lr = [lr*0.1 for lr in range(1, 10)]\n",
    "\n",
    "for v_learning_rate in para_lr:\n",
    "    gb = GradientBoostingRegressor(n_estimators=60,\n",
    "                                   min_samples_leaf=18,\n",
    "                                   max_depth=4,\n",
    "                                  learning_rate=v_learning_rate)\n",
    "    gb.fit(df_train_x, df_train_y)\n",
    "    train_score.append(gb.score(df_train_x, df_train_y))\n",
    "    test_score.append(gb.score(df_test_x, df_test_y))\n",
    "\n",
    "df_score_lr = pd.DataFrame()\n",
    "df_score_lr['LearningRage'] = para_lr\n",
    "df_score_lr['TrainScore'] = train_score\n",
    "df_score_lr['TestScore'] = test_score"
   ]
  },
  {
   "cell_type": "code",
   "execution_count": 242,
   "id": "8a072fd0",
   "metadata": {
    "ExecuteTime": {
     "end_time": "2022-11-06T14:23:00.560395Z",
     "start_time": "2022-11-06T14:23:00.541640Z"
    }
   },
   "outputs": [
    {
     "data": {
      "text/html": [
       "<div>\n",
       "<style scoped>\n",
       "    .dataframe tbody tr th:only-of-type {\n",
       "        vertical-align: middle;\n",
       "    }\n",
       "\n",
       "    .dataframe tbody tr th {\n",
       "        vertical-align: top;\n",
       "    }\n",
       "\n",
       "    .dataframe thead th {\n",
       "        text-align: right;\n",
       "    }\n",
       "</style>\n",
       "<table border=\"1\" class=\"dataframe\">\n",
       "  <thead>\n",
       "    <tr style=\"text-align: right;\">\n",
       "      <th></th>\n",
       "      <th>LearningRage</th>\n",
       "      <th>TrainScore</th>\n",
       "      <th>TestScore</th>\n",
       "    </tr>\n",
       "  </thead>\n",
       "  <tbody>\n",
       "    <tr>\n",
       "      <th>0</th>\n",
       "      <td>0.1</td>\n",
       "      <td>0.785</td>\n",
       "      <td>0.454</td>\n",
       "    </tr>\n",
       "    <tr>\n",
       "      <th>1</th>\n",
       "      <td>0.2</td>\n",
       "      <td>0.858</td>\n",
       "      <td>0.398</td>\n",
       "    </tr>\n",
       "    <tr>\n",
       "      <th>2</th>\n",
       "      <td>0.3</td>\n",
       "      <td>0.905</td>\n",
       "      <td>0.361</td>\n",
       "    </tr>\n",
       "    <tr>\n",
       "      <th>3</th>\n",
       "      <td>0.4</td>\n",
       "      <td>0.935</td>\n",
       "      <td>0.309</td>\n",
       "    </tr>\n",
       "    <tr>\n",
       "      <th>4</th>\n",
       "      <td>0.5</td>\n",
       "      <td>0.957</td>\n",
       "      <td>0.337</td>\n",
       "    </tr>\n",
       "    <tr>\n",
       "      <th>5</th>\n",
       "      <td>0.6</td>\n",
       "      <td>0.972</td>\n",
       "      <td>0.325</td>\n",
       "    </tr>\n",
       "    <tr>\n",
       "      <th>6</th>\n",
       "      <td>0.7</td>\n",
       "      <td>0.982</td>\n",
       "      <td>0.196</td>\n",
       "    </tr>\n",
       "    <tr>\n",
       "      <th>7</th>\n",
       "      <td>0.8</td>\n",
       "      <td>0.982</td>\n",
       "      <td>0.191</td>\n",
       "    </tr>\n",
       "    <tr>\n",
       "      <th>8</th>\n",
       "      <td>0.9</td>\n",
       "      <td>0.985</td>\n",
       "      <td>0.238</td>\n",
       "    </tr>\n",
       "  </tbody>\n",
       "</table>\n",
       "</div>"
      ],
      "text/plain": [
       "   LearningRage  TrainScore  TestScore\n",
       "0           0.1       0.785      0.454\n",
       "1           0.2       0.858      0.398\n",
       "2           0.3       0.905      0.361\n",
       "3           0.4       0.935      0.309\n",
       "4           0.5       0.957      0.337\n",
       "5           0.6       0.972      0.325\n",
       "6           0.7       0.982      0.196\n",
       "7           0.8       0.982      0.191\n",
       "8           0.9       0.985      0.238"
      ]
     },
     "execution_count": 242,
     "metadata": {},
     "output_type": "execute_result"
    }
   ],
   "source": [
    "df_score_lr.round(3)"
   ]
  },
  {
   "cell_type": "code",
   "execution_count": 243,
   "id": "1d98405e",
   "metadata": {
    "ExecuteTime": {
     "end_time": "2022-11-06T14:23:18.571318Z",
     "start_time": "2022-11-06T14:23:18.382825Z"
    }
   },
   "outputs": [
    {
     "data": {
      "text/plain": [
       "<matplotlib.legend.Legend at 0x29ea582df10>"
      ]
     },
     "execution_count": 243,
     "metadata": {},
     "output_type": "execute_result"
    },
    {
     "data": {
      "image/png": "[encoded data removed]",
      "text/plain": [
       "<Figure size 432x288 with 1 Axes>"
      ]
     },
     "metadata": {
      "needs_background": "light"
     },
     "output_type": "display_data"
    }
   ],
   "source": [
    "plt.plot(para_lr, train_score, linestyle='-', label='TrainScore')\n",
    "plt.plot(para_lr, test_score, linestyle='--', label='TestScore')\n",
    "plt.legend()"
   ]
  },
  {
   "cell_type": "markdown",
   "id": "a3b37a7f",
   "metadata": {},
   "source": [
    "학습률이 증가함에 따라 train data는 과대적합되는 경향을 보이고, test data의 성능은 하락한다. 따라서 test data의 성능을 고려하여 learing rate으로 0.1을 선정하였다."
   ]
  },
  {
   "cell_type": "markdown",
   "id": "834bc417",
   "metadata": {},
   "source": [
    "### 최종 모델"
   ]
  },
  {
   "cell_type": "code",
   "execution_count": 248,
   "id": "d91b625e",
   "metadata": {
    "ExecuteTime": {
     "end_time": "2022-11-06T14:25:35.448349Z",
     "start_time": "2022-11-06T14:25:35.404467Z"
    }
   },
   "outputs": [
    {
     "data": {
      "text/plain": [
       "GradientBoostingRegressor(max_depth=4, min_samples_leaf=18, n_estimators=60)"
      ]
     },
     "execution_count": 248,
     "metadata": {},
     "output_type": "execute_result"
    }
   ],
   "source": [
    "gb = GradientBoostingRegressor(n_estimators=60,\n",
    "                               min_samples_leaf=18,\n",
    "                               max_depth=4,\n",
    "                               learning_rate=0.1)\n",
    "gb.fit(df_train_x, df_train_y)"
   ]
  },
  {
   "cell_type": "markdown",
   "id": "1870b59b",
   "metadata": {},
   "source": [
    "### 성능 평가"
   ]
  },
  {
   "cell_type": "code",
   "execution_count": 249,
   "id": "2d743bd5",
   "metadata": {
    "ExecuteTime": {
     "end_time": "2022-11-06T14:25:36.192246Z",
     "start_time": "2022-11-06T14:25:36.170396Z"
    }
   },
   "outputs": [
    {
     "name": "stdout",
     "output_type": "stream",
     "text": [
      "train data : 0.785\n",
      "test data : 0.454\n"
     ]
    }
   ],
   "source": [
    "print(\"train data : {:.3f}\".format(gb.score(df_train_x, df_train_y)))\n",
    "print(\"test data : {:.3f}\".format(gb.score(df_test_x, df_test_y)))"
   ]
  },
  {
   "cell_type": "markdown",
   "id": "6b8989d7",
   "metadata": {},
   "source": [
    "그래디언트 부스팅 모델 생성 결과, train data의 성능은 78.5%, test data의 성능은 45.4%로, 과대적합 문제를 완벽히는 해결하지 못했으나 성능면에서는 이전 모델 대비 가장 우수한 성능을 보이는 것으로 판단된다. "
   ]
  },
  {
   "cell_type": "markdown",
   "id": "2e27f3d4",
   "metadata": {},
   "source": [
    "# 모델 최종 평가"
   ]
  },
  {
   "cell_type": "markdown",
   "id": "a4949f16",
   "metadata": {},
   "source": [
    "지금까지 생성한 회귀분석모델, 의사결정나무, 랜덤포레스트, 그래디언트 부스팅 모델로 최종 성능 평가를 진행한다. "
   ]
  },
  {
   "cell_type": "code",
   "execution_count": 262,
   "id": "869deded",
   "metadata": {
    "ExecuteTime": {
     "end_time": "2022-11-06T14:41:23.552641Z",
     "start_time": "2022-11-06T14:41:23.534245Z"
    }
   },
   "outputs": [],
   "source": [
    "models=['회귀분석' ,'의사결정나무', '랜덤포레스트', '그래디언트 부스팅']\n",
    "mse, rmse, mae, mape=[], [], [], []"
   ]
  },
  {
   "cell_type": "markdown",
   "id": "f7de6411",
   "metadata": {},
   "source": [
    "## 회귀분석모델 최종 평가"
   ]
  },
  {
   "cell_type": "code",
   "execution_count": 263,
   "id": "10fc8d06",
   "metadata": {
    "ExecuteTime": {
     "end_time": "2022-11-06T14:41:26.425616Z",
     "start_time": "2022-11-06T14:41:26.404064Z"
    }
   },
   "outputs": [],
   "source": [
    "lr_pred=reg_result.predict(df_test)\n",
    "\n",
    "mse.append(mean_squared_error(df_test['PM10'], lr_pred))\n",
    "rmse.append(root_mean_squared_error(df_test['PM10'], lr_pred))\n",
    "mae.append(mean_absolute_error(df_test['PM10'], lr_pred))\n",
    "mape.append(mean_absolute_percentage_error(df_test['PM10'], lr_pred))"
   ]
  },
  {
   "cell_type": "markdown",
   "id": "eb5bbbfb",
   "metadata": {},
   "source": [
    "## 의사결정나무 모델 최종 평가"
   ]
  },
  {
   "cell_type": "code",
   "execution_count": 264,
   "id": "eb5ce79a",
   "metadata": {
    "ExecuteTime": {
     "end_time": "2022-11-06T14:41:27.181996Z",
     "start_time": "2022-11-06T14:41:27.164913Z"
    }
   },
   "outputs": [],
   "source": [
    "tree_pred=tree.predict(df_test_x)\n",
    "\n",
    "mse.append(mean_squared_error(df_test_y, tree_pred))\n",
    "rmse.append(root_mean_squared_error(df_test_y, tree_pred))\n",
    "mae.append(mean_absolute_error(df_test_y, tree_pred))\n",
    "mape.append(mean_absolute_percentage_error(df_test_y, tree_pred))"
   ]
  },
  {
   "cell_type": "markdown",
   "id": "8bb276ae",
   "metadata": {},
   "source": [
    "## 랜덤포레스트 모델 최종 평가"
   ]
  },
  {
   "cell_type": "code",
   "execution_count": 265,
   "id": "149b721f",
   "metadata": {
    "ExecuteTime": {
     "end_time": "2022-11-06T14:41:27.889098Z",
     "start_time": "2022-11-06T14:41:27.868943Z"
    }
   },
   "outputs": [],
   "source": [
    "rf_pred=rf.predict(df_test_x)\n",
    "\n",
    "mse.append(mean_squared_error(df_test_y, rf_pred))\n",
    "rmse.append(root_mean_squared_error(df_test_y, rf_pred))\n",
    "mae.append(mean_absolute_error(df_test_y, rf_pred))\n",
    "mape.append(mean_absolute_percentage_error(df_test_y, rf_pred))"
   ]
  },
  {
   "cell_type": "markdown",
   "id": "b0b48732",
   "metadata": {},
   "source": [
    "## 그래디언트 부스팅 모델 최종 평가"
   ]
  },
  {
   "cell_type": "code",
   "execution_count": 266,
   "id": "18f05fe4",
   "metadata": {
    "ExecuteTime": {
     "end_time": "2022-11-06T14:41:28.566970Z",
     "start_time": "2022-11-06T14:41:28.547475Z"
    }
   },
   "outputs": [],
   "source": [
    "gb_pred=gb.predict(df_test_x)\n",
    "\n",
    "mse.append(mean_squared_error(df_test_y, gb_pred))\n",
    "rmse.append(root_mean_squared_error(df_test_y, gb_pred))\n",
    "mae.append(mean_absolute_error(df_test_y, gb_pred))\n",
    "mape.append(mean_absolute_percentage_error(df_test_y, gb_pred))"
   ]
  },
  {
   "cell_type": "markdown",
   "id": "868f6cae",
   "metadata": {},
   "source": [
    "## 모델 간 최종 평가점수 비교"
   ]
  },
  {
   "cell_type": "code",
   "execution_count": 267,
   "id": "990bcf26",
   "metadata": {
    "ExecuteTime": {
     "end_time": "2022-11-06T14:41:29.564476Z",
     "start_time": "2022-11-06T14:41:29.230899Z"
    }
   },
   "outputs": [
    {
     "data": {
      "image/png": "[encoded data removed]",
      "text/plain": [
       "<Figure size 936x720 with 4 Axes>"
      ]
     },
     "metadata": {
      "needs_background": "light"
     },
     "output_type": "display_data"
    }
   ],
   "source": [
    "fig, ax=plt.subplots(2,2, figsize=(13,10))\n",
    "\n",
    "ax[0,0].bar(models, mse)\n",
    "ax[0,0].set_title('MSE').set_fontsize(15)\n",
    "\n",
    "ax[0,1].bar(models, rmse)\n",
    "ax[0,1].set_title('RMSE').set_fontsize(15)\n",
    "\n",
    "ax[1,0].bar(models, mae)\n",
    "ax[1,0].set_title('MAE').set_fontsize(15)\n",
    "\n",
    "ax[1,1].bar(models, mape)\n",
    "ax[1,1].set_title('MAPE').set_fontsize(15)"
   ]
  },
  {
   "cell_type": "markdown",
   "id": "2bf33f7a",
   "metadata": {},
   "source": [
    "평가지표 별 모델의 추세는 매우 유사하게 나타난다. 따라서 그래디언트 부스팅 모델의 정확도가 가장 높고 회귀분석 모델의 정확도가 가장 낮은 것을 확인하였다. 결과적으로 성능이 가장 우수하게 나타나는 그래디언트 부스팅 모델을 최종 미세먼지 발생량 예측 모델로 채택하였다. "
   ]
  },
  {
   "cell_type": "markdown",
   "id": "79c30236",
   "metadata": {},
   "source": [
    "# 결론"
   ]
  },
  {
   "cell_type": "markdown",
   "id": "8b8bb95e",
   "metadata": {},
   "source": [
    "그래디언트 부스팅 모델이 최종 모델로 채택되었다.\n",
    "hyper parameter로 트리 수 60개, 잎사귀 노드 최소 자료수 18개, 최대 깊이 4, 학습률 0.1로 선정되었다."
   ]
  },
  {
   "cell_type": "code",
   "execution_count": 268,
   "id": "4439b38c",
   "metadata": {
    "ExecuteTime": {
     "end_time": "2022-11-06T14:45:48.563825Z",
     "start_time": "2022-11-06T14:45:48.505972Z"
    }
   },
   "outputs": [
    {
     "data": {
      "text/plain": [
       "GradientBoostingRegressor(max_depth=4, min_samples_leaf=18, n_estimators=60)"
      ]
     },
     "execution_count": 268,
     "metadata": {},
     "output_type": "execute_result"
    }
   ],
   "source": [
    "gb = GradientBoostingRegressor(n_estimators=60,\n",
    "                               min_samples_leaf=18,\n",
    "                               max_depth=4,\n",
    "                               learning_rate=0.1)\n",
    "gb.fit(df_train_x, df_train_y)"
   ]
  },
  {
   "cell_type": "code",
   "execution_count": 269,
   "id": "ac5dca64",
   "metadata": {
    "ExecuteTime": {
     "end_time": "2022-11-06T14:46:12.986816Z",
     "start_time": "2022-11-06T14:46:12.967870Z"
    }
   },
   "outputs": [
    {
     "name": "stdout",
     "output_type": "stream",
     "text": [
      "train data : 0.785\n",
      "test data : 0.454\n"
     ]
    }
   ],
   "source": [
    "print(\"train data : {:.3f}\".format(gb.score(df_train_x, df_train_y)))\n",
    "print(\"test data : {:.3f}\".format(gb.score(df_test_x, df_test_y)))"
   ]
  },
  {
   "cell_type": "markdown",
   "id": "e7825773",
   "metadata": {},
   "source": [
    "최종 성능은 255개의 train data에서 78.5%, 110개의 test data에서 45.4%의 정확도를 보였다."
   ]
  },
  {
   "cell_type": "markdown",
   "id": "6e913eb5",
   "metadata": {},
   "source": [
    "위의 모델로 설명변수의 중요도를 파악한 결과는 아래와 같다."
   ]
  },
  {
   "cell_type": "code",
   "execution_count": 270,
   "id": "fa45f87d",
   "metadata": {
    "ExecuteTime": {
     "end_time": "2022-11-06T14:51:46.726685Z",
     "start_time": "2022-11-06T14:51:46.703707Z"
    }
   },
   "outputs": [
    {
     "data": {
      "text/html": [
       "<div>\n",
       "<style scoped>\n",
       "    .dataframe tbody tr th:only-of-type {\n",
       "        vertical-align: middle;\n",
       "    }\n",
       "\n",
       "    .dataframe tbody tr th {\n",
       "        vertical-align: top;\n",
       "    }\n",
       "\n",
       "    .dataframe thead th {\n",
       "        text-align: right;\n",
       "    }\n",
       "</style>\n",
       "<table border=\"1\" class=\"dataframe\">\n",
       "  <thead>\n",
       "    <tr style=\"text-align: right;\">\n",
       "      <th></th>\n",
       "      <th>Feature</th>\n",
       "      <th>Importance</th>\n",
       "    </tr>\n",
       "  </thead>\n",
       "  <tbody>\n",
       "    <tr>\n",
       "      <th>2</th>\n",
       "      <td>CO</td>\n",
       "      <td>0.488</td>\n",
       "    </tr>\n",
       "    <tr>\n",
       "      <th>0</th>\n",
       "      <td>O3</td>\n",
       "      <td>0.187</td>\n",
       "    </tr>\n",
       "    <tr>\n",
       "      <th>3</th>\n",
       "      <td>TEMP</td>\n",
       "      <td>0.111</td>\n",
       "    </tr>\n",
       "    <tr>\n",
       "      <th>5</th>\n",
       "      <td>WIND_DIR</td>\n",
       "      <td>0.072</td>\n",
       "    </tr>\n",
       "    <tr>\n",
       "      <th>4</th>\n",
       "      <td>WIND</td>\n",
       "      <td>0.052</td>\n",
       "    </tr>\n",
       "    <tr>\n",
       "      <th>1</th>\n",
       "      <td>NO2</td>\n",
       "      <td>0.050</td>\n",
       "    </tr>\n",
       "    <tr>\n",
       "      <th>6</th>\n",
       "      <td>ATM_PRESS</td>\n",
       "      <td>0.039</td>\n",
       "    </tr>\n",
       "  </tbody>\n",
       "</table>\n",
       "</div>"
      ],
      "text/plain": [
       "     Feature  Importance\n",
       "2         CO       0.488\n",
       "0         O3       0.187\n",
       "3       TEMP       0.111\n",
       "5   WIND_DIR       0.072\n",
       "4       WIND       0.052\n",
       "1        NO2       0.050\n",
       "6  ATM_PRESS       0.039"
      ]
     },
     "execution_count": 270,
     "metadata": {},
     "output_type": "execute_result"
    }
   ],
   "source": [
    "v_feature_name=df_train_x.columns\n",
    "\n",
    "df_importance=pd.DataFrame()\n",
    "df_importance['Feature']=v_feature_name\n",
    "df_importance['Importance']=gb.feature_importances_\n",
    "\n",
    "df_importance.sort_values('Importance', ascending=False, inplace=True)\n",
    "df_importance.round(3)"
   ]
  },
  {
   "cell_type": "code",
   "execution_count": 271,
   "id": "22b4f2a0",
   "metadata": {
    "ExecuteTime": {
     "end_time": "2022-11-06T14:53:16.308373Z",
     "start_time": "2022-11-06T14:53:16.124863Z"
    }
   },
   "outputs": [
    {
     "data": {
      "text/plain": [
       "Text(0, 0.5, '변수')"
      ]
     },
     "execution_count": 271,
     "metadata": {},
     "output_type": "execute_result"
    },
    {
     "data": {
      "image/png": "[encoded data removed]",
      "text/plain": [
       "<Figure size 432x288 with 1 Axes>"
      ]
     },
     "metadata": {
      "needs_background": "light"
     },
     "output_type": "display_data"
    }
   ],
   "source": [
    "# 설명변수 중요도 그래프\n",
    "df_importance.sort_values('Importance', ascending=True, inplace=True)\n",
    "coordinates=range(len(df_importance))\n",
    "plt.barh(y=coordinates, width=df_importance['Importance'])\n",
    "plt.yticks(coordinates, df_importance['Feature'])\n",
    "plt.xlabel('변수 중요도')\n",
    "plt.ylabel('변수')"
   ]
  },
  {
   "cell_type": "markdown",
   "id": "80f17c1e",
   "metadata": {},
   "source": [
    "따라서 최종적으로 미세먼지 발생량에 가장 중요한 영향인자로는 대기오염물질인 일산화탄소와 오존이 있으며, 그 외 기온과 풍속, 풍향이 주요 영향인자로써 대기오염물질을 운반하여 미세먼지 발생에 영향을 미친다는 것을 확인하였다."
   ]
  }
 ],
 "metadata": {
  "kernelspec": {
   "display_name": "Python 3 (ipykernel)",
   "language": "python",
   "name": "python3"
  },
  "language_info": {
   "codemirror_mode": {
    "name": "ipython",
    "version": 3
   },
   "file_extension": ".py",
   "mimetype": "text/x-python",
   "name": "python",
   "nbconvert_exporter": "python",
   "pygments_lexer": "ipython3",
   "version": "3.9.12"
  },
  "toc": {
   "base_numbering": 1,
   "nav_menu": {},
   "number_sections": true,
   "sideBar": true,
   "skip_h1_title": false,
   "title_cell": "Table of Contents",
   "title_sidebar": "Contents",
   "toc_cell": false,
   "toc_position": {
    "height": "calc(100% - 180px)",
    "left": "10px",
    "top": "150px",
    "width": "165px"
   },
   "toc_section_display": true,
   "toc_window_display": true
  }
 },
 "nbformat": 4,
 "nbformat_minor": 5
}
