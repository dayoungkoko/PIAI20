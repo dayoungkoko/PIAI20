{
 "cells": [
  {
   "cell_type": "markdown",
   "id": "c334fecf",
   "metadata": {},
   "source": [
    "# 실습1"
   ]
  },
  {
   "cell_type": "code",
   "execution_count": 1,
   "id": "d093a1f2",
   "metadata": {
    "ExecuteTime": {
     "end_time": "2022-11-21T06:04:15.340289Z",
     "start_time": "2022-11-21T06:04:15.324998Z"
    }
   },
   "outputs": [
    {
     "name": "stdout",
     "output_type": "stream",
     "text": [
      "6 14\n",
      "6 14\n"
     ]
    }
   ],
   "source": [
    "def my_len(x):\n",
    "    length = 0\n",
    "    for i in x:\n",
    "        length += 1\n",
    "    return length\n",
    "\n",
    "a = [5, 5, 6, 7, 8, 3]\n",
    "b = 'Life is short.'\n",
    "# 내장 함수 len()\n",
    "print(len(a), len(b))\n",
    "# my_len()\n",
    "print(my_len(a), my_len(b))"
   ]
  },
  {
   "cell_type": "markdown",
   "id": "d3220391",
   "metadata": {},
   "source": [
    "# 실습2"
   ]
  },
  {
   "cell_type": "code",
   "execution_count": 2,
   "id": "7ee44119",
   "metadata": {
    "ExecuteTime": {
     "end_time": "2022-11-21T06:04:32.656845Z",
     "start_time": "2022-11-21T06:04:32.644778Z"
    }
   },
   "outputs": [
    {
     "name": "stdout",
     "output_type": "stream",
     "text": [
      "6\n",
      "120\n"
     ]
    }
   ],
   "source": [
    "def mult(a, b):\n",
    "    ans = 1\n",
    "    for i in range(a, b + 1):\n",
    "        ans *= i\n",
    "    return (ans)\n",
    "\n",
    "print(mult(1,3))\n",
    "print(mult(2,5))"
   ]
  },
  {
   "cell_type": "markdown",
   "id": "d6a13e39",
   "metadata": {},
   "source": [
    "# 실습3"
   ]
  },
  {
   "cell_type": "code",
   "execution_count": 3,
   "id": "bb01e470",
   "metadata": {
    "ExecuteTime": {
     "end_time": "2022-11-21T06:04:45.519505Z",
     "start_time": "2022-11-21T06:04:45.509493Z"
    }
   },
   "outputs": [
    {
     "name": "stdout",
     "output_type": "stream",
     "text": [
      "7 -9\n",
      "1 -1\n"
     ]
    }
   ],
   "source": [
    "def sum_pos_neg(l):\n",
    "    possum, negsum = 0, 0\n",
    "    for i in l:\n",
    "        if i > 0:\n",
    "            possum += i\n",
    "        elif i < 0:\n",
    "            negsum += i\n",
    "        else:\n",
    "            continue\n",
    "    return (possum, negsum)\n",
    "\n",
    "possum, negsum = sum_pos_neg([3, 4, -6, -3])\n",
    "print(possum, negsum)\n",
    "\n",
    "mylist = [0, 0, 0, 0, 0, 0, 0, 0, 0, 1, -1]\n",
    "possum2, negsum2 = sum_pos_neg(mylist)\n",
    "print(possum2, negsum2)"
   ]
  },
  {
   "cell_type": "markdown",
   "id": "3f5566c7",
   "metadata": {},
   "source": [
    "# 실습4"
   ]
  },
  {
   "cell_type": "code",
   "execution_count": 4,
   "id": "9a5e2bdf",
   "metadata": {
    "ExecuteTime": {
     "end_time": "2022-11-21T06:04:54.986570Z",
     "start_time": "2022-11-21T06:04:54.978588Z"
    }
   },
   "outputs": [
    {
     "name": "stdout",
     "output_type": "stream",
     "text": [
      "[1.5, 1.5] [7.5, 5.5] [4.14, 2.72]\n"
     ]
    }
   ],
   "source": [
    "def vector_sum(vector, *vectors):\n",
    "    lst = []\n",
    "    for i in range(0, len(vector)):\n",
    "        a = vector[i]\n",
    "        for v in vectors:\n",
    "            a += v[i]\n",
    "        lst.append(round(a, 2))\n",
    "    return (lst)\n",
    "\n",
    "v1 = [0, 1]\n",
    "v2 = [0.5, 0.5]\n",
    "v3 = [1, 0]\n",
    "v4 = [6, 4]\n",
    "v5 = [3.14, 2.72]\n",
    "m1 = vector_sum(v1, v2, v3)\n",
    "m2 = vector_sum(v1, v2, v3, v4)\n",
    "m3 = vector_sum(v3, v5)\n",
    "print(m1, m2, m3)"
   ]
  },
  {
   "cell_type": "markdown",
   "id": "ef0bf59a",
   "metadata": {
    "ExecuteTime": {
     "end_time": "2022-11-21T02:17:27.595991Z",
     "start_time": "2022-11-21T02:17:27.576045Z"
    }
   },
   "source": [
    "def vector_sum(vector, *vectors): <br>\n",
    "    v0, v1=vector[0], vector[1] <br>\n",
    "    for v in vectors :<br>\n",
    "        v0 += v[0] <br>\n",
    "        v1 += v[1] <br> \n",
    "        return [v0,v1]"
   ]
  },
  {
   "cell_type": "markdown",
   "id": "5ea420c1",
   "metadata": {},
   "source": [
    "# 실습5"
   ]
  },
  {
   "cell_type": "code",
   "execution_count": 5,
   "id": "66785ae6",
   "metadata": {
    "ExecuteTime": {
     "end_time": "2022-11-21T06:05:06.287634Z",
     "start_time": "2022-11-21T06:05:06.278659Z"
    }
   },
   "outputs": [
    {
     "name": "stdout",
     "output_type": "stream",
     "text": [
      "[1, 1, 2, 2, 3, 5, 9]\n",
      "[0, 4, 6, 9]\n",
      "[0, 0]\n"
     ]
    }
   ],
   "source": [
    "def merge_list(lst1=[0], lst2=[0]):\n",
    "    return(sorted(lst1+lst2))\n",
    "\n",
    "l = [3, 5, 9, 1, 2]\n",
    "ml1 = merge_list(l,[2,1])\n",
    "ml2 = merge_list([6,9,4])\n",
    "ml3 = merge_list()\n",
    "print(ml1) # [1, 1, 2, 2, 3, 5, 9]\n",
    "print(ml2) # [0, 4, 6, 9]\n",
    "print(ml3) # [0, 0]"
   ]
  },
  {
   "cell_type": "markdown",
   "id": "eea41dfc",
   "metadata": {},
   "source": [
    "# 실습6"
   ]
  },
  {
   "cell_type": "code",
   "execution_count": 6,
   "id": "5873b446",
   "metadata": {
    "ExecuteTime": {
     "end_time": "2022-11-21T06:05:12.274328Z",
     "start_time": "2022-11-21T06:05:12.256376Z"
    }
   },
   "outputs": [
    {
     "name": "stdout",
     "output_type": "stream",
     "text": [
      "**로또 번호 자동 기입을 시작합니다**\n",
      "1 번째 자동 기입 ==> 2  11  25  30  31  45  \n",
      "2 번째 자동 기입 ==> 15  23  25  26  27  38  \n",
      "3 번째 자동 기입 ==> 2  3  6  7  22  27  \n",
      "4 번째 자동 기입 ==> 15  21  25  28  34  41  \n",
      "5 번째 자동 기입 ==> 1  11  12  21  23  27  \n"
     ]
    }
   ],
   "source": [
    "import random\n",
    "\n",
    "print(\"**로또 번호 자동 기입을 시작합니다**\")\n",
    "for i in range(1, 6):\n",
    "    print(i, \"번째 자동 기입 ==> \", end=\"\")\n",
    "    lst = sorted(random.sample(list(range(1, 46)), 6))\n",
    "    for i in lst: print(i, end=\"  \")\n",
    "    print()"
   ]
  },
  {
   "cell_type": "markdown",
   "id": "e2341498",
   "metadata": {},
   "source": [
    "# 실습7"
   ]
  },
  {
   "cell_type": "code",
   "execution_count": 7,
   "id": "8bddaf2f",
   "metadata": {
    "ExecuteTime": {
     "end_time": "2022-11-21T06:05:18.356892Z",
     "start_time": "2022-11-21T06:05:18.346914Z"
    }
   },
   "outputs": [
    {
     "name": "stdout",
     "output_type": "stream",
     "text": [
      "1\n",
      "9\n",
      "[3, 5, 2]\n"
     ]
    }
   ],
   "source": [
    "def get_min_max(l):\n",
    "    min_val=min(l)\n",
    "    max_val=max(l)\n",
    "    l.remove(min_val)\n",
    "    l.remove(max_val)\n",
    "    return min_val, max_val\n",
    "\n",
    "l=[3,5,9,1,2]\n",
    "min_val, max_val=get_min_max(l)\n",
    "print(min_val)\n",
    "print(max_val)\n",
    "print(l)"
   ]
  },
  {
   "cell_type": "markdown",
   "id": "85aa9f84",
   "metadata": {},
   "source": [
    "# 실습8"
   ]
  },
  {
   "cell_type": "code",
   "execution_count": 8,
   "id": "2d4ae6b5",
   "metadata": {
    "ExecuteTime": {
     "end_time": "2022-11-21T06:05:24.174615Z",
     "start_time": "2022-11-21T06:05:24.151630Z"
    }
   },
   "outputs": [
    {
     "name": "stdout",
     "output_type": "stream",
     "text": [
      "{'a': 3, 'b': 3, 'c': 4, 'd': 7, 'e': 9}\n"
     ]
    }
   ],
   "source": [
    "def comb_dict(d1, d2):\n",
    "    d3 = {}\n",
    "    d1_keys = list(d1.keys())\n",
    "    d2_keys = list(d2.keys())\n",
    "    for i in d1_keys:\n",
    "        if i in d2_keys:\n",
    "            d3[i] = d1[i] + d2[i]\n",
    "        else:\n",
    "            d3[i] = d1[i]\n",
    "    for i in d2_keys:\n",
    "        if i not in d1_keys:\n",
    "            d3[i] = d2[i]\n",
    "    return (dict(sorted(d3.items())))\n",
    "\n",
    "d1 = {'a': 1, 'b': 3, 'd': 7, 'e': 8}\n",
    "d2 = {'a': 2, 'c': 4, 'e': 1}\n",
    "d3=comb_dict(d1,d2)\n",
    "print(d3)"
   ]
  },
  {
   "cell_type": "markdown",
   "id": "714775a3",
   "metadata": {},
   "source": [
    "# 실습9"
   ]
  },
  {
   "cell_type": "code",
   "execution_count": 10,
   "id": "a80c2f70",
   "metadata": {
    "ExecuteTime": {
     "end_time": "2022-11-21T06:05:39.813490Z",
     "start_time": "2022-11-21T06:05:39.800525Z"
    }
   },
   "outputs": [
    {
     "name": "stdout",
     "output_type": "stream",
     "text": [
      "4\n",
      "300\n",
      "오류발생!\n"
     ]
    }
   ],
   "source": [
    "def diff(*n):\n",
    "    if len(n) >= 2:\n",
    "        return (max(n) - min(n))\n",
    "    else:\n",
    "        return (\"오류발생!\")\n",
    "\n",
    "print(diff(1, 2, 3, 4, 5))\n",
    "print(diff(-100, 200))\n",
    "print(diff(1))"
   ]
  },
  {
   "cell_type": "code",
   "execution_count": null,
   "id": "588e57bf",
   "metadata": {},
   "outputs": [],
   "source": []
  },
  {
   "cell_type": "markdown",
   "id": "74659792",
   "metadata": {},
   "source": [
    "END."
   ]
  }
 ],
 "metadata": {
  "kernelspec": {
   "display_name": "Python 3 (ipykernel)",
   "language": "python",
   "name": "python3"
  },
  "language_info": {
   "codemirror_mode": {
    "name": "ipython",
    "version": 3
   },
   "file_extension": ".py",
   "mimetype": "text/x-python",
   "name": "python",
   "nbconvert_exporter": "python",
   "pygments_lexer": "ipython3",
   "version": "3.9.12"
  },
  "toc": {
   "base_numbering": 1,
   "nav_menu": {},
   "number_sections": true,
   "sideBar": true,
   "skip_h1_title": false,
   "title_cell": "Table of Contents",
   "title_sidebar": "Contents",
   "toc_cell": false,
   "toc_position": {},
   "toc_section_display": true,
   "toc_window_display": false
  }
 },
 "nbformat": 4,
 "nbformat_minor": 5
}
