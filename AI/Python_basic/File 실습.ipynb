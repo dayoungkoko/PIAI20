{
 "cells": [
  {
   "cell_type": "markdown",
   "id": "6d4f8b70",
   "metadata": {},
   "source": [
    "# 실습1 - 파일에 있는 각각의 단어 수 구하기"
   ]
  },
  {
   "cell_type": "code",
   "execution_count": 5,
   "id": "c9f50e31",
   "metadata": {
    "ExecuteTime": {
     "end_time": "2022-11-23T15:27:04.532527Z",
     "start_time": "2022-11-23T15:27:04.517567Z"
    }
   },
   "outputs": [
    {
     "name": "stdout",
     "output_type": "stream",
     "text": [
      "{'first': 1, 'line': 3, 'second': 1, 'third': 1}\n"
     ]
    }
   ],
   "source": [
    "fr=open('test.txt', 'r') #test.txt 파일을 read 모드로 열기\n",
    "line=fr.readlines() #test.txt 파일의 문장들 읽어오기\n",
    "dic={} #결과를 저장할 dictionary 선언\n",
    "for i in range(0,len(line)) : \n",
    "    spt=line[i].split() #각 문장에 있는 단어들\n",
    "    for i in range(0,len(spt)) :\n",
    "        if spt[i] not in list(dic.keys()) : \n",
    "            # 각 단어가 dictionary에 key로 추가되어 있지 않은 경우, 추가하고 문장에서 단어 개수를 세서 value로 지정\n",
    "            dic[spt[i]]=spt.count(spt[i])\n",
    "            # else라면 단어가 이미 dictionary에 key로 추가되어 있으므로, value에 그 문장에서 해당 단어 수 세서 더해줌\n",
    "        else :\n",
    "            dic[spt[i]]=dic[spt[i]]+spt.count(spt[i])\n",
    "fr.close() #파일 닫기\n",
    "print(dic) #최종 결과 출력"
   ]
  },
  {
   "cell_type": "markdown",
   "id": "ee136b55",
   "metadata": {},
   "source": [
    "# 실습2 - 파일을 입력 받아 문장을 대문자로 출력하기"
   ]
  },
  {
   "cell_type": "code",
   "execution_count": 55,
   "id": "3fb8b157",
   "metadata": {
    "ExecuteTime": {
     "end_time": "2022-11-23T15:49:06.925455Z",
     "start_time": "2022-11-23T15:49:04.062181Z"
    }
   },
   "outputs": [
    {
     "name": "stdout",
     "output_type": "stream",
     "text": [
      "Enter a file name : test.txt\n",
      "FIRST LINE\n",
      "SECOND LINE\n",
      "THIRD LINE\n"
     ]
    }
   ],
   "source": [
    "import os\n",
    "\n",
    "file_name=input('Enter a file name : ') #파일명 입력받기\n",
    "if os.path.exists(file_name) : #만약 해당 파일이 존재한다면\n",
    "    f_line=open(file_name, 'r') \n",
    "    with open(file_name, 'r') as f: #with 블록을 벗어나는 순간 파일을 자동으로 닫아줌\n",
    "        for i in range(0,len(f.readlines())) : #해당 라인수 만큼 파일을 한 줄씩 읽어\n",
    "            print(f_line.readline().upper(), end='') #파일의 내용을 모두 대문자로 출력하기\n",
    "else :\n",
    "    print('파일이 존재하지 않는다') #파일이 존재하지 않는 경우 '파일이 존재하지 않는다' 출력\n",
    "    \n",
    "f_line.close()"
   ]
  },
  {
   "cell_type": "markdown",
   "id": "d53c6b3f",
   "metadata": {},
   "source": [
    "# 실습3 - 제출하지 않아도 된다 하셨음"
   ]
  },
  {
   "cell_type": "markdown",
   "id": "ae8fda6e",
   "metadata": {},
   "source": [
    "# 실습4"
   ]
  },
  {
   "cell_type": "code",
   "execution_count": 19,
   "id": "77133b64",
   "metadata": {
    "ExecuteTime": {
     "end_time": "2022-11-23T15:36:33.045612Z",
     "start_time": "2022-11-23T15:36:33.027660Z"
    }
   },
   "outputs": [],
   "source": [
    "f_score=open('score.txt', 'r') #score.txt 읽어오기 \n",
    "f_report=open('report.txt', 'w') #report.txt에 작성하기\n",
    "line=f_score.readlines() #score.txt의 학번, 중간고사 점수, 기말고사 점수 읽어오기\n",
    "for i in range(0,len(line)) :\n",
    "    s=float(line[i].split()[1])*0.4 + float(line[i].split()[2])*0.6 \n",
    "    s=round(s,1) #총점은 중간고사 40%, 기말고사 60%이므로 계산 후 결과 출력을 위해 반올림\n",
    "    if s>=90 : #90점 이상일 때 학점은 A\n",
    "        grade='A'\n",
    "    elif s>=80 : #80~90일 때 학점은 B\n",
    "        grade='B'\n",
    "    elif s>=70 : #70~80일 때 학점은 C\n",
    "        grade='C'\n",
    "    elif s>=60 : #60~70일 때 학점은 D\n",
    "        grade='D'\n",
    "    else : #60미만이면 F\n",
    "        grade='F'\n",
    "    report=line[i].strip() + '\\t{}({})\\n'.format(s,grade) #score.txt의 끝에 성적(학점) 기록\n",
    "    f_report.write(report) #결과를 report.txt에 작성함\n",
    "f_score.close() #score.txt 닫기\n",
    "f_report.close() #report.txt 닫기"
   ]
  },
  {
   "cell_type": "markdown",
   "id": "e2111cc2",
   "metadata": {},
   "source": [
    "END."
   ]
  },
  {
   "cell_type": "code",
   "execution_count": null,
   "id": "06fa61ee",
   "metadata": {},
   "outputs": [],
   "source": []
  }
 ],
 "metadata": {
  "kernelspec": {
   "display_name": "Python 3 (ipykernel)",
   "language": "python",
   "name": "python3"
  },
  "language_info": {
   "codemirror_mode": {
    "name": "ipython",
    "version": 3
   },
   "file_extension": ".py",
   "mimetype": "text/x-python",
   "name": "python",
   "nbconvert_exporter": "python",
   "pygments_lexer": "ipython3",
   "version": "3.9.12"
  },
  "toc": {
   "base_numbering": 1,
   "nav_menu": {},
   "number_sections": true,
   "sideBar": true,
   "skip_h1_title": false,
   "title_cell": "Table of Contents",
   "title_sidebar": "Contents",
   "toc_cell": false,
   "toc_position": {},
   "toc_section_display": true,
   "toc_window_display": false
  }
 },
 "nbformat": 4,
 "nbformat_minor": 5
}
