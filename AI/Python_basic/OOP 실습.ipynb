{
 "cells": [
  {
   "cell_type": "markdown",
   "id": "c519bce6",
   "metadata": {},
   "source": [
    "# 과제 - 클래스 Set 구현하기"
   ]
  },
  {
   "cell_type": "code",
   "execution_count": 51,
   "id": "4a98f4b4",
   "metadata": {
    "ExecuteTime": {
     "end_time": "2022-11-23T15:19:19.799465Z",
     "start_time": "2022-11-23T15:19:19.771774Z"
    }
   },
   "outputs": [],
   "source": [
    "class Set:  #클래스 Set 구현하기\n",
    "    def __init__(self, lst=[]):  # 생성자, 매개 변수 없이 생성 시, 빈 집합 상태\n",
    "        self.s = []\n",
    "        for i in lst:\n",
    "            if i not in self.s:  #중복 없이 자료에 담는다\n",
    "                self.s.append(i)\n",
    "\n",
    "    def add(self, elem):  #Set에 elem이 존재하지 않으면 추가\n",
    "        if elem not in self.s:\n",
    "            self.s.append(elem)\n",
    "        return self\n",
    "\n",
    "    def discard(self, elem):  #Set에 elem이 존재하면 삭제\n",
    "        if elem in self.s:\n",
    "            self.s.remove(elem)\n",
    "        return self\n",
    "\n",
    "    def clear(self):  #Set에 존재하는 모든 원소 삭제\n",
    "        while len(self.s) != 0:\n",
    "            for i in self.s:\n",
    "                self.s.remove(i)\n",
    "        return self\n",
    "\n",
    "    def __len__(self):  #Set에 존재하는 원소 개수 반환\n",
    "        return len(self.s)\n",
    "\n",
    "    def __str__(self):  #Set에 존재하는 원소를 '{1, 2, 3}'의 형태로 반환\n",
    "        return '{%s}' % \", \".join(list(map(str, self.s)))\n",
    "\n",
    "    def __contains__(self, elem):  #Set에 elem이 존재하면 참, 아니면 거짓 반환\n",
    "        if elem in self.s:\n",
    "            return True\n",
    "        else:\n",
    "            return False\n",
    "\n",
    "    def __le__(self, other):  #<= (self가 other의 부분집합이면 참, 아니면 거짓 반환)\n",
    "        for i in self.s:\n",
    "            if i not in other.s:\n",
    "                return False\n",
    "        return True\n",
    "\n",
    "    def __ge__(self, other):  #>= (other가 self의 부분집합이면 참 반환, 아니면 거짓 반환)\n",
    "        for i in other.s:\n",
    "            if i not in self.s:\n",
    "                return False\n",
    "        return True\n",
    "\n",
    "    def __or__(self, other):  # self | other : self와 other의 원소를 모두 포함하는 합집합 반환\n",
    "        self.u = []\n",
    "        self.o = other.s\n",
    "        for i in self.s:\n",
    "            self.u.append(i)\n",
    "        for i in self.o:\n",
    "            if i not in self.u:\n",
    "                self.u.append(i)\n",
    "        return Set(self.u)\n",
    "\n",
    "    def __and__(self, other):  #self & other : self와 other의 교집합 반환\n",
    "        self.i = []\n",
    "        self.o = other.s\n",
    "        for i in self.s:\n",
    "            if i in self.o:\n",
    "                self.i.append(i)\n",
    "        return Set(self.i)\n",
    "\n",
    "    def __sub__(self, other):  #self - other : self의 원소 중 other에 없는 원소만을 포함하는 차집합\n",
    "        self.d = []\n",
    "        self.o = other.s\n",
    "        for i in self.s:\n",
    "            if i not in self.o:\n",
    "                self.d.append(i)\n",
    "        return Set(self.d)\n",
    "\n",
    "    #In-Place Operation\n",
    "    def __ior__(self, other):  #|= : a=a|b\n",
    "        for i in other.s:\n",
    "            if i not in self.s:\n",
    "                self.s.append(i)\n",
    "        return self\n",
    "\n",
    "    def __iand__(self, other):  #&= : a=a&b\n",
    "        self.i = []\n",
    "        for i in self.s:\n",
    "            if i in other.s:\n",
    "                self.i.append(i)\n",
    "            else:\n",
    "                continue\n",
    "        self.s = self.i\n",
    "        return self\n",
    "\n",
    "    def __isub__(self, other):  #-= : a=a-b\n",
    "        for i in self.s:\n",
    "            if i in other.s:\n",
    "                self.s.remove(i)\n",
    "        return self"
   ]
  },
  {
   "cell_type": "markdown",
   "id": "bbec0f05",
   "metadata": {},
   "source": [
    "# < Test Case >"
   ]
  },
  {
   "cell_type": "code",
   "execution_count": 53,
   "id": "582d9a96",
   "metadata": {
    "ExecuteTime": {
     "end_time": "2022-11-23T15:19:34.694101Z",
     "start_time": "2022-11-23T15:19:34.679910Z"
    }
   },
   "outputs": [],
   "source": [
    "a=Set([1,2,3,4])\n",
    "b=Set([1,2,3,4])"
   ]
  },
  {
   "cell_type": "code",
   "execution_count": 54,
   "id": "33bf22a0",
   "metadata": {
    "ExecuteTime": {
     "end_time": "2022-11-23T15:19:35.594693Z",
     "start_time": "2022-11-23T15:19:35.575743Z"
    }
   },
   "outputs": [
    {
     "name": "stdout",
     "output_type": "stream",
     "text": [
      "{1, 2, 3, 4}\n",
      "{1, 2, 3, 4}\n",
      "\n"
     ]
    }
   ],
   "source": [
    "print(a)\n",
    "print(b)\n",
    "print()"
   ]
  },
  {
   "cell_type": "code",
   "execution_count": 55,
   "id": "929d339a",
   "metadata": {
    "ExecuteTime": {
     "end_time": "2022-11-23T15:19:36.188258Z",
     "start_time": "2022-11-23T15:19:36.176290Z"
    }
   },
   "outputs": [
    {
     "name": "stdout",
     "output_type": "stream",
     "text": [
      "{1, 2, 3}\n",
      "{2, 3, 4}\n",
      "\n"
     ]
    }
   ],
   "source": [
    "a.discard(4)\n",
    "b.discard(1)\n",
    "print(a)\n",
    "print(b)\n",
    "print()"
   ]
  },
  {
   "cell_type": "code",
   "execution_count": 56,
   "id": "c3e16494",
   "metadata": {
    "ExecuteTime": {
     "end_time": "2022-11-23T15:19:41.580404Z",
     "start_time": "2022-11-23T15:19:41.563490Z"
    }
   },
   "outputs": [
    {
     "name": "stdout",
     "output_type": "stream",
     "text": [
      "3\n",
      "True\n",
      "False\n",
      "\n"
     ]
    }
   ],
   "source": [
    "print(len(a))\n",
    "print(1 in a)\n",
    "print(1 in b)\n",
    "print()"
   ]
  },
  {
   "cell_type": "code",
   "execution_count": 57,
   "id": "b6fc459c",
   "metadata": {
    "ExecuteTime": {
     "end_time": "2022-11-23T15:19:42.214775Z",
     "start_time": "2022-11-23T15:19:42.198858Z"
    }
   },
   "outputs": [
    {
     "name": "stdout",
     "output_type": "stream",
     "text": [
      "{1, 2, 3, 4}\n",
      "{2, 3}\n",
      "{1}\n",
      "\n"
     ]
    }
   ],
   "source": [
    "print(a|b)\n",
    "print(a&b)\n",
    "print(a-b)\n",
    "print()"
   ]
  },
  {
   "cell_type": "code",
   "execution_count": 58,
   "id": "8e677c8b",
   "metadata": {
    "ExecuteTime": {
     "end_time": "2022-11-23T15:19:44.504059Z",
     "start_time": "2022-11-23T15:19:44.493833Z"
    }
   },
   "outputs": [
    {
     "name": "stdout",
     "output_type": "stream",
     "text": [
      "False\n",
      "True\n",
      "False\n",
      "True\n"
     ]
    }
   ],
   "source": [
    "print(a<=b)\n",
    "print(a <= a|b)\n",
    "print(a>=b)\n",
    "print(a>= a&b)"
   ]
  },
  {
   "cell_type": "code",
   "execution_count": 59,
   "id": "c797fae0",
   "metadata": {
    "ExecuteTime": {
     "end_time": "2022-11-23T15:19:46.353147Z",
     "start_time": "2022-11-23T15:19:46.344934Z"
    }
   },
   "outputs": [
    {
     "name": "stdout",
     "output_type": "stream",
     "text": [
      "{}\n",
      "\n"
     ]
    }
   ],
   "source": [
    "b.clear()\n",
    "print(b)\n",
    "print()"
   ]
  },
  {
   "cell_type": "code",
   "execution_count": 60,
   "id": "a12063de",
   "metadata": {
    "ExecuteTime": {
     "end_time": "2022-11-23T15:19:49.764716Z",
     "start_time": "2022-11-23T15:19:49.752746Z"
    }
   },
   "outputs": [
    {
     "name": "stdout",
     "output_type": "stream",
     "text": [
      "{1, 2, 3, 4}\n",
      "True\n",
      "\n"
     ]
    }
   ],
   "source": [
    "a=Set([1,2,3])\n",
    "b=Set([3,4])\n",
    "address_a=id(a)\n",
    "a|=b\n",
    "print(a)\n",
    "print(address_a==id(a))\n",
    "print()"
   ]
  },
  {
   "cell_type": "code",
   "execution_count": 61,
   "id": "0e7e8ea6",
   "metadata": {
    "ExecuteTime": {
     "end_time": "2022-11-23T15:19:50.697941Z",
     "start_time": "2022-11-23T15:19:50.680357Z"
    }
   },
   "outputs": [
    {
     "name": "stdout",
     "output_type": "stream",
     "text": [
      "{3}\n",
      "True\n",
      "\n"
     ]
    }
   ],
   "source": [
    "a=Set([1,2,3])\n",
    "b=Set([3,4])\n",
    "address_a=id(a)\n",
    "a&=b\n",
    "print(a)\n",
    "print(address_a==id(a))\n",
    "print()"
   ]
  },
  {
   "cell_type": "code",
   "execution_count": 62,
   "id": "62b6c6a2",
   "metadata": {
    "ExecuteTime": {
     "end_time": "2022-11-23T15:19:51.977243Z",
     "start_time": "2022-11-23T15:19:51.968787Z"
    }
   },
   "outputs": [
    {
     "name": "stdout",
     "output_type": "stream",
     "text": [
      "{1, 2}\n",
      "True\n",
      "\n"
     ]
    }
   ],
   "source": [
    "a=Set([1,2,3])\n",
    "b=Set([3,4])\n",
    "address_a=id(a)\n",
    "a-=b\n",
    "print(a)\n",
    "print(address_a==id(a))\n",
    "print()"
   ]
  },
  {
   "cell_type": "markdown",
   "id": "66d21113",
   "metadata": {},
   "source": [
    "END."
   ]
  },
  {
   "cell_type": "code",
   "execution_count": null,
   "id": "73916be7",
   "metadata": {},
   "outputs": [],
   "source": []
  }
 ],
 "metadata": {
  "kernelspec": {
   "display_name": "Python 3 (ipykernel)",
   "language": "python",
   "name": "python3"
  },
  "language_info": {
   "codemirror_mode": {
    "name": "ipython",
    "version": 3
   },
   "file_extension": ".py",
   "mimetype": "text/x-python",
   "name": "python",
   "nbconvert_exporter": "python",
   "pygments_lexer": "ipython3",
   "version": "3.9.12"
  },
  "toc": {
   "base_numbering": 1,
   "nav_menu": {},
   "number_sections": true,
   "sideBar": true,
   "skip_h1_title": false,
   "title_cell": "Table of Contents",
   "title_sidebar": "Contents",
   "toc_cell": false,
   "toc_position": {},
   "toc_section_display": true,
   "toc_window_display": false
  }
 },
 "nbformat": 4,
 "nbformat_minor": 5
}
